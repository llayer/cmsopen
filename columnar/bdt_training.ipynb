{
 "cells": [
  {
   "cell_type": "markdown",
   "id": "universal-machinery",
   "metadata": {},
   "source": [
    "## BDT training"
   ]
  },
  {
   "cell_type": "code",
   "execution_count": 12,
   "id": "guilty-portfolio",
   "metadata": {},
   "outputs": [],
   "source": [
    "import glob\n",
    "import pandas as pd\n",
    "import numpy as np\n",
    "import importlib"
   ]
  },
  {
   "cell_type": "code",
   "execution_count": 1,
   "id": "spiritual-statement",
   "metadata": {},
   "outputs": [],
   "source": [
    "BASE_DIR = \"/eos/user/l/llayer/cmsopen/columnar/syst_variation/\"\n",
    "SAMPLES_DIR = BASE_DIR + \"samples\"\n",
    "CAND_DIR = BASE_DIR + \"cand\""
   ]
  },
  {
   "cell_type": "code",
   "execution_count": 6,
   "id": "coral-timing",
   "metadata": {},
   "outputs": [
    {
     "name": "stdout",
     "output_type": "stream",
     "text": [
      "\n"
     ]
    }
   ],
   "source": [
    "files = glob.glob( CAND_DIR + \"/*.h5\")\n",
    "print()"
   ]
  },
  {
   "cell_type": "code",
   "execution_count": 9,
   "id": "middle-being",
   "metadata": {},
   "outputs": [],
   "source": [
    "#files = glob.glob( CAND_DIR + \"/*.h5\")\n",
    "samples = {}\n",
    "for sample in [\"Data\", \"QCD\", \"TTJets_centJER_signal\", \"TTJets_centJER_bkg\", \"STJets_centJER\", \"WZJets_centJER\"]:\n",
    "    #sample_name = sample.split(\"/\")[-1][:-3]\n",
    "    #print(sample_name)\n",
    "    samples[sample] = pd.read_hdf(CAND_DIR + \"/\" + sample + \".h5\")"
   ]
  },
  {
   "cell_type": "code",
   "execution_count": 11,
   "id": "ideal-rates",
   "metadata": {},
   "outputs": [
    {
     "name": "stdout",
     "output_type": "stream",
     "text": [
      "Welcome to JupyROOT 6.20/06\n"
     ]
    }
   ],
   "source": [
    "import ml"
   ]
  },
  {
   "cell_type": "code",
   "execution_count": 75,
   "id": "collect-armstrong",
   "metadata": {
    "scrolled": true
   },
   "outputs": [
    {
     "name": "stdout",
     "output_type": "stream",
     "text": [
      "Set random state\n",
      "Prepare training data\n",
      "['Jet_pt', 'Jet_px', 'Jet_py', 'Jet_pz', 'Jet_e', 'Jet_eta', 'Jet_phi', 'Jet_mass', 'Jet_csvDisc', 'Jet_flavour', 'Tau_pt', 'Tau_px', 'Tau_py', 'Tau_pz', 'Tau_e', 'Tau_eta', 'Tau_phi', 'Tau_mass', 'Tau_charge', 'MET_pt', 'MET_px', 'MET_py', 'MET_pz', 'MET_e', 'MET_met', 'event', 'run', 'luminosityBlock', 'HLT_QuadJet40_IsoPFTau40', 'HLT_QuadJet45_IsoPFTau45', 'genEvent_tmeme', 'nJets', 'Jet_nbtags', 'ht', 'aplanarity', 'sphericity', 'chargeEta', 'met', 'deltaPhiTauMet', 'mt', 'mTauJet', 'Jet_btagSF', 'Jet_btagSF_up', 'Jet_btagSF_down', 'Jet_beff', 'Jet_btag_weight1', 'Jet_btag_weight1_up', 'Jet_btag_weight1_down', 'trigger_weight', 'trigger_weight_up', 'trigger_weight_down', 'norm', 'norm_up', 'norm_down', 'pdf', 'pdf_up', 'pdf_down', 'train_flag', 'label', 'bdt', 'weight']\n"
     ]
    },
    {
     "name": "stderr",
     "output_type": "stream",
     "text": [
      "/eos/home-l/llayer/cmsopen/columnar/ml.py:91: SettingWithCopyWarning: \n",
      "A value is trying to be set on a copy of a slice from a DataFrame.\n",
      "Try using .loc[row_indexer,col_indexer] = value instead\n",
      "\n",
      "See the caveats in the documentation: http://pandas.pydata.org/pandas-docs/stable/indexing.html#indexing-view-versus-copy\n",
      "  signal_test = signal[signal[\"train_flag\"] == \"test\"]\n",
      "/eos/home-l/llayer/cmsopen/columnar/ml.py:92: SettingWithCopyWarning: \n",
      "A value is trying to be set on a copy of a slice from a DataFrame.\n",
      "Try using .loc[row_indexer,col_indexer] = value instead\n",
      "\n",
      "See the caveats in the documentation: http://pandas.pydata.org/pandas-docs/stable/indexing.html#indexing-view-versus-copy\n",
      "  bkg_train = bkg[bkg[\"train_flag\"] == \"train\"]\n",
      "/eos/home-l/llayer/cmsopen/columnar/ml.py:95: SettingWithCopyWarning: \n",
      "A value is trying to be set on a copy of a slice from a DataFrame.\n",
      "Try using .loc[row_indexer,col_indexer] = value instead\n",
      "\n",
      "See the caveats in the documentation: http://pandas.pydata.org/pandas-docs/stable/indexing.html#indexing-view-versus-copy\n",
      "  bkg_test = bkg[bkg[\"train_flag\"] == \"test\"]\n",
      "/eos/home-l/llayer/cmsopen/columnar/ml.py:96: SettingWithCopyWarning: \n",
      "A value is trying to be set on a copy of a slice from a DataFrame.\n",
      "Try using .loc[row_indexer,col_indexer] = value instead\n",
      "\n",
      "See the caveats in the documentation: http://pandas.pydata.org/pandas-docs/stable/indexing.html#indexing-view-versus-copy\n",
      "  \n",
      "/eos/home-l/llayer/cmsopen/columnar/ml.py:99: FutureWarning: Sorting because non-concatenation axis is not aligned. A future version\n",
      "of pandas will change to not sort by default.\n",
      "\n",
      "To accept the future behavior, pass 'sort=False'.\n",
      "\n",
      "To retain the current behavior and silence the warning, pass 'sort=True'.\n",
      "\n",
      "  \n",
      "/eos/home-l/llayer/cmsopen/columnar/ml.py:100: FutureWarning: Sorting because non-concatenation axis is not aligned. A future version\n",
      "of pandas will change to not sort by default.\n",
      "\n",
      "To accept the future behavior, pass 'sort=False'.\n",
      "\n",
      "To retain the current behavior and silence the warning, pass 'sort=True'.\n",
      "\n",
      "  features = ['ht', 'aplanarity', 'sphericity', 'chargeEta', 'met', 'deltaPhiTauMet', 'mt', 'mTauJet']\n"
     ]
    },
    {
     "name": "stdout",
     "output_type": "stream",
     "text": [
      "Train model\n"
     ]
    },
    {
     "name": "stderr",
     "output_type": "stream",
     "text": [
      "/cvmfs/sft.cern.ch/lcg/views/LCG_97apython3/x86_64-centos7-gcc8-opt/lib/python3.7/site-packages/xgboost/core.py:587: FutureWarning: Series.base is deprecated and will be removed in a future version\n",
      "  if getattr(data, 'base', None) is not None and \\\n",
      "/cvmfs/sft.cern.ch/lcg/views/LCG_97apython3/x86_64-centos7-gcc8-opt/lib/python3.7/site-packages/xgboost/core.py:588: FutureWarning: Series.base is deprecated and will be removed in a future version\n",
      "  data.base is not None and isinstance(data, np.ndarray) \\\n"
     ]
    },
    {
     "name": "stdout",
     "output_type": "stream",
     "text": [
      "Predicting...\n"
     ]
    },
    {
     "data": {
      "image/png": "[encoded data removed]",
      "text/plain": [
       "<Figure size 432x288 with 1 Axes>"
      ]
     },
     "metadata": {
      "needs_background": "light"
     },
     "output_type": "display_data"
    },
    {
     "data": {
      "image/png": "[encoded data removed]",
      "text/plain": [
       "<Figure size 432x288 with 1 Axes>"
      ]
     },
     "metadata": {
      "needs_background": "light"
     },
     "output_type": "display_data"
    }
   ],
   "source": [
    "importlib.reload(ml)\n",
    "ml.train(samples, \".\", n_sig=10000, n_bkg=5000, ntrees=1000, lr=0.01, random_state=0)"
   ]
  },
  {
   "cell_type": "code",
   "execution_count": 64,
   "id": "olympic-district",
   "metadata": {},
   "outputs": [],
   "source": [
    "import plot"
   ]
  },
  {
   "cell_type": "code",
   "execution_count": 77,
   "id": "quiet-highland",
   "metadata": {},
   "outputs": [],
   "source": [
    "variables = [\n",
    "    {\"var_name\" : \"bdt\", \"bins\" : 15, \"xlow\" : 0., \"xup\" : 1., \"xtitle\" : \"bdt\"}\n",
    "]"
   ]
  },
  {
   "cell_type": "code",
   "execution_count": 81,
   "id": "vulnerable-telescope",
   "metadata": {},
   "outputs": [
    {
     "name": "stdout",
     "output_type": "stream",
     "text": [
      "Data bdt None\n",
      "QCD bdt None\n",
      "Change name\n",
      "TTJets_signal_centJER\n",
      "TTJets_signal_centJER bdt None\n",
      "1.296181086005976 347.16588084351804 347.16588084351804\n",
      "Change name\n",
      "TTJets_bkg_centJER\n",
      "TTJets_bkg_centJER bdt None\n",
      "STJets_centJER bdt None\n",
      "WZJets_centJER bdt None\n"
     ]
    }
   ],
   "source": [
    "importlib.reload(plot)\n",
    "plot.vars_to_histos(samples, variables, \"histos.root\", syst=False)"
   ]
  },
  {
   "cell_type": "code",
   "execution_count": 71,
   "id": "unlikely-mapping",
   "metadata": {},
   "outputs": [],
   "source": [
    "import ROOT"
   ]
  },
  {
   "cell_type": "code",
   "execution_count": 79,
   "id": "assisted-lecture",
   "metadata": {},
   "outputs": [
    {
     "name": "stdout",
     "output_type": "stream",
     "text": [
      "TFile**\t\thistos.root\t\n",
      " TFile*\t\thistos.root\t\n",
      "  KEY: TH1D\tData_bdt;1\tData_bdt\n",
      "  KEY: TH1D\tQCD_bdt;1\tQCD_bdt\n",
      "  KEY: TH1D\tTTJets_signal_centJER_bdt;1\tTTJets_signal_centJER_bdt\n",
      "  KEY: TH1D\tTTJets_bkg_centJER_bdt;1\tTTJets_bkg_centJER_bdt\n",
      "  KEY: TH1D\tSTJets_centJER_bdt;1\tSTJets_centJER_bdt\n",
      "  KEY: TH1D\tWZJets_centJER_bdt;1\tWZJets_centJER_bdt\n"
     ]
    }
   ],
   "source": [
    "f = ROOT.TFile(\"histos.root\")\n",
    "f.ls()"
   ]
  },
  {
   "cell_type": "code",
   "execution_count": 80,
   "id": "resident-template",
   "metadata": {},
   "outputs": [],
   "source": [
    "import fit"
   ]
  },
  {
   "cell_type": "code",
   "execution_count": 82,
   "id": "compound-helicopter",
   "metadata": {},
   "outputs": [
    {
     "name": "stdout",
     "output_type": "stream",
     "text": [
      "Data_bdt\n",
      "Data 3343.0\n",
      "TTJets_bkg_centJER_bdt\n",
      "TTJets_bkg 143.3651296747631\n",
      "WZJets_centJER_bdt\n",
      "WZJets 63.73465056276217\n",
      "STJets_centJER_bdt\n",
      "STJets 30.224785537131968\n",
      "QCD_bdt\n",
      "QCD 2395.9261584122323\n",
      "TTJets_signal_centJER_bdt\n",
      "TTJets_signal 347.16588084351804\n",
      "scale factor TTbar tau(h) QQ  0.9290581801886391 +- 0.0785074933021543\n",
      "scale factor MultiJet  1.161612649443942 +- 0.011375610625296073\n",
      "[#1] INFO:DataHandling -- RooDataHist::adjustBinning(signal): fit range of variable x expanded to nearest bin boundaries: [0,350] --> [0,1]\n",
      "[#0] WARNING:InputArguments -- RooAbsPdf::fitTo(pdf) WARNING: a likelihood fit is requested of what appears to be weighted data.\n",
      "       While the estimated values of the parameters will always be calculated taking the weights into account,\n",
      "       there are multiple ways to estimate the errors of the parameters. You are advised to make an \n",
      "       explicit choice for the error calculation:\n",
      "           - Either provide SumW2Error(true), to calculate a sum-of-weights-corrected HESSE error matrix\n",
      "             (error will be proportional to the number of events in MC).\n",
      "           - Or provide SumW2Error(false), to return errors from original HESSE error matrix\n",
      "             (which will be proportional to the sum of the weights, i.e., a dataset with <sum of weights> events).\n",
      "           - Or provide AsymptoticError(true), to use the asymptotically correct expression\n",
      "             (for details see https://arxiv.org/abs/1911.01303).\n",
      "[#1] INFO:Minization -- RooMinimizer::optimizeConst: activating const optimization\n",
      "[#1] INFO:Minization --  The following expressions have been identified as constant and will be precalculated and cached: (signal,bkg)\n",
      " **********\n",
      " **  109 **SET PRINT           1\n",
      " **********\n",
      " **********\n",
      " **  110 **SET NOGRAD\n",
      " **********\n",
      " PARAMETER DEFINITIONS:\n",
      "    NO.   NAME         VALUE      STEP SIZE      LIMITS\n",
      "     1 c0           5.00000e-01  1.00000e-01    0.00000e+00  1.00000e+00\n",
      " **********\n",
      " **  111 **SET ERR         0.5\n",
      " **********\n",
      " **********\n",
      " **  112 **SET PRINT           1\n",
      " **********\n",
      " **********\n",
      " **  113 **SET STR           1\n",
      " **********\n",
      " NOW USING STRATEGY  1: TRY TO BALANCE SPEED AGAINST RELIABILITY\n",
      " **********\n",
      " **  114 **MIGRAD         500           1\n",
      " **********\n",
      " FIRST CALL TO USER FUNCTION AT NEW START POINT, WITH IFLAG=4.\n",
      " START MIGRAD MINIMIZATION.  STRATEGY  1.  CONVERGENCE WHEN EDM .LT. 1.00e-03\n",
      " FCN=207.642 FROM MIGRAD    STATUS=INITIATE        4 CALLS           5 TOTAL\n",
      "                     EDM= unknown      STRATEGY= 1      NO ERROR MATRIX       \n",
      "  EXT PARAMETER               CURRENT GUESS       STEP         FIRST   \n",
      "  NO.   NAME      VALUE            ERROR          SIZE      DERIVATIVE \n",
      "   1  c0           5.00000e-01   1.00000e-01   2.01358e-01   1.30437e+03\n",
      "                               ERR DEF= 0.5\n",
      " MIGRAD MINIMIZATION HAS CONVERGED.\n",
      " MIGRAD WILL VERIFY CONVERGENCE AND ERROR MATRIX.\n",
      " COVARIANCE MATRIX CALCULATED SUCCESSFULLY\n",
      " FCN=-364.116 FROM MIGRAD    STATUS=CONVERGED      20 CALLS          21 TOTAL\n",
      "                     EDM=3.19996e-08    STRATEGY= 1      ERROR MATRIX ACCURATE \n",
      "  EXT PARAMETER                                   STEP         FIRST   \n",
      "  NO.   NAME      VALUE            ERROR          SIZE      DERIVATIVE \n",
      "   1  c0           1.03854e-01   8.77591e-03   3.79314e-04   6.21758e-03\n",
      "                               ERR DEF= 0.5\n",
      " EXTERNAL ERROR MATRIX.    NDIM=  25    NPAR=  1    ERR DEF=0.5\n",
      "  7.704e-05 \n",
      " **********\n",
      " **  115 **SET ERR         0.5\n",
      " **********\n",
      " **********\n",
      " **  116 **SET PRINT           1\n",
      " **********\n",
      " **********\n",
      " **  117 **HESSE         500\n",
      " **********\n",
      " COVARIANCE MATRIX CALCULATED SUCCESSFULLY\n",
      " FCN=-364.116 FROM HESSE     STATUS=OK              5 CALLS          26 TOTAL\n",
      "                     EDM=3.19901e-08    STRATEGY= 1      ERROR MATRIX ACCURATE \n",
      "  EXT PARAMETER                                INTERNAL      INTERNAL  \n",
      "  NO.   NAME      VALUE            ERROR       STEP SIZE       VALUE   \n",
      "   1  c0           1.03854e-01   8.77591e-03   7.58628e-05  -9.14556e-01\n",
      "                               ERR DEF= 0.5\n",
      " EXTERNAL ERROR MATRIX.    NDIM=  25    NPAR=  1    ERR DEF=0.5\n",
      "  7.704e-05 \n",
      "[#1] INFO:Minization -- RooMinimizer::optimizeConst: deactivating const optimization\n"
     ]
    },
    {
     "name": "stderr",
     "output_type": "stream",
     "text": [
      "Warning in <TH1D::Sumw2>: Sum of squares of weights structure already created\n",
      "Warning in <TH1D::Sumw2>: Sum of squares of weights structure already created\n",
      "Warning in <TH1D::Sumw2>: Sum of squares of weights structure already created\n",
      "Warning in <TH1D::Sumw2>: Sum of squares of weights structure already created\n",
      "Warning in <TH1D::Sumw2>: Sum of squares of weights structure already created\n",
      "Warning in <TH1D::Sumw2>: Sum of squares of weights structure already created\n"
     ]
    }
   ],
   "source": [
    "sample_names = [\"Data\", \"TTJets_bkg\", \"WZJets\", \"STJets\", \"QCD\", \"TTJets_signal\"]\n",
    "sf_tt_sig, sf_qcd = fit.fit(\"histos.root\", sample_names, \"bdt\", corr=\"centJER\")\n",
    "sfs = {}\n",
    "sfs[\"TTJets_signal\"] = sf_tt_sig\n",
    "sfs[\"QCD\"] = sf_qcd"
   ]
  },
  {
   "cell_type": "code",
   "execution_count": null,
   "id": "suspected-rubber",
   "metadata": {},
   "outputs": [],
   "source": []
  },
  {
   "cell_type": "code",
   "execution_count": null,
   "id": "regulation-parameter",
   "metadata": {},
   "outputs": [],
   "source": []
  }
 ],
 "metadata": {
  "kernelspec": {
   "display_name": "Python 3",
   "language": "python",
   "name": "python3"
  },
  "language_info": {
   "codemirror_mode": {
    "name": "ipython",
    "version": 3
   },
   "file_extension": ".py",
   "mimetype": "text/x-python",
   "name": "python",
   "nbconvert_exporter": "python",
   "pygments_lexer": "ipython3",
   "version": "3.7.6"
  }
 },
 "nbformat": 4,
 "nbformat_minor": 5
}
