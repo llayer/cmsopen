{
 "cells": [
  {
   "cell_type": "code",
   "execution_count": 119,
   "id": "eligible-gilbert",
   "metadata": {},
   "outputs": [],
   "source": [
    "import pandas as pd\n",
    "import numpy as np\n",
    "import selection\n",
    "import weights\n",
    "import btag\n",
    "import root_pandas\n",
    "import importlib\n",
    "import jetmet\n",
    "import test_weights"
   ]
  },
  {
   "cell_type": "code",
   "execution_count": 2,
   "id": "settled-stocks",
   "metadata": {},
   "outputs": [],
   "source": [
    "data = ['Run2011A_MultiJet', 'Run2011B_MultiJet']\n",
    "mc = ['T_TuneZ2_s', 'WJetsToLNu', 'DYJetsToLL', 'T_TuneZ2_tW', 'T_TuneZ2_t-channel',\n",
    "       'Tbar_TuneZ2_s', 'Tbar_TuneZ2_tW', 'Tbar_TuneZ2_t-channel', 'TTJets']"
   ]
  },
  {
   "cell_type": "code",
   "execution_count": 2,
   "id": "married-bargain",
   "metadata": {},
   "outputs": [],
   "source": [
    "import ROOT\n",
    "#f = ROOT.TFile()"
   ]
  },
  {
   "cell_type": "code",
   "execution_count": 8,
   "id": "premium-characteristic",
   "metadata": {},
   "outputs": [],
   "source": [
    "from coffea.lookup_tools import extractor"
   ]
  },
  {
   "cell_type": "code",
   "execution_count": 9,
   "id": "sublime-mexico",
   "metadata": {},
   "outputs": [],
   "source": [
    "ext = extractor()\n",
    "ext.add_weight_sets([\n",
    "    \"* * data/Legacy11_V1_DATA_UncertaintySources_AK5PFchs.junc.txt\",\n",
    "    \"* * jer_sf.root\",\n",
    "    \"* * JESUncMC.root\"\n",
    "])\n",
    "ext.finalize()\n",
    "\n",
    "evaluator = ext.make_evaluator()"
   ]
  },
  {
   "cell_type": "code",
   "execution_count": 156,
   "id": "announced-house",
   "metadata": {},
   "outputs": [],
   "source": [
    "ext = extractor()\n",
    "ext.add_weight_sets([\n",
    "    \"jet40_ * rootFilesTurnOn/TriggerEffHisto_data_match40_JETLEG.root\",\n",
    "    \"jet45_ * rootFilesTurnOn/TriggerEffHisto_data_match45_JETLEG.root\",\n",
    "    \"tau40_ * rootFilesTurnOn/TriggerEffHisto_match40_newTauID.root\",\n",
    "    \"tau45_ * rootFilesTurnOn/TriggerEffHisto_match45_newTauID.root\"\n",
    "])\n",
    "ext.finalize()\n",
    "\n",
    "evaluator = ext.make_evaluator()"
   ]
  },
  {
   "cell_type": "code",
   "execution_count": 157,
   "id": "acceptable-edinburgh",
   "metadata": {},
   "outputs": [
    {
     "data": {
      "text/plain": [
       "dict_keys(['jet40_jet1_ref', 'jet40_jet1_ref_error', 'jet40_jet2_ref', 'jet40_jet2_ref_error', 'jet40_jet3_ref', 'jet40_jet3_ref_error', 'jet40_jet4_ref', 'jet40_jet4_ref_error', 'jet40_jet1_trig', 'jet40_jet1_trig_error', 'jet40_jet2_trig', 'jet40_jet2_trig_error', 'jet40_jet3_trig', 'jet40_jet3_trig_error', 'jet40_jet4_trig', 'jet40_jet4_trig_error', 'jet40_jet1_eff', 'jet40_jet1_eff_error', 'jet40_jet2_eff', 'jet40_jet2_eff_error', 'jet40_jet3_eff', 'jet40_jet3_eff_error', 'jet40_jet4_eff', 'jet40_jet4_eff_error', 'jet40_reference_tau', 'jet40_reference_tau_error', 'jet40_triggered_tau', 'jet40_triggered_tau_error', 'jet40_eff_tau', 'jet40_eff_tau_error', 'jet40_reference_tau_eta', 'jet40_reference_tau_eta_error', 'jet40_triggered_tau_eta', 'jet40_triggered_tau_eta_error', 'jet40_eff_tau_eta', 'jet40_eff_tau_eta_error', 'jet40_HLTtau_pt', 'jet40_HLTtau_pt_error', 'jet40_HLTtau_eta', 'jet40_HLTtau_eta_error', 'jet40_HLTtau_pt_diff', 'jet40_HLTtau_pt_diff_error', 'jet40_HLTtau_eta_diff', 'jet40_HLTtau_eta_diff_error', 'jet40_HLTtau_DR_diff', 'jet40_HLTtau_DR_diff_error', 'jet45_jet1_ref', 'jet45_jet1_ref_error', 'jet45_jet2_ref', 'jet45_jet2_ref_error', 'jet45_jet3_ref', 'jet45_jet3_ref_error', 'jet45_jet4_ref', 'jet45_jet4_ref_error', 'jet45_jet1_trig', 'jet45_jet1_trig_error', 'jet45_jet2_trig', 'jet45_jet2_trig_error', 'jet45_jet3_trig', 'jet45_jet3_trig_error', 'jet45_jet4_trig', 'jet45_jet4_trig_error', 'jet45_jet1_eff', 'jet45_jet1_eff_error', 'jet45_jet2_eff', 'jet45_jet2_eff_error', 'jet45_jet3_eff', 'jet45_jet3_eff_error', 'jet45_jet4_eff', 'jet45_jet4_eff_error', 'jet45_reference_tau', 'jet45_reference_tau_error', 'jet45_triggered_tau', 'jet45_triggered_tau_error', 'jet45_eff_tau', 'jet45_eff_tau_error', 'jet45_reference_tau_eta', 'jet45_reference_tau_eta_error', 'jet45_triggered_tau_eta', 'jet45_triggered_tau_eta_error', 'jet45_eff_tau_eta', 'jet45_eff_tau_eta_error', 'jet45_HLTtau_pt', 'jet45_HLTtau_pt_error', 'jet45_HLTtau_eta', 'jet45_HLTtau_eta_error', 'jet45_HLTtau_pt_diff', 'jet45_HLTtau_pt_diff_error', 'jet45_HLTtau_eta_diff', 'jet45_HLTtau_eta_diff_error', 'jet45_HLTtau_DR_diff', 'jet45_HLTtau_DR_diff_error', 'tau40_jet1_ref', 'tau40_jet1_ref_error', 'tau40_jet2_ref', 'tau40_jet2_ref_error', 'tau40_jet3_ref', 'tau40_jet3_ref_error', 'tau40_jet4_ref', 'tau40_jet4_ref_error', 'tau40_jet1_trig', 'tau40_jet1_trig_error', 'tau40_jet2_trig', 'tau40_jet2_trig_error', 'tau40_jet3_trig', 'tau40_jet3_trig_error', 'tau40_jet4_trig', 'tau40_jet4_trig_error', 'tau40_jet1_eff', 'tau40_jet1_eff_error', 'tau40_jet2_eff', 'tau40_jet2_eff_error', 'tau40_jet3_eff', 'tau40_jet3_eff_error', 'tau40_jet4_eff', 'tau40_jet4_eff_error', 'tau40_reference_tau', 'tau40_reference_tau_error', 'tau40_triggered_tau', 'tau40_triggered_tau_error', 'tau40_eff_tau', 'tau40_eff_tau_error', 'tau40_reference_tau_eta', 'tau40_reference_tau_eta_error', 'tau40_triggered_tau_eta', 'tau40_triggered_tau_eta_error', 'tau40_eff_tau_eta', 'tau40_eff_tau_eta_error', 'tau40_HLTtau_pt', 'tau40_HLTtau_pt_error', 'tau40_HLTtau_eta', 'tau40_HLTtau_eta_error', 'tau40_HLTtau_pt_diff', 'tau40_HLTtau_pt_diff_error', 'tau40_HLTtau_eta_diff', 'tau40_HLTtau_eta_diff_error', 'tau40_HLTtau_DR_diff', 'tau40_HLTtau_DR_diff_error', 'tau40_HLTTau_HLTJet_DR', 'tau40_HLTTau_HLTJet_DR_error', 'tau40_reference_tau_2', 'tau40_reference_tau_2_error', 'tau40_triggered_tau_2', 'tau40_triggered_tau_2_error', 'tau40_eff_tau_2', 'tau40_eff_tau_2_error', 'tau45_jet1_ref', 'tau45_jet1_ref_error', 'tau45_jet2_ref', 'tau45_jet2_ref_error', 'tau45_jet3_ref', 'tau45_jet3_ref_error', 'tau45_jet4_ref', 'tau45_jet4_ref_error', 'tau45_jet1_trig', 'tau45_jet1_trig_error', 'tau45_jet2_trig', 'tau45_jet2_trig_error', 'tau45_jet3_trig', 'tau45_jet3_trig_error', 'tau45_jet4_trig', 'tau45_jet4_trig_error', 'tau45_jet1_eff', 'tau45_jet1_eff_error', 'tau45_jet2_eff', 'tau45_jet2_eff_error', 'tau45_jet3_eff', 'tau45_jet3_eff_error', 'tau45_jet4_eff', 'tau45_jet4_eff_error', 'tau45_reference_tau', 'tau45_reference_tau_error', 'tau45_triggered_tau', 'tau45_triggered_tau_error', 'tau45_eff_tau', 'tau45_eff_tau_error', 'tau45_reference_tau_eta', 'tau45_reference_tau_eta_error', 'tau45_triggered_tau_eta', 'tau45_triggered_tau_eta_error', 'tau45_eff_tau_eta', 'tau45_eff_tau_eta_error', 'tau45_HLTtau_pt', 'tau45_HLTtau_pt_error', 'tau45_HLTtau_eta', 'tau45_HLTtau_eta_error', 'tau45_HLTtau_pt_diff', 'tau45_HLTtau_pt_diff_error', 'tau45_HLTtau_eta_diff', 'tau45_HLTtau_eta_diff_error', 'tau45_HLTtau_DR_diff', 'tau45_HLTtau_DR_diff_error', 'tau45_HLTTau_HLTJet_DR', 'tau45_HLTTau_HLTJet_DR_error', 'tau45_reference_tau_2', 'tau45_reference_tau_2_error', 'tau45_triggered_tau_2', 'tau45_triggered_tau_2_error', 'tau45_eff_tau_2', 'tau45_eff_tau_2_error'])"
      ]
     },
     "execution_count": 157,
     "metadata": {},
     "output_type": "execute_result"
    }
   ],
   "source": [
    "evaluator.keys()"
   ]
  },
  {
   "cell_type": "code",
   "execution_count": 165,
   "id": "inclusive-gross",
   "metadata": {},
   "outputs": [],
   "source": [
    "def eval_weight(obj, key):\n",
    "    \n",
    "    weight = evaluator[key](obj)\n",
    "    mask = weight == 0.\n",
    "    return np.where(mask, 1., weight)"
   ]
  },
  {
   "cell_type": "code",
   "execution_count": 172,
   "id": "wooden-collins",
   "metadata": {},
   "outputs": [],
   "source": [
    "def calc_weight(jet, tau, prefix):\n",
    "    \n",
    "    jet0 = eval_weight(jet.pt[:,0], \"jet\" + prefix + \"_jet4_eff\" )\n",
    "    jet1 = eval_weight(jet.pt[:,1], \"jet\" + prefix + \"_jet4_eff\" )\n",
    "    jet2 = eval_weight(jet.pt[:,2], \"jet\" + prefix + \"_jet4_eff\" )\n",
    "    tau0 = eval_weight(tau.pt[:,0], \"tau\" + prefix + \"_eff_tau\" )\n",
    "    \n",
    "    jet0_err = eval_weight(jet.pt[:,0], \"jet\" + prefix + \"_jet4_eff_error\" )\n",
    "    jet1_err = eval_weight(jet.pt[:,1], \"jet\" + prefix + \"_jet4_eff_error\" )\n",
    "    jet2_err = eval_weight(jet.pt[:,2], \"jet\" + prefix + \"_jet4_eff_error\" )\n",
    "    tau0_err = eval_weight(tau.pt[:,0], \"tau\" + prefix + \"_eff_tau_error\" )\n",
    "    \n",
    "    weight = 1. * jet0 * jet1 * jet2 * tau0\n",
    "    weight_up = 1. * (jet0 + jet0_err) * (jet1 + jet1_err) * (jet2 + jet2_err) * (tau0 + tau0_err)\n",
    "    weight_down = 1. * (jet0 - jet0_err) * (jet1 - jet1_err) * (jet2 - jet2_err) * (tau0 - tau0_err)\n",
    "    \n",
    "    return weight, weight_up, weight_down"
   ]
  },
  {
   "cell_type": "code",
   "execution_count": 178,
   "id": "based-value",
   "metadata": {},
   "outputs": [],
   "source": [
    "np.random.seed(0)\n",
    "\n",
    "def trigger_weight(jet, tau, frac=0.218):\n",
    "    \n",
    "    # Randomly select 40/45 trigger according to lumi fraction\n",
    "    rand = np.random.random((len(jet)))\n",
    "    mask_is40 = rand < frac\n",
    "    \n",
    "    weight_40, weight_up_40, weight_down_40 = calc_weight(jet, tau, \"40\")\n",
    "    weight_45, weight_up_45, weight_down_45 = calc_weight(jet, tau, \"45\")\n",
    "    \n",
    "    weight = np.where(mask_is40, weight_40, weight_45)\n",
    "    weight_up = np.where(mask_is40, weight_up_40, weight_up_45)\n",
    "    weight_down = np.where(mask_is40, weight_down_45, weight_down_45)\n",
    "    \n",
    "    return weight, weight_up, weight_down\n",
    "    "
   ]
  },
  {
   "cell_type": "code",
   "execution_count": 179,
   "id": "armed-stack",
   "metadata": {},
   "outputs": [],
   "source": [
    "weight = trigger_weight(jet, tau)"
   ]
  },
  {
   "cell_type": "code",
   "execution_count": 3,
   "id": "controlled-personality",
   "metadata": {},
   "outputs": [],
   "source": [
    "f = ROOT.TFile(\"data/beff.root\")\n",
    "h2_BTaggingEff_Denom_b = f.Get(\"h2_BTaggingEff_Denom_b\")\n",
    "h2_BTaggingEff_Num_b = f.Get(\"h2_BTaggingEff_Num_b\")\n",
    "h2_BTaggingEff_Denom_c = f.Get(\"h2_BTaggingEff_Denom_c\")\n",
    "h2_BTaggingEff_Num_c = f.Get(\"h2_BTaggingEff_Num_c\")\n",
    "h2_BTaggingEff_Denom_usdg = f.Get(\"h2_BTaggingEff_Denom_udsg\")\n",
    "h2_BTaggingEff_Num_usdg = f.Get(\"h2_BTaggingEff_Num_udsg\")"
   ]
  },
  {
   "cell_type": "code",
   "execution_count": 4,
   "id": "valued-perry",
   "metadata": {},
   "outputs": [],
   "source": [
    "def to_eff(h1, h2):\n",
    "    \n",
    "    h3 = h1.Clone(\"h3\")\n",
    "    h3.Sumw2()\n",
    "    h3.Divide(h2)\n",
    "    return h3"
   ]
  },
  {
   "cell_type": "code",
   "execution_count": 10,
   "id": "supported-rouge",
   "metadata": {},
   "outputs": [],
   "source": [
    "outfile = ROOT.TFile(\"data/beff_precalc.root\", \"RECREATE\")\n",
    "b = to_eff(h2_BTaggingEff_Num_b, h2_BTaggingEff_Denom_b)\n",
    "c = to_eff(h2_BTaggingEff_Num_c, h2_BTaggingEff_Denom_c)\n",
    "usdg = to_eff(h2_BTaggingEff_Num_usdg, h2_BTaggingEff_Denom_usdg)\n",
    "b.Write(\"b\")\n",
    "c.Write(\"c\")\n",
    "usdg.Write(\"usdg\")\n",
    "outfile.Close()"
   ]
  },
  {
   "cell_type": "code",
   "execution_count": 11,
   "id": "composite-politics",
   "metadata": {},
   "outputs": [],
   "source": [
    "ff = ROOT.TFile(\"data/beff_precalc.root\")"
   ]
  },
  {
   "cell_type": "code",
   "execution_count": 12,
   "id": "accessory-finger",
   "metadata": {},
   "outputs": [],
   "source": [
    "ext = extractor()\n",
    "ext.add_weight_sets([\n",
    "    \"* * data/beff_precalc.root\"\n",
    "])\n",
    "ext.finalize()\n",
    "\n",
    "evaluator = ext.make_evaluator()"
   ]
  },
  {
   "cell_type": "code",
   "execution_count": 13,
   "id": "composed-optimization",
   "metadata": {},
   "outputs": [
    {
     "data": {
      "text/plain": [
       "dict_keys(['b', 'b_error', 'c', 'c_error', 'usdg', 'usdg_error'])"
      ]
     },
     "execution_count": 13,
     "metadata": {},
     "output_type": "execute_result"
    }
   ],
   "source": [
    "evaluator.keys()"
   ]
  },
  {
   "cell_type": "code",
   "execution_count": 14,
   "id": "controlling-professional",
   "metadata": {},
   "outputs": [],
   "source": [
    "import root_numpy"
   ]
  },
  {
   "cell_type": "code",
   "execution_count": null,
   "id": "historic-mapping",
   "metadata": {},
   "outputs": [],
   "source": []
  },
  {
   "cell_type": "code",
   "execution_count": 15,
   "id": "opponent-facility",
   "metadata": {},
   "outputs": [],
   "source": [
    "h1 = ff.Get(\"b\")\n",
    "h2 = ff.Get(\"c\")\n",
    "h3 = ff.Get(\"usdg\")"
   ]
  },
  {
   "cell_type": "code",
   "execution_count": 17,
   "id": "protecting-metabolism",
   "metadata": {},
   "outputs": [],
   "source": [
    "b_num, edges = root_numpy.hist2array(h1, return_edges=True)\n",
    "c_num, _ = root_numpy.hist2array(h2, return_edges=True)\n",
    "usdg_num, _ = root_numpy.hist2array(h3, return_edges=True)"
   ]
  },
  {
   "cell_type": "code",
   "execution_count": 18,
   "id": "joint-blink",
   "metadata": {},
   "outputs": [
    {
     "data": {
      "text/plain": [
       "(100, 60)"
      ]
     },
     "execution_count": 18,
     "metadata": {},
     "output_type": "execute_result"
    }
   ],
   "source": [
    "c_num.shape"
   ]
  },
  {
   "cell_type": "code",
   "execution_count": 134,
   "id": "challenging-fantasy",
   "metadata": {},
   "outputs": [],
   "source": [
    "sf = np.dstack((usdg_num, c_num, b_num ))"
   ]
  },
  {
   "cell_type": "code",
   "execution_count": 135,
   "id": "particular-terminology",
   "metadata": {},
   "outputs": [
    {
     "data": {
      "text/plain": [
       "(100, 60, 3)"
      ]
     },
     "execution_count": 135,
     "metadata": {},
     "output_type": "execute_result"
    }
   ],
   "source": [
    "sf.shape"
   ]
  },
  {
   "cell_type": "code",
   "execution_count": 136,
   "id": "colored-moral",
   "metadata": {},
   "outputs": [
    {
     "ename": "IndexError",
     "evalue": "only integers, slices (`:`), ellipsis (`...`), numpy.newaxis (`None`) and integer or boolean arrays are valid indices",
     "output_type": "error",
     "traceback": [
      "\u001b[0;31m---------------------------------------------------------------------------\u001b[0m",
      "\u001b[0;31mIndexError\u001b[0m                                Traceback (most recent call last)",
      "\u001b[0;32m<ipython-input-136-0c964dfa8759>\u001b[0m in \u001b[0;36m<module>\u001b[0;34m\u001b[0m\n\u001b[0;32m----> 1\u001b[0;31m \u001b[0msf\u001b[0m\u001b[0;34m[\u001b[0m\u001b[0mjet\u001b[0m\u001b[0;34m.\u001b[0m\u001b[0mpt\u001b[0m\u001b[0;34m,\u001b[0m \u001b[0mjet\u001b[0m\u001b[0;34m.\u001b[0m\u001b[0meta\u001b[0m\u001b[0;34m,\u001b[0m \u001b[0;36m0\u001b[0m\u001b[0;34m]\u001b[0m\u001b[0;34m\u001b[0m\u001b[0;34m\u001b[0m\u001b[0m\n\u001b[0m",
      "\u001b[0;31mIndexError\u001b[0m: only integers, slices (`:`), ellipsis (`...`), numpy.newaxis (`None`) and integer or boolean arrays are valid indices"
     ]
    }
   ],
   "source": [
    "sf[jet.pt, jet.eta, 0]"
   ]
  },
  {
   "cell_type": "code",
   "execution_count": 137,
   "id": "meaningful-offset",
   "metadata": {},
   "outputs": [],
   "source": [
    "hist = ROOT.TH3F(\"hist\", \"hist\", 100, 0., 1000., 60, -3., 3., 3, -0.5, 2.5)"
   ]
  },
  {
   "cell_type": "code",
   "execution_count": 138,
   "id": "demographic-disclosure",
   "metadata": {},
   "outputs": [],
   "source": [
    "from root_numpy import array2hist, hist2array"
   ]
  },
  {
   "cell_type": "code",
   "execution_count": 139,
   "id": "electric-story",
   "metadata": {},
   "outputs": [],
   "source": [
    "_ = array2hist(sf, hist)"
   ]
  },
  {
   "cell_type": "code",
   "execution_count": 140,
   "id": "expected-adoption",
   "metadata": {},
   "outputs": [],
   "source": [
    "outtest = ROOT.TFile(\"data/beff_test.root\", \"RECREATE\")\n",
    "hist.Write(\"eff\")\n",
    "outtest.Close()"
   ]
  },
  {
   "cell_type": "code",
   "execution_count": 141,
   "id": "alternate-complement",
   "metadata": {},
   "outputs": [],
   "source": [
    "fff = ROOT.TFile(\"data/beff_test.root\")"
   ]
  },
  {
   "cell_type": "code",
   "execution_count": 142,
   "id": "executive-identifier",
   "metadata": {},
   "outputs": [
    {
     "name": "stdout",
     "output_type": "stream",
     "text": [
      "TFile**\t\tdata/beff_test.root\t\n",
      " TFile*\t\tdata/beff_test.root\t\n",
      "  KEY: TH3F\teff;1\thist\n"
     ]
    }
   ],
   "source": [
    "fff.ls()"
   ]
  },
  {
   "cell_type": "code",
   "execution_count": 143,
   "id": "worldwide-amsterdam",
   "metadata": {},
   "outputs": [],
   "source": [
    "ext = extractor()\n",
    "ext.add_weight_sets([\n",
    "    \"* * data/beff_test.root\"\n",
    "])\n",
    "ext.finalize()\n",
    "\n",
    "evaluator = ext.make_evaluator()"
   ]
  },
  {
   "cell_type": "code",
   "execution_count": 144,
   "id": "blank-miami",
   "metadata": {},
   "outputs": [
    {
     "data": {
      "text/plain": [
       "dict_keys(['eff', 'eff_error'])"
      ]
     },
     "execution_count": 144,
     "metadata": {},
     "output_type": "execute_result"
    }
   ],
   "source": [
    "evaluator.keys()"
   ]
  },
  {
   "cell_type": "code",
   "execution_count": 145,
   "id": "therapeutic-lightweight",
   "metadata": {},
   "outputs": [
    {
     "data": {
      "text/plain": [
       "3 dimensional histogram with axes:\n",
       "\t1: [   0.   10.   20.   30.   40.   50.   60.   70.   80.   90.  100.  110.\n",
       "  120.  130.  140.  150.  160.  170.  180.  190.  200.  210.  220.  230.\n",
       "  240.  250.  260.  270.  280.  290.  300.  310.  320.  330.  340.  350.\n",
       "  360.  370.  380.  390.  400.  410.  420.  430.  440.  450.  460.  470.\n",
       "  480.  490.  500.  510.  520.  530.  540.  550.  560.  570.  580.  590.\n",
       "  600.  610.  620.  630.  640.  650.  660.  670.  680.  690.  700.  710.\n",
       "  720.  730.  740.  750.  760.  770.  780.  790.  800.  810.  820.  830.\n",
       "  840.  850.  860.  870.  880.  890.  900.  910.  920.  930.  940.  950.\n",
       "  960.  970.  980.  990. 1000.]\n",
       "\t2: [-3.  -2.9 -2.8 -2.7 -2.6 -2.5 -2.4 -2.3 -2.2 -2.1 -2.  -1.9 -1.8 -1.7\n",
       " -1.6 -1.5 -1.4 -1.3 -1.2 -1.1 -1.  -0.9 -0.8 -0.7 -0.6 -0.5 -0.4 -0.3\n",
       " -0.2 -0.1  0.   0.1  0.2  0.3  0.4  0.5  0.6  0.7  0.8  0.9  1.   1.1\n",
       "  1.2  1.3  1.4  1.5  1.6  1.7  1.8  1.9  2.   2.1  2.2  2.3  2.4  2.5\n",
       "  2.6  2.7  2.8  2.9  3. ]\n",
       "\t3: [-0.5  0.5  1.5  2.5]"
      ]
     },
     "execution_count": 145,
     "metadata": {},
     "output_type": "execute_result"
    }
   ],
   "source": [
    "evaluator[\"eff\"]"
   ]
  },
  {
   "cell_type": "code",
   "execution_count": 44,
   "id": "occasional-conservative",
   "metadata": {},
   "outputs": [
    {
     "data": {
      "text/plain": [
       "<JaggedArray [[5 2 3 5] [21 21 1 5 21 5] [1 5 5 5 21] ... [21 5 5 21] [5 5 4 21] [5 1 5 21]] at 0x7f3b15cb7550>"
      ]
     },
     "execution_count": 44,
     "metadata": {},
     "output_type": "execute_result"
    }
   ],
   "source": [
    "abs(jet[\"flavour\"])"
   ]
  },
  {
   "cell_type": "code",
   "execution_count": 45,
   "id": "collect-bubble",
   "metadata": {},
   "outputs": [],
   "source": [
    "from coffea.btag_tools import BTagScaleFactor"
   ]
  },
  {
   "cell_type": "code",
   "execution_count": 47,
   "id": "duplicate-indication",
   "metadata": {},
   "outputs": [],
   "source": [
    "btag_sf = BTagScaleFactor(\"data/CSV.csv\", \"medium\", methods='comb,comb,comb')\n"
   ]
  },
  {
   "cell_type": "code",
   "execution_count": 65,
   "id": "liked-piano",
   "metadata": {},
   "outputs": [
    {
     "data": {
      "text/plain": [
       "array(0.96321061)"
      ]
     },
     "execution_count": 65,
     "metadata": {},
     "output_type": "execute_result"
    }
   ],
   "source": [
    "btag_sf.eval(\"central\", np.array(5), np.array(0.), np.array(100.))"
   ]
  },
  {
   "cell_type": "code",
   "execution_count": null,
   "id": "controversial-tablet",
   "metadata": {},
   "outputs": [],
   "source": []
  },
  {
   "cell_type": "code",
   "execution_count": 76,
   "id": "creative-heath",
   "metadata": {},
   "outputs": [],
   "source": [
    "light_mask = (abs(jet[\"flavour\"].content) != 4) & (abs(jet[\"flavour\"].content) != 5)"
   ]
  },
  {
   "cell_type": "code",
   "execution_count": 77,
   "id": "retained-newsletter",
   "metadata": {},
   "outputs": [
    {
     "data": {
      "text/plain": [
       "<JaggedArray [[5 2 3 5] [21 21 1 5 21 5] [1 5 5 5 21] ... [21 5 5 21] [5 5 4 21] [5 1 5 21]] at 0x7f3b158bef90>"
      ]
     },
     "execution_count": 77,
     "metadata": {},
     "output_type": "execute_result"
    }
   ],
   "source": [
    "abs(jet[\"flavour\"])"
   ]
  },
  {
   "cell_type": "code",
   "execution_count": 78,
   "id": "labeled-biography",
   "metadata": {},
   "outputs": [
    {
     "data": {
      "text/plain": [
       "array([False,  True, False, ...,  True,  True,  True])"
      ]
     },
     "execution_count": 78,
     "metadata": {},
     "output_type": "execute_result"
    }
   ],
   "source": [
    "light_mask"
   ]
  },
  {
   "cell_type": "code",
   "execution_count": 74,
   "id": "steady-toronto",
   "metadata": {},
   "outputs": [],
   "source": [
    "light_id = np.zeros_like(jet.flavour.content)"
   ]
  },
  {
   "cell_type": "code",
   "execution_count": 80,
   "id": "ceramic-shoot",
   "metadata": {},
   "outputs": [],
   "source": [
    "flav = jet.flavour.content"
   ]
  },
  {
   "cell_type": "code",
   "execution_count": 81,
   "id": "fabulous-brass",
   "metadata": {},
   "outputs": [
    {
     "data": {
      "text/plain": [
       "array([-5, 21,  5, ...,  2,  1, -1], dtype=int32)"
      ]
     },
     "execution_count": 81,
     "metadata": {},
     "output_type": "execute_result"
    }
   ],
   "source": [
    "flav"
   ]
  },
  {
   "cell_type": "code",
   "execution_count": 82,
   "id": "divided-cedar",
   "metadata": {},
   "outputs": [],
   "source": [
    "jsmear_cen = np.where(light_mask, light_id, flav)\n",
    "                      \n",
    "\n",
    "#1 + (jersf_cent.content - 1.) * (jet.pt.content - ptGenJet) / jet.pt.content,\n",
    "#1. + np.sqrt(np.maximum(jersf_cent.content**2 - 1.0, 0)) * jersmear)\n"
   ]
  },
  {
   "cell_type": "code",
   "execution_count": 83,
   "id": "signal-qualification",
   "metadata": {},
   "outputs": [
    {
     "data": {
      "text/plain": [
       "array([-5,  0,  5, ...,  0,  0,  0], dtype=int32)"
      ]
     },
     "execution_count": 83,
     "metadata": {},
     "output_type": "execute_result"
    }
   ],
   "source": [
    "jsmear_cen"
   ]
  },
  {
   "cell_type": "code",
   "execution_count": 84,
   "id": "aggressive-parish",
   "metadata": {},
   "outputs": [
    {
     "ename": "ValueError",
     "evalue": "starts and stops are not compatible with a single offsets array",
     "output_type": "error",
     "traceback": [
      "\u001b[0;31m---------------------------------------------------------------------------\u001b[0m",
      "\u001b[0;31mValueError\u001b[0m                                Traceback (most recent call last)",
      "\u001b[0;32m<ipython-input-84-cb0b1f705d17>\u001b[0m in \u001b[0;36m<module>\u001b[0;34m\u001b[0m\n\u001b[0;32m----> 1\u001b[0;31m \u001b[0mjet\u001b[0m\u001b[0;34m.\u001b[0m\u001b[0madd_attributes\u001b[0m\u001b[0;34m(\u001b[0m\u001b[0mjsmear_cen\u001b[0m \u001b[0;34m=\u001b[0m \u001b[0mjsmear_cen\u001b[0m\u001b[0;34m)\u001b[0m\u001b[0;34m\u001b[0m\u001b[0;34m\u001b[0m\u001b[0m\n\u001b[0m",
      "\u001b[0;32m~/.local/lib/python3.7/site-packages/coffea/analysis_objects/JaggedCandidateMethods.py\u001b[0m in \u001b[0;36madd_attributes\u001b[0;34m(self, **kwargs)\u001b[0m\n\u001b[1;32m    367\u001b[0m                 \u001b[0mself\u001b[0m\u001b[0;34m[\u001b[0m\u001b[0mkey\u001b[0m\u001b[0;34m]\u001b[0m \u001b[0;34m=\u001b[0m \u001b[0mawkward\u001b[0m\u001b[0;34m.\u001b[0m\u001b[0mJaggedArray\u001b[0m\u001b[0;34m.\u001b[0m\u001b[0mfromoffsets\u001b[0m\u001b[0;34m(\u001b[0m\u001b[0mself\u001b[0m\u001b[0;34m.\u001b[0m\u001b[0moffsets\u001b[0m\u001b[0;34m,\u001b[0m \u001b[0mitem\u001b[0m\u001b[0;34m.\u001b[0m\u001b[0mcontent\u001b[0m\u001b[0;34m)\u001b[0m\u001b[0;34m\u001b[0m\u001b[0;34m\u001b[0m\u001b[0m\n\u001b[1;32m    368\u001b[0m             \u001b[0;32melif\u001b[0m \u001b[0misinstance\u001b[0m\u001b[0;34m(\u001b[0m\u001b[0mitem\u001b[0m\u001b[0;34m,\u001b[0m \u001b[0mnp\u001b[0m\u001b[0;34m.\u001b[0m\u001b[0mndarray\u001b[0m\u001b[0;34m)\u001b[0m\u001b[0;34m:\u001b[0m\u001b[0;34m\u001b[0m\u001b[0;34m\u001b[0m\u001b[0m\n\u001b[0;32m--> 369\u001b[0;31m                 \u001b[0mself\u001b[0m\u001b[0;34m[\u001b[0m\u001b[0mkey\u001b[0m\u001b[0;34m]\u001b[0m \u001b[0;34m=\u001b[0m \u001b[0mawkward\u001b[0m\u001b[0;34m.\u001b[0m\u001b[0mJaggedArray\u001b[0m\u001b[0;34m.\u001b[0m\u001b[0mfromoffsets\u001b[0m\u001b[0;34m(\u001b[0m\u001b[0mself\u001b[0m\u001b[0;34m.\u001b[0m\u001b[0moffsets\u001b[0m\u001b[0;34m,\u001b[0m \u001b[0mitem\u001b[0m\u001b[0;34m)\u001b[0m\u001b[0;34m\u001b[0m\u001b[0;34m\u001b[0m\u001b[0m\n\u001b[0m\u001b[1;32m    370\u001b[0m \u001b[0;34m\u001b[0m\u001b[0m\n\u001b[1;32m    371\u001b[0m     \u001b[0;32mdef\u001b[0m \u001b[0mdistincts\u001b[0m\u001b[0;34m(\u001b[0m\u001b[0mself\u001b[0m\u001b[0;34m,\u001b[0m \u001b[0mnested\u001b[0m\u001b[0;34m=\u001b[0m\u001b[0;32mFalse\u001b[0m\u001b[0;34m)\u001b[0m\u001b[0;34m:\u001b[0m\u001b[0;34m\u001b[0m\u001b[0;34m\u001b[0m\u001b[0m\n",
      "\u001b[0;32m/cvmfs/sft.cern.ch/lcg/views/LCG_97apython3/x86_64-centos7-gcc8-opt/lib/python3.7/site-packages/awkward/array/jagged.py\u001b[0m in \u001b[0;36moffsets\u001b[0;34m(self)\u001b[0m\n\u001b[1;32m    351\u001b[0m                     \u001b[0mself\u001b[0m\u001b[0;34m.\u001b[0m\u001b[0m_offsets\u001b[0m \u001b[0;34m=\u001b[0m \u001b[0mself\u001b[0m\u001b[0;34m.\u001b[0m\u001b[0mnumpy\u001b[0m\u001b[0;34m.\u001b[0m\u001b[0mappend\u001b[0m\u001b[0;34m(\u001b[0m\u001b[0mself\u001b[0m\u001b[0;34m.\u001b[0m\u001b[0m_starts\u001b[0m\u001b[0;34m,\u001b[0m \u001b[0mself\u001b[0m\u001b[0;34m.\u001b[0m\u001b[0m_stops\u001b[0m\u001b[0;34m[\u001b[0m\u001b[0;34m-\u001b[0m\u001b[0;36m1\u001b[0m\u001b[0;34m]\u001b[0m\u001b[0;34m)\u001b[0m\u001b[0;34m\u001b[0m\u001b[0;34m\u001b[0m\u001b[0m\n\u001b[1;32m    352\u001b[0m             \u001b[0;32melse\u001b[0m\u001b[0;34m:\u001b[0m\u001b[0;34m\u001b[0m\u001b[0;34m\u001b[0m\u001b[0m\n\u001b[0;32m--> 353\u001b[0;31m                 \u001b[0;32mraise\u001b[0m \u001b[0mValueError\u001b[0m\u001b[0;34m(\u001b[0m\u001b[0;34m\"starts and stops are not compatible with a single offsets array\"\u001b[0m\u001b[0;34m)\u001b[0m\u001b[0;34m\u001b[0m\u001b[0;34m\u001b[0m\u001b[0m\n\u001b[0m\u001b[1;32m    354\u001b[0m         \u001b[0;32mreturn\u001b[0m \u001b[0mself\u001b[0m\u001b[0;34m.\u001b[0m\u001b[0m_offsets\u001b[0m\u001b[0;34m\u001b[0m\u001b[0;34m\u001b[0m\u001b[0m\n\u001b[1;32m    355\u001b[0m \u001b[0;34m\u001b[0m\u001b[0m\n",
      "\u001b[0;31mValueError\u001b[0m: starts and stops are not compatible with a single offsets array"
     ]
    }
   ],
   "source": [
    "jet.add_attributes(jsmear_cen = jsmear_cen)"
   ]
  },
  {
   "cell_type": "code",
   "execution_count": 93,
   "id": "incredible-edmonton",
   "metadata": {},
   "outputs": [],
   "source": [
    "jet._content._contents['test'] = jsmear_cen"
   ]
  },
  {
   "cell_type": "code",
   "execution_count": 95,
   "id": "after-thunder",
   "metadata": {},
   "outputs": [
    {
     "ename": "IndexError",
     "evalue": "index 1069 is out of bounds for axis 0 with size 1069",
     "output_type": "error",
     "traceback": [
      "\u001b[0;31m---------------------------------------------------------------------------\u001b[0m",
      "\u001b[0;31mIndexError\u001b[0m                                Traceback (most recent call last)",
      "\u001b[0;32m<ipython-input-95-64cf2bc30dfd>\u001b[0m in \u001b[0;36m<module>\u001b[0;34m\u001b[0m\n\u001b[0;32m----> 1\u001b[0;31m \u001b[0mjet\u001b[0m\u001b[0;34m[\u001b[0m\u001b[0;34m\"test\"\u001b[0m\u001b[0;34m]\u001b[0m\u001b[0;34m\u001b[0m\u001b[0;34m\u001b[0m\u001b[0m\n\u001b[0m",
      "\u001b[0;32m/cvmfs/sft.cern.ch/lcg/views/LCG_97apython3/x86_64-centos7-gcc8-opt/lib/python3.7/site-packages/awkward/array/jagged.py\u001b[0m in \u001b[0;36m__getitem__\u001b[0;34m(self, where)\u001b[0m\n\u001b[1;32m    508\u001b[0m \u001b[0;34m\u001b[0m\u001b[0m\n\u001b[1;32m    509\u001b[0m         \u001b[0;32mif\u001b[0m \u001b[0mself\u001b[0m\u001b[0;34m.\u001b[0m\u001b[0m_util_isstringslice\u001b[0m\u001b[0;34m(\u001b[0m\u001b[0mwhere\u001b[0m\u001b[0;34m)\u001b[0m\u001b[0;34m:\u001b[0m\u001b[0;34m\u001b[0m\u001b[0;34m\u001b[0m\u001b[0m\n\u001b[0;32m--> 510\u001b[0;31m             \u001b[0mcontent\u001b[0m \u001b[0;34m=\u001b[0m \u001b[0mself\u001b[0m\u001b[0;34m.\u001b[0m\u001b[0m_content\u001b[0m\u001b[0;34m[\u001b[0m\u001b[0mwhere\u001b[0m\u001b[0;34m]\u001b[0m\u001b[0;34m\u001b[0m\u001b[0;34m\u001b[0m\u001b[0m\n\u001b[0m\u001b[1;32m    511\u001b[0m             \u001b[0mcls\u001b[0m \u001b[0;34m=\u001b[0m \u001b[0mawkward\u001b[0m\u001b[0;34m.\u001b[0m\u001b[0marray\u001b[0m\u001b[0;34m.\u001b[0m\u001b[0mobjects\u001b[0m\u001b[0;34m.\u001b[0m\u001b[0mMethods\u001b[0m\u001b[0;34m.\u001b[0m\u001b[0mmaybemixin\u001b[0m\u001b[0;34m(\u001b[0m\u001b[0mtype\u001b[0m\u001b[0;34m(\u001b[0m\u001b[0mcontent\u001b[0m\u001b[0;34m)\u001b[0m\u001b[0;34m,\u001b[0m \u001b[0mself\u001b[0m\u001b[0;34m.\u001b[0m\u001b[0mJaggedArray\u001b[0m\u001b[0;34m)\u001b[0m\u001b[0;34m\u001b[0m\u001b[0;34m\u001b[0m\u001b[0m\n\u001b[1;32m    512\u001b[0m             \u001b[0mout\u001b[0m \u001b[0;34m=\u001b[0m \u001b[0mcls\u001b[0m\u001b[0;34m.\u001b[0m\u001b[0m__new__\u001b[0m\u001b[0;34m(\u001b[0m\u001b[0mcls\u001b[0m\u001b[0;34m)\u001b[0m\u001b[0;34m\u001b[0m\u001b[0;34m\u001b[0m\u001b[0m\n",
      "\u001b[0;32m/cvmfs/sft.cern.ch/lcg/views/LCG_97apython3/x86_64-centos7-gcc8-opt/lib/python3.7/site-packages/awkward/array/table.py\u001b[0m in \u001b[0;36m__getitem__\u001b[0;34m(self, where)\u001b[0m\n\u001b[1;32m    596\u001b[0m                     \u001b[0mindex\u001b[0m \u001b[0;34m=\u001b[0m \u001b[0mself\u001b[0m\u001b[0;34m.\u001b[0m\u001b[0m_index\u001b[0m\u001b[0;34m(\u001b[0m\u001b[0;34m)\u001b[0m\u001b[0;34m\u001b[0m\u001b[0;34m\u001b[0m\u001b[0m\n\u001b[1;32m    597\u001b[0m                     \u001b[0;32mtry\u001b[0m\u001b[0;34m:\u001b[0m\u001b[0;34m\u001b[0m\u001b[0;34m\u001b[0m\u001b[0m\n\u001b[0;32m--> 598\u001b[0;31m                         \u001b[0;32mreturn\u001b[0m \u001b[0mself\u001b[0m\u001b[0;34m.\u001b[0m\u001b[0m_contents\u001b[0m\u001b[0;34m[\u001b[0m\u001b[0mwhere\u001b[0m\u001b[0;34m]\u001b[0m\u001b[0;34m[\u001b[0m\u001b[0mindex\u001b[0m\u001b[0;34m]\u001b[0m\u001b[0;34m\u001b[0m\u001b[0;34m\u001b[0m\u001b[0m\n\u001b[0m\u001b[1;32m    599\u001b[0m                     \u001b[0;32mexcept\u001b[0m \u001b[0mKeyError\u001b[0m\u001b[0;34m:\u001b[0m\u001b[0;34m\u001b[0m\u001b[0;34m\u001b[0m\u001b[0m\n\u001b[1;32m    600\u001b[0m                         \u001b[0;32mraise\u001b[0m \u001b[0mValueError\u001b[0m\u001b[0;34m(\u001b[0m\u001b[0;34m\"no column named {0}\"\u001b[0m\u001b[0;34m.\u001b[0m\u001b[0mformat\u001b[0m\u001b[0;34m(\u001b[0m\u001b[0mrepr\u001b[0m\u001b[0;34m(\u001b[0m\u001b[0mwhere\u001b[0m\u001b[0;34m)\u001b[0m\u001b[0;34m)\u001b[0m\u001b[0;34m)\u001b[0m\u001b[0;34m\u001b[0m\u001b[0;34m\u001b[0m\u001b[0m\n",
      "\u001b[0;31mIndexError\u001b[0m: index 1069 is out of bounds for axis 0 with size 1069"
     ]
    }
   ],
   "source": [
    "jet[\"test\"]"
   ]
  },
  {
   "cell_type": "code",
   "execution_count": 92,
   "id": "senior-classroom",
   "metadata": {},
   "outputs": [
    {
     "data": {
      "text/plain": [
       "<JaggedArray [[163.20390936847798 147.0705849695005 87.1744582996871 49.84018716016726] [226.90783273172656 120.50872391408848 54.467506913662874 50.84569503417879 45.31622754021464 44.78825205443172] [299.1122238112803 199.61652207597945 73.74366771523637 71.4092503013294 46.73008492162808] ... [243.62729177157235 130.0149907242394 100.40854891189656 55.45967043634846] [130.9353703983288 95.68388805153063 77.29572579462365 48.115007893602524] [105.81756811535615 69.69033395377892 53.68807089895199 37.05074228692138]] at 0x7f3b158c43d0>"
      ]
     },
     "execution_count": 92,
     "metadata": {},
     "output_type": "execute_result"
    }
   ],
   "source": [
    "jet[\"pt\"]"
   ]
  },
  {
   "cell_type": "code",
   "execution_count": null,
   "id": "reflected-madison",
   "metadata": {},
   "outputs": [],
   "source": []
  },
  {
   "cell_type": "code",
   "execution_count": null,
   "id": "prospective-hello",
   "metadata": {},
   "outputs": [],
   "source": []
  },
  {
   "cell_type": "code",
   "execution_count": 265,
   "id": "loaded-christian",
   "metadata": {},
   "outputs": [
    {
     "data": {
      "text/plain": [
       "0.012711762"
      ]
     },
     "execution_count": 265,
     "metadata": {},
     "output_type": "execute_result"
    }
   ],
   "source": [
    "evaluator[\"eff\"](100., 0.15, 2.)"
   ]
  },
  {
   "cell_type": "code",
   "execution_count": 211,
   "id": "secret-parameter",
   "metadata": {},
   "outputs": [],
   "source": [
    "import copy"
   ]
  },
  {
   "cell_type": "code",
   "execution_count": 227,
   "id": "vital-peter",
   "metadata": {},
   "outputs": [
    {
     "data": {
      "text/plain": [
       "array([ 51.16976 ,  45.56891 ,  67.140274,  48.31369 ,  76.19487 ,\n",
       "        56.50825 ,  74.51507 , 131.81163 ,  76.65389 ,  46.722996,\n",
       "        61.082962,  87.23273 ,  51.18036 ,  84.497215,  46.508938,\n",
       "        47.541   ,  49.130108,  52.47772 ,  71.87377 ,  86.26697 ,\n",
       "        77.63009 ,  47.035297,  67.27164 ,  87.76323 ,  51.415882,\n",
       "        91.65241 ,  94.6464  ,  52.640915,  57.595932,  64.01166 ],\n",
       "      dtype=float32)"
      ]
     },
     "execution_count": 227,
     "metadata": {},
     "output_type": "execute_result"
    }
   ],
   "source": [
    "tau[\"p4\"][:,0].Et"
   ]
  },
  {
   "cell_type": "code",
   "execution_count": 232,
   "id": "formed-password",
   "metadata": {},
   "outputs": [
    {
     "data": {
      "text/plain": [
       "array([ 571.6840223 , 1143.70263615, 1345.4132791 ,  435.71137959,\n",
       "       1386.39694805,  389.05228978,  456.52148583,  797.66127834,\n",
       "       1310.56745499,  452.65022203,  468.88114205,  949.72144692,\n",
       "       1561.29354803,  599.21622804,  414.15598934,  650.1362376 ,\n",
       "        847.37473553,  743.3744436 ,  713.05591442,  742.09827882,\n",
       "        637.17812492,  638.85911981,  487.81153397,  595.52384529,\n",
       "        485.51872162,  874.18085023, 1178.84257177,  779.53703789,\n",
       "        552.3559195 ,  540.72651158])"
      ]
     },
     "execution_count": 232,
     "metadata": {},
     "output_type": "execute_result"
    }
   ],
   "source": [
    "jet[\"p4\"].sum().E + tau[\"p4\"][:,0].E"
   ]
  },
  {
   "cell_type": "code",
   "execution_count": 243,
   "id": "stainless-congo",
   "metadata": {},
   "outputs": [
    {
     "data": {
      "text/plain": [
       "array([ 511.21901452,  916.90206852, 1243.37925963,  366.49295765,\n",
       "       1293.93013592,  324.49452   ,  380.1640258 ,  657.9206625 ,\n",
       "       1233.00531358,  402.64416047,  405.05368844,  642.13578407,\n",
       "       1483.82667487,  416.47126344,  367.44997279,  547.25395915,\n",
       "        676.85943096,  552.09078271,  617.40896465,  654.98034364,\n",
       "        558.40590812,  590.13784067,  386.56255631,  481.36860237,\n",
       "        428.28467087,  763.58439943,  961.83839086,  685.33297447,\n",
       "        492.21066727,  465.39887487])"
      ]
     },
     "execution_count": 243,
     "metadata": {},
     "output_type": "execute_result"
    }
   ],
   "source": [
    "jet[\"p4\"].sum().E"
   ]
  },
  {
   "cell_type": "code",
   "execution_count": 244,
   "id": "defined-kinase",
   "metadata": {},
   "outputs": [
    {
     "name": "stdout",
     "output_type": "stream",
     "text": [
      "164.01991299022782\n",
      "172.19700967785408\n",
      "104.7502209333932\n",
      "70.25186421534829\n",
      "511.21900781682336\n",
      "[60.465008]\n"
     ]
    }
   ],
   "source": [
    "#for j in jet:\n",
    "H_jet = 0.\n",
    "for vec in jet[0]:\n",
    "    H_jet += vec[\"p4\"].E\n",
    "    print( vec[\"p4\"].E )\n",
    "print(H_jet)\n",
    "print(tau[0][\"p4\"].E)"
   ]
  },
  {
   "cell_type": "code",
   "execution_count": 239,
   "id": "turkish-subscriber",
   "metadata": {},
   "outputs": [
    {
     "data": {
      "text/plain": [
       "array([164.01991375, 172.19701706, 104.75021976,  70.25186395])"
      ]
     },
     "execution_count": 239,
     "metadata": {},
     "output_type": "execute_result"
    }
   ],
   "source": [
    "jet[0][\"p4\"].E"
   ]
  },
  {
   "cell_type": "code",
   "execution_count": null,
   "id": "silver-elder",
   "metadata": {},
   "outputs": [],
   "source": []
  },
  {
   "cell_type": "code",
   "execution_count": null,
   "id": "executed-vinyl",
   "metadata": {},
   "outputs": [],
   "source": []
  },
  {
   "cell_type": "code",
   "execution_count": 246,
   "id": "confidential-trademark",
   "metadata": {},
   "outputs": [
    {
     "name": "stdout",
     "output_type": "stream",
     "text": [
      "571.6840143202667 501.4935059754949\n",
      "1143.702637230435 594.1140530593544\n",
      "1345.4132401197817 760.2089534326599\n",
      "435.7113842632429 329.02065909621405\n",
      "1386.3968871233856 499.05931233994403\n",
      "389.0522886169456 287.98253435152856\n",
      "456.5214762305045 330.6654799448787\n",
      "797.6612820675463 678.0166004185505\n",
      "1310.5674491113102 963.444294702688\n",
      "452.6502244298722 323.220225196699\n",
      "468.88115448975327 393.1921865292365\n",
      "949.721443479174 499.21046518509866\n",
      "1561.2935456223472 513.6106187798846\n",
      "599.2162344811418 329.6534370986973\n",
      "414.1559870961348 358.63848351616406\n",
      "650.1362291060015 481.6300053227463\n",
      "847.3747438222822 369.6056072179997\n",
      "743.3744463598224 392.2333782313991\n",
      "713.0559216994559 419.61288214236816\n",
      "742.0982738095427 578.5526807530725\n",
      "637.1781118379565 422.0779466349294\n",
      "638.8591170250485 407.591209829311\n",
      "487.81154104118787 335.0084475875042\n",
      "595.5238484936078 457.72256516130216\n",
      "485.51872160800247 285.3855625489791\n",
      "874.180852640075 400.4859585535469\n",
      "1178.8425621799734 580.4924236227673\n",
      "779.5370359583246 585.3856629359636\n",
      "552.3559110466593 411.1723991552516\n",
      "540.7265085415708 331.3958284803546\n"
     ]
    }
   ],
   "source": [
    "for j, t in zip(jet, tau):\n",
    "    \n",
    "    p4 = copy.deepcopy(t[\"p4\"][0])\n",
    "    #print(\"Tau p4\", p4)\n",
    "    H = t[\"p4\"][0].E\n",
    "    HT = t[\"p4\"][0].Et\n",
    "    H_jet, HT_jet = 0., 0.\n",
    "    for vec in j:\n",
    "        H += vec[\"p4\"].E\n",
    "        H_jet += vec[\"p4\"].E \n",
    "        HT += vec[\"p4\"].Et\n",
    "        p4 += vec[\"p4\"]\n",
    "    print(H, HT)\n",
    "    #print(\"Added\", p4)\n",
    "    #print( j[\"p4\"].pt, t[\"p4\"].pt )"
   ]
  },
  {
   "cell_type": "code",
   "execution_count": null,
   "id": "accompanied-bridge",
   "metadata": {},
   "outputs": [],
   "source": []
  },
  {
   "cell_type": "code",
   "execution_count": null,
   "id": "cloudy-content",
   "metadata": {},
   "outputs": [],
   "source": []
  },
  {
   "cell_type": "code",
   "execution_count": 205,
   "id": "hybrid-roberts",
   "metadata": {},
   "outputs": [
    {
     "data": {
      "text/plain": [
       "<PtEtaPhiMassLorentzVectorArray [TLorentzVector(163.2, -0.019414, 0.40543, 16.03) TLorentzVector(147.07, -0.5662, -2.1255, 17.739) TLorentzVector(87.174, 0.60444, -3.1305, 15.547) TLorentzVector(49.84, -0.86283, -1.2753, 9.7447)] at 0x7fc9d4bb41d0>"
      ]
     },
     "execution_count": 205,
     "metadata": {},
     "output_type": "execute_result"
    }
   ],
   "source": [
    "jet[\"p4\"][0]"
   ]
  },
  {
   "cell_type": "code",
   "execution_count": 206,
   "id": "interested-enterprise",
   "metadata": {},
   "outputs": [
    {
     "ename": "TypeError",
     "evalue": "cannot add a TLorentzVector with a int",
     "output_type": "error",
     "traceback": [
      "\u001b[0;31m---------------------------------------------------------------------------\u001b[0m",
      "\u001b[0;31mTypeError\u001b[0m                                 Traceback (most recent call last)",
      "\u001b[0;32m<ipython-input-206-3fb6c596e8d5>\u001b[0m in \u001b[0;36m<module>\u001b[0;34m\u001b[0m\n\u001b[0;32m----> 1\u001b[0;31m \u001b[0msum\u001b[0m\u001b[0;34m(\u001b[0m\u001b[0mjet\u001b[0m\u001b[0;34m[\u001b[0m\u001b[0;34m\"p4\"\u001b[0m\u001b[0;34m]\u001b[0m\u001b[0;34m[\u001b[0m\u001b[0;36m0\u001b[0m\u001b[0;34m]\u001b[0m\u001b[0;34m)\u001b[0m\u001b[0;34m\u001b[0m\u001b[0;34m\u001b[0m\u001b[0m\n\u001b[0m",
      "\u001b[0;32m/cvmfs/sft.cern.ch/lcg/views/LCG_97apython3/x86_64-centos7-gcc8-opt/lib/python3.7/site-packages/uproot_methods/classes/TLorentzVector.py\u001b[0m in \u001b[0;36m__radd__\u001b[0;34m(self, other)\u001b[0m\n\u001b[1;32m    546\u001b[0m \u001b[0;34m\u001b[0m\u001b[0m\n\u001b[1;32m    547\u001b[0m     \u001b[0;32mdef\u001b[0m \u001b[0m__radd__\u001b[0m\u001b[0;34m(\u001b[0m\u001b[0mself\u001b[0m\u001b[0;34m,\u001b[0m \u001b[0mother\u001b[0m\u001b[0;34m)\u001b[0m\u001b[0;34m:\u001b[0m\u001b[0;34m\u001b[0m\u001b[0;34m\u001b[0m\u001b[0m\n\u001b[0;32m--> 548\u001b[0;31m         \u001b[0;32mreturn\u001b[0m \u001b[0mself\u001b[0m\u001b[0;34m.\u001b[0m\u001b[0m_vector\u001b[0m\u001b[0;34m(\u001b[0m\u001b[0moperator\u001b[0m\u001b[0;34m.\u001b[0m\u001b[0madd\u001b[0m\u001b[0;34m,\u001b[0m \u001b[0mother\u001b[0m\u001b[0;34m,\u001b[0m \u001b[0;32mTrue\u001b[0m\u001b[0;34m)\u001b[0m\u001b[0;34m\u001b[0m\u001b[0;34m\u001b[0m\u001b[0m\n\u001b[0m\u001b[1;32m    549\u001b[0m \u001b[0;34m\u001b[0m\u001b[0m\n\u001b[1;32m    550\u001b[0m     \u001b[0;32mdef\u001b[0m \u001b[0m__sub__\u001b[0m\u001b[0;34m(\u001b[0m\u001b[0mself\u001b[0m\u001b[0;34m,\u001b[0m \u001b[0mother\u001b[0m\u001b[0;34m)\u001b[0m\u001b[0;34m:\u001b[0m\u001b[0;34m\u001b[0m\u001b[0;34m\u001b[0m\u001b[0m\n",
      "\u001b[0;32m/cvmfs/sft.cern.ch/lcg/views/LCG_97apython3/x86_64-centos7-gcc8-opt/lib/python3.7/site-packages/uproot_methods/classes/TLorentzVector.py\u001b[0m in \u001b[0;36m_vector\u001b[0;34m(self, operator, vector, reverse)\u001b[0m\n\u001b[1;32m    455\u001b[0m         \u001b[0mcart\u001b[0m \u001b[0;34m=\u001b[0m \u001b[0mself\u001b[0m\u001b[0;34m.\u001b[0m\u001b[0m_to_cartesian\u001b[0m\u001b[0;34m(\u001b[0m\u001b[0;34m)\u001b[0m\u001b[0;34m\u001b[0m\u001b[0;34m\u001b[0m\u001b[0m\n\u001b[1;32m    456\u001b[0m         \u001b[0;32mif\u001b[0m \u001b[0;32mnot\u001b[0m \u001b[0misinstance\u001b[0m\u001b[0;34m(\u001b[0m\u001b[0mvector\u001b[0m\u001b[0;34m,\u001b[0m \u001b[0mMethods\u001b[0m\u001b[0;34m)\u001b[0m\u001b[0;34m:\u001b[0m\u001b[0;34m\u001b[0m\u001b[0;34m\u001b[0m\u001b[0m\n\u001b[0;32m--> 457\u001b[0;31m             \u001b[0;32mraise\u001b[0m \u001b[0mTypeError\u001b[0m\u001b[0;34m(\u001b[0m\u001b[0;34m\"cannot {0} a TLorentzVector with a {1}\"\u001b[0m\u001b[0;34m.\u001b[0m\u001b[0mformat\u001b[0m\u001b[0;34m(\u001b[0m\u001b[0moperator\u001b[0m\u001b[0;34m.\u001b[0m\u001b[0m__name__\u001b[0m\u001b[0;34m,\u001b[0m \u001b[0mtype\u001b[0m\u001b[0;34m(\u001b[0m\u001b[0mvector\u001b[0m\u001b[0;34m)\u001b[0m\u001b[0;34m.\u001b[0m\u001b[0m__name__\u001b[0m\u001b[0;34m)\u001b[0m\u001b[0;34m)\u001b[0m\u001b[0;34m\u001b[0m\u001b[0;34m\u001b[0m\u001b[0m\n\u001b[0m\u001b[1;32m    458\u001b[0m         \u001b[0;32mif\u001b[0m \u001b[0mreverse\u001b[0m\u001b[0;34m:\u001b[0m\u001b[0;34m\u001b[0m\u001b[0;34m\u001b[0m\u001b[0m\n\u001b[1;32m    459\u001b[0m             \u001b[0;32mreturn\u001b[0m \u001b[0mTLorentzVector\u001b[0m\u001b[0;34m(\u001b[0m\u001b[0moperator\u001b[0m\u001b[0;34m(\u001b[0m\u001b[0mvector\u001b[0m\u001b[0;34m.\u001b[0m\u001b[0mx\u001b[0m\u001b[0;34m,\u001b[0m \u001b[0mcart\u001b[0m\u001b[0;34m.\u001b[0m\u001b[0mx\u001b[0m\u001b[0;34m)\u001b[0m\u001b[0;34m,\u001b[0m \u001b[0moperator\u001b[0m\u001b[0;34m(\u001b[0m\u001b[0mvector\u001b[0m\u001b[0;34m.\u001b[0m\u001b[0my\u001b[0m\u001b[0;34m,\u001b[0m \u001b[0mcart\u001b[0m\u001b[0;34m.\u001b[0m\u001b[0my\u001b[0m\u001b[0;34m)\u001b[0m\u001b[0;34m,\u001b[0m \u001b[0moperator\u001b[0m\u001b[0;34m(\u001b[0m\u001b[0mvector\u001b[0m\u001b[0;34m.\u001b[0m\u001b[0mz\u001b[0m\u001b[0;34m,\u001b[0m \u001b[0mcart\u001b[0m\u001b[0;34m.\u001b[0m\u001b[0mz\u001b[0m\u001b[0;34m)\u001b[0m\u001b[0;34m,\u001b[0m \u001b[0moperator\u001b[0m\u001b[0;34m(\u001b[0m\u001b[0mvector\u001b[0m\u001b[0;34m.\u001b[0m\u001b[0mt\u001b[0m\u001b[0;34m,\u001b[0m \u001b[0mcart\u001b[0m\u001b[0;34m.\u001b[0m\u001b[0mt\u001b[0m\u001b[0;34m)\u001b[0m\u001b[0;34m)\u001b[0m\u001b[0;34m\u001b[0m\u001b[0;34m\u001b[0m\u001b[0m\n",
      "\u001b[0;31mTypeError\u001b[0m: cannot add a TLorentzVector with a int"
     ]
    }
   ],
   "source": [
    "sum(jet[\"p4\"][0])"
   ]
  },
  {
   "cell_type": "code",
   "execution_count": null,
   "id": "soviet-clerk",
   "metadata": {},
   "outputs": [],
   "source": []
  },
  {
   "cell_type": "code",
   "execution_count": null,
   "id": "imposed-cosmetic",
   "metadata": {},
   "outputs": [],
   "source": []
  },
  {
   "cell_type": "code",
   "execution_count": null,
   "id": "exempt-montgomery",
   "metadata": {},
   "outputs": [],
   "source": []
  },
  {
   "cell_type": "code",
   "execution_count": 203,
   "id": "numerical-facing",
   "metadata": {},
   "outputs": [
    {
     "ename": "ValueError",
     "evalue": "starts and stops are not compatible with a single offsets array",
     "output_type": "error",
     "traceback": [
      "\u001b[0;31m---------------------------------------------------------------------------\u001b[0m",
      "\u001b[0;31mValueError\u001b[0m                                Traceback (most recent call last)",
      "\u001b[0;32m<ipython-input-203-13901e1a1738>\u001b[0m in \u001b[0;36m<module>\u001b[0;34m\u001b[0m\n\u001b[0;32m----> 1\u001b[0;31m \u001b[0mevaluator\u001b[0m\u001b[0;34m[\u001b[0m\u001b[0;34m\"usdg\"\u001b[0m\u001b[0;34m]\u001b[0m\u001b[0;34m(\u001b[0m\u001b[0mjet\u001b[0m\u001b[0;34m.\u001b[0m\u001b[0mpt\u001b[0m\u001b[0;34m,\u001b[0m \u001b[0mjet\u001b[0m\u001b[0;34m.\u001b[0m\u001b[0meta\u001b[0m\u001b[0;34m)\u001b[0m\u001b[0;34m\u001b[0m\u001b[0;34m\u001b[0m\u001b[0m\n\u001b[0m",
      "\u001b[0;32m~/.local/lib/python3.7/site-packages/coffea/lookup_tools/lookup_base.py\u001b[0m in \u001b[0;36m__call__\u001b[0;34m(self, *args)\u001b[0m\n\u001b[1;32m     20\u001b[0m                     \u001b[0;32melif\u001b[0m \u001b[0mtype\u001b[0m\u001b[0;34m(\u001b[0m\u001b[0moffsets\u001b[0m\u001b[0;34m)\u001b[0m \u001b[0;32mis\u001b[0m \u001b[0mnp\u001b[0m\u001b[0;34m.\u001b[0m\u001b[0mndarray\u001b[0m \u001b[0;32mand\u001b[0m \u001b[0moffsets\u001b[0m\u001b[0;34m.\u001b[0m\u001b[0mbase\u001b[0m \u001b[0;32mis\u001b[0m \u001b[0;32mnot\u001b[0m \u001b[0minputs\u001b[0m\u001b[0;34m[\u001b[0m\u001b[0mi\u001b[0m\u001b[0;34m]\u001b[0m\u001b[0;34m.\u001b[0m\u001b[0moffsets\u001b[0m\u001b[0;34m.\u001b[0m\u001b[0mbase\u001b[0m\u001b[0;34m:\u001b[0m\u001b[0;34m\u001b[0m\u001b[0;34m\u001b[0m\u001b[0m\n\u001b[1;32m     21\u001b[0m                         \u001b[0;32mraise\u001b[0m \u001b[0mException\u001b[0m\u001b[0;34m(\u001b[0m\u001b[0;34m'All input jagged arrays must have a common structure (offsets)!'\u001b[0m\u001b[0;34m)\u001b[0m\u001b[0;34m\u001b[0m\u001b[0;34m\u001b[0m\u001b[0m\n\u001b[0;32m---> 22\u001b[0;31m                 \u001b[0moffsets\u001b[0m \u001b[0;34m=\u001b[0m \u001b[0minputs\u001b[0m\u001b[0;34m[\u001b[0m\u001b[0mi\u001b[0m\u001b[0;34m]\u001b[0m\u001b[0;34m.\u001b[0m\u001b[0moffsets\u001b[0m\u001b[0;34m\u001b[0m\u001b[0;34m\u001b[0m\u001b[0m\n\u001b[0m\u001b[1;32m     23\u001b[0m                 \u001b[0minputs\u001b[0m\u001b[0;34m[\u001b[0m\u001b[0mi\u001b[0m\u001b[0;34m]\u001b[0m \u001b[0;34m=\u001b[0m \u001b[0minputs\u001b[0m\u001b[0;34m[\u001b[0m\u001b[0mi\u001b[0m\u001b[0;34m]\u001b[0m\u001b[0;34m.\u001b[0m\u001b[0mcontent\u001b[0m\u001b[0;34m\u001b[0m\u001b[0;34m\u001b[0m\u001b[0m\n\u001b[1;32m     24\u001b[0m             \u001b[0;32melif\u001b[0m \u001b[0misinstance\u001b[0m\u001b[0;34m(\u001b[0m\u001b[0minputs\u001b[0m\u001b[0;34m[\u001b[0m\u001b[0mi\u001b[0m\u001b[0;34m]\u001b[0m\u001b[0;34m,\u001b[0m \u001b[0mnp\u001b[0m\u001b[0;34m.\u001b[0m\u001b[0mndarray\u001b[0m\u001b[0;34m)\u001b[0m\u001b[0;34m:\u001b[0m\u001b[0;34m\u001b[0m\u001b[0;34m\u001b[0m\u001b[0m\n",
      "\u001b[0;32m/cvmfs/sft.cern.ch/lcg/views/LCG_97apython3/x86_64-centos7-gcc8-opt/lib/python3.7/site-packages/awkward/array/jagged.py\u001b[0m in \u001b[0;36moffsets\u001b[0;34m(self)\u001b[0m\n\u001b[1;32m    351\u001b[0m                     \u001b[0mself\u001b[0m\u001b[0;34m.\u001b[0m\u001b[0m_offsets\u001b[0m \u001b[0;34m=\u001b[0m \u001b[0mself\u001b[0m\u001b[0;34m.\u001b[0m\u001b[0mnumpy\u001b[0m\u001b[0;34m.\u001b[0m\u001b[0mappend\u001b[0m\u001b[0;34m(\u001b[0m\u001b[0mself\u001b[0m\u001b[0;34m.\u001b[0m\u001b[0m_starts\u001b[0m\u001b[0;34m,\u001b[0m \u001b[0mself\u001b[0m\u001b[0;34m.\u001b[0m\u001b[0m_stops\u001b[0m\u001b[0;34m[\u001b[0m\u001b[0;34m-\u001b[0m\u001b[0;36m1\u001b[0m\u001b[0;34m]\u001b[0m\u001b[0;34m)\u001b[0m\u001b[0;34m\u001b[0m\u001b[0;34m\u001b[0m\u001b[0m\n\u001b[1;32m    352\u001b[0m             \u001b[0;32melse\u001b[0m\u001b[0;34m:\u001b[0m\u001b[0;34m\u001b[0m\u001b[0;34m\u001b[0m\u001b[0m\n\u001b[0;32m--> 353\u001b[0;31m                 \u001b[0;32mraise\u001b[0m \u001b[0mValueError\u001b[0m\u001b[0;34m(\u001b[0m\u001b[0;34m\"starts and stops are not compatible with a single offsets array\"\u001b[0m\u001b[0;34m)\u001b[0m\u001b[0;34m\u001b[0m\u001b[0;34m\u001b[0m\u001b[0m\n\u001b[0m\u001b[1;32m    354\u001b[0m         \u001b[0;32mreturn\u001b[0m \u001b[0mself\u001b[0m\u001b[0;34m.\u001b[0m\u001b[0m_offsets\u001b[0m\u001b[0;34m\u001b[0m\u001b[0;34m\u001b[0m\u001b[0m\n\u001b[1;32m    355\u001b[0m \u001b[0;34m\u001b[0m\u001b[0m\n",
      "\u001b[0;31mValueError\u001b[0m: starts and stops are not compatible with a single offsets array"
     ]
    }
   ],
   "source": [
    "evaluator[\"usdg\"](jet.pt, jet.eta)"
   ]
  },
  {
   "cell_type": "code",
   "execution_count": null,
   "id": "decreased-february",
   "metadata": {},
   "outputs": [],
   "source": []
  },
  {
   "cell_type": "code",
   "execution_count": null,
   "id": "equal-snapshot",
   "metadata": {},
   "outputs": [],
   "source": []
  },
  {
   "cell_type": "code",
   "execution_count": 31,
   "id": "reserved-salem",
   "metadata": {},
   "outputs": [
    {
     "data": {
      "text/plain": [
       "dict_keys(['jet40', 'jet45', 'tau40', 'tau45'])"
      ]
     },
     "execution_count": 31,
     "metadata": {},
     "output_type": "execute_result"
    }
   ],
   "source": [
    "evaluator.keys()"
   ]
  },
  {
   "cell_type": "code",
   "execution_count": 32,
   "id": "running-spanish",
   "metadata": {},
   "outputs": [
    {
     "data": {
      "text/plain": [
       "0.9672131"
      ]
     },
     "execution_count": 32,
     "metadata": {},
     "output_type": "execute_result"
    }
   ],
   "source": [
    "evaluator[\"jet40\"](100.)"
   ]
  },
  {
   "cell_type": "code",
   "execution_count": 99,
   "id": "automatic-cycle",
   "metadata": {},
   "outputs": [
    {
     "data": {
      "text/plain": [
       "['p4',\n",
       " '__fast_pt',\n",
       " '__fast_eta',\n",
       " '__fast_phi',\n",
       " '__fast_mass',\n",
       " 'pt_jer_up',\n",
       " 'mass_jer_up',\n",
       " 'pt_jer_down',\n",
       " 'mass_jer_down',\n",
       " 'pt_jes_up',\n",
       " 'mass_jes_up',\n",
       " 'pt_jes_down',\n",
       " 'mass_jes_down',\n",
       " 'pt_jes_up_old',\n",
       " 'mass_jes_up_old',\n",
       " 'pt_jes_down_old',\n",
       " 'mass_jes_down_old',\n",
       " 'jes_up',\n",
       " 'jes_down',\n",
       " 'jes_up_old',\n",
       " 'jes_down_old',\n",
       " 'csvDisc',\n",
       " 'flavour',\n",
       " 'pt',\n",
       " 'px',\n",
       " 'py',\n",
       " 'pz',\n",
       " 'e',\n",
       " 'eta',\n",
       " 'mass',\n",
       " 'phi',\n",
       " 'test']"
      ]
     },
     "execution_count": 99,
     "metadata": {},
     "output_type": "execute_result"
    }
   ],
   "source": [
    "jet.columns"
   ]
  },
  {
   "cell_type": "code",
   "execution_count": 208,
   "id": "diagnostic-steps",
   "metadata": {},
   "outputs": [
    {
     "name": "stdout",
     "output_type": "stream",
     "text": [
      "Processing: T_TuneZ2_s.root isData: False isTT: False corrLevel centJER\n",
      "SF 1.0 1.0\n",
      "Test btag\n",
      "[0.7724293  0.5934119  0.6328711  0.707928   0.71893275 0.61599267\n",
      " 0.52717245 0.5961134  0.66737014 0.567685   0.67754585 0.77963734\n",
      " 0.78650624 0.65044487 0.6543218  0.6944726  0.6269271  0.68879235\n",
      " 0.7110556  0.7725621  0.6688743  0.6525197  0.6404202  0.67880666\n",
      " 0.5049475  0.58545065 0.70343727 0.7268239  0.7198145  0.5910853 ]\n",
      "(30, 6) (30, 3)\n"
     ]
    }
   ],
   "source": [
    "importlib.reload(selection)\n",
    "importlib.reload(jetmet)\n",
    "importlib.reload(test_weights)\n",
    "path = \"/eos/user/l/llayer/opendata_files/preselection_merged/\" + \"T_TuneZ2_s\" + \".root\"\n",
    "df, jet, tau, cut_flow = selection.event_selection(path, isData = False, isTT = False, corrLevel = \"centJER\")"
   ]
  },
  {
   "cell_type": "code",
   "execution_count": 186,
   "id": "hourly-preservation",
   "metadata": {},
   "outputs": [
    {
     "data": {
      "text/html": [
       "<div>\n",
       "<style scoped>\n",
       "    .dataframe tbody tr th:only-of-type {\n",
       "        vertical-align: middle;\n",
       "    }\n",
       "\n",
       "    .dataframe tbody tr th {\n",
       "        vertical-align: top;\n",
       "    }\n",
       "\n",
       "    .dataframe thead th {\n",
       "        text-align: right;\n",
       "    }\n",
       "</style>\n",
       "<table border=\"1\" class=\"dataframe\">\n",
       "  <thead>\n",
       "    <tr style=\"text-align: right;\">\n",
       "      <th></th>\n",
       "      <th>Jet_pt</th>\n",
       "      <th>Jet_px</th>\n",
       "      <th>Jet_py</th>\n",
       "      <th>Jet_pz</th>\n",
       "      <th>Jet_e</th>\n",
       "      <th>Jet_eta</th>\n",
       "      <th>Jet_phi</th>\n",
       "      <th>Jet_mass</th>\n",
       "      <th>Jet_csvDisc</th>\n",
       "      <th>Jet_flavour</th>\n",
       "      <th>...</th>\n",
       "      <th>MET_met</th>\n",
       "      <th>event</th>\n",
       "      <th>run</th>\n",
       "      <th>luminosityBlock</th>\n",
       "      <th>HLT_QuadJet40_IsoPFTau40</th>\n",
       "      <th>HLT_QuadJet45_IsoPFTau45</th>\n",
       "      <th>PV_npvs</th>\n",
       "      <th>trigger_weight</th>\n",
       "      <th>trigger_weight_up</th>\n",
       "      <th>trigger_weight_down</th>\n",
       "    </tr>\n",
       "  </thead>\n",
       "  <tbody>\n",
       "    <tr>\n",
       "      <th>0</th>\n",
       "      <td>[163.20390936847798, 147.0705849695005, 87.174...</td>\n",
       "      <td>[149.97339549338534, -77.45902065538972, -87.1...</td>\n",
       "      <td>[64.36999550980845, -125.01942427723347, -0.96...</td>\n",
       "      <td>[-3.1687033794641106, -87.79175116520194, 55.9...</td>\n",
       "      <td>[164.01991375479608, 172.1970170581061, 104.75...</td>\n",
       "      <td>[-0.01941439, -0.5661959, 0.60444456, -0.8628344]</td>\n",
       "      <td>[0.40543064, -2.1254857, -3.1304731, -1.2753406]</td>\n",
       "      <td>[16.03044426947463, 17.738706012353532, 15.547...</td>\n",
       "      <td>[0.99315065, 0.10967823, 0.044752024, 0.9723706]</td>\n",
       "      <td>[-5, -2, -3, 5]</td>\n",
       "      <td>...</td>\n",
       "      <td>50.940367</td>\n",
       "      <td>145002</td>\n",
       "      <td>1</td>\n",
       "      <td>484</td>\n",
       "      <td>1</td>\n",
       "      <td>1</td>\n",
       "      <td>14</td>\n",
       "      <td>0.772429</td>\n",
       "      <td>0.791844</td>\n",
       "      <td>0.753337</td>\n",
       "    </tr>\n",
       "    <tr>\n",
       "      <th>1</th>\n",
       "      <td>[226.90783273172656, 120.50872391408848, 54.46...</td>\n",
       "      <td>[181.12231133575276, -49.77201212847478, -47.3...</td>\n",
       "      <td>[-136.68163805137937, 109.75017081313649, 26.8...</td>\n",
       "      <td>[74.6777780591364, 83.46608186486387, 124.1151...</td>\n",
       "      <td>[242.98094449039405, 147.36636631641025, 135.9...</td>\n",
       "      <td>[0.3234416, 0.6466056, 1.561753, 2.343851, 0.5...</td>\n",
       "      <td>[-0.6464623, 1.9965594, 2.6250632, 1.9775524, ...</td>\n",
       "      <td>[44.44995227179993, 15.096519567917085, 10.334...</td>\n",
       "      <td>[0.0010465897, 0.031641357, 0.35334906, 0.4049...</td>\n",
       "      <td>[21, 21, -1, 5, 21, -5]</td>\n",
       "      <td>...</td>\n",
       "      <td>38.528390</td>\n",
       "      <td>153527</td>\n",
       "      <td>1</td>\n",
       "      <td>512</td>\n",
       "      <td>1</td>\n",
       "      <td>1</td>\n",
       "      <td>6</td>\n",
       "      <td>0.593412</td>\n",
       "      <td>0.628852</td>\n",
       "      <td>0.558737</td>\n",
       "    </tr>\n",
       "    <tr>\n",
       "      <th>2</th>\n",
       "      <td>[299.1122238112803, 199.61652207597945, 73.743...</td>\n",
       "      <td>[-293.455604359588, 63.13224027288757, 60.5878...</td>\n",
       "      <td>[-57.895904794517676, 189.37021191449261, -42....</td>\n",
       "      <td>[396.6279716156869, -343.6932015132869, -52.94...</td>\n",
       "      <td>[497.5497239899049, 399.83385726471613, 91.441...</td>\n",
       "      <td>[1.0942149, -1.3118047, -0.66732067, 0.895451,...</td>\n",
       "      <td>[-2.946804, 1.2490038, -0.60658246, -1.1269907...</td>\n",
       "      <td>[27.8180803401483, 43.535435542754385, 10.9660...</td>\n",
       "      <td>[0.104415126, 0.9577689, 0.3878398, 0.9601148,...</td>\n",
       "      <td>[1, -5, -5, 5, 21]</td>\n",
       "      <td>...</td>\n",
       "      <td>115.740209</td>\n",
       "      <td>200122</td>\n",
       "      <td>1</td>\n",
       "      <td>668</td>\n",
       "      <td>1</td>\n",
       "      <td>1</td>\n",
       "      <td>5</td>\n",
       "      <td>0.632871</td>\n",
       "      <td>0.697097</td>\n",
       "      <td>0.572092</td>\n",
       "    </tr>\n",
       "    <tr>\n",
       "      <th>3</th>\n",
       "      <td>[100.37066608557325, 82.17995731680276, 55.564...</td>\n",
       "      <td>[-71.99163094691605, 44.77474981539156, -33.67...</td>\n",
       "      <td>[69.93908712284136, -68.9113004145677, -44.194...</td>\n",
       "      <td>[52.68486966276081, 74.46336014367235, -78.985...</td>\n",
       "      <td>[113.86825468269318, 111.14647583022689, 96.93...</td>\n",
       "      <td>[0.5033741, 0.813395, -1.150424, -0.36393678]</td>\n",
       "      <td>[2.370655, -0.9946006, -2.2219646, 0.36061528]</td>\n",
       "      <td>[10.77099484369569, 7.429770760218332, 8.41848...</td>\n",
       "      <td>[0.1243552, 0.9985866, 0.07168705, 0.15791535]</td>\n",
       "      <td>[21, 5, 1, 4]</td>\n",
       "      <td>...</td>\n",
       "      <td>12.859408</td>\n",
       "      <td>85960</td>\n",
       "      <td>1</td>\n",
       "      <td>287</td>\n",
       "      <td>1</td>\n",
       "      <td>1</td>\n",
       "      <td>5</td>\n",
       "      <td>0.707928</td>\n",
       "      <td>0.741848</td>\n",
       "      <td>0.614263</td>\n",
       "    </tr>\n",
       "    <tr>\n",
       "      <th>4</th>\n",
       "      <td>[140.05608694511466, 111.24469770364976, 71.43...</td>\n",
       "      <td>[92.93188175237519, -111.15314761922609, 8.827...</td>\n",
       "      <td>[104.78250105281724, 4.512217098936061, -70.88...</td>\n",
       "      <td>[-663.8304245719105, -299.62831495182826, -102...</td>\n",
       "      <td>[678.6373787673799, 319.9367048599929, 125.802...</td>\n",
       "      <td>[-2.260078, -1.7167629, -1.1578946, -1.4653825...</td>\n",
       "      <td>[0.8452646, 3.1010203, -1.4469057, -0.40418428...</td>\n",
       "      <td>[16.190442579586488, 14.386427332318704, 14.88...</td>\n",
       "      <td>[0.14651686, 0.9617057, 0.11498507, 0.91413635...</td>\n",
       "      <td>[2, -5, 21, 5, 2]</td>\n",
       "      <td>...</td>\n",
       "      <td>13.085134</td>\n",
       "      <td>246753</td>\n",
       "      <td>1</td>\n",
       "      <td>823</td>\n",
       "      <td>1</td>\n",
       "      <td>1</td>\n",
       "      <td>4</td>\n",
       "      <td>0.718933</td>\n",
       "      <td>0.734722</td>\n",
       "      <td>0.703383</td>\n",
       "    </tr>\n",
       "  </tbody>\n",
       "</table>\n",
       "<p>5 rows × 34 columns</p>\n",
       "</div>"
      ],
      "text/plain": [
       "                                              Jet_pt  \\\n",
       "0  [163.20390936847798, 147.0705849695005, 87.174...   \n",
       "1  [226.90783273172656, 120.50872391408848, 54.46...   \n",
       "2  [299.1122238112803, 199.61652207597945, 73.743...   \n",
       "3  [100.37066608557325, 82.17995731680276, 55.564...   \n",
       "4  [140.05608694511466, 111.24469770364976, 71.43...   \n",
       "\n",
       "                                              Jet_px  \\\n",
       "0  [149.97339549338534, -77.45902065538972, -87.1...   \n",
       "1  [181.12231133575276, -49.77201212847478, -47.3...   \n",
       "2  [-293.455604359588, 63.13224027288757, 60.5878...   \n",
       "3  [-71.99163094691605, 44.77474981539156, -33.67...   \n",
       "4  [92.93188175237519, -111.15314761922609, 8.827...   \n",
       "\n",
       "                                              Jet_py  \\\n",
       "0  [64.36999550980845, -125.01942427723347, -0.96...   \n",
       "1  [-136.68163805137937, 109.75017081313649, 26.8...   \n",
       "2  [-57.895904794517676, 189.37021191449261, -42....   \n",
       "3  [69.93908712284136, -68.9113004145677, -44.194...   \n",
       "4  [104.78250105281724, 4.512217098936061, -70.88...   \n",
       "\n",
       "                                              Jet_pz  \\\n",
       "0  [-3.1687033794641106, -87.79175116520194, 55.9...   \n",
       "1  [74.6777780591364, 83.46608186486387, 124.1151...   \n",
       "2  [396.6279716156869, -343.6932015132869, -52.94...   \n",
       "3  [52.68486966276081, 74.46336014367235, -78.985...   \n",
       "4  [-663.8304245719105, -299.62831495182826, -102...   \n",
       "\n",
       "                                               Jet_e  \\\n",
       "0  [164.01991375479608, 172.1970170581061, 104.75...   \n",
       "1  [242.98094449039405, 147.36636631641025, 135.9...   \n",
       "2  [497.5497239899049, 399.83385726471613, 91.441...   \n",
       "3  [113.86825468269318, 111.14647583022689, 96.93...   \n",
       "4  [678.6373787673799, 319.9367048599929, 125.802...   \n",
       "\n",
       "                                             Jet_eta  \\\n",
       "0  [-0.01941439, -0.5661959, 0.60444456, -0.8628344]   \n",
       "1  [0.3234416, 0.6466056, 1.561753, 2.343851, 0.5...   \n",
       "2  [1.0942149, -1.3118047, -0.66732067, 0.895451,...   \n",
       "3      [0.5033741, 0.813395, -1.150424, -0.36393678]   \n",
       "4  [-2.260078, -1.7167629, -1.1578946, -1.4653825...   \n",
       "\n",
       "                                             Jet_phi  \\\n",
       "0   [0.40543064, -2.1254857, -3.1304731, -1.2753406]   \n",
       "1  [-0.6464623, 1.9965594, 2.6250632, 1.9775524, ...   \n",
       "2  [-2.946804, 1.2490038, -0.60658246, -1.1269907...   \n",
       "3     [2.370655, -0.9946006, -2.2219646, 0.36061528]   \n",
       "4  [0.8452646, 3.1010203, -1.4469057, -0.40418428...   \n",
       "\n",
       "                                            Jet_mass  \\\n",
       "0  [16.03044426947463, 17.738706012353532, 15.547...   \n",
       "1  [44.44995227179993, 15.096519567917085, 10.334...   \n",
       "2  [27.8180803401483, 43.535435542754385, 10.9660...   \n",
       "3  [10.77099484369569, 7.429770760218332, 8.41848...   \n",
       "4  [16.190442579586488, 14.386427332318704, 14.88...   \n",
       "\n",
       "                                         Jet_csvDisc              Jet_flavour  \\\n",
       "0   [0.99315065, 0.10967823, 0.044752024, 0.9723706]          [-5, -2, -3, 5]   \n",
       "1  [0.0010465897, 0.031641357, 0.35334906, 0.4049...  [21, 21, -1, 5, 21, -5]   \n",
       "2  [0.104415126, 0.9577689, 0.3878398, 0.9601148,...       [1, -5, -5, 5, 21]   \n",
       "3     [0.1243552, 0.9985866, 0.07168705, 0.15791535]            [21, 5, 1, 4]   \n",
       "4  [0.14651686, 0.9617057, 0.11498507, 0.91413635...        [2, -5, 21, 5, 2]   \n",
       "\n",
       "   ...     MET_met   event run luminosityBlock HLT_QuadJet40_IsoPFTau40  \\\n",
       "0  ...   50.940367  145002   1             484                        1   \n",
       "1  ...   38.528390  153527   1             512                        1   \n",
       "2  ...  115.740209  200122   1             668                        1   \n",
       "3  ...   12.859408   85960   1             287                        1   \n",
       "4  ...   13.085134  246753   1             823                        1   \n",
       "\n",
       "  HLT_QuadJet45_IsoPFTau45 PV_npvs trigger_weight trigger_weight_up  \\\n",
       "0                        1      14       0.772429          0.791844   \n",
       "1                        1       6       0.593412          0.628852   \n",
       "2                        1       5       0.632871          0.697097   \n",
       "3                        1       5       0.707928          0.741848   \n",
       "4                        1       4       0.718933          0.734722   \n",
       "\n",
       "   trigger_weight_down  \n",
       "0             0.753337  \n",
       "1             0.558737  \n",
       "2             0.572092  \n",
       "3             0.614263  \n",
       "4             0.703383  \n",
       "\n",
       "[5 rows x 34 columns]"
      ]
     },
     "execution_count": 186,
     "metadata": {},
     "output_type": "execute_result"
    }
   ],
   "source": [
    "df.head()"
   ]
  },
  {
   "cell_type": "code",
   "execution_count": 209,
   "id": "parallel-unknown",
   "metadata": {},
   "outputs": [
    {
     "data": {
      "text/plain": [
       "['p4',\n",
       " '__fast_pt',\n",
       " '__fast_eta',\n",
       " '__fast_phi',\n",
       " '__fast_mass',\n",
       " 'pt_jer_up',\n",
       " 'mass_jer_up',\n",
       " 'pt_jer_down',\n",
       " 'mass_jer_down',\n",
       " 'pt_jes_up',\n",
       " 'mass_jes_up',\n",
       " 'pt_jes_down',\n",
       " 'mass_jes_down',\n",
       " 'pt_jes_up_old',\n",
       " 'mass_jes_up_old',\n",
       " 'pt_jes_down_old',\n",
       " 'mass_jes_down_old',\n",
       " 'jes_up',\n",
       " 'jes_down',\n",
       " 'jes_up_old',\n",
       " 'jes_down_old',\n",
       " 'csvDisc',\n",
       " 'flavour',\n",
       " 'pt',\n",
       " 'px',\n",
       " 'py',\n",
       " 'pz',\n",
       " 'e',\n",
       " 'eta',\n",
       " 'mass',\n",
       " 'phi',\n",
       " 'flavour_sf',\n",
       " 'flavour_eff',\n",
       " 'b_eff',\n",
       " 'b_sf',\n",
       " 'btag_pmc',\n",
       " 'btag_pdata',\n",
       " 'btag_pdata_up',\n",
       " 'btag_pdata_down']"
      ]
     },
     "execution_count": 209,
     "metadata": {},
     "output_type": "execute_result"
    }
   ],
   "source": [
    "jet.columns"
   ]
  },
  {
   "cell_type": "code",
   "execution_count": 197,
   "id": "compact-infrastructure",
   "metadata": {},
   "outputs": [],
   "source": [
    "def btag_weight_1(jet):\n",
    "    \n",
    "    pmc = jet.btag_pmc.prod()\n",
    "    pdata = jet.btag_pdata.prod()\n",
    "    \n",
    "    return pdata/pmc"
   ]
  },
  {
   "cell_type": "code",
   "execution_count": 198,
   "id": "contrary-novelty",
   "metadata": {},
   "outputs": [
    {
     "data": {
      "text/plain": [
       "array([0.9234422 , 0.99195748, 1.04076518, 0.97353385, 0.9253162 ,\n",
       "       0.95846693, 0.93465915, 1.16799741, 0.93280043, 0.93519822,\n",
       "       0.96024376, 0.93280285, 1.01798248, 0.97548539, 0.91901519,\n",
       "       0.92636441, 0.95994961, 0.95482549, 0.96363029, 1.02222381,\n",
       "       1.02939833, 1.06086587, 1.03926747, 1.03886583, 1.03898086,\n",
       "       0.92389271, 0.93309796, 0.92851544, 0.93931945, 1.04297376])"
      ]
     },
     "execution_count": 198,
     "metadata": {},
     "output_type": "execute_result"
    }
   ],
   "source": [
    "btag_weight_1(jet)"
   ]
  },
  {
   "cell_type": "code",
   "execution_count": 204,
   "id": "aboriginal-california",
   "metadata": {},
   "outputs": [],
   "source": [
    "def btag_weight_2(jet):\n",
    "    \n",
    "    weight_0tags = (1 - jet.b_eff * jet.b_sf).prod()\n",
    "    #print(weight_0tags)\n",
    "    return 1. - weight_0tags"
   ]
  },
  {
   "cell_type": "code",
   "execution_count": 205,
   "id": "removed-caution",
   "metadata": {},
   "outputs": [
    {
     "data": {
      "text/plain": [
       "array([0.90234404, 0.81017315, 0.9707715 , 0.78195841, 0.87002757,\n",
       "       0.64389106, 0.91396414, 0.87951317, 0.89892989, 0.9318225 ,\n",
       "       0.72149797, 0.89673109, 0.86915164, 0.72875756, 0.90839227,\n",
       "       0.92804666, 0.64219107, 0.67141058, 0.72541953, 0.93320702,\n",
       "       0.88764083, 0.9034709 , 0.90415145, 0.89185172, 0.89627766,\n",
       "       0.89297223, 0.87782794, 0.91752792, 0.93875455, 0.89661354])"
      ]
     },
     "execution_count": 205,
     "metadata": {},
     "output_type": "execute_result"
    }
   ],
   "source": [
    "btag_weight_2(jet)"
   ]
  },
  {
   "cell_type": "code",
   "execution_count": 206,
   "id": "chronic-uncertainty",
   "metadata": {},
   "outputs": [
    {
     "data": {
      "text/plain": [
       "array([2, 1, 2, 1, 2, 1, 2, 0, 2, 2, 1, 2, 1, 1, 2, 2, 1, 1, 1, 2, 1, 1,\n",
       "       1, 2, 1, 2, 2, 2, 2, 1])"
      ]
     },
     "execution_count": 206,
     "metadata": {},
     "output_type": "execute_result"
    }
   ],
   "source": [
    "(jet.csvDisc > 0.679).sum()"
   ]
  },
  {
   "cell_type": "code",
   "execution_count": null,
   "id": "historic-filter",
   "metadata": {},
   "outputs": [],
   "source": []
  },
  {
   "cell_type": "code",
   "execution_count": 200,
   "id": "tired-pocket",
   "metadata": {},
   "outputs": [
    {
     "data": {
      "text/plain": [
       "<JaggedArray [[5 0 0 5] [0 0 0 5 0 5] [0 5 5 5 0] ... [0 5 5 0] [5 5 4 0] [5 0 5 0]] at 0x7f3b1470bcd0>"
      ]
     },
     "execution_count": 200,
     "metadata": {},
     "output_type": "execute_result"
    }
   ],
   "source": [
    "jet[\"flavour_sf\"]"
   ]
  },
  {
   "cell_type": "code",
   "execution_count": 149,
   "id": "intended-pixel",
   "metadata": {},
   "outputs": [
    {
     "data": {
      "text/plain": [
       "<JaggedArray [[2 0 0 2] [0 0 0 2 0 2] [0 2 2 2 0] ... [0 2 2 0] [2 2 1 0] [2 0 2 0]] at 0x7f3b152c9ad0>"
      ]
     },
     "execution_count": 149,
     "metadata": {},
     "output_type": "execute_result"
    }
   ],
   "source": [
    "jet[\"flavour_eff\"]"
   ]
  },
  {
   "cell_type": "code",
   "execution_count": 162,
   "id": "noticed-execution",
   "metadata": {},
   "outputs": [
    {
     "data": {
      "text/plain": [
       "<JaggedArray [[0.73355883 0.01414611 0.013459794 0.6844905] [0.013669968 0.0127615575 0.01442174 0.4758115 0.014091027 0.6604813] [0.015353122 0.6464147 0.75262946 0.73776287 0.019866053] ... [0.011759935 0.7298863 0.740727 0.014267276] [0.7298863 0.7629098 0.21641394 0.015026693] [0.740727 0.013364381 0.65340453 0.024175556]] at 0x7f3b16017c50>"
      ]
     },
     "execution_count": 162,
     "metadata": {},
     "output_type": "execute_result"
    }
   ],
   "source": [
    "jet[\"sb_eff\"]"
   ]
  },
  {
   "cell_type": "code",
   "execution_count": 163,
   "id": "accomplished-terminal",
   "metadata": {},
   "outputs": [
    {
     "data": {
      "text/plain": [
       "<JaggedArray [[0.9660021032534176 1.058502905224619 1.0169255390833172 0.956966395329308] [1.0895008326669198 1.0421992674442098 0.9633286386156684 0.9571887021974084 0.9769345485778116 0.9557313605668698] [1.0423010672027793 0.9668550397625865 0.960848008097019 0.9605663762820974 0.9006504091112063] ... [1.0929843174881417 0.9648449914211386 0.9632386873900091 0.9875127716376121] [0.9648842990021972 0.9629010010873107 0.9612484470092408 0.9799116609402363] [0.9635921744359831 1.001384110948794 0.9577805852487337 0.8949867175660247]] at 0x7f3b147f2c10>"
      ]
     },
     "execution_count": 163,
     "metadata": {},
     "output_type": "execute_result"
    }
   ],
   "source": [
    "jet[\"b_sf\"]"
   ]
  },
  {
   "cell_type": "code",
   "execution_count": 187,
   "id": "dimensional-precipitation",
   "metadata": {},
   "outputs": [],
   "source": [
    "import awkward as ak"
   ]
  },
  {
   "cell_type": "code",
   "execution_count": 190,
   "id": "criminal-meditation",
   "metadata": {},
   "outputs": [
    {
     "data": {
      "text/plain": [
       "array([0.99507535, 0.97757857, 0.83770841, 0.90980624, 0.82354339,\n",
       "       0.89036902, 0.86601121, 0.90118273, 0.91353863, 0.85444292,\n",
       "       0.97043742, 0.90372086, 0.86435666, 0.8718788 , 0.92678827,\n",
       "       0.97828252, 0.87222042, 0.95825176, 0.83714541, 0.84236062,\n",
       "       0.84461811, 0.84910529, 0.87732569, 0.9131815 , 0.75887621,\n",
       "       0.72458494, 0.91507439, 1.00310897, 0.87514387, 0.82713535])"
      ]
     },
     "execution_count": 190,
     "metadata": {},
     "output_type": "execute_result"
    }
   ],
   "source": [
    "(jet[\"b_sf\"]).prod()"
   ]
  },
  {
   "cell_type": "code",
   "execution_count": null,
   "id": "baking-colleague",
   "metadata": {},
   "outputs": [],
   "source": []
  },
  {
   "cell_type": "code",
   "execution_count": null,
   "id": "subsequent-auditor",
   "metadata": {},
   "outputs": [],
   "source": []
  },
  {
   "cell_type": "code",
   "execution_count": 117,
   "id": "threatened-belle",
   "metadata": {},
   "outputs": [
    {
     "data": {
      "text/plain": [
       "array([163.20390937, 226.90783273, 299.11222381, 100.37066609,\n",
       "       140.05608695,  78.91916171,  90.09379455, 341.93844147,\n",
       "       448.63667939, 118.83695845, 118.98076151, 170.23100474,\n",
       "       189.56496964,  98.71316179, 108.18647825, 194.11182327,\n",
       "       173.88340721, 151.78812717, 144.87926422, 169.836751  ,\n",
       "        99.5502518 , 117.42401284,  97.75288404, 178.08219253,\n",
       "        62.58631411, 110.52928477, 213.08795233, 243.62729177,\n",
       "       130.9353704 , 105.81756812])"
      ]
     },
     "execution_count": 117,
     "metadata": {},
     "output_type": "execute_result"
    }
   ],
   "source": [
    "jet.pt[:,0]"
   ]
  },
  {
   "cell_type": "code",
   "execution_count": 80,
   "id": "legal-medication",
   "metadata": {},
   "outputs": [],
   "source": [
    "jet40 = evaluator[\"jet40\"](jet.pt[:,0])"
   ]
  },
  {
   "cell_type": "code",
   "execution_count": 81,
   "id": "twenty-childhood",
   "metadata": {},
   "outputs": [
    {
     "data": {
      "text/plain": [
       "array([1.        , 0.        , 0.        , 0.94067794, 0.9166667 ,\n",
       "       0.90782124, 0.93877554, 0.        , 0.        , 0.93333334,\n",
       "       0.93333334, 1.        , 1.        , 0.94067794, 0.9672131 ,\n",
       "       0.        , 1.        , 1.        , 1.        , 1.        ,\n",
       "       0.9672131 , 0.93333334, 0.94067794, 1.        , 0.89365673,\n",
       "       0.93333334, 0.        , 0.        , 0.9166667 , 0.9672131 ],\n",
       "      dtype=float32)"
      ]
     },
     "execution_count": 81,
     "metadata": {},
     "output_type": "execute_result"
    }
   ],
   "source": [
    "jet40"
   ]
  },
  {
   "cell_type": "code",
   "execution_count": 82,
   "id": "finite-johnston",
   "metadata": {},
   "outputs": [],
   "source": [
    "mask = jet40 == 0."
   ]
  },
  {
   "cell_type": "code",
   "execution_count": 83,
   "id": "equipped-upper",
   "metadata": {},
   "outputs": [
    {
     "data": {
      "text/plain": [
       "array([False,  True,  True, False, False, False, False,  True,  True,\n",
       "       False, False, False, False, False, False,  True, False, False,\n",
       "       False, False, False, False, False, False, False, False,  True,\n",
       "        True, False, False])"
      ]
     },
     "execution_count": 83,
     "metadata": {},
     "output_type": "execute_result"
    }
   ],
   "source": [
    "mask"
   ]
  },
  {
   "cell_type": "code",
   "execution_count": 87,
   "id": "smaller-reservoir",
   "metadata": {},
   "outputs": [],
   "source": [
    "jet40 = np.where(mask, 1., jet40)"
   ]
  },
  {
   "cell_type": "code",
   "execution_count": 88,
   "id": "global-snake",
   "metadata": {},
   "outputs": [
    {
     "data": {
      "text/plain": [
       "array([1.        , 1.        , 1.        , 0.94067794, 0.9166667 ,\n",
       "       0.90782124, 0.93877554, 1.        , 1.        , 0.93333334,\n",
       "       0.93333334, 1.        , 1.        , 0.94067794, 0.9672131 ,\n",
       "       1.        , 1.        , 1.        , 1.        , 1.        ,\n",
       "       0.9672131 , 0.93333334, 0.94067794, 1.        , 0.89365673,\n",
       "       0.93333334, 1.        , 1.        , 0.9166667 , 0.9672131 ],\n",
       "      dtype=float32)"
      ]
     },
     "execution_count": 88,
     "metadata": {},
     "output_type": "execute_result"
    }
   ],
   "source": [
    "jet40"
   ]
  },
  {
   "cell_type": "code",
   "execution_count": null,
   "id": "attached-broadway",
   "metadata": {},
   "outputs": [],
   "source": [
    "def trigger_weight(jet, tau):\n",
    "    \n",
    "    "
   ]
  },
  {
   "cell_type": "code",
   "execution_count": 42,
   "id": "demographic-affair",
   "metadata": {},
   "outputs": [],
   "source": [
    "t = np.random.random((len(jet)))"
   ]
  },
  {
   "cell_type": "code",
   "execution_count": 45,
   "id": "controlling-harvey",
   "metadata": {},
   "outputs": [
    {
     "data": {
      "text/plain": [
       "array([ True, False, False, False, False, False, False, False,  True,\n",
       "       False, False, False, False, False, False, False, False, False,\n",
       "        True, False, False, False, False, False, False,  True, False,\n",
       "        True, False, False])"
      ]
     },
     "execution_count": 45,
     "metadata": {},
     "output_type": "execute_result"
    }
   ],
   "source": [
    "t < 0.218"
   ]
  },
  {
   "cell_type": "code",
   "execution_count": 49,
   "id": "external-mitchell",
   "metadata": {},
   "outputs": [],
   "source": [
    "tt = np.where(t < 0.218, 0.7, 0.3)"
   ]
  },
  {
   "cell_type": "code",
   "execution_count": 50,
   "id": "precise-fiber",
   "metadata": {},
   "outputs": [
    {
     "data": {
      "text/plain": [
       "array([0.7, 0.3, 0.3, 0.3, 0.3, 0.3, 0.3, 0.3, 0.7, 0.3, 0.3, 0.3, 0.3,\n",
       "       0.3, 0.3, 0.3, 0.3, 0.3, 0.7, 0.3, 0.3, 0.3, 0.3, 0.3, 0.3, 0.7,\n",
       "       0.3, 0.7, 0.3, 0.3])"
      ]
     },
     "execution_count": 50,
     "metadata": {},
     "output_type": "execute_result"
    }
   ],
   "source": [
    "tt"
   ]
  },
  {
   "cell_type": "code",
   "execution_count": null,
   "id": "stuffed-period",
   "metadata": {},
   "outputs": [],
   "source": [
    "tt = np.where(t < 0.218, 0.7, 0.3)"
   ]
  },
  {
   "cell_type": "code",
   "execution_count": null,
   "id": "accessible-railway",
   "metadata": {},
   "outputs": [],
   "source": []
  },
  {
   "cell_type": "code",
   "execution_count": null,
   "id": "blank-novel",
   "metadata": {},
   "outputs": [],
   "source": []
  },
  {
   "cell_type": "code",
   "execution_count": null,
   "id": "renewable-antibody",
   "metadata": {},
   "outputs": [],
   "source": []
  },
  {
   "cell_type": "code",
   "execution_count": null,
   "id": "norman-ocean",
   "metadata": {},
   "outputs": [],
   "source": []
  },
  {
   "cell_type": "code",
   "execution_count": 11,
   "id": "geographic-yield",
   "metadata": {},
   "outputs": [
    {
     "name": "stdout",
     "output_type": "stream",
     "text": [
      "Processing: T_TuneZ2_s.root isData: False isTT: False corrLevel cent\n",
      "{'preselected': 1915, 'hlt': 273, 'lep_veto': 190, 'jet_requirement': 114, 'tau_requirement': 30}\n",
      "Processing: WJetsToLNu.root isData: False isTT: False corrLevel cent\n",
      "{'preselected': 44906, 'hlt': 4982, 'lep_veto': 2385, 'jet_requirement': 1083, 'tau_requirement': 231}\n",
      "Processing: DYJetsToLL.root isData: False isTT: False corrLevel cent\n",
      "{'preselected': 114807, 'hlt': 19961, 'lep_veto': 5461, 'jet_requirement': 2265, 'tau_requirement': 547}\n",
      "Processing: T_TuneZ2_tW.root isData: False isTT: False corrLevel cent\n",
      "{'preselected': 20110, 'hlt': 5529, 'lep_veto': 3046, 'jet_requirement': 1698, 'tau_requirement': 568}\n",
      "Processing: T_TuneZ2_t-channel.root isData: False isTT: False corrLevel cent\n",
      "{'preselected': 23527, 'hlt': 3396, 'lep_veto': 2404, 'jet_requirement': 1203, 'tau_requirement': 240}\n",
      "Processing: Tbar_TuneZ2_s.root isData: False isTT: False corrLevel cent\n",
      "{'preselected': 1117, 'hlt': 158, 'lep_veto': 115, 'jet_requirement': 61, 'tau_requirement': 12}\n",
      "Processing: Tbar_TuneZ2_tW.root isData: False isTT: False corrLevel cent\n",
      "{'preselected': 21966, 'hlt': 6034, 'lep_veto': 3317, 'jet_requirement': 1902, 'tau_requirement': 648}\n",
      "Processing: Tbar_TuneZ2_t-channel.root isData: False isTT: False corrLevel cent\n",
      "{'preselected': 15056, 'hlt': 2145, 'lep_veto': 1534, 'jet_requirement': 786, 'tau_requirement': 144}\n",
      "Processing: TTJets.root isData: False isTT: True corrLevel cent\n",
      "{'preselected': 1769852, 'hlt': 654451, 'lep_veto': 347759, 'jet_requirement': 228585, 'tau_requirement': 87196}\n",
      "Processing: Run2011A_MultiJet.root isData: True isTT: False corrLevel cent\n",
      "{'preselected': 340427, 'trigger': 301139, 'hlt': 301139, 'lep_veto': 286498, 'jet_requirement': 132253, 'tau_requirement': 13741}\n",
      "Processing: Run2011B_MultiJet.root isData: True isTT: False corrLevel cent\n",
      "{'preselected': 322288, 'trigger': 218730, 'hlt': 218730, 'lep_veto': 208262, 'jet_requirement': 91877, 'tau_requirement': 9892}\n"
     ]
    }
   ],
   "source": [
    "importlib.reload(selection)\n",
    "def event_selection():\n",
    "    \n",
    "    samples = {}\n",
    "    for sample in mc + data:\n",
    "        \n",
    "        #!!!!!!! Careful with JER application before Tau?!\n",
    "        \n",
    "        if \"TTJets\" in sample: isTT = True\n",
    "        else: isTT = False\n",
    "            \n",
    "        if \"Run2011\" in sample: isData = True\n",
    "        else: isData = False\n",
    "        \n",
    "        path = \"/eos/user/l/llayer/opendata_files/preselection_merged/\" + sample + \".root\"\n",
    "        \n",
    "        df, cut_flow = selection.event_selection(path, isData = isData, isTT = isTT)\n",
    "        \n",
    "        print( cut_flow )\n",
    "        \"\"\"\n",
    "        df.to_hdf(outpath + sample + \".h5\", \"central\", mode='w')\n",
    "                \n",
    "        if isData == False:\n",
    "            \n",
    "            for c in corrections:\n",
    "                df, cut_flow = selection.event_selection(path, isData = isData, isTT = isTT, corrLevel = c)\n",
    "                print( cut_flow )\n",
    "                df.to_hdf(outpath + sample + \".h5\", c, mode='a')  \n",
    "        \"\"\"\n",
    "        \n",
    "        samples[sample] = df\n",
    "        \n",
    "    return samples\n",
    "\n",
    "samples = event_selection()"
   ]
  },
  {
   "cell_type": "code",
   "execution_count": 12,
   "id": "turned-broadway",
   "metadata": {},
   "outputs": [
    {
     "name": "stderr",
     "output_type": "stream",
     "text": [
      "/eos/home-l/llayer/cmsopen/columnar/btag.py:13: RuntimeWarning: invalid value encountered in true_divide\n",
      "  eff = np.divide(num[0], denom[0])\n"
     ]
    }
   ],
   "source": [
    "importlib.reload(btag)\n",
    "importlib.reload(weights)\n",
    "\n",
    "def candidates(sample, df, invert_btag = False, njets=-1):\n",
    "    \n",
    "    if \"Run2011\" in sample: isData = True\n",
    "    else: isData = False\n",
    "\n",
    "    print( \"Processing:\", sample,\"isData:\", isData, \"invert_btag:\", invert_btag)\n",
    "\n",
    "    df['nJets'] = df[\"Jet_pt\"].str.len()\n",
    "    \n",
    "    # b-tagging\n",
    "    df[\"Jet_nbtags\"] = df[\"Jet_csvDisc\"].apply( lambda x : btag.count_btags(x, njets=njets) )\n",
    "    if invert_btag:\n",
    "        df = btag.no_tag(df)\n",
    "    else:\n",
    "        df = btag.at_least_1tag(df)\n",
    "\n",
    "    # MET cut\n",
    "    df = selection.met_requirement(df)\n",
    "\n",
    "    \n",
    "    # HL features\n",
    "    #df = pd.concat([df, df.apply(lambda ev : pd.Series(hl.hlFeatures(ev, njets=njets)), axis=1)], axis=1)\n",
    "    \n",
    "\n",
    "    # MC weights\n",
    "    if not isData:\n",
    "\n",
    "        hlt_40, hlt_45 = weights.lumi()\n",
    "        total_lumi = hlt_40 + hlt_45\n",
    "        trigger_frac = hlt_40 / float(hlt_45)\n",
    "        df = pd.concat([df, df.apply(lambda ev: pd.Series(btag.eval_sf_eff(ev)), axis=1)], axis=1)\n",
    "        df[\"Jet_btag_weight1\"] = df.apply(lambda ev : btag.b_weight_method1(ev, njets=njets), axis=1)\n",
    "        #df[\"Jet_btag_weight2\"] = df.apply(lambda ev : btag.b_weight_method2(ev, njets=njets), axis=1)\n",
    "        # trigger weights\n",
    "        #df[\"trigger_weight\"] = df.apply(lambda ev : weights.trigger_weight(ev, trigger_frac), axis=1)\n",
    "        df = pd.concat([df, df.apply(lambda ev: pd.Series(weights.trigger_weight(ev, trigger_frac)), axis=1)], axis=1)\n",
    "        # normalization\n",
    "        counts_path = \"/eos/user/l/llayer/opendata_files/preselection_merged/\" + sample + \"_counts.root\"\n",
    "        total_counts = root_pandas.read_root(counts_path)\n",
    "        xsec = weights.get_xsec(sample)\n",
    "        weights.norm(df, total_counts, xsec, lumi = total_lumi)\n",
    "\n",
    "    # QCD\n",
    "    if isData & invert_btag:\n",
    "        \n",
    "        # Assume light flavour\n",
    "        def lf(nJets):\n",
    "            return np.zeros((nJets))\n",
    "        df[\"Jet_flavour\"] = df[\"nJets\"].apply(lf)\n",
    "        df = pd.concat([df, df.apply(lambda ev: pd.Series(btag.eval_sf_eff(ev)), axis=1)], axis=1)\n",
    "        df[\"btag_weight\"] = df.apply(lambda ev : btag.b_weight_method2(ev, njets=njets), axis=1)\n",
    "        \n",
    "    return df"
   ]
  },
  {
   "cell_type": "code",
   "execution_count": 13,
   "id": "perceived-scanner",
   "metadata": {},
   "outputs": [],
   "source": [
    "def rearrange_samples(samples):\n",
    "    \n",
    "    # Concat and split MC in signal and background\n",
    "    new_samples = {}\n",
    "    new_samples[\"TTJets_signal\"], new_samples[\"TTJets_bkg\"] = weights.classify_tt(samples[\"TTJets\"])\n",
    "    new_samples[\"WZJets\"] = pd.concat([samples['WJetsToLNu'], samples['DYJetsToLL']], axis=0)\n",
    "    new_samples[\"STJets\"] = pd.concat([samples['T_TuneZ2_s'], samples['T_TuneZ2_tW'], samples['T_TuneZ2_t-channel'], \n",
    "                              samples['Tbar_TuneZ2_s'], samples['Tbar_TuneZ2_tW'], \n",
    "                              samples['Tbar_TuneZ2_t-channel']], axis=0)\n",
    "\n",
    "    # Concat the data\n",
    "    new_samples[\"Data\"] = pd.concat([samples[\"Run2011A_MultiJet\"], samples[\"Run2011B_MultiJet\"]], axis=0)\n",
    "    new_samples[\"QCD\"] = pd.concat([samples[\"QCD_Run2011A_MultiJet\"], samples[\"QCD_Run2011B_MultiJet\"]], axis=0)\n",
    "    \n",
    "    return new_samples"
   ]
  },
  {
   "cell_type": "code",
   "execution_count": 14,
   "id": "hazardous-execution",
   "metadata": {},
   "outputs": [],
   "source": [
    "def proc_candidates(samples, njets = -1):\n",
    "    \n",
    "    cand_samples = {}\n",
    "    for sample in data:\n",
    "        cand_samples[sample] = candidates(sample, samples[sample], invert_btag = False, njets=njets)\n",
    "        cand_samples[\"QCD_\" + sample] = candidates(sample, samples[sample], invert_btag = True, njets=njets)\n",
    "    \n",
    "    \n",
    "    for sample in mc:\n",
    "        cand_samples[sample] = candidates(sample, samples[sample], invert_btag = False, njets=njets)   \n",
    "\n",
    "    new_samples = rearrange_samples(cand_samples)\n",
    "    return new_samples"
   ]
  },
  {
   "cell_type": "code",
   "execution_count": 15,
   "id": "aging-society",
   "metadata": {},
   "outputs": [
    {
     "name": "stdout",
     "output_type": "stream",
     "text": [
      "Processing: Run2011A_MultiJet isData: True invert_btag: False\n",
      "Processing: Run2011A_MultiJet isData: True invert_btag: True\n",
      "Processing: Run2011B_MultiJet isData: True invert_btag: False\n",
      "Processing: Run2011B_MultiJet isData: True invert_btag: True\n",
      "Processing: T_TuneZ2_s isData: False invert_btag: False\n",
      "Processing: WJetsToLNu isData: False invert_btag: False\n",
      "Processing: DYJetsToLL isData: False invert_btag: False\n",
      "Processing: T_TuneZ2_tW isData: False invert_btag: False\n",
      "Processing: T_TuneZ2_t-channel isData: False invert_btag: False\n",
      "Processing: Tbar_TuneZ2_s isData: False invert_btag: False\n",
      "Processing: Tbar_TuneZ2_tW isData: False invert_btag: False\n",
      "Processing: Tbar_TuneZ2_t-channel isData: False invert_btag: False\n",
      "Processing: TTJets isData: False invert_btag: False\n"
     ]
    }
   ],
   "source": [
    "cands = proc_candidates(samples)"
   ]
  },
  {
   "cell_type": "code",
   "execution_count": 16,
   "id": "knowing-accused",
   "metadata": {},
   "outputs": [
    {
     "data": {
      "text/plain": [
       "3238"
      ]
     },
     "execution_count": 16,
     "metadata": {},
     "output_type": "execute_result"
    }
   ],
   "source": [
    "len(cands[\"Data\"])"
   ]
  },
  {
   "cell_type": "code",
   "execution_count": 18,
   "id": "compliant-tamil",
   "metadata": {},
   "outputs": [],
   "source": [
    "import ROOT\n",
    "from root_numpy import fill_hist\n",
    "\n",
    "def save_var(sample, name, var_name, bins = 20, xlow = 0., xup = 350):\n",
    "\n",
    "    hist = ROOT.TH1D(name + \"_\" + var_name, name + \"_\" + var_name, bins, xlow, xup)\n",
    "    hist.Sumw2()\n",
    "    \n",
    "    if name == \"Data\":\n",
    "        pass\n",
    "    elif name == \"QCD\":\n",
    "        if var_name == \"bdt\":\n",
    "            scale_qcd = 9.\n",
    "            sample = sample[sample[\"train_flag\"] == \"test\"]\n",
    "        else:\n",
    "            scale_qcd = 4.3\n",
    "        sample['weight'] = sample['btag_weight'] * scale_qcd\n",
    "    else:\n",
    "        #samples[sample]['new_trigger_weight'] = new_samples[sample].apply(lambda ev : weights.trigger_weight(ev), axis=1)\n",
    "        sample['weight'] = sample['norm'] * (1/1000) * sample['trigger_weight'] * sample['Jet_btag_weight1']\n",
    "        #print(sample, sum(samples[sample]['weight']))\n",
    "        #new_samples[sample]['btag_weight2']\n",
    "    \n",
    "    # Flatten if the column is a list\n",
    "    if \"Jet_\" in var_name:\n",
    "        series = sample[var_name].apply(pd.Series).stack().reset_index(drop=True)\n",
    "        if name != \"Data\":\n",
    "            sample['weight_stacked'] = sample.apply(lambda x : stack_weight(x[\"weight\"] ,x[\"nJets\"]), axis=1)\n",
    "            weights = sample['weight_stacked'].apply(pd.Series).stack().reset_index(drop=True)\n",
    "    else:\n",
    "        series = sample[var_name]\n",
    "        if name != \"Data\":\n",
    "            weights = sample[\"weight\"]\n",
    "    if name == \"Data\":\n",
    "        fill_hist(hist, series)\n",
    "    else:\n",
    "        fill_hist(hist, series, weights = weights)\n",
    "    #hist.Write()\n",
    "    return hist\n",
    "\n",
    "def vars_to_histos(samples, variables):\n",
    "    \n",
    "    hists = {}\n",
    "    for name, sample in samples.items():\n",
    "        for var in variables:\n",
    "            hists[name + \"_\" + var[\"var_name\"]] = save_var(sample, name, var[\"var_name\"], var[\"bins\"], var[\"xlow\"], var[\"xup\"])\n",
    "\n",
    "    return hists"
   ]
  },
  {
   "cell_type": "code",
   "execution_count": 19,
   "id": "further-wilderness",
   "metadata": {},
   "outputs": [],
   "source": [
    "variables = [\n",
    "    {\"var_name\" : \"MET_met\", \"bins\" : 30, \"xlow\" : 0., \"xup\" : 400, \"xtitle\" : \"MET [GeV]\"}\n",
    "]\n",
    "\n",
    "hists = vars_to_histos(cands, variables)"
   ]
  },
  {
   "cell_type": "code",
   "execution_count": 20,
   "id": "turned-barrier",
   "metadata": {},
   "outputs": [
    {
     "name": "stdout",
     "output_type": "stream",
     "text": [
      "TTJets_signal_MET_met 345.9627057153264\n",
      "TTJets_bkg_MET_met 145.5093453003518\n",
      "WZJets_MET_met 61.43496068440135\n",
      "STJets_MET_met 30.534209478997937\n",
      "Data_MET_met 3238.0\n",
      "QCD_MET_met 2731.115160766783\n"
     ]
    }
   ],
   "source": [
    "f = ROOT.TFile(\"histos_test.root\", \"RECREATE\")\n",
    "for s, hist in hists.items():\n",
    "\n",
    "    print( s, hist.Integral() )\n",
    "    hist.Write()\n",
    "    \n",
    "f.Close()"
   ]
  },
  {
   "cell_type": "code",
   "execution_count": 76,
   "id": "married-partition",
   "metadata": {},
   "outputs": [],
   "source": [
    "def fit(histos, fit_var, corr = \"central\"):\n",
    "        \n",
    "\n",
    "    bkg = histos['TTJets_bkg' + \"_\" + fit_var ].Clone()\n",
    "    bkg.Add(histos['WZJets' + \"_\" + fit_var ])\n",
    "    bkg.Add(histos['STJets' + \"_\" + fit_var ])\n",
    "\n",
    "    data = histos[\"Data\" + \"_\" + fit_var ].Clone()\n",
    "    data.Add(bkg, -1.)\n",
    "\n",
    "    signal = histos[\"TTJets_signal\" + \"_\" + fit_var ]\n",
    "\n",
    "    qcd = histos[\"QCD\" + \"_\" + fit_var ]\n",
    "\n",
    "    x = ROOT.RooRealVar(\"x\",\"x\",0.,350.)\n",
    "    rooSignal =  ROOT.RooDataHist(\"signal\",\"signal\",ROOT.RooArgList( x ), signal)\n",
    "    rooBkg = ROOT.RooDataHist(\"bkg\",\"bkg\", ROOT.RooArgList( x ), qcd)\n",
    "    signal_pdf = ROOT.RooHistPdf(\"signal\",\"signal\",ROOT.RooArgSet( x ), rooSignal)\n",
    "    bkg_pdf = ROOT.RooHistPdf(\"bkg\",\"bkg\",ROOT.RooArgSet( x ), rooBkg)\n",
    "\n",
    "    c0 = ROOT.RooRealVar(\"c0\",\"c0\",0.5,0.,1.)\n",
    "    pdf = ROOT.RooAddPdf(\"pdf\",\"pdf\", signal_pdf,bkg_pdf, c0)\n",
    "\n",
    "    dataFit = ROOT.RooDataHist(\"data\",\"data\",ROOT.RooArgList( x ), data);\n",
    "\n",
    "    fitResult = pdf.fitTo(dataFit)\n",
    "    #print( fitResult )\n",
    "\n",
    "    sf_tt_sig = (c0.getVal() * data.Integral()) / signal.Integral() \n",
    "    sf_tt_sig_err = (c0.getError() * data.Integral()) / signal.Integral()\n",
    "    \n",
    "    sf_qcd = ((1-c0.getVal())*data.Integral()) / qcd.Integral()\n",
    "    sf_qcd_err = (c0.getError() * data.Integral()) / qcd.Integral()\n",
    "    \n",
    "    \n",
    "    print( \"scale factor TTbar tau(h) QQ \", sf_tt_sig, \"+-\", sf_tt_sig_err )\n",
    "    print( \"scale factor MultiJet \", sf_qcd, \"+-\", sf_qcd_err )\n",
    "\n",
    "    return sf_tt_sig, sf_qcd"
   ]
  },
  {
   "cell_type": "code",
   "execution_count": 77,
   "id": "excess-intranet",
   "metadata": {},
   "outputs": [
    {
     "name": "stdout",
     "output_type": "stream",
     "text": [
      "scale factor TTbar tau(h) QQ  0.9910458961661615 +- 0.09467095587401728\n",
      "scale factor MultiJet  0.97667607748668 +- 0.011718521532530633\n"
     ]
    },
    {
     "data": {
      "text/plain": [
       "(0.9910458961661615, 0.97667607748668)"
      ]
     },
     "execution_count": 77,
     "metadata": {},
     "output_type": "execute_result"
    },
    {
     "name": "stdout",
     "output_type": "stream",
     "text": [
      "[#1] INFO:DataHandling -- RooDataHist::adjustBinning(signal): fit range of variable x expanded to nearest bin boundaries: [0,350] --> [0,360]\n",
      "[#0] WARNING:InputArguments -- RooAbsPdf::fitTo(pdf) WARNING: a likelihood fit is requested of what appears to be weighted data.\n",
      "       While the estimated values of the parameters will always be calculated taking the weights into account,\n",
      "       there are multiple ways to estimate the errors of the parameters. You are advised to make an \n",
      "       explicit choice for the error calculation:\n",
      "           - Either provide SumW2Error(true), to calculate a sum-of-weights-corrected HESSE error matrix\n",
      "             (error will be proportional to the number of events in MC).\n",
      "           - Or provide SumW2Error(false), to return errors from original HESSE error matrix\n",
      "             (which will be proportional to the sum of the weights, i.e., a dataset with <sum of weights> events).\n",
      "           - Or provide AsymptoticError(true), to use the asymptotically correct expression\n",
      "             (for details see https://arxiv.org/abs/1911.01303).\n",
      "[#1] INFO:Minization -- RooMinimizer::optimizeConst: activating const optimization\n",
      "[#1] INFO:Minization --  The following expressions have been identified as constant and will be precalculated and cached: (signal,bkg)\n",
      " **********\n",
      " **   46 **SET PRINT           1\n",
      " **********\n",
      " **********\n",
      " **   47 **SET NOGRAD\n",
      " **********\n",
      " PARAMETER DEFINITIONS:\n",
      "    NO.   NAME         VALUE      STEP SIZE      LIMITS\n",
      "     1 c0           5.00000e-01  1.00000e-01    0.00000e+00  1.00000e+00\n",
      " **********\n",
      " **   48 **SET ERR         0.5\n",
      " **********\n",
      " **********\n",
      " **   49 **SET PRINT           1\n",
      " **********\n",
      " **********\n",
      " **   50 **SET STR           1\n",
      " **********\n",
      " NOW USING STRATEGY  1: TRY TO BALANCE SPEED AGAINST RELIABILITY\n",
      " **********\n",
      " **   51 **MIGRAD         500           1\n",
      " **********\n",
      " FIRST CALL TO USER FUNCTION AT NEW START POINT, WITH IFLAG=4.\n",
      " START MIGRAD MINIMIZATION.  STRATEGY  1.  CONVERGENCE WHEN EDM .LT. 1.00e-03\n",
      " FCN=13429.1 FROM MIGRAD    STATUS=INITIATE        4 CALLS           5 TOTAL\n",
      "                     EDM= unknown      STRATEGY= 1      NO ERROR MATRIX       \n",
      "  EXT PARAMETER               CURRENT GUESS       STEP         FIRST   \n",
      "  NO.   NAME      VALUE            ERROR          SIZE      DERIVATIVE \n",
      "   1  c0           5.00000e-01   1.00000e-01   2.01358e-01   8.44100e+02\n",
      "                               ERR DEF= 0.5\n",
      " MIGRAD MINIMIZATION HAS CONVERGED.\n",
      " MIGRAD WILL VERIFY CONVERGENCE AND ERROR MATRIX.\n",
      " COVARIANCE MATRIX CALCULATED SUCCESSFULLY\n",
      " FCN=13053.1 FROM MIGRAD    STATUS=CONVERGED      19 CALLS          20 TOTAL\n",
      "                     EDM=1.99634e-09    STRATEGY= 1      ERROR MATRIX ACCURATE \n",
      "  EXT PARAMETER                                   STEP         FIRST   \n",
      "  NO.   NAME      VALUE            ERROR          SIZE      DERIVATIVE \n",
      "   1  c0           1.11587e-01   1.06595e-02   2.67319e-03   1.31951e-03\n",
      "                               ERR DEF= 0.5\n",
      " EXTERNAL ERROR MATRIX.    NDIM=  25    NPAR=  1    ERR DEF=0.5\n",
      "  1.137e-04 \n",
      " **********\n",
      " **   52 **SET ERR         0.5\n",
      " **********\n",
      " **********\n",
      " **   53 **SET PRINT           1\n",
      " **********\n",
      " **********\n",
      " **   54 **HESSE         500\n",
      " **********\n",
      " COVARIANCE MATRIX CALCULATED SUCCESSFULLY\n",
      " FCN=13053.1 FROM HESSE     STATUS=OK              5 CALLS          25 TOTAL\n",
      "                     EDM=1.99243e-09    STRATEGY= 1      ERROR MATRIX ACCURATE \n",
      "  EXT PARAMETER                                INTERNAL      INTERNAL  \n",
      "  NO.   NAME      VALUE            ERROR       STEP SIZE       VALUE   \n",
      "   1  c0           1.11587e-01   1.06595e-02   1.06928e-04  -8.89609e-01\n",
      "                               ERR DEF= 0.5\n",
      " EXTERNAL ERROR MATRIX.    NDIM=  25    NPAR=  1    ERR DEF=0.5\n",
      "  1.137e-04 \n",
      "[#1] INFO:Minization -- RooMinimizer::optimizeConst: deactivating const optimization\n"
     ]
    }
   ],
   "source": [
    "fit(hists, \"MET_met\")"
   ]
  },
  {
   "cell_type": "code",
   "execution_count": null,
   "id": "elementary-eligibility",
   "metadata": {},
   "outputs": [],
   "source": []
  }
 ],
 "metadata": {
  "kernelspec": {
   "display_name": "Python 3",
   "language": "python",
   "name": "python3"
  },
  "language_info": {
   "codemirror_mode": {
    "name": "ipython",
    "version": 3
   },
   "file_extension": ".py",
   "mimetype": "text/x-python",
   "name": "python",
   "nbconvert_exporter": "python",
   "pygments_lexer": "ipython3",
   "version": "3.7.6"
  }
 },
 "nbformat": 4,
 "nbformat_minor": 5
}
