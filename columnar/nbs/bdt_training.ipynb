{
 "cells": [
  {
   "cell_type": "markdown",
   "id": "attended-baker",
   "metadata": {},
   "source": [
    "## BDT training"
   ]
  },
  {
   "cell_type": "code",
   "execution_count": 1,
   "id": "rental-breakfast",
   "metadata": {},
   "outputs": [],
   "source": [
    "import glob\n",
    "import pandas as pd\n",
    "import numpy as np\n",
    "import importlib"
   ]
  },
  {
   "cell_type": "code",
   "execution_count": 2,
   "id": "split-modern",
   "metadata": {},
   "outputs": [],
   "source": [
    "BASE_DIR = \"/eos/user/l/llayer/cmsopen/columnar/syst_variation/\"\n",
    "SAMPLES_DIR = BASE_DIR + \"samples\"\n",
    "CAND_DIR = BASE_DIR + \"cand\""
   ]
  },
  {
   "cell_type": "code",
   "execution_count": 3,
   "id": "whole-penguin",
   "metadata": {},
   "outputs": [
    {
     "name": "stdout",
     "output_type": "stream",
     "text": [
      "\n"
     ]
    }
   ],
   "source": [
    "files = glob.glob( CAND_DIR + \"/*.h5\")\n",
    "print()"
   ]
  },
  {
   "cell_type": "code",
   "execution_count": 4,
   "id": "forbidden-height",
   "metadata": {},
   "outputs": [],
   "source": [
    "#files = glob.glob( CAND_DIR + \"/*.h5\")\n",
    "samples = {}\n",
    "for sample in [\"Data\", \"QCD\", \"TTJets_centJER_signal\", \"TTJets_centJER_bkg\", \"STJets_centJER\", \"WZJets_centJER\"]:\n",
    "    #sample_name = sample.split(\"/\")[-1][:-3]\n",
    "    #print(sample_name)\n",
    "    samples[sample] = pd.read_hdf(CAND_DIR + \"/\" + sample + \".h5\")"
   ]
  },
  {
   "cell_type": "code",
   "execution_count": 6,
   "id": "sublime-bargain",
   "metadata": {},
   "outputs": [
    {
     "name": "stdout",
     "output_type": "stream",
     "text": [
      "Welcome to JupyROOT 6.20/06\n"
     ]
    }
   ],
   "source": [
    "import ml"
   ]
  },
  {
   "cell_type": "code",
   "execution_count": 1,
   "id": "returning-radio",
   "metadata": {
    "scrolled": true
   },
   "outputs": [
    {
     "ename": "NameError",
     "evalue": "name 'importlib' is not defined",
     "output_type": "error",
     "traceback": [
      "\u001b[0;31m---------------------------------------------------------------------------\u001b[0m",
      "\u001b[0;31mNameError\u001b[0m                                 Traceback (most recent call last)",
      "\u001b[0;32m<ipython-input-1-e65fd1199968>\u001b[0m in \u001b[0;36m<module>\u001b[0;34m\u001b[0m\n\u001b[0;32m----> 1\u001b[0;31m \u001b[0mimportlib\u001b[0m\u001b[0;34m.\u001b[0m\u001b[0mreload\u001b[0m\u001b[0;34m(\u001b[0m\u001b[0mml\u001b[0m\u001b[0;34m)\u001b[0m\u001b[0;34m\u001b[0m\u001b[0;34m\u001b[0m\u001b[0m\n\u001b[0m\u001b[1;32m      2\u001b[0m \u001b[0mml\u001b[0m\u001b[0;34m.\u001b[0m\u001b[0mtrain\u001b[0m\u001b[0;34m(\u001b[0m\u001b[0msamples\u001b[0m\u001b[0;34m,\u001b[0m \u001b[0;34m\".\"\u001b[0m\u001b[0;34m,\u001b[0m \u001b[0mn_sig\u001b[0m\u001b[0;34m=\u001b[0m\u001b[0;36m10000\u001b[0m\u001b[0;34m,\u001b[0m \u001b[0mn_bkg\u001b[0m\u001b[0;34m=\u001b[0m\u001b[0;36m5000\u001b[0m\u001b[0;34m,\u001b[0m \u001b[0mntrees\u001b[0m\u001b[0;34m=\u001b[0m\u001b[0;36m500\u001b[0m\u001b[0;34m,\u001b[0m \u001b[0mlr\u001b[0m\u001b[0;34m=\u001b[0m\u001b[0;36m0.01\u001b[0m\u001b[0;34m,\u001b[0m \u001b[0mrandom_state\u001b[0m\u001b[0;34m=\u001b[0m\u001b[0;36m10\u001b[0m\u001b[0;34m)\u001b[0m\u001b[0;34m\u001b[0m\u001b[0;34m\u001b[0m\u001b[0m\n",
      "\u001b[0;31mNameError\u001b[0m: name 'importlib' is not defined"
     ]
    }
   ],
   "source": [
    "importlib.reload(ml)\n",
    "ml.train(samples, \".\", n_sig=10000, n_bkg=5000, ntrees=500, lr=0.01, random_state=10)"
   ]
  },
  {
   "cell_type": "code",
   "execution_count": null,
   "id": "macro-sense",
   "metadata": {},
   "outputs": [],
   "source": [
    "import plot"
   ]
  },
  {
   "cell_type": "code",
   "execution_count": 150,
   "id": "alpha-cutting",
   "metadata": {},
   "outputs": [],
   "source": [
    "variables = [\n",
    "    {\"var_name\" : \"bdt\", \"bins\" : 20, \"xlow\" : 0., \"xup\" : 1., \"xtitle\" : \"bdt\"}\n",
    "]"
   ]
  },
  {
   "cell_type": "code",
   "execution_count": 151,
   "id": "dominant-story",
   "metadata": {},
   "outputs": [
    {
     "name": "stdout",
     "output_type": "stream",
     "text": [
      "Data bdt None\n",
      "QCD bdt None\n",
      "Change name\n",
      "TTJets_signal_centJER\n",
      "TTJets_signal_centJER bdt None\n",
      "1.2960368771746387 347.1658808435174 347.1658808435174\n",
      "Change name\n",
      "TTJets_bkg_centJER\n",
      "TTJets_bkg_centJER bdt None\n",
      "STJets_centJER bdt None\n",
      "WZJets_centJER bdt None\n"
     ]
    },
    {
     "name": "stderr",
     "output_type": "stream",
     "text": [
      "/eos/home-l/llayer/cmsopen/columnar/plot.py:30: SettingWithCopyWarning: \n",
      "A value is trying to be set on a copy of a slice from a DataFrame.\n",
      "Try using .loc[row_indexer,col_indexer] = value instead\n",
      "\n",
      "See the caveats in the documentation: http://pandas.pydata.org/pandas-docs/stable/indexing.html#indexing-view-versus-copy\n",
      "  sample['weight'] = sample['btag_weight'] * scale_qcd\n"
     ]
    }
   ],
   "source": [
    "importlib.reload(plot)\n",
    "plot.vars_to_histos(samples, variables, \"histos.root\", syst=False)"
   ]
  },
  {
   "cell_type": "code",
   "execution_count": 152,
   "id": "breathing-arrival",
   "metadata": {},
   "outputs": [],
   "source": [
    "import ROOT"
   ]
  },
  {
   "cell_type": "code",
   "execution_count": 153,
   "id": "beginning-titanium",
   "metadata": {},
   "outputs": [
    {
     "name": "stdout",
     "output_type": "stream",
     "text": [
      "TFile**\t\thistos.root\t\n",
      " TFile*\t\thistos.root\t\n",
      "  KEY: TH1D\tData_bdt;1\tData_bdt\n",
      "  KEY: TH1D\tQCD_bdt;1\tQCD_bdt\n",
      "  KEY: TH1D\tTTJets_signal_centJER_bdt;1\tTTJets_signal_centJER_bdt\n",
      "  KEY: TH1D\tTTJets_bkg_centJER_bdt;1\tTTJets_bkg_centJER_bdt\n",
      "  KEY: TH1D\tSTJets_centJER_bdt;1\tSTJets_centJER_bdt\n",
      "  KEY: TH1D\tWZJets_centJER_bdt;1\tWZJets_centJER_bdt\n"
     ]
    }
   ],
   "source": [
    "f = ROOT.TFile(\"histos.root\")\n",
    "f.ls()"
   ]
  },
  {
   "cell_type": "code",
   "execution_count": 154,
   "id": "oriental-retreat",
   "metadata": {},
   "outputs": [],
   "source": [
    "import fit"
   ]
  },
  {
   "cell_type": "code",
   "execution_count": 156,
   "id": "apart-battery",
   "metadata": {},
   "outputs": [
    {
     "name": "stdout",
     "output_type": "stream",
     "text": [
      "Data_bdt\n",
      "Data 3343.0\n",
      "TTJets_bkg_centJER_bdt\n",
      "TTJets_bkg 143.36512967476312\n",
      "WZJets_centJER_bdt\n",
      "WZJets 63.73465056276217\n",
      "STJets_centJER_bdt\n",
      "STJets 30.224785537131964\n",
      "QCD_bdt\n",
      "QCD 2627.1896301563747\n",
      "TTJets_signal_centJER_bdt\n",
      "TTJets_signal 347.1658808435174\n",
      "scale factor TTbar tau(h) QQ  0.9220688623634176 +- 0.07799018785838681\n",
      "scale factor MultiJet  1.0602830315140843 +- 0.010305891875569207\n",
      "[#1] INFO:DataHandling -- RooDataHist::adjustBinning(signal): fit range of variable x expanded to nearest bin boundaries: [0,350] --> [0,1]\n",
      "[#0] WARNING:InputArguments -- RooAbsPdf::fitTo(pdf) WARNING: a likelihood fit is requested of what appears to be weighted data.\n",
      "       While the estimated values of the parameters will always be calculated taking the weights into account,\n",
      "       there are multiple ways to estimate the errors of the parameters. You are advised to make an \n",
      "       explicit choice for the error calculation:\n",
      "           - Either provide SumW2Error(true), to calculate a sum-of-weights-corrected HESSE error matrix\n",
      "             (error will be proportional to the number of events in MC).\n",
      "           - Or provide SumW2Error(false), to return errors from original HESSE error matrix\n",
      "             (which will be proportional to the sum of the weights, i.e., a dataset with <sum of weights> events).\n",
      "           - Or provide AsymptoticError(true), to use the asymptotically correct expression\n",
      "             (for details see https://arxiv.org/abs/1911.01303).\n",
      "[#1] INFO:Minization -- RooMinimizer::optimizeConst: activating const optimization\n",
      "[#1] INFO:Minization --  The following expressions have been identified as constant and will be precalculated and cached: (signal,bkg)\n",
      " **********\n",
      " **  190 **SET PRINT           1\n",
      " **********\n",
      " **********\n",
      " **  191 **SET NOGRAD\n",
      " **********\n",
      " PARAMETER DEFINITIONS:\n",
      "    NO.   NAME         VALUE      STEP SIZE      LIMITS\n",
      "     1 c0           5.00000e-01  1.00000e-01    0.00000e+00  1.00000e+00\n",
      " **********\n",
      " **  192 **SET ERR         0.5\n",
      " **********\n",
      " **********\n",
      " **  193 **SET PRINT           1\n",
      " **********\n",
      " **********\n",
      " **  194 **SET STR           1\n",
      " **********\n",
      " NOW USING STRATEGY  1: TRY TO BALANCE SPEED AGAINST RELIABILITY\n",
      " **********\n",
      " **  195 **MIGRAD         500           1\n",
      " **********\n",
      " FIRST CALL TO USER FUNCTION AT NEW START POINT, WITH IFLAG=4.\n",
      " START MIGRAD MINIMIZATION.  STRATEGY  1.  CONVERGENCE WHEN EDM .LT. 1.00e-03\n",
      " FCN=243.195 FROM MIGRAD    STATUS=INITIATE        4 CALLS           5 TOTAL\n",
      "                     EDM= unknown      STRATEGY= 1      NO ERROR MATRIX       \n",
      "  EXT PARAMETER               CURRENT GUESS       STEP         FIRST   \n",
      "  NO.   NAME      VALUE            ERROR          SIZE      DERIVATIVE \n",
      "   1  c0           5.00000e-01   1.00000e-01   2.01358e-01   1.29910e+03\n",
      "                               ERR DEF= 0.5\n",
      " MIGRAD MINIMIZATION HAS CONVERGED.\n",
      " MIGRAD WILL VERIFY CONVERGENCE AND ERROR MATRIX.\n",
      " COVARIANCE MATRIX CALCULATED SUCCESSFULLY\n",
      " FCN=-329.186 FROM MIGRAD    STATUS=CONVERGED      17 CALLS          18 TOTAL\n",
      "                     EDM=6.92095e-05    STRATEGY= 1      ERROR MATRIX ACCURATE \n",
      "  EXT PARAMETER                                   STEP         FIRST   \n",
      "  NO.   NAME      VALUE            ERROR          SIZE      DERIVATIVE \n",
      "   1  c0           1.03073e-01   8.71808e-03   3.54753e-04   2.90104e-01\n",
      "                               ERR DEF= 0.5\n",
      " EXTERNAL ERROR MATRIX.    NDIM=  25    NPAR=  1    ERR DEF=0.5\n",
      "  7.603e-05 \n",
      " **********\n",
      " **  196 **SET ERR         0.5\n",
      " **********\n",
      " **********\n",
      " **  197 **SET PRINT           1\n",
      " **********\n",
      " **********\n",
      " **  198 **HESSE         500\n",
      " **********\n",
      " COVARIANCE MATRIX CALCULATED SUCCESSFULLY\n",
      " FCN=-329.186 FROM HESSE     STATUS=OK              5 CALLS          23 TOTAL\n",
      "                     EDM=6.92091e-05    STRATEGY= 1      ERROR MATRIX ACCURATE \n",
      "  EXT PARAMETER                                INTERNAL      INTERNAL  \n",
      "  NO.   NAME      VALUE            ERROR       STEP SIZE       VALUE   \n",
      "   1  c0           1.03073e-01   8.71808e-03   7.09505e-05  -9.17121e-01\n",
      "                               ERR DEF= 0.5\n",
      " EXTERNAL ERROR MATRIX.    NDIM=  25    NPAR=  1    ERR DEF=0.5\n",
      "  7.603e-05 \n",
      "[#1] INFO:Minization -- RooMinimizer::optimizeConst: deactivating const optimization\n"
     ]
    },
    {
     "name": "stderr",
     "output_type": "stream",
     "text": [
      "Warning in <TH1D::Sumw2>: Sum of squares of weights structure already created\n",
      "Warning in <TH1D::Sumw2>: Sum of squares of weights structure already created\n",
      "Warning in <TH1D::Sumw2>: Sum of squares of weights structure already created\n",
      "Warning in <TH1D::Sumw2>: Sum of squares of weights structure already created\n",
      "Warning in <TH1D::Sumw2>: Sum of squares of weights structure already created\n",
      "Warning in <TH1D::Sumw2>: Sum of squares of weights structure already created\n"
     ]
    }
   ],
   "source": [
    "sample_names = [\"Data\", \"TTJets_bkg\", \"WZJets\", \"STJets\", \"QCD\", \"TTJets_signal\"]\n",
    "sf_tt_sig, sf_qcd = fit.fit(\"histos.root\", sample_names, \"bdt\", corr=\"centJER\")\n",
    "sfs = {}\n",
    "sfs[\"TTJets_signal\"] = sf_tt_sig\n",
    "sfs[\"QCD\"] = sf_qcd"
   ]
  },
  {
   "cell_type": "code",
   "execution_count": null,
   "id": "exclusive-tractor",
   "metadata": {},
   "outputs": [],
   "source": []
  },
  {
   "cell_type": "code",
   "execution_count": null,
   "id": "chemical-things",
   "metadata": {},
   "outputs": [],
   "source": []
  },
  {
   "cell_type": "code",
   "execution_count": null,
   "id": "unauthorized-alias",
   "metadata": {},
   "outputs": [],
   "source": []
  }
 ],
 "metadata": {
  "kernelspec": {
   "display_name": "Python 3",
   "language": "python",
   "name": "python3"
  },
  "language_info": {
   "codemirror_mode": {
    "name": "ipython",
    "version": 3
   },
   "file_extension": ".py",
   "mimetype": "text/x-python",
   "name": "python",
   "nbconvert_exporter": "python",
   "pygments_lexer": "ipython3",
   "version": "3.7.6"
  }
 },
 "nbformat": 4,
 "nbformat_minor": 5
}
