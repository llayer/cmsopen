{
 "cells": [
  {
   "cell_type": "code",
   "execution_count": 1,
   "id": "economic-purchase",
   "metadata": {},
   "outputs": [
    {
     "name": "stdout",
     "output_type": "stream",
     "text": [
      "Welcome to JupyROOT 6.20/06\n"
     ]
    }
   ],
   "source": [
    "import pandas as pd\n",
    "import ROOT\n",
    "import numpy as np\n",
    "import matplotlib.pyplot as plt"
   ]
  },
  {
   "cell_type": "code",
   "execution_count": 2,
   "id": "delayed-minute",
   "metadata": {},
   "outputs": [],
   "source": [
    "COMBINE_DIR = \"/eos/user/l/llayer/cmsopen/columnar/note_v0/combine\""
   ]
  },
  {
   "cell_type": "code",
   "execution_count": 36,
   "id": "amino-powder",
   "metadata": {},
   "outputs": [],
   "source": [
    "r_orig = 387. / 409.2\n",
    "r_err = 29. / 387.\n",
    "r_syst = 0.21 * r_orig\n",
    "r_tot = np.sqrt((r_err**2 + r_syst**2))\n",
    "x = np.array([r_orig, r_orig, r])\n",
    "y = np.array([1, 1, 2])\n",
    "lower_error = np.array([r_err, r_tot, err_low])\n",
    "upper_error = np.array([r_err, r_tot, err_high])"
   ]
  },
  {
   "cell_type": "code",
   "execution_count": 37,
   "id": "advance-scratch",
   "metadata": {},
   "outputs": [],
   "source": [
    "df_roofit = pd.read_hdf(COMBINE_DIR + \"/roofit/result.h5\")"
   ]
  },
  {
   "cell_type": "code",
   "execution_count": 19,
   "id": "funny-homework",
   "metadata": {},
   "outputs": [
    {
     "data": {
      "text/html": [
       "<div>\n",
       "<style scoped>\n",
       "    .dataframe tbody tr th:only-of-type {\n",
       "        vertical-align: middle;\n",
       "    }\n",
       "\n",
       "    .dataframe tbody tr th {\n",
       "        vertical-align: top;\n",
       "    }\n",
       "\n",
       "    .dataframe thead th {\n",
       "        text-align: right;\n",
       "    }\n",
       "</style>\n",
       "<table border=\"1\" class=\"dataframe\">\n",
       "  <thead>\n",
       "    <tr style=\"text-align: right;\">\n",
       "      <th></th>\n",
       "      <th>QCD</th>\n",
       "      <th>QCD_err</th>\n",
       "      <th>TTJets_signal</th>\n",
       "      <th>TTJets_signal_err</th>\n",
       "    </tr>\n",
       "  </thead>\n",
       "  <tbody>\n",
       "    <tr>\n",
       "      <th>0</th>\n",
       "      <td>1.028954</td>\n",
       "      <td>0.010249</td>\n",
       "      <td>0.940227</td>\n",
       "      <td>0.07911</td>\n",
       "    </tr>\n",
       "  </tbody>\n",
       "</table>\n",
       "</div>"
      ],
      "text/plain": [
       "        QCD   QCD_err  TTJets_signal  TTJets_signal_err\n",
       "0  1.028954  0.010249       0.940227            0.07911"
      ]
     },
     "execution_count": 19,
     "metadata": {},
     "output_type": "execute_result"
    }
   ],
   "source": [
    "df_roofit.head()"
   ]
  },
  {
   "cell_type": "code",
   "execution_count": 3,
   "id": "funded-smooth",
   "metadata": {},
   "outputs": [
    {
     "name": "stdout",
     "output_type": "stream",
     "text": [
      "\n",
      "\u001b[1mRooFit v3.60 -- Developed by Wouter Verkerke and David Kirkby\u001b[0m \n",
      "                Copyright (C) 2000-2013 NIKHEF, University of California & Stanford University\n",
      "                All rights reserved, please read http://roofit.sourceforge.net/license.txt\n",
      "\n"
     ]
    }
   ],
   "source": [
    "f_stat = ROOT.TFile(COMBINE_DIR + \"/nominal/fit/stat/fitDiagnosticsTest.root\")\n",
    "f_syst = ROOT.TFile(COMBINE_DIR + \"/nominal/fit/syst/fitDiagnosticsTest.root\")"
   ]
  },
  {
   "cell_type": "code",
   "execution_count": 4,
   "id": "scenic-vinyl",
   "metadata": {},
   "outputs": [],
   "source": [
    "def get_res(f):\n",
    "    t = f.Get(\"tree_fit_sb\")\n",
    "    for entry in t:\n",
    "        r = t.r\n",
    "        #print(t.rErr)\n",
    "        err_low = t.rLoErr\n",
    "        err_high = t.rHiErr\n",
    "    return r, err_low, err_high"
   ]
  },
  {
   "cell_type": "code",
   "execution_count": 5,
   "id": "prescribed-depth",
   "metadata": {},
   "outputs": [],
   "source": [
    "r_stat, err_low_stat, err_high_stat = get_res(f_stat)\n",
    "r_syst, err_low_syst, err_high_syst = get_res(f_syst)"
   ]
  },
  {
   "cell_type": "code",
   "execution_count": 6,
   "id": "persistent-looking",
   "metadata": {},
   "outputs": [
    {
     "name": "stdout",
     "output_type": "stream",
     "text": [
      "0.9419407160320159 0.08786010220352047 0.0907275994301866\n"
     ]
    }
   ],
   "source": [
    "print(r_stat, err_low_stat, err_high_stat)"
   ]
  },
  {
   "cell_type": "code",
   "execution_count": 7,
   "id": "signed-exception",
   "metadata": {},
   "outputs": [
    {
     "name": "stdout",
     "output_type": "stream",
     "text": [
      "1.0010078857657223 0.2444027263588584 0.30731708381885503\n"
     ]
    }
   ],
   "source": [
    "print(r_syst, err_low_syst, err_high_syst)"
   ]
  },
  {
   "cell_type": "code",
   "execution_count": 44,
   "id": "juvenile-weight",
   "metadata": {},
   "outputs": [
    {
     "name": "stderr",
     "output_type": "stream",
     "text": [
      "/usr/local/bin/start_ipykernel.py:7: MatplotlibDeprecationWarning: Support for passing a (n, 1)-shaped error array to errorbar() is deprecated since Matplotlib 3.1 and will be removed in 3.3; pass a 1D array instead.\n"
     ]
    },
    {
     "data": {
      "text/plain": [
       "<matplotlib.collections.LineCollection at 0x7f37bc7d8e90>"
      ]
     },
     "execution_count": 44,
     "metadata": {},
     "output_type": "execute_result"
    },
    {
     "data": {
      "image/png": "[encoded data removed]",
      "text/plain": [
       "<Figure size 432x288 with 2 Axes>"
      ]
     },
     "metadata": {
      "needs_background": "light"
     },
     "output_type": "display_data"
    }
   ],
   "source": [
    "plt.rcParams.update({'font.size': 15})\n",
    "f, (a1, a0) = plt.subplots(1, 2, gridspec_kw={'width_ratios': [1, 2]})\n",
    "plt.subplots_adjust(wspace=0, hspace=0)\n",
    "def add_point(x, y, err_x, err_y, color):\n",
    "    \n",
    "    asymmetric_error = [[err_x], [err_y]]\n",
    "    a0.errorbar(x, y, xerr=asymmetric_error, fmt=\"o\", color=color, capsize=10.)\n",
    "    \n",
    "add_point(r_orig, 3., r_tot, r_tot, \"red\")\n",
    "add_point(r_orig, 3., r_err, r_err, \"blue\")\n",
    "\n",
    "\n",
    "add_point(df_roofit[\"TTJets_signal\"], 2., df_roofit[\"TTJets_signal_err\"], df_roofit[\"TTJets_signal_err\"], \"blue\")\n",
    "#add_point(df_roofit, 2., 0.1, 0.1, \"blue\")\n",
    "\n",
    "add_point(r_syst, 1., err_low_syst, err_high_syst, \"red\")\n",
    "add_point(r_syst, 1., err_low_stat, err_high_stat, \"blue\")\n",
    "\n",
    "\n",
    "a0.set_ylim([0.5, 3.5])\n",
    "\n",
    "a0.set_xlim([0., 2.])\n",
    "a0.set_yticks([])\n",
    "a0.set_yticklabels([])\n",
    "a0.set_xlabel(r\"$\\mu$\")\n",
    "\n",
    "a1.set_yticks([])\n",
    "a1.set_yticklabels([])\n",
    "a1.set_xticks([])\n",
    "a1.set_xticklabels([])\n",
    "\n",
    "a0.text(0.1, 0.833+0.05, \"TOP-11-004\", transform=a1.transAxes, fontsize=14, verticalalignment='top')\n",
    "a0.text(0.1, 0.8, \"ROOFIT\", transform=a1.transAxes, fontsize=14, verticalalignment='top')\n",
    "a0.text(0.1, 0.5+0.05, \"CMS Open\", transform=a1.transAxes, fontsize=14, verticalalignment='top')\n",
    "a0.text(0.1, 0.467, \"ROOFIT\", transform=a1.transAxes, fontsize=14, verticalalignment='top')\n",
    "a0.text(0.1, 0.166+0.05, \"CMS Open\", transform=a1.transAxes, fontsize=14, verticalalignment='top')\n",
    "a0.text(0.1, 0.136, \"COMBINE\", transform=a1.transAxes, fontsize=14, verticalalignment='top')\n",
    "\n",
    "a1.set_xlim([0., 2.])\n",
    "#a1.hlines(1.5, 0., 5.)\n",
    "#a0.hlines(1.5, 0., 5.)\n",
    "a0.vlines(1., .5, 3.5, linewidth=1., linestyle=\"dashed\")"
   ]
  },
  {
   "cell_type": "code",
   "execution_count": null,
   "id": "activated-glossary",
   "metadata": {},
   "outputs": [],
   "source": []
  },
  {
   "cell_type": "code",
   "execution_count": null,
   "id": "descending-inquiry",
   "metadata": {},
   "outputs": [],
   "source": []
  },
  {
   "cell_type": "code",
   "execution_count": null,
   "id": "collective-donor",
   "metadata": {},
   "outputs": [],
   "source": []
  },
  {
   "cell_type": "code",
   "execution_count": null,
   "id": "configured-board",
   "metadata": {},
   "outputs": [],
   "source": []
  },
  {
   "cell_type": "code",
   "execution_count": 2,
   "id": "timely-voltage",
   "metadata": {},
   "outputs": [],
   "source": [
    "sfs ={\"d\":1., \"ds\":2.}"
   ]
  },
  {
   "cell_type": "code",
   "execution_count": 4,
   "id": "integral-interference",
   "metadata": {},
   "outputs": [
    {
     "data": {
      "text/html": [
       "<div>\n",
       "<style scoped>\n",
       "    .dataframe tbody tr th:only-of-type {\n",
       "        vertical-align: middle;\n",
       "    }\n",
       "\n",
       "    .dataframe tbody tr th {\n",
       "        vertical-align: top;\n",
       "    }\n",
       "\n",
       "    .dataframe thead th {\n",
       "        text-align: right;\n",
       "    }\n",
       "</style>\n",
       "<table border=\"1\" class=\"dataframe\">\n",
       "  <thead>\n",
       "    <tr style=\"text-align: right;\">\n",
       "      <th></th>\n",
       "      <th>d</th>\n",
       "      <th>ds</th>\n",
       "    </tr>\n",
       "  </thead>\n",
       "  <tbody>\n",
       "    <tr>\n",
       "      <th>0</th>\n",
       "      <td>1.0</td>\n",
       "      <td>2.0</td>\n",
       "    </tr>\n",
       "  </tbody>\n",
       "</table>\n",
       "</div>"
      ],
      "text/plain": [
       "     d   ds\n",
       "0  1.0  2.0"
      ]
     },
     "execution_count": 4,
     "metadata": {},
     "output_type": "execute_result"
    }
   ],
   "source": [
    "pd.DataFrame([sfs])"
   ]
  },
  {
   "cell_type": "code",
   "execution_count": 1,
   "id": "second-property",
   "metadata": {},
   "outputs": [
    {
     "name": "stdout",
     "output_type": "stream",
     "text": [
      "Welcome to JupyROOT 6.20/06\n"
     ]
    }
   ],
   "source": [
    "import ROOT"
   ]
  },
  {
   "cell_type": "code",
   "execution_count": 2,
   "id": "wound-study",
   "metadata": {},
   "outputs": [
    {
     "name": "stdout",
     "output_type": "stream",
     "text": [
      "\n",
      "\u001b[1mRooFit v3.60 -- Developed by Wouter Verkerke and David Kirkby\u001b[0m \n",
      "                Copyright (C) 2000-2013 NIKHEF, University of California & Stanford University\n",
      "                All rights reserved, please read http://roofit.sourceforge.net/license.txt\n",
      "\n"
     ]
    }
   ],
   "source": [
    "f = ROOT.TFile(\"note_v0/combine/nominal/fit/stat/fitDiagnosticsTest.root\")"
   ]
  },
  {
   "cell_type": "code",
   "execution_count": 3,
   "id": "naked-stranger",
   "metadata": {},
   "outputs": [
    {
     "name": "stdout",
     "output_type": "stream",
     "text": [
      "TFile**\t\tnote_v0/combine/nominal/fit/stat/fitDiagnosticsTest.root\t\n",
      " TFile*\t\tnote_v0/combine/nominal/fit/stat/fitDiagnosticsTest.root\t\n",
      "  KEY: TDirectoryFile\tshapes_prefit;1\tshapes_prefit\n",
      "  KEY: RooArgSet\tnorm_prefit;1\tSet of RooAbsArg objects\n",
      "  KEY: TProcessID\tProcessID0;1\t1e09b7c8-a2b9-11eb-b3cb-dd9e8a89beef\n",
      "  KEY: RooArgSet\tnuisances_prefit;1\tSet of RooAbsArg objects\n",
      "  KEY: RooFitResult\tfit_b;1\t\n",
      "  KEY: TDirectoryFile\tshapes_fit_b;1\tshapes_fit_b\n",
      "  KEY: RooArgSet\tnorm_fit_b;1\tSet of RooAbsArg objects\n",
      "  KEY: RooFitResult\tfit_s;1\t\n",
      "  KEY: TDirectoryFile\tshapes_fit_s;1\tshapes_fit_s\n",
      "  KEY: RooArgSet\tnorm_fit_s;1\tSet of RooAbsArg objects\n",
      "  KEY: TTree\ttree_fit_sb;1\ttree_fit_sb\n",
      "  KEY: TTree\ttree_fit_b;1\ttree_fit_b\n",
      "  KEY: TTree\ttree_prefit;1\ttree_prefit\n"
     ]
    }
   ],
   "source": [
    "f.ls()"
   ]
  },
  {
   "cell_type": "code",
   "execution_count": 14,
   "id": "documentary-pleasure",
   "metadata": {},
   "outputs": [
    {
     "name": "stdout",
     "output_type": "stream",
     "text": [
      "TDirectoryFile*\t\tsignal_region\tsignal_region\n",
      " OBJ: TH1F\tWZJets\tWZJets in signal_region : 0 at: 0x6d63790\n",
      " KEY: TGraphAsymmErrors\tdata;1\tQCD in signal_region\n",
      " KEY: TH1F\tQCD;1\tQCD in signal_region\n",
      " KEY: TH1F\tSTJets;1\tSTJets in signal_region\n",
      " KEY: TH1F\tTTJets_bkg;1\tTTJets_bkg in signal_region\n",
      " KEY: TH1F\tTTJets_signal;1\tTTJets_signal in signal_region\n",
      " KEY: TH1F\tWZJets;1\tWZJets in signal_region\n",
      " KEY: TH1F\ttotal;1\tTotal signal+background in signal_region\n",
      " KEY: TH1F\ttotal_signal;1\tTotal signal in signal_region\n",
      " KEY: TH1F\ttotal_background;1\tTotal background in signal_region\n",
      " KEY: TH2F\ttotal_covar;1\tCovariance signal+background\n"
     ]
    }
   ],
   "source": [
    "f.Get(\"shapes_fit_s/signal_region\").ls()"
   ]
  },
  {
   "cell_type": "code",
   "execution_count": 15,
   "id": "intimate-brazilian",
   "metadata": {},
   "outputs": [
    {
     "name": "stdout",
     "output_type": "stream",
     "text": [
      "63.68730053305626\n",
      "30.20860031247139\n",
      "2762.954277038574\n",
      "134.10299921035767\n",
      "328.2220647931099\n"
     ]
    }
   ],
   "source": [
    "print(f.Get(\"shapes_fit_s/signal_region/WZJets\").Integral())\n",
    "print(f.Get(\"shapes_fit_s/signal_region/STJets\").Integral())\n",
    "print(f.Get(\"shapes_fit_s/signal_region/QCD\").Integral())\n",
    "print(f.Get(\"shapes_fit_s/signal_region/TTJets_bkg\").Integral())\n",
    "print(f.Get(\"shapes_fit_s/signal_region/TTJets_signal\").Integral())"
   ]
  },
  {
   "cell_type": "code",
   "execution_count": 19,
   "id": "split-aberdeen",
   "metadata": {},
   "outputs": [
    {
     "ename": "AttributeError",
     "evalue": "'TH1F' object has no attribute 'IntegralError'",
     "output_type": "error",
     "traceback": [
      "\u001b[0;31m---------------------------------------------------------------------------\u001b[0m",
      "\u001b[0;31mAttributeError\u001b[0m                            Traceback (most recent call last)",
      "\u001b[0;32m<ipython-input-19-4f8a5e4f5347>\u001b[0m in \u001b[0;36m<module>\u001b[0;34m\u001b[0m\n\u001b[0;32m----> 1\u001b[0;31m \u001b[0mprint\u001b[0m\u001b[0;34m(\u001b[0m\u001b[0mf\u001b[0m\u001b[0;34m.\u001b[0m\u001b[0mGet\u001b[0m\u001b[0;34m(\u001b[0m\u001b[0;34m\"shapes_prefit/signal_region/WZJets\"\u001b[0m\u001b[0;34m)\u001b[0m\u001b[0;34m.\u001b[0m\u001b[0mIntegralError\u001b[0m\u001b[0;34m(\u001b[0m\u001b[0;34m)\u001b[0m\u001b[0;34m)\u001b[0m\u001b[0;34m\u001b[0m\u001b[0;34m\u001b[0m\u001b[0m\n\u001b[0m\u001b[1;32m      2\u001b[0m \u001b[0mprint\u001b[0m\u001b[0;34m(\u001b[0m\u001b[0mf\u001b[0m\u001b[0;34m.\u001b[0m\u001b[0mGet\u001b[0m\u001b[0;34m(\u001b[0m\u001b[0;34m\"shapes_prefit/signal_region/STJets\"\u001b[0m\u001b[0;34m)\u001b[0m\u001b[0;34m.\u001b[0m\u001b[0mIntegral\u001b[0m\u001b[0;34m(\u001b[0m\u001b[0;34m)\u001b[0m\u001b[0;34m)\u001b[0m\u001b[0;34m\u001b[0m\u001b[0;34m\u001b[0m\u001b[0m\n\u001b[1;32m      3\u001b[0m \u001b[0mprint\u001b[0m\u001b[0;34m(\u001b[0m\u001b[0mf\u001b[0m\u001b[0;34m.\u001b[0m\u001b[0mGet\u001b[0m\u001b[0;34m(\u001b[0m\u001b[0;34m\"shapes_prefit/signal_region/QCD\"\u001b[0m\u001b[0;34m)\u001b[0m\u001b[0;34m.\u001b[0m\u001b[0mIntegral\u001b[0m\u001b[0;34m(\u001b[0m\u001b[0;34m)\u001b[0m\u001b[0;34m)\u001b[0m\u001b[0;34m\u001b[0m\u001b[0;34m\u001b[0m\u001b[0m\n\u001b[1;32m      4\u001b[0m \u001b[0mprint\u001b[0m\u001b[0;34m(\u001b[0m\u001b[0mf\u001b[0m\u001b[0;34m.\u001b[0m\u001b[0mGet\u001b[0m\u001b[0;34m(\u001b[0m\u001b[0;34m\"shapes_prefit/signal_region/TTJets_bkg\"\u001b[0m\u001b[0;34m)\u001b[0m\u001b[0;34m.\u001b[0m\u001b[0mIntegral\u001b[0m\u001b[0;34m(\u001b[0m\u001b[0;34m)\u001b[0m\u001b[0;34m)\u001b[0m\u001b[0;34m\u001b[0m\u001b[0;34m\u001b[0m\u001b[0m\n\u001b[1;32m      5\u001b[0m \u001b[0mprint\u001b[0m\u001b[0;34m(\u001b[0m\u001b[0mf\u001b[0m\u001b[0;34m.\u001b[0m\u001b[0mGet\u001b[0m\u001b[0;34m(\u001b[0m\u001b[0;34m\"shapes_prefit/signal_region/TTJets_signal\"\u001b[0m\u001b[0;34m)\u001b[0m\u001b[0;34m.\u001b[0m\u001b[0mIntegral\u001b[0m\u001b[0;34m(\u001b[0m\u001b[0;34m)\u001b[0m\u001b[0;34m)\u001b[0m\u001b[0;34m\u001b[0m\u001b[0;34m\u001b[0m\u001b[0m\n",
      "\u001b[0;31mAttributeError\u001b[0m: 'TH1F' object has no attribute 'IntegralError'"
     ]
    }
   ],
   "source": [
    "print(f.Get(\"shapes_prefit/signal_region/WZJets\").Integral())\n",
    "print(f.Get(\"shapes_prefit/signal_region/STJets\").Integral())\n",
    "print(f.Get(\"shapes_prefit/signal_region/QCD\").Integral())\n",
    "print(f.Get(\"shapes_prefit/signal_region/TTJets_bkg\").Integral())\n",
    "print(f.Get(\"shapes_prefit/signal_region/TTJets_signal\").Integral())"
   ]
  },
  {
   "cell_type": "code",
   "execution_count": 2,
   "id": "worst-grammar",
   "metadata": {},
   "outputs": [],
   "source": [
    "f = ROOT.TFile(\"note_v0/combine/harvester_input.root\")"
   ]
  },
  {
   "cell_type": "code",
   "execution_count": 3,
   "id": "figured-metropolitan",
   "metadata": {},
   "outputs": [
    {
     "name": "stdout",
     "output_type": "stream",
     "text": [
      "TFile**\t\tnote_v0/combine/harvester_input.root\t\n",
      " TFile*\t\tnote_v0/combine/harvester_input.root\t\n",
      "  KEY: TDirectoryFile\tsignal_region;1\tsignal_region\n"
     ]
    }
   ],
   "source": [
    "f.ls()"
   ]
  },
  {
   "cell_type": "code",
   "execution_count": 4,
   "id": "solved-occupation",
   "metadata": {},
   "outputs": [
    {
     "data": {
      "text/plain": [
       "3323.0"
      ]
     },
     "execution_count": 4,
     "metadata": {},
     "output_type": "execute_result"
    }
   ],
   "source": [
    "f.Get(\"signal_region/data_obs\").Integral()"
   ]
  },
  {
   "cell_type": "code",
   "execution_count": 7,
   "id": "civil-rover",
   "metadata": {},
   "outputs": [],
   "source": [
    "import array"
   ]
  },
  {
   "cell_type": "code",
   "execution_count": 8,
   "id": "sufficient-variable",
   "metadata": {},
   "outputs": [
    {
     "name": "stdout",
     "output_type": "stream",
     "text": [
      "TTJets_bkg 134.10340303520596 array('d', [1.0521447856083264])\n",
      "WZJets 63.68725636342331 array('d', [7.380293660551419])\n",
      "STJets 30.208598089904676 array('d', [0.9466340096383001])\n",
      "TTJets_signal 348.45252731445095 array('d', [1.8092927090279198])\n",
      "QCD 2689.5053333309675 array('d', [34.555926920177])\n"
     ]
    }
   ],
   "source": [
    "for s in [\"TTJets_bkg\", \"WZJets\", \"STJets\", \"TTJets_signal\", \"QCD\"]:\n",
    "    h = f.Get(\"signal_region/\" + s)\n",
    "    err = array.array('d', [0.] ) # Workaround starts \n",
    "    integral = h.IntegralAndError(0,30,err)\n",
    "    print(s, integral, err)"
   ]
  },
  {
   "cell_type": "code",
   "execution_count": 14,
   "id": "important-passport",
   "metadata": {},
   "outputs": [
    {
     "name": "stdout",
     "output_type": "stream",
     "text": [
      "2767.377270752232\n",
      "27.564740161309086\n",
      "327.6244743992843\n",
      "27.566079435846213\n",
      "2995.377270752232\n"
     ]
    }
   ],
   "source": [
    "print(1.028954 * 2689.5053333309675)\n",
    "print(0.010249 * 2689.5053333309675)\n",
    "print(0.940227 * 348.45252731445095)\n",
    "print(0.07911 * 348.45252731445095)\n",
    "print(1.028954 * 2689.5053333309675 + 134 + 64 + 30)"
   ]
  },
  {
   "cell_type": "code",
   "execution_count": 12,
   "id": "asian-resistance",
   "metadata": {},
   "outputs": [
    {
     "data": {
      "text/plain": [
       "2689.5053333309675"
      ]
     },
     "execution_count": 12,
     "metadata": {},
     "output_type": "execute_result"
    }
   ],
   "source": [
    "import array\n",
    "par = array.array('d', [0.] ) # Workaround starts \n",
    "h.IntegralAndError(0,-1,par)"
   ]
  },
  {
   "cell_type": "code",
   "execution_count": 66,
   "id": "discrete-corruption",
   "metadata": {},
   "outputs": [
    {
     "name": "stderr",
     "output_type": "stream",
     "text": [
      "/usr/local/bin/start_ipykernel.py:2: FutureWarning: ROOT.Double is deprecated and will disappear in a future version of ROOT. Instead, use ctypes.c_double for pass-by-ref of doubles\n",
      "  if __name__ == '__main__':\n"
     ]
    },
    {
     "data": {
      "text/plain": [
       "129.0682044583247"
      ]
     },
     "execution_count": 66,
     "metadata": {},
     "output_type": "execute_result"
    }
   ],
   "source": [
    "par = ROOT.Double(0)\n",
    "h.IntegralAndError(1,15,par)"
   ]
  },
  {
   "cell_type": "code",
   "execution_count": 67,
   "id": "bulgarian-fisher",
   "metadata": {},
   "outputs": [
    {
     "data": {
      "text/plain": [
       "1.091816696970826"
      ]
     },
     "execution_count": 67,
     "metadata": {},
     "output_type": "execute_result"
    }
   ],
   "source": [
    "par"
   ]
  },
  {
   "cell_type": "code",
   "execution_count": 4,
   "id": "coral-attendance",
   "metadata": {},
   "outputs": [
    {
     "name": "stdout",
     "output_type": "stream",
     "text": [
      "******************************************************************************\n",
      "*Tree    :tree_fit_sb: tree_fit_sb                                            *\n",
      "*Entries :        1 : Total =           13443 bytes  File  Size =       3550 *\n",
      "*        :          : Tree compression factor =   1.00                       *\n",
      "******************************************************************************\n",
      "*Br    0 :fit_status : fit_status/I                                          *\n",
      "*Entries :        1 : Total  Size=        593 bytes  File Size  =         88 *\n",
      "*Baskets :        1 : Basket Size=      32000 bytes  Compression=   1.00     *\n",
      "*............................................................................*\n",
      "*Br    1 :r         : r/D                                                    *\n",
      "*Entries :        1 : Total  Size=        560 bytes  File Size  =         83 *\n",
      "*Baskets :        1 : Basket Size=      32000 bytes  Compression=   1.00     *\n",
      "*............................................................................*\n",
      "*Br    2 :rErr      : rErr/D                                                 *\n",
      "*Entries :        1 : Total  Size=        575 bytes  File Size  =         86 *\n",
      "*Baskets :        1 : Basket Size=      32000 bytes  Compression=   1.00     *\n",
      "*............................................................................*\n",
      "*Br    3 :rLoErr    : rLoErr/D                                               *\n",
      "*Entries :        1 : Total  Size=        585 bytes  File Size  =         88 *\n",
      "*Baskets :        1 : Basket Size=      32000 bytes  Compression=   1.00     *\n",
      "*............................................................................*\n",
      "*Br    4 :rHiErr    : rHiErr/D                                               *\n",
      "*Entries :        1 : Total  Size=        585 bytes  File Size  =         88 *\n",
      "*Baskets :        1 : Basket Size=      32000 bytes  Compression=   1.00     *\n",
      "*............................................................................*\n",
      "*Br    5 :numbadnll : numbadnll/I                                            *\n",
      "*Entries :        1 : Total  Size=        588 bytes  File Size  =         87 *\n",
      "*Baskets :        1 : Basket Size=      32000 bytes  Compression=   1.00     *\n",
      "*............................................................................*\n",
      "*Br    6 :nll_min   : nll_min/D                                              *\n",
      "*Entries :        1 : Total  Size=        590 bytes  File Size  =         89 *\n",
      "*Baskets :        1 : Basket Size=      32000 bytes  Compression=   1.00     *\n",
      "*............................................................................*\n",
      "*Br    7 :nll_nll0  : nll_nll0/D                                             *\n",
      "*Entries :        1 : Total  Size=        595 bytes  File Size  =         90 *\n",
      "*Baskets :        1 : Basket Size=      32000 bytes  Compression=   1.00     *\n",
      "*............................................................................*\n",
      "*Br    8 :btag_In   : btag_In/D                                              *\n",
      "*Entries :        1 : Total  Size=        590 bytes  File Size  =         89 *\n",
      "*Baskets :        1 : Basket Size=      32000 bytes  Compression=   1.00     *\n",
      "*............................................................................*\n",
      "*Br    9 :jer_In    : jer_In/D                                               *\n",
      "*Entries :        1 : Total  Size=        585 bytes  File Size  =         88 *\n",
      "*Baskets :        1 : Basket Size=      32000 bytes  Compression=   1.00     *\n",
      "*............................................................................*\n",
      "*Br   10 :jes_In    : jes_In/D                                               *\n",
      "*Entries :        1 : Total  Size=        585 bytes  File Size  =         88 *\n",
      "*Baskets :        1 : Basket Size=      32000 bytes  Compression=   1.00     *\n",
      "*............................................................................*\n",
      "*Br   11 :lumi_In   : lumi_In/D                                              *\n",
      "*Entries :        1 : Total  Size=        590 bytes  File Size  =         89 *\n",
      "*Baskets :        1 : Basket Size=      32000 bytes  Compression=   1.00     *\n",
      "*............................................................................*\n",
      "*Br   12 :mass_In   : mass_In/D                                              *\n",
      "*Entries :        1 : Total  Size=        590 bytes  File Size  =         89 *\n",
      "*Baskets :        1 : Basket Size=      32000 bytes  Compression=   1.00     *\n",
      "*............................................................................*\n",
      "*Br   13 :met_In    : met_In/D                                               *\n",
      "*Entries :        1 : Total  Size=        585 bytes  File Size  =         88 *\n",
      "*Baskets :        1 : Basket Size=      32000 bytes  Compression=   1.00     *\n",
      "*............................................................................*\n",
      "*Br   14 :mistag_In : mistag_In/D                                            *\n",
      "*Entries :        1 : Total  Size=        600 bytes  File Size  =         91 *\n",
      "*Baskets :        1 : Basket Size=      32000 bytes  Compression=   1.00     *\n",
      "*............................................................................*\n",
      "*Br   15 :parton_In : parton_In/D                                            *\n",
      "*Entries :        1 : Total  Size=        600 bytes  File Size  =         91 *\n",
      "*Baskets :        1 : Basket Size=      32000 bytes  Compression=   1.00     *\n",
      "*............................................................................*\n",
      "*Br   16 :pdf_In    : pdf_In/D                                               *\n",
      "*Entries :        1 : Total  Size=        585 bytes  File Size  =         88 *\n",
      "*Baskets :        1 : Basket Size=      32000 bytes  Compression=   1.00     *\n",
      "*............................................................................*\n",
      "*Br   17 :q2_In     : q2_In/D                                                *\n",
      "*Entries :        1 : Total  Size=        580 bytes  File Size  =         87 *\n",
      "*Baskets :        1 : Basket Size=      32000 bytes  Compression=   1.00     *\n",
      "*............................................................................*\n",
      "*Br   18 :tau_id_In : tau_id_In/D                                            *\n",
      "*Entries :        1 : Total  Size=        600 bytes  File Size  =         91 *\n",
      "*Baskets :        1 : Basket Size=      32000 bytes  Compression=   1.00     *\n",
      "*............................................................................*\n",
      "*Br   19 :tau_trigger_In : tau_trigger_In/D                                  *\n",
      "*Entries :        1 : Total  Size=        625 bytes  File Size  =         96 *\n",
      "*Baskets :        1 : Basket Size=      32000 bytes  Compression=   1.00     *\n",
      "*............................................................................*\n",
      "*Br   20 :taue_In   : taue_In/D                                              *\n",
      "*Entries :        1 : Total  Size=        590 bytes  File Size  =         89 *\n",
      "*Baskets :        1 : Basket Size=      32000 bytes  Compression=   1.00     *\n",
      "*............................................................................*\n",
      "*Br   21 :xsec_In   : xsec_In/D                                              *\n",
      "*Entries :        1 : Total  Size=        590 bytes  File Size  =         89 *\n",
      "*Baskets :        1 : Basket Size=      32000 bytes  Compression=   1.00     *\n",
      "*............................................................................*\n"
     ]
    }
   ],
   "source": [
    "t = f.Get(\"tree_fit_sb\")\n",
    "t.Print()"
   ]
  },
  {
   "cell_type": "code",
   "execution_count": 5,
   "id": "dressed-decade",
   "metadata": {},
   "outputs": [],
   "source": [
    "r = 0.\n",
    "err_low = 0.\n",
    "err_high = 0.\n",
    "for entry in t:\n",
    "    r = t.r\n",
    "    #print(t.rErr)\n",
    "    err_low = t.rLoErr\n",
    "    err_high = t.rHiErr"
   ]
  },
  {
   "cell_type": "code",
   "execution_count": 11,
   "id": "challenging-rwanda",
   "metadata": {},
   "outputs": [],
   "source": [
    "import numpy as np\n",
    "import matplotlib.pyplot as plt"
   ]
  },
  {
   "cell_type": "code",
   "execution_count": 32,
   "id": "recovered-necessity",
   "metadata": {},
   "outputs": [],
   "source": [
    "r_orig = 387. / 409.2\n",
    "r_err = 29. / 387.\n",
    "r_syst = 0.21 * r_orig\n",
    "r_tot = np.sqrt((r_err**2 + r_syst**2))"
   ]
  },
  {
   "cell_type": "code",
   "execution_count": 33,
   "id": "clear-texas",
   "metadata": {},
   "outputs": [],
   "source": [
    "x = np.array([r_orig, r_orig, r])\n",
    "y = np.array([1, 1, 2])\n",
    "lower_error = np.array([r_err, r_tot, err_low])\n",
    "upper_error = np.array([r_err, r_tot, err_high])"
   ]
  },
  {
   "cell_type": "code",
   "execution_count": 34,
   "id": "proper-joshua",
   "metadata": {},
   "outputs": [
    {
     "name": "stdout",
     "output_type": "stream",
     "text": [
      "[0.9457478  0.9457478  0.94194072]\n",
      "[1 1 2]\n",
      "[0.0749354  0.21227357 0.0878601 ]\n",
      "[0.0749354  0.21227357 0.0907276 ]\n"
     ]
    }
   ],
   "source": [
    "print(x)\n",
    "print(y)\n",
    "print(lower_error)\n",
    "print(upper_error)"
   ]
  },
  {
   "cell_type": "code",
   "execution_count": 113,
   "id": "fatty-eight",
   "metadata": {},
   "outputs": [
    {
     "data": {
      "text/plain": [
       "<matplotlib.collections.LineCollection at 0x7f570b036290>"
      ]
     },
     "execution_count": 113,
     "metadata": {},
     "output_type": "execute_result"
    },
    {
     "data": {
      "image/png": "[encoded data removed]",
      "text/plain": [
       "<Figure size 432x288 with 2 Axes>"
      ]
     },
     "metadata": {
      "needs_background": "light"
     },
     "output_type": "display_data"
    }
   ],
   "source": [
    "\n",
    "f, (a1, a0) = plt.subplots(1, 2, gridspec_kw={'width_ratios': [1, 2]})\n",
    "plt.subplots_adjust(wspace=0, hspace=0)\n",
    "def add_point(x, y, err_x, err_y, color):\n",
    "    \n",
    "    asymmetric_error = [[err_x], [err_y]]\n",
    "    a0.errorbar(x, y, xerr=asymmetric_error, fmt=\"o\", color=color, capsize=10.)\n",
    "    \n",
    "add_point(1., 1., 0.2, 0.2, \"red\")\n",
    "add_point(1., 1., 0.1, 0.1, \"blue\")\n",
    "\n",
    "\n",
    "add_point(1., 2., 0.2, 0.2, \"red\")\n",
    "add_point(1., 2., 0.1, 0.1, \"blue\")\n",
    "\n",
    "a0.set_ylim([0.5, 2.5])\n",
    "\n",
    "a0.set_xlim([0., 2.])\n",
    "a0.set_yticks([])\n",
    "a0.set_yticklabels([])\n",
    "a0.set_xlabel(\"r\")\n",
    "\n",
    "a1.set_yticks([])\n",
    "a1.set_yticklabels([])\n",
    "a1.set_xticks([])\n",
    "a1.set_xticklabels([])\n",
    "\n",
    "a0.text(0.1, 0.25+0.02, \"TOP-11-004\", transform=a1.transAxes, fontsize=14, verticalalignment='top')\n",
    "a0.text(0.1, 0.75+0.02, \"CMS Open\", transform=a1.transAxes, fontsize=14, verticalalignment='top')\n",
    "\n",
    "a1.set_xlim([0., 2.])\n",
    "#a1.hlines(1.5, 0., 5.)\n",
    "#a0.hlines(1.5, 0., 5.)\n",
    "a0.vlines(1., .5, 2.5, )"
   ]
  },
  {
   "cell_type": "code",
   "execution_count": 100,
   "id": "dietary-grant",
   "metadata": {},
   "outputs": [
    {
     "data": {
      "image/png": "[encoded data removed]",
      "text/plain": [
       "<Figure size 432x288 with 1 Axes>"
      ]
     },
     "metadata": {
      "needs_background": "light"
     },
     "output_type": "display_data"
    }
   ],
   "source": [
    "#def add_point(x, y, err_x, err_y):\n",
    "    \n",
    "    \n",
    "\n",
    "\n",
    "fig, ax = plt.subplots()\n",
    "\n",
    "asymmetric_error = [lower_error, upper_error]\n",
    "\n",
    "ax.errorbar(x, y, xerr=asymmetric_error, ecolor=['red', 'blue', 'blue'], fmt=\"o\")\n",
    "ax.set_title('variable, asymmetric error')\n",
    "ax.set_xlim([0., 2.])\n",
    "ax.set_ylim([0., 3.])\n",
    "ax.set_yticks([])\n",
    "ax.set_yticklabels([])\n",
    "ax.set_xlabel(\"r\")\n",
    "plt.show()"
   ]
  },
  {
   "cell_type": "code",
   "execution_count": null,
   "id": "animal-school",
   "metadata": {},
   "outputs": [],
   "source": []
  },
  {
   "cell_type": "code",
   "execution_count": null,
   "id": "abstract-scanning",
   "metadata": {},
   "outputs": [],
   "source": []
  },
  {
   "cell_type": "code",
   "execution_count": null,
   "id": "realistic-representative",
   "metadata": {},
   "outputs": [],
   "source": []
  }
 ],
 "metadata": {
  "kernelspec": {
   "display_name": "Python 3",
   "language": "python",
   "name": "python3"
  },
  "language_info": {
   "codemirror_mode": {
    "name": "ipython",
    "version": 3
   },
   "file_extension": ".py",
   "mimetype": "text/x-python",
   "name": "python",
   "nbconvert_exporter": "python",
   "pygments_lexer": "ipython3",
   "version": "3.7.6"
  }
 },
 "nbformat": 4,
 "nbformat_minor": 5
}
