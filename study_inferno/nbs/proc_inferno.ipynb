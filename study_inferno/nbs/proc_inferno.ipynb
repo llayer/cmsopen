{
 "cells": [
  {
   "cell_type": "code",
   "execution_count": 2,
   "id": "922cf6c2",
   "metadata": {},
   "outputs": [],
   "source": [
    "import sys\n",
    "sys.path.append('../columnar')"
   ]
  },
  {
   "cell_type": "code",
   "execution_count": 18,
   "id": "5f00b334",
   "metadata": {},
   "outputs": [],
   "source": [
    "import plot_artificial_syst\n",
    "import pandas as pd\n",
    "import numpy as np \n",
    "import matplotlib.pyplot as plt\n",
    "import glob as glob\n",
    "from pathlib import Path\n",
    "import stack\n",
    "import importlib\n",
    "import ROOT"
   ]
  },
  {
   "cell_type": "code",
   "execution_count": 4,
   "id": "9b3ed921",
   "metadata": {},
   "outputs": [],
   "source": [
    "NAME = \"inferno_cmsopen\"\n",
    "INPUT_PATH = \"/eos/user/l/llayer/cmsopen/columnar/note_v0/input/\"+ NAME + \"/\"\n",
    "HISTO_PATH = \"/eos/user/l/llayer/cmsopen/study_inferno/results/histos/\"+ NAME + \".root\"\n",
    "STACK_PATH = \"/eos/user/l/llayer/cmsopen/study_inferno/results/stacks/\"+ NAME + \"/\"\n",
    "SYST_PATH = \"/eos/user/l/llayer/cmsopen/study_inferno/results/systs/\"+ NAME + \"/\"\n",
    "COMBINE_PATH = \"/eos/user/l/llayer/cmsopen/study_inferno/results/combine/\"+ NAME + \"/\"\n",
    "SYSTS = [\"jes\", \"btag\"]\n",
    "corrs = [\"btag_up\", \"btag_down\"]"
   ]
  },
  {
   "cell_type": "code",
   "execution_count": 5,
   "id": "d4f26f9a",
   "metadata": {},
   "outputs": [],
   "source": [
    "def load_samples(inpath = INPUT_PATH):\n",
    "    files = glob.glob(inpath + \"*.h5\")\n",
    "    samples = {}\n",
    "    for sample in files:\n",
    "\n",
    "        if \"cutflow\" in sample: continue\n",
    "        sample_name = sample.split(\"/\")[-1][:-3]\n",
    "        print(sample_name)\n",
    "        samples[sample_name] = pd.read_hdf(sample)\n",
    "\n",
    "    return samples"
   ]
  },
  {
   "cell_type": "code",
   "execution_count": 6,
   "id": "b080a6e6",
   "metadata": {},
   "outputs": [],
   "source": [
    "def get_variables():\n",
    "    bce = [ x for x in list(samples[\"TTJets_signal\"]) if \"bce\" in x]\n",
    "    inferno = [ x for x in list(samples[\"TTJets_signal\"]) if \"inferno\" in x]\n",
    "    inferno_var = []\n",
    "    for infer in inferno:\n",
    "        inferno_var.append({\"var_name\" : infer, \"bins\" : 10, \"xlow\" : 0, \"xup\" : 10, \"xtitle\" : infer, \"max_sf\": 50})\n",
    "    bce_var = []\n",
    "    for b in bce:\n",
    "        bce_var.append({\"var_name\" : b, \"bins\" : 10, \"xlow\" : 0, \"xup\" : 1., \"xtitle\" : b, \"max_sf\": 50})\n",
    "    return inferno_var + bce_var"
   ]
  },
  {
   "cell_type": "code",
   "execution_count": 7,
   "id": "d207ab4a",
   "metadata": {},
   "outputs": [],
   "source": [
    "def plot_stack(variables, file_name = HISTO_PATH, outdir=STACK_PATH):\n",
    "    \n",
    "    Path(outdir).mkdir(parents=True, exist_ok=True)\n",
    "    \n",
    "    import stack\n",
    "    sample_names = [\"TTJets_bkg\", \"WZJets\", \"STJets\", \"QCD\", \"TTJets_signal\"]\n",
    "    for var in variables:\n",
    "        stack.plot( file_name, var[\"var_name\"], var[\"xtitle\"], sample_names, \n",
    "                   outdir, max_sf=var[\"max_sf\"])"
   ]
  },
  {
   "cell_type": "code",
   "execution_count": 8,
   "id": "a70e360c",
   "metadata": {},
   "outputs": [],
   "source": [
    "#importlib.reload(plot_artificial_syst)\n",
    "def plot_syst(f, nominal, up, down, sample = \"TTJets_signal\", name=\"test\", bce=True):\n",
    "    \n",
    "    cent = f.Get(sample + \"_\" + nominal)\n",
    "    up = f.Get(sample + \"_\" + up)\n",
    "    down = f.Get(sample + \"_\" + down)\n",
    "    plot_artificial_syst.plot_variation(SYST_PATH, name, name, \"\", cent, up, down, bce=bce)\n",
    "    #c, pad1, pad2, ratio_up, ratio_down = plot_artificial_syst.plot_variation(outpath, name, name, \"\", cent, up, down)\n",
    "    #return c, pad1, pad2, ratio_up, ratio_down, cent, up, down\n",
    "    \n",
    "def plot_all_systs():\n",
    "    Path(SYST_PATH).mkdir(parents=True, exist_ok=True)\n",
    "    f = ROOT.TFile(HISTO_PATH, \"READ\")\n",
    "    for c in SYSTS:\n",
    "        plot_syst(f, 'bce', str(c) + '_up' + \"_bce\",  \n",
    "                  str(c) + '_down' + \"_bce\", name='bce_' + str(c), bce=True)\n",
    "        plot_syst(f, 'inferno', str(c) + '_up' + \"_inferno\", str(c) + '_down' + \"_inferno\", name='inferno_' + str(c), bce=False)"
   ]
  },
  {
   "cell_type": "code",
   "execution_count": 11,
   "id": "0aa47706",
   "metadata": {},
   "outputs": [],
   "source": [
    "def inferno_to_harvester(file_path, outpath):\n",
    "    \n",
    "    Path(COMBINE_PATH).mkdir(parents=True, exist_ok=True)\n",
    "    f = ROOT.TFile(file_path)\n",
    "    outfile = ROOT.TFile(outpath + \"harvester_input.root\", 'RECREATE')\n",
    "    \n",
    "    # BCE\n",
    "    outfile.mkdir(\"bce\")\n",
    "    outfile.cd(\"bce\")    \n",
    "    h = f.Get(\"Data\" + \"_\" + \"bce\")\n",
    "    h.Write('data_obs')\n",
    "    \n",
    "    for sample in [ \"QCD\", \"TTJets_bkg\", \"WZJets\", \"STJets\", \"TTJets_signal\"]:\n",
    "        h = f.Get(sample + \"_\" + \"bce\")\n",
    "        h.Write(sample)        \n",
    "        \n",
    "        if sample == \"TTJets_signal\":\n",
    "            \n",
    "            for c in SYSTS:#, \"met\"]:\n",
    "                h = f.Get(sample + \"_\" + str(c) + '_up' + \"_bce\")\n",
    "                h.Write(sample + \"_\" + \"bce_\" + c + \"Up\")        \n",
    "                h = f.Get(sample + \"_\" + str(c) + '_down' + \"_bce\")\n",
    "                h.Write(sample + \"_\" + \"bce_\" + c + \"Down\")   \n",
    "            \n",
    "\n",
    "    # INFERNO shift norm\n",
    "    outfile.mkdir(\"inferno\")\n",
    "    outfile.cd(\"inferno\") \n",
    "    h = f.Get(\"Data\" + \"_\" + \"inferno\")\n",
    "    h.Write('data_obs')\n",
    "    \n",
    "    for sample in [ \"QCD\", \"TTJets_bkg\", \"WZJets\", \"STJets\", \"TTJets_signal\"]:\n",
    "\n",
    "        h = f.Get(sample + \"_\" + \"inferno\")\n",
    "        h.Write(sample) \n",
    "\n",
    "        if sample == \"TTJets_signal\":\n",
    "            for c in SYSTS:#, \"met\"]:\n",
    "                h = f.Get(sample + \"_\" + str(c) + '_up' + \"_inferno\")\n",
    "                h.Write(sample + \"_\" + \"inferno_\" + c + \"Up\")        \n",
    "                h = f.Get(sample + \"_\" + str(c) + '_down' + \"_inferno\")\n",
    "                h.Write(sample + \"_\" + \"inferno_\" + c + \"Down\")   \n",
    "        \n",
    "    print(outfile.ls())\n",
    "    outfile.Close()"
   ]
  },
  {
   "cell_type": "code",
   "execution_count": 12,
   "id": "c0daed66",
   "metadata": {},
   "outputs": [
    {
     "name": "stdout",
     "output_type": "stream",
     "text": [
      "None\n",
      "TFile**\t\t/eos/user/l/llayer/cmsopen/study_inferno/results/combine/inferno_cmsopen/harvester_input.root\t\n",
      " TFile*\t\t/eos/user/l/llayer/cmsopen/study_inferno/results/combine/inferno_cmsopen/harvester_input.root\t\n",
      "  TDirectoryFile*\t\tbce\tbce\n",
      "   KEY: TH1D\tdata_obs;1\tData_bce\n",
      "   KEY: TH1D\tQCD;1\tQCD_bce\n",
      "   KEY: TH1D\tTTJets_bkg;1\tTTJets_bkg_bce\n",
      "   KEY: TH1D\tWZJets;1\tWZJets_bce\n",
      "   KEY: TH1D\tSTJets;1\tSTJets_bce\n",
      "   KEY: TH1D\tTTJets_signal;1\tTTJets_signal_bce\n",
      "   KEY: TH1D\tTTJets_signal_bce_jesUp;1\tTTJets_signal_jes_up_bce\n",
      "   KEY: TH1D\tTTJets_signal_bce_jesDown;1\tTTJets_signal_jes_down_bce\n",
      "   KEY: TH1D\tTTJets_signal_bce_btagUp;1\tTTJets_signal_bce_btag_up\n",
      "   KEY: TH1D\tTTJets_signal_bce_btagDown;1\tTTJets_signal_bce_btag_down\n",
      "  TDirectoryFile*\t\tinferno\tinferno\n",
      "   KEY: TH1D\tdata_obs;1\tData_inferno\n",
      "   KEY: TH1D\tQCD;1\tQCD_inferno\n",
      "   KEY: TH1D\tTTJets_bkg;1\tTTJets_bkg_inferno\n",
      "   KEY: TH1D\tWZJets;1\tWZJets_inferno\n",
      "   KEY: TH1D\tSTJets;1\tSTJets_inferno\n",
      "   KEY: TH1D\tTTJets_signal;1\tTTJets_signal_inferno\n",
      "   KEY: TH1D\tTTJets_signal_inferno_jesUp;1\tTTJets_signal_jes_up_inferno\n",
      "   KEY: TH1D\tTTJets_signal_inferno_jesDown;1\tTTJets_signal_jes_down_inferno\n",
      "   KEY: TH1D\tTTJets_signal_inferno_btagUp;1\tTTJets_signal_inferno_btag_up\n",
      "   KEY: TH1D\tTTJets_signal_inferno_btagDown;1\tTTJets_signal_inferno_btag_down\n",
      "  KEY: TDirectoryFile\tbce;1\tbce\n",
      "  KEY: TDirectoryFile\tinferno;1\tinferno\n"
     ]
    }
   ],
   "source": [
    "#samples = load_samples()\n",
    "#variables = get_variables()\n",
    "#importlib.reload(plot_artificial_syst)\n",
    "#plot_artificial_syst.vars_to_histos(samples, variables, HISTO_PATH, corrs=corrs)\n",
    "#stack_vars = [ x for x in variables if \"nominal\" in x[\"var_name\"]]\n",
    "#plot_stack(variables)\n",
    "#plot_all_systs()\n",
    "inferno_to_harvester(HISTO_PATH, COMBINE_PATH)"
   ]
  },
  {
   "cell_type": "code",
   "execution_count": null,
   "id": "ea52a82d",
   "metadata": {},
   "outputs": [],
   "source": []
  },
  {
   "cell_type": "code",
   "execution_count": 25,
   "id": "10a0cbac",
   "metadata": {},
   "outputs": [],
   "source": []
  },
  {
   "cell_type": "code",
   "execution_count": 30,
   "id": "b5a97fab",
   "metadata": {},
   "outputs": [],
   "source": []
  },
  {
   "cell_type": "code",
   "execution_count": null,
   "id": "551ba9d3",
   "metadata": {},
   "outputs": [],
   "source": []
  }
 ],
 "metadata": {
  "kernelspec": {
   "display_name": "Python 3",
   "language": "python",
   "name": "python3"
  },
  "language_info": {
   "codemirror_mode": {
    "name": "ipython",
    "version": 3
   },
   "file_extension": ".py",
   "mimetype": "text/x-python",
   "name": "python",
   "nbconvert_exporter": "python",
   "pygments_lexer": "ipython3",
   "version": "3.7.6"
  }
 },
 "nbformat": 4,
 "nbformat_minor": 5
}
