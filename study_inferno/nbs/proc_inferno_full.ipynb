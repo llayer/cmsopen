{
 "cells": [
  {
   "cell_type": "code",
   "execution_count": 11,
   "id": "monetary-conclusion",
   "metadata": {},
   "outputs": [],
   "source": [
    "import plot_artificial_syst\n",
    "import pandas as pd\n",
    "import numpy as np \n",
    "import matplotlib.pyplot as plt\n",
    "import glob as glob\n",
    "from pathlib import Path"
   ]
  },
  {
   "cell_type": "markdown",
   "id": "finnish-matter",
   "metadata": {},
   "source": [
    "## Load samples"
   ]
  },
  {
   "cell_type": "code",
   "execution_count": 12,
   "id": "olympic-distribution",
   "metadata": {},
   "outputs": [],
   "source": [
    "import importlib\n"
   ]
  },
  {
   "cell_type": "code",
   "execution_count": 13,
   "id": "double-helicopter",
   "metadata": {},
   "outputs": [],
   "source": [
    "def load_samples(inpath = \"/eos/user/l/llayer/cmsopen/columnar/note_v0/inferno_cmsopen/\"):\n",
    "    files = glob.glob(inpath + \"*.h5\")\n",
    "    samples = {}\n",
    "    for sample in files:\n",
    "\n",
    "        if \"cutflow\" in sample: continue\n",
    "        sample_name = sample.split(\"/\")[-1][:-3]\n",
    "        print(sample_name)\n",
    "        samples[sample_name] = pd.read_hdf(sample)\n",
    "\n",
    "    return samples"
   ]
  },
  {
   "cell_type": "code",
   "execution_count": 14,
   "id": "answering-obligation",
   "metadata": {},
   "outputs": [
    {
     "name": "stdout",
     "output_type": "stream",
     "text": [
      "Data\n",
      "QCD\n",
      "STJets\n",
      "TTJets_bkg\n",
      "TTJets_signal\n",
      "TTJets_signal_jer_down\n",
      "TTJets_signal_jer_up\n",
      "TTJets_signal_jes_down\n",
      "TTJets_signal_jes_up\n",
      "TTJets_signal_met_down\n",
      "TTJets_signal_met_up\n",
      "TTJets_signal_taue_down\n",
      "TTJets_signal_taue_up\n",
      "WZJets\n"
     ]
    }
   ],
   "source": [
    "samples = load_samples()"
   ]
  },
  {
   "cell_type": "code",
   "execution_count": 15,
   "id": "expired-minute",
   "metadata": {},
   "outputs": [],
   "source": [
    "bce = [ x for x in list(samples[\"TTJets_signal\"]) if \"bce\" in x]\n",
    "inferno = [ x for x in list(samples[\"TTJets_signal\"]) if \"inferno\" in x]"
   ]
  },
  {
   "cell_type": "code",
   "execution_count": 16,
   "id": "instant-metallic",
   "metadata": {},
   "outputs": [],
   "source": [
    "inferno_var = []\n",
    "for infer in inferno:\n",
    "    inferno_var.append({\n",
    "        \"var_name\" : infer, \n",
    "        \"bins\" : 10, \n",
    "        \"xlow\" : 0, \n",
    "        \"xup\" : 10, \n",
    "        \"xtitle\" : infer, \n",
    "        \"max_sf\": 50})"
   ]
  },
  {
   "cell_type": "code",
   "execution_count": 17,
   "id": "operating-rates",
   "metadata": {},
   "outputs": [],
   "source": [
    "bce_var = []\n",
    "for b in bce:\n",
    "    bce_var.append({\n",
    "        \"var_name\" : b, \n",
    "        \"bins\" : 10, \n",
    "        \"xlow\" : 0, \n",
    "        \"xup\" : 1., \n",
    "        \"xtitle\" : b, \n",
    "        \"max_sf\": 50})"
   ]
  },
  {
   "cell_type": "code",
   "execution_count": 18,
   "id": "alpine-albert",
   "metadata": {},
   "outputs": [],
   "source": [
    "variables = inferno_var + bce_var"
   ]
  },
  {
   "cell_type": "code",
   "execution_count": 19,
   "id": "sorted-group",
   "metadata": {},
   "outputs": [
    {
     "data": {
      "text/plain": [
       "[{'var_name': 'inferno',\n",
       "  'bins': 10,\n",
       "  'xlow': 0,\n",
       "  'xup': 10,\n",
       "  'xtitle': 'inferno',\n",
       "  'max_sf': 50},\n",
       " {'var_name': 'bce',\n",
       "  'bins': 10,\n",
       "  'xlow': 0,\n",
       "  'xup': 1.0,\n",
       "  'xtitle': 'bce',\n",
       "  'max_sf': 50}]"
      ]
     },
     "execution_count": 19,
     "metadata": {},
     "output_type": "execute_result"
    }
   ],
   "source": [
    "variables"
   ]
  },
  {
   "cell_type": "code",
   "execution_count": 20,
   "id": "7784f33e",
   "metadata": {},
   "outputs": [
    {
     "data": {
      "text/plain": [
       "5000"
      ]
     },
     "execution_count": 20,
     "metadata": {},
     "output_type": "execute_result"
    }
   ],
   "source": [
    "sum(samples[\"TTJets_signal_jes_up\"][samples[\"TTJets_signal_jes_up\"][\"is_train\"] == 1][\"is_train\"])"
   ]
  },
  {
   "cell_type": "markdown",
   "id": "front-philosophy",
   "metadata": {},
   "source": [
    "## Plot vars"
   ]
  },
  {
   "cell_type": "code",
   "execution_count": 21,
   "id": "twenty-press",
   "metadata": {},
   "outputs": [],
   "source": [
    "file_path = \"/eos/user/l/llayer/cmsopen/columnar/note_v0/histos/inferno_cmsopen.root\""
   ]
  },
  {
   "cell_type": "code",
   "execution_count": 22,
   "id": "future-settle",
   "metadata": {},
   "outputs": [
    {
     "data": {
      "text/plain": [
       "<module 'plot_artificial_syst' from '/eos/home-l/llayer/cmsopen/columnar/plot_artificial_syst.py'>"
      ]
     },
     "execution_count": 22,
     "metadata": {},
     "output_type": "execute_result"
    }
   ],
   "source": [
    "importlib.reload(plot_artificial_syst)"
   ]
  },
  {
   "cell_type": "code",
   "execution_count": 23,
   "id": "finnish-carrier",
   "metadata": {},
   "outputs": [
    {
     "name": "stdout",
     "output_type": "stream",
     "text": [
      "{'var_name': 'inferno', 'bins': 10, 'xlow': 0, 'xup': 10, 'xtitle': 'inferno', 'max_sf': 50} Data\n",
      "Data inferno None\n",
      "Data inferno btag_up\n",
      "Data inferno btag_down\n",
      "{'var_name': 'bce', 'bins': 10, 'xlow': 0, 'xup': 1.0, 'xtitle': 'bce', 'max_sf': 50} Data\n",
      "Data bce None\n",
      "Data bce btag_up\n",
      "Data bce btag_down\n",
      "{'var_name': 'inferno', 'bins': 10, 'xlow': 0, 'xup': 10, 'xtitle': 'inferno', 'max_sf': 50} QCD\n",
      "QCD inferno None\n",
      "QCD inferno btag_up\n",
      "QCD inferno btag_down\n",
      "{'var_name': 'bce', 'bins': 10, 'xlow': 0, 'xup': 1.0, 'xtitle': 'bce', 'max_sf': 50} QCD\n",
      "QCD bce None\n"
     ]
    },
    {
     "name": "stderr",
     "output_type": "stream",
     "text": [
      "/eos/home-l/llayer/cmsopen/columnar/plot_artificial_syst.py:23: SettingWithCopyWarning: \n",
      "A value is trying to be set on a copy of a slice from a DataFrame.\n",
      "Try using .loc[row_indexer,col_indexer] = value instead\n",
      "\n",
      "See the caveats in the documentation: http://pandas.pydata.org/pandas-docs/stable/indexing.html#indexing-view-versus-copy\n",
      "  sample['weight'] = sample['btag_weight2'] * scale_qcd\n"
     ]
    },
    {
     "name": "stdout",
     "output_type": "stream",
     "text": [
      "QCD bce btag_up\n",
      "QCD bce btag_down\n",
      "{'var_name': 'inferno', 'bins': 10, 'xlow': 0, 'xup': 10, 'xtitle': 'inferno', 'max_sf': 50} STJets\n",
      "STJets inferno None\n",
      "STJets inferno btag_up\n",
      "STJets inferno btag_down\n",
      "{'var_name': 'bce', 'bins': 10, 'xlow': 0, 'xup': 1.0, 'xtitle': 'bce', 'max_sf': 50} STJets\n",
      "STJets bce None\n",
      "STJets bce btag_up\n",
      "STJets bce btag_down\n",
      "{'var_name': 'inferno', 'bins': 10, 'xlow': 0, 'xup': 10, 'xtitle': 'inferno', 'max_sf': 50} TTJets_bkg\n",
      "TTJets_bkg inferno None\n",
      "TTJets_bkg inferno btag_up\n",
      "TTJets_bkg inferno btag_down\n",
      "{'var_name': 'bce', 'bins': 10, 'xlow': 0, 'xup': 1.0, 'xtitle': 'bce', 'max_sf': 50} TTJets_bkg\n",
      "TTJets_bkg bce None\n",
      "TTJets_bkg bce btag_up\n",
      "TTJets_bkg bce btag_down\n",
      "{'var_name': 'inferno', 'bins': 10, 'xlow': 0, 'xup': 10, 'xtitle': 'inferno', 'max_sf': 50} TTJets_signal\n",
      "TTJets_signal inferno None\n",
      "RENORM TEMPLATE TTJets_signal\n",
      "1.1306810978607387 348.4525273144509 348.45252731445083\n",
      "TTJets_signal inferno btag_up\n",
      "RENORM TEMPLATE TTJets_signal\n",
      "1.1307381869222002 352.9732959267817 352.97329592678165\n",
      "TTJets_signal inferno btag_down\n",
      "RENORM TEMPLATE TTJets_signal\n",
      "1.130618261266454 343.74866019060573 343.74866019060573\n",
      "{'var_name': 'bce', 'bins': 10, 'xlow': 0, 'xup': 1.0, 'xtitle': 'bce', 'max_sf': 50} TTJets_signal\n",
      "TTJets_signal bce None\n",
      "RENORM TEMPLATE TTJets_signal\n",
      "1.1306810978607387 348.45252731445066 348.45252731445066\n",
      "TTJets_signal bce btag_up\n",
      "RENORM TEMPLATE TTJets_signal\n",
      "1.1307381869222008 352.97329592678017 352.9732959267802\n",
      "TTJets_signal bce btag_down\n",
      "RENORM TEMPLATE TTJets_signal\n",
      "1.1306182612664553 343.74866019060596 343.74866019060596\n",
      "{'var_name': 'inferno', 'bins': 10, 'xlow': 0, 'xup': 10, 'xtitle': 'inferno', 'max_sf': 50} TTJets_signal_jer_down\n",
      "TTJets_signal_jer_down inferno None\n",
      "RENORM TEMPLATE TTJets_signal_jer_down\n",
      "1.1296172413389514 349.7573085438873 349.7573085438873\n",
      "TTJets_signal_jer_down inferno btag_up\n",
      "RENORM TEMPLATE TTJets_signal_jer_down\n",
      "1.1296682457620184 354.30342895448837 354.3034289544884\n",
      "TTJets_signal_jer_down inferno btag_down\n",
      "RENORM TEMPLATE TTJets_signal_jer_down\n",
      "1.129560204914118 345.02774378330065 345.0277437833006\n",
      "{'var_name': 'bce', 'bins': 10, 'xlow': 0, 'xup': 1.0, 'xtitle': 'bce', 'max_sf': 50} TTJets_signal_jer_down\n",
      "TTJets_signal_jer_down bce None\n",
      "RENORM TEMPLATE TTJets_signal_jer_down\n",
      "1.1296172413389522 349.7573085438876 349.7573085438876\n",
      "TTJets_signal_jer_down bce btag_up\n",
      "RENORM TEMPLATE TTJets_signal_jer_down\n",
      "1.1296682457620173 354.3034289544869 354.3034289544869\n",
      "TTJets_signal_jer_down bce btag_down\n",
      "RENORM TEMPLATE TTJets_signal_jer_down\n",
      "1.129560204914119 345.02774378330105 345.02774378330105\n",
      "{'var_name': 'inferno', 'bins': 10, 'xlow': 0, 'xup': 10, 'xtitle': 'inferno', 'max_sf': 50} TTJets_signal_jer_up\n",
      "TTJets_signal_jer_up inferno None\n",
      "RENORM TEMPLATE TTJets_signal_jer_up\n",
      "1.130765837634553 347.0180218140096 347.01802181400956\n",
      "TTJets_signal_jer_up inferno btag_up\n",
      "RENORM TEMPLATE TTJets_signal_jer_up\n",
      "1.1308127388699725 351.53151827329856 351.5315182732985\n",
      "TTJets_signal_jer_up inferno btag_down\n",
      "RENORM TEMPLATE TTJets_signal_jer_up\n",
      "1.1307130441053053 342.3233541034882 342.3233541034881\n",
      "{'var_name': 'bce', 'bins': 10, 'xlow': 0, 'xup': 1.0, 'xtitle': 'bce', 'max_sf': 50} TTJets_signal_jer_up\n",
      "TTJets_signal_jer_up bce None\n",
      "RENORM TEMPLATE TTJets_signal_jer_up\n",
      "1.130765837634557 347.01802181401 347.01802181401\n",
      "TTJets_signal_jer_up bce btag_up\n",
      "RENORM TEMPLATE TTJets_signal_jer_up\n",
      "1.130812738869973 351.53151827329793 351.53151827329793\n",
      "TTJets_signal_jer_up bce btag_down\n",
      "RENORM TEMPLATE TTJets_signal_jer_up\n",
      "1.1307130441053062 342.32335410348696 342.3233541034871\n",
      "{'var_name': 'inferno', 'bins': 10, 'xlow': 0, 'xup': 10, 'xtitle': 'inferno', 'max_sf': 50} TTJets_signal_jes_down\n",
      "TTJets_signal_jes_down inferno None\n",
      "RENORM TEMPLATE TTJets_signal_jes_down\n",
      "1.1325943266802296 343.7595255223534 343.75952552235344\n",
      "TTJets_signal_jes_down inferno btag_up\n",
      "RENORM TEMPLATE TTJets_signal_jes_down\n",
      "1.1326543770450288 348.2202494839374 348.2202494839374\n",
      "TTJets_signal_jes_down inferno btag_down\n",
      "RENORM TEMPLATE TTJets_signal_jes_down\n",
      "1.132528504750523 339.1183250305545 339.1183250305545\n",
      "{'var_name': 'bce', 'bins': 10, 'xlow': 0, 'xup': 1.0, 'xtitle': 'bce', 'max_sf': 50} TTJets_signal_jes_down\n",
      "TTJets_signal_jes_down bce None\n",
      "RENORM TEMPLATE TTJets_signal_jes_down\n",
      "1.1325943266802323 343.75952552235356 343.7595255223536\n",
      "TTJets_signal_jes_down bce btag_up\n",
      "RENORM TEMPLATE TTJets_signal_jes_down\n",
      "1.1326543770450286 348.2202494839362 348.2202494839362\n",
      "TTJets_signal_jes_down bce btag_down\n",
      "RENORM TEMPLATE TTJets_signal_jes_down\n",
      "1.1325285047505236 339.11832503055473 339.11832503055473\n",
      "{'var_name': 'inferno', 'bins': 10, 'xlow': 0, 'xup': 10, 'xtitle': 'inferno', 'max_sf': 50} TTJets_signal_jes_up\n",
      "TTJets_signal_jes_up inferno None\n",
      "RENORM TEMPLATE TTJets_signal_jes_up\n",
      "1.129138850236713 352.3022437632263 352.3022437632263\n",
      "TTJets_signal_jes_up inferno btag_up\n",
      "RENORM TEMPLATE TTJets_signal_jes_up\n",
      "1.1291982131809555 356.8683218434171 356.8683218434171\n",
      "TTJets_signal_jes_up inferno btag_down\n",
      "RENORM TEMPLATE TTJets_signal_jes_up\n",
      "1.1290739824979616 347.5509616013519 347.55096160135196\n",
      "{'var_name': 'bce', 'bins': 10, 'xlow': 0, 'xup': 1.0, 'xtitle': 'bce', 'max_sf': 50} TTJets_signal_jes_up\n",
      "TTJets_signal_jes_up bce None\n",
      "RENORM TEMPLATE TTJets_signal_jes_up\n",
      "1.1291388502367146 352.30224376322656 352.30224376322656\n",
      "TTJets_signal_jes_up bce btag_up\n",
      "RENORM TEMPLATE TTJets_signal_jes_up\n",
      "1.1291982131809548 356.8683218434163 356.8683218434164\n",
      "TTJets_signal_jes_up bce btag_down\n",
      "RENORM TEMPLATE TTJets_signal_jes_up\n",
      "1.1290739824979625 347.5509616013527 347.5509616013527\n",
      "{'var_name': 'inferno', 'bins': 10, 'xlow': 0, 'xup': 10, 'xtitle': 'inferno', 'max_sf': 50} TTJets_signal_met_down\n",
      "TTJets_signal_met_down inferno None\n",
      "RENORM TEMPLATE TTJets_signal_met_down\n",
      "1.1313660006527713 341.4195108652905 341.4195108652904\n",
      "TTJets_signal_met_down inferno btag_up\n",
      "RENORM TEMPLATE TTJets_signal_met_down\n",
      "1.131434314395657 345.85768489657676 345.85768489657687\n",
      "TTJets_signal_met_down inferno btag_down\n",
      "RENORM TEMPLATE TTJets_signal_met_down\n",
      "1.131291185950449 336.80177087078533 336.80177087078545\n",
      "{'var_name': 'bce', 'bins': 10, 'xlow': 0, 'xup': 1.0, 'xtitle': 'bce', 'max_sf': 50} TTJets_signal_met_down\n",
      "TTJets_signal_met_down bce None\n",
      "RENORM TEMPLATE TTJets_signal_met_down\n",
      "1.1313660006527706 341.41951086529025 341.41951086529025\n",
      "TTJets_signal_met_down bce btag_up\n",
      "RENORM TEMPLATE TTJets_signal_met_down\n",
      "1.1314343143956556 345.85768489657653 345.85768489657653\n",
      "TTJets_signal_met_down bce btag_down\n",
      "RENORM TEMPLATE TTJets_signal_met_down\n",
      "1.1312911859504522 336.80177087078584 336.8017708707859\n",
      "{'var_name': 'inferno', 'bins': 10, 'xlow': 0, 'xup': 10, 'xtitle': 'inferno', 'max_sf': 50} TTJets_signal_met_up\n",
      "TTJets_signal_met_up inferno None\n",
      "RENORM TEMPLATE TTJets_signal_met_up\n",
      "1.1284999352221452 353.8842037529952 353.8842037529951\n",
      "TTJets_signal_met_up inferno btag_up\n",
      "RENORM TEMPLATE TTJets_signal_met_up\n",
      "1.1285558773794735 358.4737923300419 358.47379233004176\n",
      "TTJets_signal_met_up inferno btag_down\n",
      "RENORM TEMPLATE TTJets_signal_met_up\n",
      "1.128438417067064 349.1076725751443 349.10767257514425\n",
      "{'var_name': 'bce', 'bins': 10, 'xlow': 0, 'xup': 1.0, 'xtitle': 'bce', 'max_sf': 50} TTJets_signal_met_up\n",
      "TTJets_signal_met_up bce None\n",
      "RENORM TEMPLATE TTJets_signal_met_up\n",
      "1.1284999352221448 353.88420375299444 353.8842037529945\n",
      "TTJets_signal_met_up bce btag_up\n",
      "RENORM TEMPLATE TTJets_signal_met_up\n",
      "1.128555877379473 358.4737923300414 358.4737923300415\n",
      "TTJets_signal_met_up bce btag_down\n",
      "RENORM TEMPLATE TTJets_signal_met_up\n",
      "1.1284384170670634 349.10767257514476 349.10767257514476\n",
      "{'var_name': 'inferno', 'bins': 10, 'xlow': 0, 'xup': 10, 'xtitle': 'inferno', 'max_sf': 50} TTJets_signal_taue_down\n",
      "TTJets_signal_taue_down inferno None\n",
      "RENORM TEMPLATE TTJets_signal_taue_down\n",
      "1.1303753022760044 331.40432461504605 331.40432461504594\n",
      "TTJets_signal_taue_down inferno btag_up\n",
      "RENORM TEMPLATE TTJets_signal_taue_down\n",
      "1.1304298849599403 335.7060346749307 335.7060346749308\n",
      "TTJets_signal_taue_down inferno btag_down\n",
      "RENORM TEMPLATE TTJets_signal_taue_down\n",
      "1.1303161714303267 326.92770054100936 326.92770054100936\n",
      "{'var_name': 'bce', 'bins': 10, 'xlow': 0, 'xup': 1.0, 'xtitle': 'bce', 'max_sf': 50} TTJets_signal_taue_down\n",
      "TTJets_signal_taue_down bce None\n",
      "RENORM TEMPLATE TTJets_signal_taue_down\n",
      "1.1303753022760035 331.40432461504645 331.4043246150464\n",
      "TTJets_signal_taue_down bce btag_up\n",
      "RENORM TEMPLATE TTJets_signal_taue_down\n",
      "1.1304298849599395 335.7060346749307 335.7060346749307\n",
      "TTJets_signal_taue_down bce btag_down\n"
     ]
    },
    {
     "name": "stdout",
     "output_type": "stream",
     "text": [
      "RENORM TEMPLATE TTJets_signal_taue_down\n",
      "1.1303161714303294 326.9277005410089 326.9277005410088\n",
      "{'var_name': 'inferno', 'bins': 10, 'xlow': 0, 'xup': 10, 'xtitle': 'inferno', 'max_sf': 50} TTJets_signal_taue_up\n",
      "TTJets_signal_taue_up inferno None\n",
      "RENORM TEMPLATE TTJets_signal_taue_up\n",
      "1.1275450440590433 355.0448159528877 355.0448159528877\n",
      "TTJets_signal_taue_up inferno btag_up\n",
      "RENORM TEMPLATE TTJets_signal_taue_up\n",
      "1.1275913207789712 359.6498003238047 359.6498003238047\n",
      "TTJets_signal_taue_up inferno btag_down\n",
      "RENORM TEMPLATE TTJets_signal_taue_up\n",
      "1.1274930673536563 350.25381639296603 350.2538163929659\n",
      "{'var_name': 'bce', 'bins': 10, 'xlow': 0, 'xup': 1.0, 'xtitle': 'bce', 'max_sf': 50} TTJets_signal_taue_up\n",
      "TTJets_signal_taue_up bce None\n",
      "RENORM TEMPLATE TTJets_signal_taue_up\n",
      "1.1275450440590447 355.04481595288826 355.04481595288826\n",
      "TTJets_signal_taue_up bce btag_up\n",
      "RENORM TEMPLATE TTJets_signal_taue_up\n",
      "1.1275913207789698 359.64980032380424 359.6498003238042\n",
      "TTJets_signal_taue_up bce btag_down\n",
      "RENORM TEMPLATE TTJets_signal_taue_up\n",
      "1.1274930673536552 350.25381639296563 350.25381639296563\n",
      "{'var_name': 'inferno', 'bins': 10, 'xlow': 0, 'xup': 10, 'xtitle': 'inferno', 'max_sf': 50} WZJets\n",
      "WZJets inferno None\n",
      "WZJets inferno btag_up\n",
      "WZJets inferno btag_down\n",
      "{'var_name': 'bce', 'bins': 10, 'xlow': 0, 'xup': 1.0, 'xtitle': 'bce', 'max_sf': 50} WZJets\n",
      "WZJets bce None\n",
      "WZJets bce btag_up\n",
      "WZJets bce btag_down\n"
     ]
    }
   ],
   "source": [
    "plot_artificial_syst.vars_to_histos(samples, variables, file_path)"
   ]
  },
  {
   "cell_type": "markdown",
   "id": "dynamic-pendant",
   "metadata": {},
   "source": [
    "## Plot stacks"
   ]
  },
  {
   "cell_type": "code",
   "execution_count": 19,
   "id": "signal-basin",
   "metadata": {},
   "outputs": [],
   "source": [
    "def plot_stack(variables, file_name = file_path, outdir=\"/eos/user/l/llayer/cmsopen/columnar/note_v0/stack_inferno_cmsopen\"):\n",
    "    \n",
    "    Path(outdir).mkdir(parents=True, exist_ok=True)\n",
    "    \n",
    "    import stack\n",
    "    sample_names = [\"TTJets_bkg\", \"WZJets\", \"STJets\", \"QCD\", \"TTJets_signal\"]\n",
    "    for var in variables:\n",
    "        stack.plot( file_name, var[\"var_name\"], var[\"xtitle\"], sample_names, \n",
    "                   outdir, max_sf=var[\"max_sf\"])"
   ]
  },
  {
   "cell_type": "code",
   "execution_count": 20,
   "id": "pregnant-tomato",
   "metadata": {},
   "outputs": [],
   "source": [
    "stack_vars = [ x for x in variables if \"nominal\" in x[\"var_name\"]]"
   ]
  },
  {
   "cell_type": "code",
   "execution_count": 21,
   "id": "adverse-denial",
   "metadata": {},
   "outputs": [
    {
     "name": "stdout",
     "output_type": "stream",
     "text": [
      "None\n",
      "TTJets_bkg <class 'ROOT.TH1D'>\n",
      "WZJets <class 'ROOT.TH1D'>\n",
      "STJets <class 'ROOT.TH1D'>\n",
      "QCD <class 'ROOT.TH1D'>\n",
      "TTJets_signal <class 'ROOT.TH1D'>\n",
      "None\n",
      "TTJets_bkg <class 'ROOT.TH1D'>\n",
      "WZJets <class 'ROOT.TH1D'>\n",
      "STJets <class 'ROOT.TH1D'>\n",
      "QCD <class 'ROOT.TH1D'>\n",
      "TTJets_signal <class 'ROOT.TH1D'>\n"
     ]
    },
    {
     "name": "stderr",
     "output_type": "stream",
     "text": [
      "Warning in <TH1D::Sumw2>: Sum of squares of weights structure already created\n",
      "Warning in <TH1D::Sumw2>: Sum of squares of weights structure already created\n",
      "Info in <TCanvas::Print>: png file /eos/user/l/llayer/cmsopen/columnar/note_v0/stack_inferno_cmsopen/inferno.png has been created\n",
      "Warning in <TCanvas::Constructor>: Deleting canvas with same name: canvas\n",
      "Warning in <TH1D::Sumw2>: Sum of squares of weights structure already created\n",
      "Warning in <TH1D::Sumw2>: Sum of squares of weights structure already created\n",
      "Info in <TCanvas::Print>: png file /eos/user/l/llayer/cmsopen/columnar/note_v0/stack_inferno_cmsopen/bce.png has been created\n"
     ]
    }
   ],
   "source": [
    "# CAREFUL PLOT ALL VARS\n",
    "plot_stack(variables)"
   ]
  },
  {
   "cell_type": "markdown",
   "id": "worse-finish",
   "metadata": {},
   "source": [
    "## Plot systematics"
   ]
  },
  {
   "cell_type": "code",
   "execution_count": 1,
   "id": "adjustable-protest",
   "metadata": {},
   "outputs": [
    {
     "name": "stdout",
     "output_type": "stream",
     "text": [
      "Welcome to JupyROOT 6.20/06\n"
     ]
    }
   ],
   "source": [
    "import ROOT"
   ]
  },
  {
   "cell_type": "code",
   "execution_count": 2,
   "id": "olive-ottawa",
   "metadata": {},
   "outputs": [],
   "source": [
    "import plot_artificial_syst\n",
    "import importlib\n",
    "from pathlib import Path"
   ]
  },
  {
   "cell_type": "code",
   "execution_count": 9,
   "id": "political-range",
   "metadata": {},
   "outputs": [
    {
     "data": {
      "text/plain": [
       "<module 'plot_artificial_syst' from '/eos/home-l/llayer/cmsopen/columnar/plot_artificial_syst.py'>"
      ]
     },
     "execution_count": 9,
     "metadata": {},
     "output_type": "execute_result"
    }
   ],
   "source": [
    "importlib.reload(plot_artificial_syst)"
   ]
  },
  {
   "cell_type": "code",
   "execution_count": 24,
   "id": "vertical-premises",
   "metadata": {},
   "outputs": [],
   "source": [
    "file_path = \"/eos/user/l/llayer/cmsopen/columnar/note_v0/histos/inferno_cmsopen.root\""
   ]
  },
  {
   "cell_type": "code",
   "execution_count": 25,
   "id": "special-budapest",
   "metadata": {},
   "outputs": [],
   "source": [
    "f = ROOT.TFile(file_path, \"READ\")"
   ]
  },
  {
   "cell_type": "code",
   "execution_count": 26,
   "id": "noticed-luther",
   "metadata": {},
   "outputs": [
    {
     "name": "stdout",
     "output_type": "stream",
     "text": [
      "TFile**\t\t/eos/user/l/llayer/cmsopen/columnar/note_v0/histos/inferno_cmsopen.root\t\n",
      " TFile*\t\t/eos/user/l/llayer/cmsopen/columnar/note_v0/histos/inferno_cmsopen.root\t\n",
      "  KEY: TH1D\tData_inferno;1\tData_inferno\n",
      "  KEY: TH1D\tData_btag_up_inferno;1\tData_inferno_btag_up\n",
      "  KEY: TH1D\tData_btag_down_inferno;1\tData_inferno_btag_down\n",
      "  KEY: TH1D\tData_bce;1\tData_bce\n",
      "  KEY: TH1D\tData_btag_up_bce;1\tData_bce_btag_up\n",
      "  KEY: TH1D\tData_btag_down_bce;1\tData_bce_btag_down\n",
      "  KEY: TH1D\tQCD_inferno;1\tQCD_inferno\n",
      "  KEY: TH1D\tQCD_btag_up_inferno;1\tQCD_inferno_btag_up\n",
      "  KEY: TH1D\tQCD_btag_down_inferno;1\tQCD_inferno_btag_down\n",
      "  KEY: TH1D\tQCD_bce;1\tQCD_bce\n",
      "  KEY: TH1D\tQCD_btag_up_bce;1\tQCD_bce_btag_up\n",
      "  KEY: TH1D\tQCD_btag_down_bce;1\tQCD_bce_btag_down\n",
      "  KEY: TH1D\tSTJets_inferno;1\tSTJets_inferno\n",
      "  KEY: TH1D\tSTJets_btag_up_inferno;1\tSTJets_inferno_btag_up\n",
      "  KEY: TH1D\tSTJets_btag_down_inferno;1\tSTJets_inferno_btag_down\n",
      "  KEY: TH1D\tSTJets_bce;1\tSTJets_bce\n",
      "  KEY: TH1D\tSTJets_btag_up_bce;1\tSTJets_bce_btag_up\n",
      "  KEY: TH1D\tSTJets_btag_down_bce;1\tSTJets_bce_btag_down\n",
      "  KEY: TH1D\tTTJets_bkg_inferno;1\tTTJets_bkg_inferno\n",
      "  KEY: TH1D\tTTJets_bkg_btag_up_inferno;1\tTTJets_bkg_inferno_btag_up\n",
      "  KEY: TH1D\tTTJets_bkg_btag_down_inferno;1\tTTJets_bkg_inferno_btag_down\n",
      "  KEY: TH1D\tTTJets_bkg_bce;1\tTTJets_bkg_bce\n",
      "  KEY: TH1D\tTTJets_bkg_btag_up_bce;1\tTTJets_bkg_bce_btag_up\n",
      "  KEY: TH1D\tTTJets_bkg_btag_down_bce;1\tTTJets_bkg_bce_btag_down\n",
      "  KEY: TH1D\tTTJets_signal_inferno;1\tTTJets_signal_inferno\n",
      "  KEY: TH1D\tTTJets_signal_btag_up_inferno;1\tTTJets_signal_inferno_btag_up\n",
      "  KEY: TH1D\tTTJets_signal_btag_down_inferno;1\tTTJets_signal_inferno_btag_down\n",
      "  KEY: TH1D\tTTJets_signal_bce;1\tTTJets_signal_bce\n",
      "  KEY: TH1D\tTTJets_signal_btag_up_bce;1\tTTJets_signal_bce_btag_up\n",
      "  KEY: TH1D\tTTJets_signal_btag_down_bce;1\tTTJets_signal_bce_btag_down\n",
      "  KEY: TH1D\tTTJets_signal_jer_down_inferno;1\tTTJets_signal_jer_down_inferno\n",
      "  KEY: TH1D\tTTJets_signal_jer_down_btag_up_inferno;1\tTTJets_signal_jer_down_inferno_btag_up\n",
      "  KEY: TH1D\tTTJets_signal_jer_down_btag_down_inferno;1\tTTJets_signal_jer_down_inferno_btag_down\n",
      "  KEY: TH1D\tTTJets_signal_jer_down_bce;1\tTTJets_signal_jer_down_bce\n",
      "  KEY: TH1D\tTTJets_signal_jer_down_btag_up_bce;1\tTTJets_signal_jer_down_bce_btag_up\n",
      "  KEY: TH1D\tTTJets_signal_jer_down_btag_down_bce;1\tTTJets_signal_jer_down_bce_btag_down\n",
      "  KEY: TH1D\tTTJets_signal_jer_up_inferno;1\tTTJets_signal_jer_up_inferno\n",
      "  KEY: TH1D\tTTJets_signal_jer_up_btag_up_inferno;1\tTTJets_signal_jer_up_inferno_btag_up\n",
      "  KEY: TH1D\tTTJets_signal_jer_up_btag_down_inferno;1\tTTJets_signal_jer_up_inferno_btag_down\n",
      "  KEY: TH1D\tTTJets_signal_jer_up_bce;1\tTTJets_signal_jer_up_bce\n",
      "  KEY: TH1D\tTTJets_signal_jer_up_btag_up_bce;1\tTTJets_signal_jer_up_bce_btag_up\n",
      "  KEY: TH1D\tTTJets_signal_jer_up_btag_down_bce;1\tTTJets_signal_jer_up_bce_btag_down\n",
      "  KEY: TH1D\tTTJets_signal_jes_down_inferno;1\tTTJets_signal_jes_down_inferno\n",
      "  KEY: TH1D\tTTJets_signal_jes_down_btag_up_inferno;1\tTTJets_signal_jes_down_inferno_btag_up\n",
      "  KEY: TH1D\tTTJets_signal_jes_down_btag_down_inferno;1\tTTJets_signal_jes_down_inferno_btag_down\n",
      "  KEY: TH1D\tTTJets_signal_jes_down_bce;1\tTTJets_signal_jes_down_bce\n",
      "  KEY: TH1D\tTTJets_signal_jes_down_btag_up_bce;1\tTTJets_signal_jes_down_bce_btag_up\n",
      "  KEY: TH1D\tTTJets_signal_jes_down_btag_down_bce;1\tTTJets_signal_jes_down_bce_btag_down\n",
      "  KEY: TH1D\tTTJets_signal_jes_up_inferno;1\tTTJets_signal_jes_up_inferno\n",
      "  KEY: TH1D\tTTJets_signal_jes_up_btag_up_inferno;1\tTTJets_signal_jes_up_inferno_btag_up\n",
      "  KEY: TH1D\tTTJets_signal_jes_up_btag_down_inferno;1\tTTJets_signal_jes_up_inferno_btag_down\n",
      "  KEY: TH1D\tTTJets_signal_jes_up_bce;1\tTTJets_signal_jes_up_bce\n",
      "  KEY: TH1D\tTTJets_signal_jes_up_btag_up_bce;1\tTTJets_signal_jes_up_bce_btag_up\n",
      "  KEY: TH1D\tTTJets_signal_jes_up_btag_down_bce;1\tTTJets_signal_jes_up_bce_btag_down\n",
      "  KEY: TH1D\tTTJets_signal_met_down_inferno;1\tTTJets_signal_met_down_inferno\n",
      "  KEY: TH1D\tTTJets_signal_met_down_btag_up_inferno;1\tTTJets_signal_met_down_inferno_btag_up\n",
      "  KEY: TH1D\tTTJets_signal_met_down_btag_down_inferno;1\tTTJets_signal_met_down_inferno_btag_down\n",
      "  KEY: TH1D\tTTJets_signal_met_down_bce;1\tTTJets_signal_met_down_bce\n",
      "  KEY: TH1D\tTTJets_signal_met_down_btag_up_bce;1\tTTJets_signal_met_down_bce_btag_up\n",
      "  KEY: TH1D\tTTJets_signal_met_down_btag_down_bce;1\tTTJets_signal_met_down_bce_btag_down\n",
      "  KEY: TH1D\tTTJets_signal_met_up_inferno;1\tTTJets_signal_met_up_inferno\n",
      "  KEY: TH1D\tTTJets_signal_met_up_btag_up_inferno;1\tTTJets_signal_met_up_inferno_btag_up\n",
      "  KEY: TH1D\tTTJets_signal_met_up_btag_down_inferno;1\tTTJets_signal_met_up_inferno_btag_down\n",
      "  KEY: TH1D\tTTJets_signal_met_up_bce;1\tTTJets_signal_met_up_bce\n",
      "  KEY: TH1D\tTTJets_signal_met_up_btag_up_bce;1\tTTJets_signal_met_up_bce_btag_up\n",
      "  KEY: TH1D\tTTJets_signal_met_up_btag_down_bce;1\tTTJets_signal_met_up_bce_btag_down\n",
      "  KEY: TH1D\tTTJets_signal_taue_down_inferno;1\tTTJets_signal_taue_down_inferno\n",
      "  KEY: TH1D\tTTJets_signal_taue_down_btag_up_inferno;1\tTTJets_signal_taue_down_inferno_btag_up\n",
      "  KEY: TH1D\tTTJets_signal_taue_down_btag_down_inferno;1\tTTJets_signal_taue_down_inferno_btag_down\n",
      "  KEY: TH1D\tTTJets_signal_taue_down_bce;1\tTTJets_signal_taue_down_bce\n",
      "  KEY: TH1D\tTTJets_signal_taue_down_btag_up_bce;1\tTTJets_signal_taue_down_bce_btag_up\n",
      "  KEY: TH1D\tTTJets_signal_taue_down_btag_down_bce;1\tTTJets_signal_taue_down_bce_btag_down\n",
      "  KEY: TH1D\tTTJets_signal_taue_up_inferno;1\tTTJets_signal_taue_up_inferno\n",
      "  KEY: TH1D\tTTJets_signal_taue_up_btag_up_inferno;1\tTTJets_signal_taue_up_inferno_btag_up\n",
      "  KEY: TH1D\tTTJets_signal_taue_up_btag_down_inferno;1\tTTJets_signal_taue_up_inferno_btag_down\n",
      "  KEY: TH1D\tTTJets_signal_taue_up_bce;1\tTTJets_signal_taue_up_bce\n",
      "  KEY: TH1D\tTTJets_signal_taue_up_btag_up_bce;1\tTTJets_signal_taue_up_bce_btag_up\n",
      "  KEY: TH1D\tTTJets_signal_taue_up_btag_down_bce;1\tTTJets_signal_taue_up_bce_btag_down\n",
      "  KEY: TH1D\tWZJets_inferno;1\tWZJets_inferno\n",
      "  KEY: TH1D\tWZJets_btag_up_inferno;1\tWZJets_inferno_btag_up\n",
      "  KEY: TH1D\tWZJets_btag_down_inferno;1\tWZJets_inferno_btag_down\n",
      "  KEY: TH1D\tWZJets_bce;1\tWZJets_bce\n",
      "  KEY: TH1D\tWZJets_btag_up_bce;1\tWZJets_bce_btag_up\n",
      "  KEY: TH1D\tWZJets_btag_down_bce;1\tWZJets_bce_btag_down\n"
     ]
    }
   ],
   "source": [
    "f.ls()"
   ]
  },
  {
   "cell_type": "code",
   "execution_count": 32,
   "id": "suitable-confidentiality",
   "metadata": {},
   "outputs": [],
   "source": [
    "outpath = \"/eos/user/l/llayer/cmsopen/columnar/note_v0/syst_inferno_cmsopen\"\n",
    "Path(outpath).mkdir(parents=True, exist_ok=True)\n"
   ]
  },
  {
   "cell_type": "code",
   "execution_count": 33,
   "id": "presidential-porter",
   "metadata": {},
   "outputs": [],
   "source": [
    "importlib.reload(plot_artificial_syst)\n",
    "def plot_syst(nominal, up, down, sample = \"TTJets_signal\", name=\"test\", bce=True):\n",
    "    \n",
    "    cent = f.Get(sample + \"_\" + nominal)\n",
    "    up = f.Get(sample + \"_\" + up)\n",
    "    down = f.Get(sample + \"_\" + down)\n",
    "    plot_artificial_syst.plot_variation(outpath, name, name, \"\", cent, up, down, bce=bce)\n",
    "    #c, pad1, pad2, ratio_up, ratio_down = plot_artificial_syst.plot_variation(outpath, name, name, \"\", cent, up, down)\n",
    "    #return c, pad1, pad2, ratio_up, ratio_down, cent, up, down"
   ]
  },
  {
   "cell_type": "code",
   "execution_count": 35,
   "id": "general-print",
   "metadata": {},
   "outputs": [
    {
     "name": "stdout",
     "output_type": "stream",
     "text": [
      "BCE False\n",
      "BCE False\n"
     ]
    },
    {
     "name": "stderr",
     "output_type": "stream",
     "text": [
      "Warning in <TH1D::Sumw2>: Sum of squares of weights structure already created\n",
      "Warning in <TH1D::Sumw2>: Sum of squares of weights structure already created\n",
      "Info in <TCanvas::Print>: png file /eos/user/l/llayer/cmsopen/columnar/note_v0/syst_inferno_cmsopen/bce_jes_.png has been created\n",
      "Warning in <TH1D::Sumw2>: Sum of squares of weights structure already created\n",
      "Warning in <TH1D::Sumw2>: Sum of squares of weights structure already created\n",
      "Warning in <TCanvas::Constructor>: Deleting canvas with same name: c\n",
      "Info in <TCanvas::Print>: png file /eos/user/l/llayer/cmsopen/columnar/note_v0/syst_inferno_cmsopen/inferno_jes_.png has been created\n",
      "Warning in <TH1D::Sumw2>: Sum of squares of weights structure already created\n",
      "Warning in <TH1D::Sumw2>: Sum of squares of weights structure already created\n",
      "Warning in <TCanvas::Constructor>: Deleting canvas with same name: c\n",
      "Info in <TCanvas::Print>: png file /eos/user/l/llayer/cmsopen/columnar/note_v0/syst_inferno_cmsopen/bce_btag_.png has been created\n",
      "Warning in <TH1D::Sumw2>: Sum of squares of weights structure already created\n",
      "Warning in <TH1D::Sumw2>: Sum of squares of weights structure already created\n",
      "Warning in <TCanvas::Constructor>: Deleting canvas with same name: c\n",
      "Info in <TCanvas::Print>: png file /eos/user/l/llayer/cmsopen/columnar/note_v0/syst_inferno_cmsopen/inferno_btag_.png has been created\n"
     ]
    }
   ],
   "source": [
    "for c in [\"jes\", \"btag\"]:\n",
    "    \n",
    "    plot_syst('bce', str(c) + '_up' + \"_bce\",  \n",
    "              str(c) + '_down' + \"_bce\", name='bce_' + str(c), bce=True)\n",
    "    \n",
    "    plot_syst('inferno', str(c) + '_up' + \"_inferno\", str(c) + '_down' + \"_inferno\", name='inferno_' + str(c), bce=False)"
   ]
  },
  {
   "cell_type": "markdown",
   "id": "destroyed-proceeding",
   "metadata": {},
   "source": [
    "## Harvester"
   ]
  },
  {
   "cell_type": "code",
   "execution_count": 27,
   "id": "rolled-recommendation",
   "metadata": {},
   "outputs": [],
   "source": [
    "def inferno_to_harvester(file_path, outpath):\n",
    "    \n",
    "    f = ROOT.TFile(file_path)\n",
    "        \n",
    "    outfile = ROOT.TFile(outpath, 'RECREATE')\n",
    "    \n",
    "    # BCE\n",
    "    outfile.mkdir(\"bce\")\n",
    "    outfile.cd(\"bce\")    \n",
    "    h = f.Get(\"Data\" + \"_\" + \"bce\")\n",
    "    h.Write('data_obs')\n",
    "    \n",
    "    for sample in [ \"QCD\", \"TTJets_bkg\", \"WZJets\", \"STJets\", \"TTJets_signal\"]:\n",
    "        h = f.Get(sample + \"_\" + \"bce\")\n",
    "        h.Write(sample)        \n",
    "        \n",
    "        if sample == \"TTJets_signal\":\n",
    "            \n",
    "            for c in [\"jes\", \"btag\"]:#, \"met\"]:\n",
    "                h = f.Get(sample + \"_\" + str(c) + '_up' + \"_bce\")\n",
    "                h.Write(sample + \"_\" + \"bce_\" + c + \"Up\")        \n",
    "                h = f.Get(sample + \"_\" + str(c) + '_down' + \"_bce\")\n",
    "                h.Write(sample + \"_\" + \"bce_\" + c + \"Down\")   \n",
    "            \n",
    "\n",
    "    # INFERNO shift norm\n",
    "    outfile.mkdir(\"inferno\")\n",
    "    outfile.cd(\"inferno\") \n",
    "    h = f.Get(\"Data\" + \"_\" + \"inferno\")\n",
    "    h.Write('data_obs')\n",
    "    \n",
    "    for sample in [ \"QCD\", \"TTJets_bkg\", \"WZJets\", \"STJets\", \"TTJets_signal\"]:\n",
    "\n",
    "        h = f.Get(sample + \"_\" + \"inferno\")\n",
    "        h.Write(sample) \n",
    "\n",
    "        if sample == \"TTJets_signal\":\n",
    "            for c in [\"jes\", \"btag\"]:#, \"met\"]:\n",
    "                h = f.Get(sample + \"_\" + str(c) + '_up' + \"_inferno\")\n",
    "                h.Write(sample + \"_\" + \"inferno_\" + c + \"Up\")        \n",
    "                h = f.Get(sample + \"_\" + str(c) + '_down' + \"_inferno\")\n",
    "                h.Write(sample + \"_\" + \"inferno_\" + c + \"Down\")   \n",
    "        \n",
    "    print(outfile.ls())\n",
    "    outfile.Close()\n",
    "        "
   ]
  },
  {
   "cell_type": "code",
   "execution_count": 28,
   "id": "blessed-newton",
   "metadata": {},
   "outputs": [],
   "source": [
    "file_path = \"/eos/user/l/llayer/cmsopen/columnar/note_v0/histos/inferno_cmsopen.root\"\n",
    "out_path = \"/eos/user/l/llayer/cmsopen/columnar/note_v0/combine/inferno_cmsopen.root\""
   ]
  },
  {
   "cell_type": "code",
   "execution_count": 29,
   "id": "breathing-viking",
   "metadata": {},
   "outputs": [
    {
     "name": "stdout",
     "output_type": "stream",
     "text": [
      "None\n",
      "TFile**\t\t/eos/user/l/llayer/cmsopen/columnar/note_v0/combine/inferno_cmsopen.root\t\n",
      " TFile*\t\t/eos/user/l/llayer/cmsopen/columnar/note_v0/combine/inferno_cmsopen.root\t\n",
      "  TDirectoryFile*\t\tbce\tbce\n",
      "   KEY: TH1D\tdata_obs;1\tData_bce\n",
      "   KEY: TH1D\tQCD;1\tQCD_bce\n",
      "   KEY: TH1D\tTTJets_bkg;1\tTTJets_bkg_bce\n",
      "   KEY: TH1D\tWZJets;1\tWZJets_bce\n",
      "   KEY: TH1D\tSTJets;1\tSTJets_bce\n",
      "   KEY: TH1D\tTTJets_signal;1\tTTJets_signal_bce\n",
      "   KEY: TH1D\tTTJets_signal_bce_jesUp;1\tTTJets_signal_jes_up_bce\n",
      "   KEY: TH1D\tTTJets_signal_bce_jesDown;1\tTTJets_signal_jes_down_bce\n",
      "   KEY: TH1D\tTTJets_signal_bce_btagUp;1\tTTJets_signal_bce_btag_up\n",
      "   KEY: TH1D\tTTJets_signal_bce_btagDown;1\tTTJets_signal_bce_btag_down\n",
      "  TDirectoryFile*\t\tinferno\tinferno\n",
      "   KEY: TH1D\tdata_obs;1\tData_inferno\n",
      "   KEY: TH1D\tQCD;1\tQCD_inferno\n",
      "   KEY: TH1D\tTTJets_bkg;1\tTTJets_bkg_inferno\n",
      "   KEY: TH1D\tWZJets;1\tWZJets_inferno\n",
      "   KEY: TH1D\tSTJets;1\tSTJets_inferno\n",
      "   KEY: TH1D\tTTJets_signal;1\tTTJets_signal_inferno\n",
      "   KEY: TH1D\tTTJets_signal_inferno_jesUp;1\tTTJets_signal_jes_up_inferno\n",
      "   KEY: TH1D\tTTJets_signal_inferno_jesDown;1\tTTJets_signal_jes_down_inferno\n",
      "   KEY: TH1D\tTTJets_signal_inferno_btagUp;1\tTTJets_signal_inferno_btag_up\n",
      "   KEY: TH1D\tTTJets_signal_inferno_btagDown;1\tTTJets_signal_inferno_btag_down\n",
      "  KEY: TDirectoryFile\tbce;1\tbce\n",
      "  KEY: TDirectoryFile\tinferno;1\tinferno\n"
     ]
    }
   ],
   "source": [
    "inferno_to_harvester(file_path, out_path)"
   ]
  },
  {
   "cell_type": "code",
   "execution_count": null,
   "id": "05b7fb04",
   "metadata": {},
   "outputs": [],
   "source": []
  }
 ],
 "metadata": {
  "kernelspec": {
   "display_name": "Python 3",
   "language": "python",
   "name": "python3"
  },
  "language_info": {
   "codemirror_mode": {
    "name": "ipython",
    "version": 3
   },
   "file_extension": ".py",
   "mimetype": "text/x-python",
   "name": "python",
   "nbconvert_exporter": "python",
   "pygments_lexer": "ipython3",
   "version": "3.7.6"
  }
 },
 "nbformat": 4,
 "nbformat_minor": 5
}
