{
 "cells": [
  {
   "cell_type": "markdown",
   "id": "09f47f02",
   "metadata": {},
   "source": [
    "# INFERNO for CMS Open Data"
   ]
  },
  {
   "cell_type": "code",
   "execution_count": 1,
   "id": "948d4a61",
   "metadata": {},
   "outputs": [],
   "source": [
    "%matplotlib inline\n",
    "%reload_ext autoreload\n",
    "%autoreload 2"
   ]
  },
  {
   "cell_type": "code",
   "execution_count": 2,
   "id": "f8b240d2",
   "metadata": {},
   "outputs": [],
   "source": [
    "#hide\n",
    "from nbdev.showdoc import *"
   ]
  },
  {
   "cell_type": "code",
   "execution_count": 3,
   "id": "407c9d0e",
   "metadata": {},
   "outputs": [],
   "source": [
    "from pytorch_inferno.model_wrapper import ModelWrapper\n",
    "from pytorch_inferno.callback import *\n",
    "from pytorch_inferno.data import get_paper_data\n",
    "from pytorch_inferno.plotting import *\n",
    "from pytorch_inferno.inference import *\n",
    "from pytorch_inferno.utils import *\n",
    "from pytorch_inferno.inferno import *\n",
    "\n",
    "from fastcore.all import partialler\n",
    "from fastcore.all import store_attr, delegates, is_close\n",
    "import pandas as pd\n",
    "import numpy as np\n",
    "import matplotlib.pyplot as plt\n",
    "import seaborn as sns\n",
    "import itertools\n",
    "from typing import *\n",
    "from collections import OrderedDict\n",
    "from fastcore.all import store_attr\n",
    "from abc import abstractmethod\n",
    "\n",
    "import torch.nn.functional as F\n",
    "from torch import optim, autograd, nn, Tensor\n",
    "import torch\n",
    "from torch.distributions import Normal"
   ]
  },
  {
   "cell_type": "code",
   "execution_count": 4,
   "id": "8eb88a84",
   "metadata": {},
   "outputs": [],
   "source": [
    "pd.options.mode.chained_assignment = None"
   ]
  },
  {
   "cell_type": "markdown",
   "id": "c301ec99",
   "metadata": {},
   "source": [
    "## 1. Load data"
   ]
  },
  {
   "cell_type": "code",
   "execution_count": 5,
   "id": "b85f3127",
   "metadata": {},
   "outputs": [],
   "source": [
    "samples = {}\n",
    "for s in [\"TTJets_bkg\", \"WZJets\", \"STJets\", \"QCD\", \"TTJets_signal\", \"Data\"]:\n",
    "    samples[s] = pd.read_hdf(\"/home/centos/data/bdt_rs5/\" + s + \".h5\")"
   ]
  },
  {
   "cell_type": "code",
   "execution_count": 6,
   "id": "a06f7353",
   "metadata": {},
   "outputs": [
    {
     "name": "stdout",
     "output_type": "stream",
     "text": [
      "['MET_met', 'event', 'run', 'luminosityBlock', 'HLT_QuadJet40_IsoPFTau40', 'HLT_QuadJet45_IsoPFTau45', 'PV_npvs', 'genEvent_tmeme', 'norm', 'norm_up', 'norm_down', 'trigger_weight', 'trigger_weight_up', 'trigger_weight_down', 'trigger_is40', 'isSignal', 'isBkg', 'btag_weight1', 'btag_weight1_up', 'btag_weight1_down', 'btag_weight2', 'btag_weight2_up', 'btag_weight2_down', 'pdf', 'pdf_up', 'pdf_down', 'h', 'ht', 'h_jet', 'ht_jet', 'chargeEta', 'mTauJet', 'mt', 'deltaPhiTauMet', 'nJets', 'aplanarity', 'sphericity', 'train_flag', 'label', 'bdt']\n"
     ]
    }
   ],
   "source": [
    "from sklearn import preprocessing\n",
    "from pytorch_inferno.data import *\n",
    "import random\n",
    "\n",
    "#features = ['ht', 'aplanarity', 'sphericity', 'chargeEta', 'MET_met', 'deltaPhiTauMet', 'mt', 'mTauJet']\n",
    "features = ['aplanarity', 'chargeEta', 'MET_met', 'deltaPhiTauMet']\n",
    "\n",
    "\n",
    "def train_test_split(df, n = 5000):\n",
    "\n",
    "    df.reset_index(drop=True, inplace=True)\n",
    "    indices = list(df.index)\n",
    "    train_id = random.sample(indices, n)\n",
    "    test_id = list(set(indices) - set(train_id))\n",
    "    train_mask = df.index.isin(train_id)\n",
    "    test_mask = df.index.isin(test_id)\n",
    "    cond = [train_mask, test_mask]\n",
    "    choice = [\"train\", \"test\"]\n",
    "    df['train_flag'] = np.select(cond, choice)\n",
    "    \n",
    "def get_cmsopen_data(samples, n_sig = 20000, n_bkg = 10000, bs=1000):\n",
    "        \n",
    "    #signal = samples[\"TTJets_signal\"] #samples[\"TTJets_centJER_signal\"] #samples[\"TTJets_signal_central\"]\n",
    "    #bkg = samples[\"QCD\"]\n",
    "    \n",
    "    signal = samples[\"TTJets_signal\"] #samples[\"TTJets_centJER_signal\"] #samples[\"TTJets_signal_central\"]\n",
    "    bkg = samples[\"QCD\"]\n",
    "    \n",
    "    train_test_split(signal, n_sig)\n",
    "    train_test_split(bkg, n_bkg)\n",
    "    \n",
    "    print(list(signal))\n",
    "    \n",
    "    signal[\"label\"] = 1\n",
    "    bkg[\"label\"] = 0\n",
    "    \n",
    "    signal_train = signal[signal[\"train_flag\"] == \"train\"]\n",
    "    signal_train[\"weights\"] = signal_train['trigger_weight'] * signal_train['btag_weight1']\n",
    "    signal_train[\"weights\"] = signal_train[\"weights\"] * (1. / np.mean(signal_train[\"weights\"]))\n",
    "    signal_test = signal[signal[\"train_flag\"] == \"test\"]\n",
    "    bkg_train = bkg[bkg[\"train_flag\"] == \"train\"]\n",
    "    bkg_train[\"weights\"] = bkg_train['btag_weight2']\n",
    "    bkg_train[\"weights\"] = bkg_train[\"weights\"] * (1. / np.mean(bkg_train[\"weights\"]))\n",
    "    bkg_test = bkg[bkg[\"train_flag\"] == \"test\"]\n",
    "    \n",
    "    train_data = pd.concat([signal_train, bkg_train], axis=0)\n",
    "    test_data = pd.concat([signal_test, bkg_test], axis=0)\n",
    "    \n",
    "    X_train = train_data[features].values\n",
    "    # Scale\n",
    "    scaler = preprocessing.StandardScaler().fit(X_train)\n",
    "    X_train = scaler.transform(X_train)\n",
    "    \n",
    "    y_train = train_data[\"label\"].values.reshape((-1,1))\n",
    "    weights_train = train_data[\"weights\"].values.reshape((-1,1))\n",
    "    \n",
    "    X_test = test_data[features].values\n",
    "    X_test = scaler.transform(X_test)\n",
    "    y_test = test_data[\"label\"].values.reshape((-1,1))\n",
    "    #weights_test= test_data[\"weights\"]\n",
    "\n",
    "    \n",
    "    trn = (X_train, y_train) #, weights_train)\n",
    "    val = (X_test, y_test)\n",
    "    \n",
    "    trn_dl = WeightedDataLoader(DataSet(*trn), batch_size=bs, shuffle=True, drop_last=True)\n",
    "    val_dl = WeightedDataLoader(DataSet(*val), batch_size=bs, shuffle=True)\n",
    "    data = DataPair(trn_dl, val_dl)\n",
    "    test = DataPair(WeightedDataLoader(DataSet(*trn), batch_size=bs), \n",
    "                    WeightedDataLoader(DataSet(*val), batch_size=bs))\n",
    "    \n",
    "    return data, test, scaler\n",
    "\n",
    "data, test, scaler = get_cmsopen_data(samples, n_sig = 5000, n_bkg = 5000, bs=256)"
   ]
  },
  {
   "cell_type": "code",
   "execution_count": null,
   "id": "789289a4",
   "metadata": {},
   "outputs": [],
   "source": []
  },
  {
   "cell_type": "markdown",
   "id": "32391887",
   "metadata": {},
   "source": [
    "## 2. BCE "
   ]
  },
  {
   "cell_type": "code",
   "execution_count": 31,
   "id": "7cb2c308",
   "metadata": {},
   "outputs": [],
   "source": [
    "net_bce = nn.Sequential(nn.Linear(4,12),  nn.ReLU(),\n",
    "                        nn.Linear(12,8), nn.ReLU(),\n",
    "                        nn.Linear(8,1),  nn.Sigmoid())\n",
    "#init_net(net)"
   ]
  },
  {
   "cell_type": "code",
   "execution_count": 32,
   "id": "4d7cc55c",
   "metadata": {},
   "outputs": [],
   "source": [
    "model_bce = ModelWrapper(net_bce)"
   ]
  },
  {
   "cell_type": "code",
   "execution_count": 33,
   "id": "8ea5920a",
   "metadata": {},
   "outputs": [
    {
     "data": {
      "text/html": [],
      "text/plain": [
       "<IPython.core.display.HTML object>"
      ]
     },
     "metadata": {},
     "output_type": "display_data"
    },
    {
     "name": "stdout",
     "output_type": "stream",
     "text": [
      "1: Train=0.6834818201187329 Valid=0.6503957161579209\n",
      "2: Train=0.6525771296941317 Valid=0.6319313750889157\n",
      "3: Train=0.5969848907910861 Valid=0.5928512000245817\n",
      "4: Train=0.5207581244982206 Valid=0.52769413341468\n",
      "5: Train=0.46047744689843595 Valid=0.47480796039149753\n",
      "6: Train=0.4341128972860483 Valid=0.44620985850236894\n",
      "7: Train=0.4215328280742352 Valid=0.4265775975115164\n",
      "8: Train=0.4136050542195638 Valid=0.42891364220838\n",
      "9: Train=0.40870838975295043 Valid=0.4096395004535187\n",
      "10: Train=0.40425649208900255 Valid=0.41325749102352993\n",
      "11: Train=0.40282104947628117 Valid=0.41198383414291895\n",
      "12: Train=0.4012951315977635 Valid=0.4154999690054675\n",
      "13: Train=0.3993233297115717 Valid=0.3894363783444119\n",
      "14: Train=0.3984282544026008 Valid=0.404325947862826\n",
      "15: Train=0.3979833240692432 Valid=0.40613822929179166\n",
      "16: Train=0.39652943993226075 Valid=0.3912877882751915\n",
      "17: Train=0.39674191138683224 Valid=0.3909458275538885\n",
      "18: Train=0.39630428415078384 Valid=0.4072225866879668\n",
      "19: Train=0.39610079618600696 Valid=0.40403141509126295\n",
      "20: Train=0.3954940209021935 Valid=0.3965230637000989\n",
      "21: Train=0.3949063328596262 Valid=0.4020360805530827\n",
      "22: Train=0.3948493202527364 Valid=0.39275497910760404\n",
      "23: Train=0.39409773472027904 Valid=0.3975750108848541\n",
      "24: Train=0.3937981312091534 Valid=0.3976017971610648\n",
      "25: Train=0.3934182264865973 Valid=0.3992800060419042\n",
      "26: Train=0.39318432945471543 Valid=0.3936674298680857\n",
      "27: Train=0.3934009327338292 Valid=0.4193616642111378\n",
      "28: Train=0.39385079344113666 Valid=0.4006754167533467\n",
      "29: Train=0.3932206019377097 Valid=0.40142665960816115\n",
      "30: Train=0.39258249218647295 Valid=0.3884618681711595\n",
      "31: Train=0.3921231421140524 Valid=0.4089594885619651\n",
      "32: Train=0.39243158850914395 Valid=0.38101259956643113\n",
      "33: Train=0.39213979702729446 Valid=0.40617159172557554\n",
      "34: Train=0.3921237106506641 Valid=0.3965392105725264\n",
      "35: Train=0.3920364540356856 Valid=0.3848986501909094\n",
      "36: Train=0.39199535663311297 Valid=0.38745781043455746\n",
      "37: Train=0.3914064222421402 Valid=0.3939217132745279\n",
      "38: Train=0.39100111371431595 Valid=0.3944989355921303\n",
      "39: Train=0.39147452054879606 Valid=0.40969573912758867\n",
      "40: Train=0.3913960976478381 Valid=0.3871335892629246\n",
      "41: Train=0.3905212298417703 Valid=0.40165323212044135\n",
      "42: Train=0.3912024322228554 Valid=0.4037911585522013\n",
      "43: Train=0.39098399571883374 Valid=0.3972716283114601\n",
      "44: Train=0.3905856869159601 Valid=0.38778777634650463\n",
      "45: Train=0.39063015045263827 Valid=0.40603151128741044\n",
      "46: Train=0.3904580512107947 Valid=0.39367240460073605\n",
      "47: Train=0.3905098835627238 Valid=0.39558146885919115\n",
      "48: Train=0.39036574959754944 Valid=0.3811679884610879\n",
      "49: Train=0.3902805791451381 Valid=0.39466558499718385\n",
      "50: Train=0.38960920312465763 Valid=0.38791119093116605\n"
     ]
    }
   ],
   "source": [
    "model_bce.fit(50, data=data, opt=partialler(optim.Adam), loss=nn.BCELoss(),\n",
    "              cbs=[LossTracker()])"
   ]
  },
  {
   "cell_type": "code",
   "execution_count": 39,
   "id": "f16a2200",
   "metadata": {},
   "outputs": [
    {
     "data": {
      "text/html": [
       "\n",
       "    <div>\n",
       "        <style>\n",
       "            /* Turns off some styling */\n",
       "            progress {\n",
       "                /* gets rid of default border in Firefox and Opera. */\n",
       "                border: none;\n",
       "                /* Needs to be in here for Safari polyfill so background images work as expected. */\n",
       "                background-size: auto;\n",
       "            }\n",
       "            .progress-bar-interrupted, .progress-bar-interrupted::-webkit-progress-bar {\n",
       "                background: #F44336;\n",
       "            }\n",
       "        </style>\n",
       "      <progress value='175' class='' max='175' style='width:300px; height:20px; vertical-align: middle;'></progress>\n",
       "      100.00% [175/175 00:00<00:00]\n",
       "    </div>\n",
       "    "
      ],
      "text/plain": [
       "<IPython.core.display.HTML object>"
      ]
     },
     "metadata": {},
     "output_type": "display_data"
    }
   ],
   "source": [
    "preds_bce = model_bce._predict_dl(test.val_dl)"
   ]
  },
  {
   "cell_type": "code",
   "execution_count": 40,
   "id": "459f96b7",
   "metadata": {},
   "outputs": [
    {
     "data": {
      "text/html": [
       "<div>\n",
       "<style scoped>\n",
       "    .dataframe tbody tr th:only-of-type {\n",
       "        vertical-align: middle;\n",
       "    }\n",
       "\n",
       "    .dataframe tbody tr th {\n",
       "        vertical-align: top;\n",
       "    }\n",
       "\n",
       "    .dataframe thead th {\n",
       "        text-align: right;\n",
       "    }\n",
       "</style>\n",
       "<table border=\"1\" class=\"dataframe\">\n",
       "  <thead>\n",
       "    <tr style=\"text-align: right;\">\n",
       "      <th></th>\n",
       "      <th>pred</th>\n",
       "      <th>gen_target</th>\n",
       "    </tr>\n",
       "  </thead>\n",
       "  <tbody>\n",
       "    <tr>\n",
       "      <th>0</th>\n",
       "      <td>0.956165</td>\n",
       "      <td>1</td>\n",
       "    </tr>\n",
       "    <tr>\n",
       "      <th>1</th>\n",
       "      <td>0.964348</td>\n",
       "      <td>1</td>\n",
       "    </tr>\n",
       "    <tr>\n",
       "      <th>2</th>\n",
       "      <td>0.855122</td>\n",
       "      <td>1</td>\n",
       "    </tr>\n",
       "    <tr>\n",
       "      <th>3</th>\n",
       "      <td>0.926693</td>\n",
       "      <td>1</td>\n",
       "    </tr>\n",
       "    <tr>\n",
       "      <th>4</th>\n",
       "      <td>0.687847</td>\n",
       "      <td>1</td>\n",
       "    </tr>\n",
       "  </tbody>\n",
       "</table>\n",
       "</div>"
      ],
      "text/plain": [
       "       pred  gen_target\n",
       "0  0.956165           1\n",
       "1  0.964348           1\n",
       "2  0.855122           1\n",
       "3  0.926693           1\n",
       "4  0.687847           1"
      ]
     },
     "execution_count": 40,
     "metadata": {},
     "output_type": "execute_result"
    }
   ],
   "source": [
    "df_bce = pd.DataFrame({'pred':preds_bce.squeeze()})\n",
    "df_bce['gen_target'] = test.val_dl.dataset.y\n",
    "df_bce.head()"
   ]
  },
  {
   "cell_type": "code",
   "execution_count": 41,
   "id": "f39c646f",
   "metadata": {},
   "outputs": [
    {
     "name": "stderr",
     "output_type": "stream",
     "text": [
      "/home/centos/env/lib64/python3.6/site-packages/seaborn/distributions.py:2557: FutureWarning: `distplot` is a deprecated function and will be removed in a future version. Please adapt your code to use either `displot` (a figure-level function with similar flexibility) or `histplot` (an axes-level function for histograms).\n",
      "  warnings.warn(msg, FutureWarning)\n",
      "/home/centos/env/lib64/python3.6/site-packages/seaborn/distributions.py:2557: FutureWarning: `distplot` is a deprecated function and will be removed in a future version. Please adapt your code to use either `displot` (a figure-level function with similar flexibility) or `histplot` (an axes-level function for histograms).\n",
      "  warnings.warn(msg, FutureWarning)\n"
     ]
    },
    {
     "data": {
      "image/png": "[encoded data removed]",
      "text/plain": [
       "<Figure size 1024x576 with 1 Axes>"
      ]
     },
     "metadata": {},
     "output_type": "display_data"
    }
   ],
   "source": [
    "plot_preds(df_bce)"
   ]
  },
  {
   "cell_type": "markdown",
   "id": "5cb47454",
   "metadata": {},
   "source": [
    "## 3. Train with inferno"
   ]
  },
  {
   "cell_type": "code",
   "execution_count": 122,
   "id": "abdbd2de",
   "metadata": {},
   "outputs": [],
   "source": [
    "class CMSOpenInferno(AbsInferno):\n",
    "    r'''Inheriting class for dealing with INFERNO paper synthetic problem'''\n",
    "    @delegates(AbsInferno, but=['b_shape_alpha', 's_shape_alpha'])\n",
    "    def __init__(self, b_true:float=2800, mu_true:float=300, **kwargs):\n",
    "        super().__init__(b_true=b_true, mu_true=mu_true, **kwargs)\n",
    "\n",
    "    def _aug_data(self, x:Tensor) -> None:\n",
    "        pass"
   ]
  },
  {
   "cell_type": "code",
   "execution_count": 124,
   "id": "481053f0",
   "metadata": {},
   "outputs": [
    {
     "data": {
      "text/plain": [
       "\"\\nclass CMSOpenInferno(AbsInferno):\\n    r'''Inheriting class for dealing with INFERNO paper synthetic problem'''\\n    @delegates(AbsInferno, but=['b_shape_alpha', 's_shape_alpha'])\\n    def __init__(self, b_true:float=2800, mu_true:float=300, **kwargs):\\n        super().__init__(b_true=b_true, mu_true=mu_true, b_shape_alpha=True, \\n                         n_shape_alphas=1, **kwargs)\\n\\n    def _aug_data(self, x:Tensor) -> None:\\n        \\n        x[self.b_mask,0] += self.alpha[self.shape_idxs[0]]\\n\""
      ]
     },
     "execution_count": 124,
     "metadata": {},
     "output_type": "execute_result"
    }
   ],
   "source": [
    "\"\"\"\n",
    "class CMSOpenInferno(AbsInferno):\n",
    "    r'''Inheriting class for dealing with INFERNO paper synthetic problem'''\n",
    "    @delegates(AbsInferno, but=['b_shape_alpha', 's_shape_alpha'])\n",
    "    def __init__(self, b_true:float=2800, mu_true:float=300, **kwargs):\n",
    "        super().__init__(b_true=b_true, mu_true=mu_true, b_shape_alpha=True, \n",
    "                         n_shape_alphas=1, **kwargs)\n",
    "\n",
    "    def _aug_data(self, x:Tensor) -> None:\n",
    "        \n",
    "        x[self.b_mask,0] += self.alpha[self.shape_idxs[0]]\n",
    "\"\"\""
   ]
  },
  {
   "cell_type": "code",
   "execution_count": 133,
   "id": "a529bd08",
   "metadata": {},
   "outputs": [],
   "source": [
    "net_inferno = nn.Sequential(nn.Linear(4,100),  nn.ReLU(),\n",
    "                        nn.Linear(100,100), nn.ReLU(),\n",
    "                        nn.Linear(100,10), VariableSoftmax(0.1))\n",
    "#init_net(net)\n",
    "model_inferno = ModelWrapper(net_inferno)"
   ]
  },
  {
   "cell_type": "code",
   "execution_count": 126,
   "id": "89b01061",
   "metadata": {},
   "outputs": [],
   "source": [
    "lt = LossTracker()"
   ]
  },
  {
   "cell_type": "code",
   "execution_count": 127,
   "id": "b1d47fd4",
   "metadata": {},
   "outputs": [
    {
     "data": {
      "text/html": [],
      "text/plain": [
       "<IPython.core.display.HTML object>"
      ]
     },
     "metadata": {},
     "output_type": "display_data"
    },
    {
     "name": "stdout",
     "output_type": "stream",
     "text": [
      "1: Train=2121.8453181340146 Valid=1045.3968474469866\n",
      "2: Train=882.9601158728966 Valid=851.0591833496094\n",
      "3: Train=806.4302696814904 Valid=821.5812159946987\n",
      "4: Train=776.354025816306 Valid=803.584315359933\n",
      "5: Train=765.6290596203926 Valid=786.4814910016742\n",
      "6: Train=747.5903758513622 Valid=767.5166849190848\n",
      "7: Train=738.4174679487179 Valid=762.0047595214844\n",
      "8: Train=732.3534686748798 Valid=748.4453400530134\n",
      "9: Train=717.2374204977965 Valid=742.2352535574777\n",
      "10: Train=720.0387948843149 Valid=732.5476379394531\n",
      "11: Train=713.1983658228165 Valid=735.2953020368303\n",
      "12: Train=709.3488996456831 Valid=718.8986315917969\n",
      "13: Train=708.753681671925 Valid=722.1370917619978\n",
      "14: Train=700.2476141513922 Valid=705.5302898297991\n",
      "15: Train=696.4178091195913 Valid=713.14865007673\n",
      "16: Train=694.9370438013322 Valid=705.6147324916294\n",
      "17: Train=697.8914669721554 Valid=703.9093856375558\n",
      "18: Train=695.4442068246694 Valid=704.6481958007812\n",
      "19: Train=688.9721397986779 Valid=699.0631103515625\n",
      "20: Train=685.3684676732772 Valid=696.6073951939175\n",
      "21: Train=687.7065554887821 Valid=691.5499993024554\n",
      "22: Train=687.4104301257012 Valid=694.3501613071986\n",
      "23: Train=674.9744567871094 Valid=688.9041573660714\n",
      "24: Train=680.867417555589 Valid=694.5643851143973\n",
      "25: Train=674.2394072703826 Valid=675.7663232421875\n",
      "26: Train=669.71336716872 Valid=675.014370640346\n",
      "27: Train=672.0772094726562 Valid=673.8637712751116\n",
      "28: Train=665.0107014973959 Valid=664.5263593401228\n",
      "29: Train=666.2682463817107 Valid=664.1933304268973\n",
      "30: Train=663.0666636931591 Valid=669.1621275111607\n",
      "31: Train=658.323239057492 Valid=658.7408773367746\n",
      "32: Train=660.7844606057191 Valid=646.8993675013951\n",
      "33: Train=662.5449938651843 Valid=657.2706776646205\n",
      "34: Train=662.4729089981471 Valid=661.8593929617746\n",
      "35: Train=656.8500123635316 Valid=659.3025514439174\n",
      "36: Train=657.0918852977263 Valid=648.2117102050781\n",
      "37: Train=653.4191346779847 Valid=652.5998022460938\n",
      "38: Train=654.4042882674779 Valid=654.1318722098214\n",
      "39: Train=657.1463889097556 Valid=644.4600938197544\n",
      "40: Train=651.0843521509415 Valid=637.6450917271205\n",
      "41: Train=645.9256247495994 Valid=647.760069405692\n",
      "42: Train=648.9632357083834 Valid=641.6755808803014\n",
      "43: Train=650.1160630446213 Valid=639.1045113699777\n",
      "44: Train=642.2519265199319 Valid=629.7773366001674\n",
      "45: Train=654.6135606032151 Valid=627.3939728655134\n",
      "46: Train=640.0755951710237 Valid=626.9847337123326\n",
      "47: Train=637.5715864132612 Valid=622.0913535853795\n",
      "48: Train=642.7944468962841 Valid=618.2250163922992\n",
      "49: Train=636.7535549066006 Valid=620.0350245884487\n",
      "50: Train=638.3226913060897 Valid=612.9156696428571\n",
      "51: Train=626.9417215983073 Valid=611.9569233049665\n",
      "52: Train=628.9888579539763 Valid=600.1141184779576\n",
      "53: Train=632.4376666729266 Valid=604.8512791224888\n",
      "54: Train=627.1505619929387 Valid=603.3858527483259\n",
      "55: Train=627.211187118139 Valid=604.7341598074777\n",
      "56: Train=626.1232072879106 Valid=598.3252124023437\n",
      "57: Train=629.0993855794271 Valid=602.5189200265067\n",
      "58: Train=627.4329489683494 Valid=601.7555686732701\n",
      "59: Train=619.7204269017928 Valid=608.7317626953125\n",
      "60: Train=615.5185953776041 Valid=601.8807852608817\n",
      "61: Train=624.7234168419471 Valid=593.8840070452009\n",
      "62: Train=614.6680853427985 Valid=592.504016985212\n",
      "63: Train=616.1176186586038 Valid=591.9657071358816\n",
      "64: Train=614.9329442733373 Valid=596.0974274553571\n",
      "65: Train=613.696544940655 Valid=594.909927280971\n",
      "66: Train=609.9143856733273 Valid=593.7208576311384\n",
      "67: Train=613.9756141075721 Valid=586.9746803501674\n",
      "68: Train=619.9977894318409 Valid=584.1982296316964\n",
      "69: Train=604.5235705253406 Valid=585.2254697963169\n",
      "70: Train=612.6430906638121 Valid=589.2111783272879\n",
      "71: Train=606.8710546248998 Valid=588.3872991071429\n",
      "72: Train=608.324216402494 Valid=585.138363734654\n",
      "73: Train=614.7725978753506 Valid=587.7878323800223\n",
      "74: Train=611.815920316256 Valid=584.8818884277343\n",
      "75: Train=615.2920978252704 Valid=588.8095971679687\n",
      "76: Train=607.7629042405349 Valid=584.3316744559152\n",
      "77: Train=603.5470041128306 Valid=586.5012060546875\n",
      "78: Train=603.219252366286 Valid=585.2528550502232\n",
      "79: Train=604.7038339468149 Valid=584.2020778111049\n",
      "80: Train=605.689940623748 Valid=579.2574215262276\n",
      "81: Train=598.1210765349559 Valid=587.9694836425781\n",
      "82: Train=608.2913724459135 Valid=576.3756637137277\n",
      "83: Train=601.481683975611 Valid=586.4007983398437\n",
      "84: Train=608.1086159730569 Valid=579.9514601353237\n",
      "85: Train=600.0874289488181 Valid=583.2380679757255\n",
      "86: Train=605.5690581492888 Valid=592.011723109654\n",
      "87: Train=602.6456674429087 Valid=584.8618028041294\n",
      "88: Train=599.3605190179287 Valid=579.9171852329799\n",
      "89: Train=600.4540530473759 Valid=589.3655388532366\n",
      "90: Train=606.4903001051682 Valid=581.6441163853236\n",
      "91: Train=604.2708309858273 Valid=583.666106828962\n",
      "92: Train=606.7156332945212 Valid=584.8787137276786\n",
      "93: Train=600.9712500939003 Valid=587.3365844726562\n",
      "94: Train=604.9398717635717 Valid=578.0697195870536\n",
      "95: Train=598.1876212878105 Valid=586.7068906947545\n",
      "96: Train=603.3275811611078 Valid=584.2006295340402\n",
      "97: Train=608.441897661258 Valid=586.0023381696428\n",
      "98: Train=597.8639847193009 Valid=581.5997978864398\n",
      "99: Train=602.696535550631 Valid=584.6519590541295\n",
      "100: Train=600.1986530010516 Valid=574.0153297642299\n"
     ]
    }
   ],
   "source": [
    "shape_aux=[]#[Normal(0,0.5)]\n",
    "model_inferno.fit(100, data=data, opt=partialler(optim.Adam,lr=1e-3), loss=None,\n",
    "                  cbs=[CMSOpenInferno(shape_aux=shape_aux), lt])"
   ]
  },
  {
   "cell_type": "code",
   "execution_count": 128,
   "id": "2d7dce9a",
   "metadata": {},
   "outputs": [
    {
     "data": {
      "text/plain": [
       "<matplotlib.legend.Legend at 0x7f738146e9e8>"
      ]
     },
     "execution_count": 128,
     "metadata": {},
     "output_type": "execute_result"
    },
    {
     "data": {
      "image/png": "[encoded data removed]",
      "text/plain": [
       "<Figure size 432x288 with 1 Axes>"
      ]
     },
     "metadata": {
      "needs_background": "light"
     },
     "output_type": "display_data"
    }
   ],
   "source": [
    "plt.plot(lt.losses[\"trn\"], label=\"train\")\n",
    "plt.plot(lt.losses[\"val\"], label=\"val\")\n",
    "plt.ylabel(r\"$\\sigma^2(\\mu)$\")\n",
    "plt.xlabel(r\"epoch\")\n",
    "plt.legend(loc=\"upper right\")"
   ]
  },
  {
   "cell_type": "code",
   "execution_count": 129,
   "id": "d99ff542",
   "metadata": {},
   "outputs": [],
   "source": [
    "class InfernoPred(PredHandler):\n",
    "    r'''Prediction handler for hard assignments'''\n",
    "    def get_preds(self) -> np.ndarray: return np.argmax(self.preds, 1)"
   ]
  },
  {
   "cell_type": "code",
   "execution_count": 130,
   "id": "033e2f3b",
   "metadata": {},
   "outputs": [
    {
     "data": {
      "text/html": [
       "\n",
       "    <div>\n",
       "        <style>\n",
       "            /* Turns off some styling */\n",
       "            progress {\n",
       "                /* gets rid of default border in Firefox and Opera. */\n",
       "                border: none;\n",
       "                /* Needs to be in here for Safari polyfill so background images work as expected. */\n",
       "                background-size: auto;\n",
       "            }\n",
       "            .progress-bar-interrupted, .progress-bar-interrupted::-webkit-progress-bar {\n",
       "                background: #F44336;\n",
       "            }\n",
       "        </style>\n",
       "      <progress value='175' class='' max='175' style='width:300px; height:20px; vertical-align: middle;'></progress>\n",
       "      100.00% [175/175 00:00<00:00]\n",
       "    </div>\n",
       "    "
      ],
      "text/plain": [
       "<IPython.core.display.HTML object>"
      ]
     },
     "metadata": {},
     "output_type": "display_data"
    }
   ],
   "source": [
    "preds_inferno = model_inferno._predict_dl(test.val_dl, pred_cb=InfernoPred())"
   ]
  },
  {
   "cell_type": "code",
   "execution_count": 131,
   "id": "0037df1a",
   "metadata": {},
   "outputs": [
    {
     "data": {
      "text/html": [
       "<div>\n",
       "<style scoped>\n",
       "    .dataframe tbody tr th:only-of-type {\n",
       "        vertical-align: middle;\n",
       "    }\n",
       "\n",
       "    .dataframe tbody tr th {\n",
       "        vertical-align: top;\n",
       "    }\n",
       "\n",
       "    .dataframe thead th {\n",
       "        text-align: right;\n",
       "    }\n",
       "</style>\n",
       "<table border=\"1\" class=\"dataframe\">\n",
       "  <thead>\n",
       "    <tr style=\"text-align: right;\">\n",
       "      <th></th>\n",
       "      <th>pred</th>\n",
       "      <th>gen_target</th>\n",
       "    </tr>\n",
       "  </thead>\n",
       "  <tbody>\n",
       "    <tr>\n",
       "      <th>0</th>\n",
       "      <td>2</td>\n",
       "      <td>1</td>\n",
       "    </tr>\n",
       "    <tr>\n",
       "      <th>1</th>\n",
       "      <td>2</td>\n",
       "      <td>1</td>\n",
       "    </tr>\n",
       "    <tr>\n",
       "      <th>2</th>\n",
       "      <td>4</td>\n",
       "      <td>1</td>\n",
       "    </tr>\n",
       "    <tr>\n",
       "      <th>3</th>\n",
       "      <td>6</td>\n",
       "      <td>1</td>\n",
       "    </tr>\n",
       "    <tr>\n",
       "      <th>4</th>\n",
       "      <td>3</td>\n",
       "      <td>1</td>\n",
       "    </tr>\n",
       "  </tbody>\n",
       "</table>\n",
       "</div>"
      ],
      "text/plain": [
       "   pred  gen_target\n",
       "0     2           1\n",
       "1     2           1\n",
       "2     4           1\n",
       "3     6           1\n",
       "4     3           1"
      ]
     },
     "execution_count": 131,
     "metadata": {},
     "output_type": "execute_result"
    }
   ],
   "source": [
    "df_inferno = pd.DataFrame({'pred':preds_inferno})\n",
    "df_inferno['gen_target'] = test.val_dl.dataset.y\n",
    "df_inferno.head()"
   ]
  },
  {
   "cell_type": "code",
   "execution_count": 132,
   "id": "3569d998",
   "metadata": {},
   "outputs": [
    {
     "name": "stderr",
     "output_type": "stream",
     "text": [
      "/home/centos/env/lib64/python3.6/site-packages/seaborn/distributions.py:2557: FutureWarning: `distplot` is a deprecated function and will be removed in a future version. Please adapt your code to use either `displot` (a figure-level function with similar flexibility) or `histplot` (an axes-level function for histograms).\n",
      "  warnings.warn(msg, FutureWarning)\n",
      "/home/centos/env/lib64/python3.6/site-packages/seaborn/distributions.py:2557: FutureWarning: `distplot` is a deprecated function and will be removed in a future version. Please adapt your code to use either `displot` (a figure-level function with similar flexibility) or `histplot` (an axes-level function for histograms).\n",
      "  warnings.warn(msg, FutureWarning)\n"
     ]
    },
    {
     "data": {
      "image/png": "[encoded data removed]",
      "text/plain": [
       "<Figure size 1024x576 with 1 Axes>"
      ]
     },
     "metadata": {},
     "output_type": "display_data"
    }
   ],
   "source": [
    "plot_preds(df_inferno, bin_edges=np.linspace(0,10,11))"
   ]
  },
  {
   "cell_type": "code",
   "execution_count": null,
   "id": "95545dae",
   "metadata": {},
   "outputs": [],
   "source": []
  },
  {
   "cell_type": "markdown",
   "id": "274264dd",
   "metadata": {},
   "source": [
    "## 3. Artificial systematics"
   ]
  },
  {
   "cell_type": "code",
   "execution_count": 72,
   "id": "c86c0280",
   "metadata": {},
   "outputs": [],
   "source": [
    "import copy"
   ]
  },
  {
   "cell_type": "code",
   "execution_count": 73,
   "id": "c60d8ea5",
   "metadata": {},
   "outputs": [],
   "source": [
    "def shift(X, y, shift, label = 0, axis=0):\n",
    "    X_var = copy.deepcopy(X)\n",
    "    mask = y==label\n",
    "    mask = mask.squeeze()\n",
    "    print(mask.shape)\n",
    "    print(X_var.shape)\n",
    "    X_var[mask,0] += shift\n",
    "    return X_var"
   ]
  },
  {
   "cell_type": "code",
   "execution_count": 74,
   "id": "1e943d69",
   "metadata": {},
   "outputs": [],
   "source": [
    "X = test.val_dl.dataset.x\n",
    "y = test.val_dl.dataset.y"
   ]
  },
  {
   "cell_type": "code",
   "execution_count": 75,
   "id": "402bb81c",
   "metadata": {},
   "outputs": [
    {
     "name": "stdout",
     "output_type": "stream",
     "text": [
      "(44746,)\n",
      "(44746, 4)\n",
      "(44746,)\n",
      "(44746, 4)\n"
     ]
    }
   ],
   "source": [
    "X_up = shift(X, y, 0.5, label = 0, axis=0)\n",
    "X_down = shift(X, y, -0.5, label = 0, axis=0)"
   ]
  },
  {
   "cell_type": "code",
   "execution_count": 76,
   "id": "793d14b3",
   "metadata": {},
   "outputs": [
    {
     "data": {
      "text/plain": [
       "(array([1.886e+03, 5.305e+03, 8.869e+03, 7.785e+03, 6.026e+03, 4.449e+03,\n",
       "        3.215e+03, 2.357e+03, 1.692e+03, 1.105e+03, 8.200e+02, 4.670e+02,\n",
       "        3.500e+02, 1.940e+02, 1.170e+02, 6.200e+01, 3.800e+01, 5.000e+00,\n",
       "        3.000e+00, 1.000e+00]),\n",
       " array([-1.68433838, -1.27054278, -0.85674718, -0.44295158, -0.02915598,\n",
       "         0.38463962,  0.79843522,  1.21223082,  1.62602642,  2.03982202,\n",
       "         2.45361761,  2.86741321,  3.28120881,  3.69500441,  4.10880001,\n",
       "         4.52259561,  4.93639121,  5.35018681,  5.76398241,  6.17777801,\n",
       "         6.59157361]),\n",
       " <BarContainer object of 20 artists>)"
      ]
     },
     "execution_count": 76,
     "metadata": {},
     "output_type": "execute_result"
    },
    {
     "data": {
      "image/png": "[encoded data removed]",
      "text/plain": [
       "<Figure size 432x288 with 1 Axes>"
      ]
     },
     "metadata": {
      "needs_background": "light"
     },
     "output_type": "display_data"
    }
   ],
   "source": [
    "plt.hist(X[:,0], bins=20, alpha=0.5)\n",
    "plt.hist(X_up[:,0], bins=20, alpha=0.5)\n",
    "plt.hist(X_down[:,0], bins=20, alpha=0.5)"
   ]
  },
  {
   "cell_type": "code",
   "execution_count": 117,
   "id": "044b19f8",
   "metadata": {},
   "outputs": [
    {
     "data": {
      "text/html": [
       "\n",
       "    <div>\n",
       "        <style>\n",
       "            /* Turns off some styling */\n",
       "            progress {\n",
       "                /* gets rid of default border in Firefox and Opera. */\n",
       "                border: none;\n",
       "                /* Needs to be in here for Safari polyfill so background images work as expected. */\n",
       "                background-size: auto;\n",
       "            }\n",
       "            .progress-bar-interrupted, .progress-bar-interrupted::-webkit-progress-bar {\n",
       "                background: #F44336;\n",
       "            }\n",
       "        </style>\n",
       "      <progress value='175' class='' max='175' style='width:300px; height:20px; vertical-align: middle;'></progress>\n",
       "      100.00% [175/175 00:00<00:00]\n",
       "    </div>\n",
       "    "
      ],
      "text/plain": [
       "<IPython.core.display.HTML object>"
      ]
     },
     "metadata": {},
     "output_type": "display_data"
    },
    {
     "data": {
      "text/html": [
       "\n",
       "    <div>\n",
       "        <style>\n",
       "            /* Turns off some styling */\n",
       "            progress {\n",
       "                /* gets rid of default border in Firefox and Opera. */\n",
       "                border: none;\n",
       "                /* Needs to be in here for Safari polyfill so background images work as expected. */\n",
       "                background-size: auto;\n",
       "            }\n",
       "            .progress-bar-interrupted, .progress-bar-interrupted::-webkit-progress-bar {\n",
       "                background: #F44336;\n",
       "            }\n",
       "        </style>\n",
       "      <progress value='175' class='' max='175' style='width:300px; height:20px; vertical-align: middle;'></progress>\n",
       "      100.00% [175/175 00:00<00:00]\n",
       "    </div>\n",
       "    "
      ],
      "text/plain": [
       "<IPython.core.display.HTML object>"
      ]
     },
     "metadata": {},
     "output_type": "display_data"
    }
   ],
   "source": [
    "df_bce[\"pred_up\"] = model_bce._predict_dl(WeightedDataLoader(DataSet(X_up, None, None), batch_size=256))\n",
    "df_bce[\"pred_down\"] = model_bce._predict_dl(WeightedDataLoader(DataSet(X_down, None, None), batch_size=256))"
   ]
  },
  {
   "cell_type": "code",
   "execution_count": 118,
   "id": "2d3d890c",
   "metadata": {},
   "outputs": [
    {
     "data": {
      "text/html": [
       "\n",
       "    <div>\n",
       "        <style>\n",
       "            /* Turns off some styling */\n",
       "            progress {\n",
       "                /* gets rid of default border in Firefox and Opera. */\n",
       "                border: none;\n",
       "                /* Needs to be in here for Safari polyfill so background images work as expected. */\n",
       "                background-size: auto;\n",
       "            }\n",
       "            .progress-bar-interrupted, .progress-bar-interrupted::-webkit-progress-bar {\n",
       "                background: #F44336;\n",
       "            }\n",
       "        </style>\n",
       "      <progress value='175' class='' max='175' style='width:300px; height:20px; vertical-align: middle;'></progress>\n",
       "      100.00% [175/175 00:00<00:00]\n",
       "    </div>\n",
       "    "
      ],
      "text/plain": [
       "<IPython.core.display.HTML object>"
      ]
     },
     "metadata": {},
     "output_type": "display_data"
    },
    {
     "data": {
      "text/html": [
       "\n",
       "    <div>\n",
       "        <style>\n",
       "            /* Turns off some styling */\n",
       "            progress {\n",
       "                /* gets rid of default border in Firefox and Opera. */\n",
       "                border: none;\n",
       "                /* Needs to be in here for Safari polyfill so background images work as expected. */\n",
       "                background-size: auto;\n",
       "            }\n",
       "            .progress-bar-interrupted, .progress-bar-interrupted::-webkit-progress-bar {\n",
       "                background: #F44336;\n",
       "            }\n",
       "        </style>\n",
       "      <progress value='175' class='' max='175' style='width:300px; height:20px; vertical-align: middle;'></progress>\n",
       "      100.00% [175/175 00:00<00:00]\n",
       "    </div>\n",
       "    "
      ],
      "text/plain": [
       "<IPython.core.display.HTML object>"
      ]
     },
     "metadata": {},
     "output_type": "display_data"
    }
   ],
   "source": [
    "df_inferno[\"pred_up\"] = model_inferno._predict_dl(WeightedDataLoader(DataSet(X_up, None, None), batch_size=256), pred_cb=InfernoPred())\n",
    "df_inferno[\"pred_down\"] = model_inferno._predict_dl(WeightedDataLoader(DataSet(X_down, None, None), batch_size=256), pred_cb=InfernoPred())"
   ]
  },
  {
   "cell_type": "code",
   "execution_count": 119,
   "id": "3ce1e8bd",
   "metadata": {},
   "outputs": [],
   "source": [
    "def plot_var(df, label):\n",
    "    plt.hist(df[df[\"gen_target\"]==label][\"pred_up\"], alpha=0.5, label=\"up\", density=True)\n",
    "    plt.hist(df[df[\"gen_target\"]==label][\"pred\"], alpha=0.5, label=\"nominal\", density=True)\n",
    "    plt.hist(df[df[\"gen_target\"]==label][\"pred_down\"], alpha=0.5, label=\"down\", density=True)\n",
    "    plt.legend(loc=\"upper right\")\n",
    "    plt.show()"
   ]
  },
  {
   "cell_type": "code",
   "execution_count": 120,
   "id": "c78a636e",
   "metadata": {},
   "outputs": [
    {
     "data": {
      "image/png": "[encoded data removed]",
      "text/plain": [
       "<Figure size 432x288 with 1 Axes>"
      ]
     },
     "metadata": {
      "needs_background": "light"
     },
     "output_type": "display_data"
    }
   ],
   "source": [
    "plot_var(df_bce, 0)"
   ]
  },
  {
   "cell_type": "code",
   "execution_count": 121,
   "id": "71cd1e04",
   "metadata": {},
   "outputs": [
    {
     "data": {
      "image/png": "[encoded data removed]",
      "text/plain": [
       "<Figure size 432x288 with 1 Axes>"
      ]
     },
     "metadata": {
      "needs_background": "light"
     },
     "output_type": "display_data"
    }
   ],
   "source": [
    "plot_var(df_inferno, 0)"
   ]
  },
  {
   "cell_type": "markdown",
   "id": "af186fc3",
   "metadata": {},
   "source": [
    "## 4. Store predictions"
   ]
  },
  {
   "cell_type": "code",
   "execution_count": null,
   "id": "a2e1dda2",
   "metadata": {},
   "outputs": [],
   "source": [
    "for s in samples:\n",
    "    \n",
    "    X = samples[s][features].values\n",
    "    X = scaler.transform(X)\n",
    "    loader = WeightedDataLoader(DataSet(X, None, None), batch_size=1000)\n",
    "    samples[s][\"inferno\"] = model._predict_dl(loader, pred_cb=InfernoPred())"
   ]
  },
  {
   "cell_type": "code",
   "execution_count": null,
   "id": "b24693c3",
   "metadata": {},
   "outputs": [],
   "source": [
    "outpath = \"/home/centos/data/inferno\"\n",
    "for s in samples:\n",
    "    \n",
    "    samples[s].to_hdf(outpath + \"/\" + s + \".h5\", \"frame\")"
   ]
  },
  {
   "cell_type": "code",
   "execution_count": null,
   "id": "c7032a4f",
   "metadata": {},
   "outputs": [],
   "source": []
  },
  {
   "cell_type": "code",
   "execution_count": null,
   "id": "45647c8d",
   "metadata": {},
   "outputs": [],
   "source": []
  }
 ],
 "metadata": {
  "kernelspec": {
   "display_name": "Python 3",
   "language": "python",
   "name": "python3"
  },
  "language_info": {
   "codemirror_mode": {
    "name": "ipython",
    "version": 3
   },
   "file_extension": ".py",
   "mimetype": "text/x-python",
   "name": "python",
   "nbconvert_exporter": "python",
   "pygments_lexer": "ipython3",
   "version": "3.6.8"
  }
 },
 "nbformat": 4,
 "nbformat_minor": 5
}
