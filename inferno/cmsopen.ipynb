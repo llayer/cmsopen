{
 "cells": [
  {
   "cell_type": "markdown",
   "id": "09f47f02",
   "metadata": {},
   "source": [
    "# INFERNO for CMS Open Data"
   ]
  },
  {
   "cell_type": "code",
   "execution_count": 1,
   "id": "948d4a61",
   "metadata": {},
   "outputs": [],
   "source": [
    "%matplotlib inline\n",
    "%reload_ext autoreload\n",
    "%autoreload 2"
   ]
  },
  {
   "cell_type": "code",
   "execution_count": 2,
   "id": "f8b240d2",
   "metadata": {},
   "outputs": [],
   "source": [
    "#hide\n",
    "from nbdev.showdoc import *"
   ]
  },
  {
   "cell_type": "code",
   "execution_count": 3,
   "id": "407c9d0e",
   "metadata": {},
   "outputs": [],
   "source": [
    "from pytorch_inferno.model_wrapper import ModelWrapper\n",
    "from pytorch_inferno.callback import *\n",
    "from pytorch_inferno.data import get_paper_data\n",
    "from pytorch_inferno.plotting import *\n",
    "from pytorch_inferno.inference import *\n",
    "from pytorch_inferno.utils import *\n",
    "from pytorch_inferno.inferno import *\n",
    "\n",
    "from fastcore.all import partialler\n",
    "from fastcore.all import store_attr, delegates, is_close\n",
    "import pandas as pd\n",
    "import numpy as np\n",
    "import matplotlib.pyplot as plt\n",
    "import seaborn as sns\n",
    "import itertools\n",
    "from typing import *\n",
    "from collections import OrderedDict\n",
    "from fastcore.all import store_attr\n",
    "from abc import abstractmethod\n",
    "\n",
    "import torch.nn.functional as F\n",
    "from torch import optim, autograd, nn, Tensor\n",
    "import torch\n",
    "from torch.distributions import Normal"
   ]
  },
  {
   "cell_type": "code",
   "execution_count": 4,
   "id": "8eb88a84",
   "metadata": {},
   "outputs": [],
   "source": [
    "pd.options.mode.chained_assignment = None"
   ]
  },
  {
   "cell_type": "markdown",
   "id": "c301ec99",
   "metadata": {},
   "source": [
    "## 1. Load data"
   ]
  },
  {
   "cell_type": "code",
   "execution_count": 5,
   "id": "b85f3127",
   "metadata": {},
   "outputs": [],
   "source": [
    "samples = {}\n",
    "for s in [\"TTJets_bkg\", \"WZJets\", \"STJets\", \"QCD\", \"TTJets_signal\", \"Data\"]:\n",
    "    samples[s] = pd.read_hdf(\"/home/centos/data/bdt_rs5/\" + s + \".h5\")"
   ]
  },
  {
   "cell_type": "code",
   "execution_count": 6,
   "id": "a06f7353",
   "metadata": {},
   "outputs": [
    {
     "name": "stdout",
     "output_type": "stream",
     "text": [
      "['MET_met', 'event', 'run', 'luminosityBlock', 'HLT_QuadJet40_IsoPFTau40', 'HLT_QuadJet45_IsoPFTau45', 'PV_npvs', 'genEvent_tmeme', 'norm', 'norm_up', 'norm_down', 'trigger_weight', 'trigger_weight_up', 'trigger_weight_down', 'trigger_is40', 'isSignal', 'isBkg', 'btag_weight1', 'btag_weight1_up', 'btag_weight1_down', 'btag_weight2', 'btag_weight2_up', 'btag_weight2_down', 'pdf', 'pdf_up', 'pdf_down', 'h', 'ht', 'h_jet', 'ht_jet', 'chargeEta', 'mTauJet', 'mt', 'deltaPhiTauMet', 'nJets', 'aplanarity', 'sphericity', 'train_flag', 'label', 'bdt']\n"
     ]
    }
   ],
   "source": [
    "from sklearn import preprocessing\n",
    "from pytorch_inferno.data import *\n",
    "import random\n",
    "\n",
    "#features = ['ht', 'aplanarity', 'sphericity', 'chargeEta', 'MET_met', 'deltaPhiTauMet', 'mt', 'mTauJet']\n",
    "features = ['aplanarity', 'chargeEta', 'MET_met', 'deltaPhiTauMet']\n",
    "\n",
    "\n",
    "def train_test_split(df, n = 5000):\n",
    "\n",
    "    df.reset_index(drop=True, inplace=True)\n",
    "    indices = list(df.index)\n",
    "    train_id = random.sample(indices, n)\n",
    "    test_id = list(set(indices) - set(train_id))\n",
    "    train_mask = df.index.isin(train_id)\n",
    "    test_mask = df.index.isin(test_id)\n",
    "    cond = [train_mask, test_mask]\n",
    "    choice = [\"train\", \"test\"]\n",
    "    df['train_flag'] = np.select(cond, choice)\n",
    "    \n",
    "def get_cmsopen_data(samples, n_sig = 20000, n_bkg = 10000, bs=1000):\n",
    "        \n",
    "    #signal = samples[\"TTJets_signal\"] #samples[\"TTJets_centJER_signal\"] #samples[\"TTJets_signal_central\"]\n",
    "    #bkg = samples[\"QCD\"]\n",
    "    \n",
    "    signal = samples[\"TTJets_signal\"] #samples[\"TTJets_centJER_signal\"] #samples[\"TTJets_signal_central\"]\n",
    "    bkg = samples[\"QCD\"]\n",
    "    \n",
    "    train_test_split(signal, n_sig)\n",
    "    train_test_split(bkg, n_bkg)\n",
    "    \n",
    "    print(list(signal))\n",
    "    \n",
    "    signal[\"label\"] = 1\n",
    "    bkg[\"label\"] = 0\n",
    "    \n",
    "    signal_train = signal[signal[\"train_flag\"] == \"train\"]\n",
    "    signal_train[\"weights\"] = signal_train['trigger_weight'] * signal_train['btag_weight1']\n",
    "    signal_train[\"weights\"] = signal_train[\"weights\"] * (1. / np.mean(signal_train[\"weights\"]))\n",
    "    signal_test = signal[signal[\"train_flag\"] == \"test\"]\n",
    "    bkg_train = bkg[bkg[\"train_flag\"] == \"train\"]\n",
    "    bkg_train[\"weights\"] = bkg_train['btag_weight2']\n",
    "    bkg_train[\"weights\"] = bkg_train[\"weights\"] * (1. / np.mean(bkg_train[\"weights\"]))\n",
    "    bkg_test = bkg[bkg[\"train_flag\"] == \"test\"]\n",
    "    \n",
    "    train_data = pd.concat([signal_train, bkg_train], axis=0)\n",
    "    test_data = pd.concat([signal_test, bkg_test], axis=0)\n",
    "    \n",
    "    X_train = train_data[features].values\n",
    "    # Scale\n",
    "    scaler = preprocessing.StandardScaler().fit(X_train)\n",
    "    X_train = scaler.transform(X_train)\n",
    "    \n",
    "    y_train = train_data[\"label\"].values.reshape((-1,1))\n",
    "    weights_train = train_data[\"weights\"].values.reshape((-1,1))\n",
    "    \n",
    "    X_test = test_data[features].values\n",
    "    X_test = scaler.transform(X_test)\n",
    "    y_test = test_data[\"label\"].values.reshape((-1,1))\n",
    "    #weights_test= test_data[\"weights\"]\n",
    "\n",
    "    \n",
    "    trn = (X_train, y_train) #, weights_train)\n",
    "    val = (X_test, y_test)\n",
    "    \n",
    "    trn_dl = WeightedDataLoader(DataSet(*trn), batch_size=bs, shuffle=True, drop_last=True)\n",
    "    val_dl = WeightedDataLoader(DataSet(*val), batch_size=bs, shuffle=True)\n",
    "    data = DataPair(trn_dl, val_dl)\n",
    "    test = DataPair(WeightedDataLoader(DataSet(*trn), batch_size=bs), \n",
    "                    WeightedDataLoader(DataSet(*val), batch_size=bs))\n",
    "    \n",
    "    return data, test, scaler\n",
    "\n",
    "data, test, scaler = get_cmsopen_data(samples, n_sig = 5000, n_bkg = 5000, bs=256)"
   ]
  },
  {
   "cell_type": "code",
   "execution_count": null,
   "id": "789289a4",
   "metadata": {},
   "outputs": [],
   "source": []
  },
  {
   "cell_type": "markdown",
   "id": "32391887",
   "metadata": {},
   "source": [
    "## 2. BCE "
   ]
  },
  {
   "cell_type": "code",
   "execution_count": 7,
   "id": "7cb2c308",
   "metadata": {},
   "outputs": [],
   "source": [
    "net_bce = nn.Sequential(nn.Linear(4,12),  nn.ReLU(),\n",
    "                        nn.Linear(12,8), nn.ReLU(),\n",
    "                        nn.Linear(8,1),  nn.Sigmoid())\n",
    "#init_net(net)"
   ]
  },
  {
   "cell_type": "code",
   "execution_count": 8,
   "id": "4d7cc55c",
   "metadata": {},
   "outputs": [],
   "source": [
    "model_bce = ModelWrapper(net_bce)"
   ]
  },
  {
   "cell_type": "code",
   "execution_count": 9,
   "id": "8ea5920a",
   "metadata": {},
   "outputs": [
    {
     "data": {
      "text/html": [],
      "text/plain": [
       "<IPython.core.display.HTML object>"
      ]
     },
     "metadata": {},
     "output_type": "display_data"
    },
    {
     "name": "stdout",
     "output_type": "stream",
     "text": [
      "1: Train=0.6944303313891093 Valid=0.7679929555125802\n",
      "2: Train=0.6744054372494037 Valid=0.7345939460989137\n",
      "3: Train=0.6357877621283898 Valid=0.679681327214789\n",
      "4: Train=0.5729081263908973 Valid=0.6001548110700786\n",
      "5: Train=0.5057516487745138 Valid=0.5269800300533779\n",
      "6: Train=0.4583151462750557 Valid=0.47793824849703964\n",
      "7: Train=0.43172870843838423 Valid=0.44730049242242503\n",
      "8: Train=0.4180341958999634 Valid=0.4280279673846093\n",
      "9: Train=0.4103148549030989 Valid=0.41787914433248274\n",
      "10: Train=0.4057755623108301 Valid=0.4143416417629181\n",
      "11: Train=0.4029582624252026 Valid=0.4092950619567689\n",
      "12: Train=0.40083344242511654 Valid=0.40952936613964136\n",
      "13: Train=0.39984809511747116 Valid=0.40206557898449385\n",
      "14: Train=0.39822647816095597 Valid=0.4083749538350211\n",
      "15: Train=0.39758831873918193 Valid=0.3940213589479014\n",
      "16: Train=0.39632384670086396 Valid=0.40193845613201096\n",
      "17: Train=0.3957734069763086 Valid=0.39933333129885584\n",
      "18: Train=0.3945802656503824 Valid=0.3971516591379502\n",
      "19: Train=0.39390146350249267 Valid=0.3907003102475507\n",
      "20: Train=0.39358783073914355 Valid=0.3970962970088858\n",
      "21: Train=0.39269186288882524 Valid=0.39610233615604484\n",
      "22: Train=0.3920356539579538 Valid=0.38605261030826094\n",
      "23: Train=0.39157478014628094 Valid=0.3864301362629842\n",
      "24: Train=0.39176785258146435 Valid=0.40092051904106557\n",
      "25: Train=0.3910387036127922 Valid=0.387630957296035\n",
      "26: Train=0.3906890337283795 Valid=0.40119188650193716\n",
      "27: Train=0.39065650411141223 Valid=0.38235895370774237\n",
      "28: Train=0.39004600506562453 Valid=0.40859532555539346\n",
      "29: Train=0.39003704220820695 Valid=0.3874558537515121\n",
      "30: Train=0.3896005100164658 Valid=0.403127162598937\n",
      "31: Train=0.3890505540065276 Valid=0.3896045170916543\n",
      "32: Train=0.3897358591739948 Valid=0.38782257262326125\n",
      "33: Train=0.38960738976796466 Valid=0.3925463484419275\n",
      "34: Train=0.3895900616279015 Valid=0.3819191459038024\n",
      "35: Train=0.3891304700802534 Valid=0.3917904999913855\n",
      "36: Train=0.3892216185728709 Valid=0.379821479397786\n",
      "37: Train=0.3887896805237501 Valid=0.3914181696379163\n",
      "38: Train=0.3893054723739624 Valid=0.3754349565578446\n",
      "39: Train=0.39004968909116894 Valid=0.38238733455139795\n",
      "40: Train=0.3890092250628349 Valid=0.38474562784015576\n",
      "41: Train=0.38845405593896526 Valid=0.38775654613414906\n",
      "42: Train=0.38879577930157 Valid=0.38437555041597915\n",
      "43: Train=0.38890370573752964 Valid=0.38276339700868545\n",
      "44: Train=0.3889524646294423 Valid=0.38835859338401635\n",
      "45: Train=0.38809789373324466 Valid=0.38364953041497596\n",
      "46: Train=0.3883448159083342 Valid=0.38896994485685876\n",
      "47: Train=0.38925950343792254 Valid=0.38892843246230846\n",
      "48: Train=0.38848311931659013 Valid=0.39389539676619884\n",
      "49: Train=0.3885963505659348 Valid=0.39308996979660543\n",
      "50: Train=0.3881950836915236 Valid=0.3909540153160363\n"
     ]
    }
   ],
   "source": [
    "model_bce.fit(50, data=data, opt=partialler(optim.Adam), loss=nn.BCELoss(),\n",
    "              cbs=[LossTracker()])"
   ]
  },
  {
   "cell_type": "code",
   "execution_count": 10,
   "id": "f16a2200",
   "metadata": {},
   "outputs": [
    {
     "data": {
      "text/html": [
       "\n",
       "    <div>\n",
       "        <style>\n",
       "            /* Turns off some styling */\n",
       "            progress {\n",
       "                /* gets rid of default border in Firefox and Opera. */\n",
       "                border: none;\n",
       "                /* Needs to be in here for Safari polyfill so background images work as expected. */\n",
       "                background-size: auto;\n",
       "            }\n",
       "            .progress-bar-interrupted, .progress-bar-interrupted::-webkit-progress-bar {\n",
       "                background: #F44336;\n",
       "            }\n",
       "        </style>\n",
       "      <progress value='175' class='' max='175' style='width:300px; height:20px; vertical-align: middle;'></progress>\n",
       "      100.00% [175/175 00:00<00:00]\n",
       "    </div>\n",
       "    "
      ],
      "text/plain": [
       "<IPython.core.display.HTML object>"
      ]
     },
     "metadata": {},
     "output_type": "display_data"
    }
   ],
   "source": [
    "preds_bce = model_bce._predict_dl(test.val_dl)"
   ]
  },
  {
   "cell_type": "code",
   "execution_count": 11,
   "id": "459f96b7",
   "metadata": {},
   "outputs": [
    {
     "data": {
      "text/html": [
       "<div>\n",
       "<style scoped>\n",
       "    .dataframe tbody tr th:only-of-type {\n",
       "        vertical-align: middle;\n",
       "    }\n",
       "\n",
       "    .dataframe tbody tr th {\n",
       "        vertical-align: top;\n",
       "    }\n",
       "\n",
       "    .dataframe thead th {\n",
       "        text-align: right;\n",
       "    }\n",
       "</style>\n",
       "<table border=\"1\" class=\"dataframe\">\n",
       "  <thead>\n",
       "    <tr style=\"text-align: right;\">\n",
       "      <th></th>\n",
       "      <th>pred</th>\n",
       "      <th>gen_target</th>\n",
       "    </tr>\n",
       "  </thead>\n",
       "  <tbody>\n",
       "    <tr>\n",
       "      <th>0</th>\n",
       "      <td>0.960208</td>\n",
       "      <td>1</td>\n",
       "    </tr>\n",
       "    <tr>\n",
       "      <th>1</th>\n",
       "      <td>0.966470</td>\n",
       "      <td>1</td>\n",
       "    </tr>\n",
       "    <tr>\n",
       "      <th>2</th>\n",
       "      <td>0.857027</td>\n",
       "      <td>1</td>\n",
       "    </tr>\n",
       "    <tr>\n",
       "      <th>3</th>\n",
       "      <td>0.981640</td>\n",
       "      <td>1</td>\n",
       "    </tr>\n",
       "    <tr>\n",
       "      <th>4</th>\n",
       "      <td>0.951147</td>\n",
       "      <td>1</td>\n",
       "    </tr>\n",
       "  </tbody>\n",
       "</table>\n",
       "</div>"
      ],
      "text/plain": [
       "       pred  gen_target\n",
       "0  0.960208           1\n",
       "1  0.966470           1\n",
       "2  0.857027           1\n",
       "3  0.981640           1\n",
       "4  0.951147           1"
      ]
     },
     "execution_count": 11,
     "metadata": {},
     "output_type": "execute_result"
    }
   ],
   "source": [
    "df_bce = pd.DataFrame({'pred':preds_bce.squeeze()})\n",
    "df_bce['gen_target'] = test.val_dl.dataset.y\n",
    "df_bce.head()"
   ]
  },
  {
   "cell_type": "code",
   "execution_count": 12,
   "id": "f39c646f",
   "metadata": {},
   "outputs": [
    {
     "name": "stderr",
     "output_type": "stream",
     "text": [
      "/home/centos/env/lib64/python3.6/site-packages/seaborn/distributions.py:2557: FutureWarning: `distplot` is a deprecated function and will be removed in a future version. Please adapt your code to use either `displot` (a figure-level function with similar flexibility) or `histplot` (an axes-level function for histograms).\n",
      "  warnings.warn(msg, FutureWarning)\n",
      "/home/centos/env/lib64/python3.6/site-packages/seaborn/distributions.py:2557: FutureWarning: `distplot` is a deprecated function and will be removed in a future version. Please adapt your code to use either `displot` (a figure-level function with similar flexibility) or `histplot` (an axes-level function for histograms).\n",
      "  warnings.warn(msg, FutureWarning)\n"
     ]
    },
    {
     "data": {
      "image/png": "[encoded data removed]",
      "text/plain": [
       "<Figure size 1024x576 with 1 Axes>"
      ]
     },
     "metadata": {},
     "output_type": "display_data"
    }
   ],
   "source": [
    "plot_preds(df_bce)"
   ]
  },
  {
   "cell_type": "markdown",
   "id": "5cb47454",
   "metadata": {},
   "source": [
    "## 3. Train with inferno"
   ]
  },
  {
   "cell_type": "code",
   "execution_count": 13,
   "id": "abdbd2de",
   "metadata": {},
   "outputs": [
    {
     "data": {
      "text/html": [],
      "text/plain": [
       "<IPython.core.display.HTML object>"
      ]
     },
     "metadata": {},
     "output_type": "display_data"
    },
    {
     "name": "stdout",
     "output_type": "stream",
     "text": [
      "1: Train=1061.4306343274238 Valid=794.8263518415179\n",
      "2: Train=792.0332406850962 Valid=753.1937796456473\n",
      "3: Train=763.0660854241787 Valid=705.3866397530692\n",
      "4: Train=735.8278245192307 Valid=674.8502987234933\n",
      "5: Train=725.7186827048278 Valid=674.1247105189732\n",
      "6: Train=702.0796962640225 Valid=653.2334373256139\n",
      "7: Train=703.0301427596654 Valid=656.215023890904\n",
      "8: Train=700.1923366448818 Valid=636.0268069893973\n",
      "9: Train=685.7820137219551 Valid=622.6639259556362\n",
      "10: Train=694.99806252504 Valid=621.1144808523995\n",
      "11: Train=675.6193722455929 Valid=633.1311936732701\n",
      "12: Train=671.83888283754 Valid=618.864546421596\n",
      "13: Train=659.3517111753806 Valid=605.0637979561942\n",
      "14: Train=656.6796413323818 Valid=603.5904697963169\n",
      "15: Train=653.1213895357572 Valid=595.8025231933593\n",
      "16: Train=651.8672900077624 Valid=588.4214803641183\n",
      "17: Train=640.6160380045573 Valid=582.7234587751116\n",
      "18: Train=643.211420303736 Valid=592.3677301897321\n",
      "19: Train=646.2742833846654 Valid=616.7803161621093\n",
      "20: Train=637.9676670172275 Valid=582.2140211704799\n",
      "21: Train=636.2283818171575 Valid=579.7660006277902\n",
      "22: Train=637.1609763120994 Valid=573.503382219587\n",
      "23: Train=624.986567570613 Valid=578.2771233258928\n",
      "24: Train=630.6842893942809 Valid=570.8379881068638\n",
      "25: Train=629.6144565680088 Valid=574.1696887207031\n",
      "26: Train=627.6483209072015 Valid=584.7677364676339\n",
      "27: Train=623.853279309395 Valid=581.7175198800223\n",
      "28: Train=612.8809344951923 Valid=571.7733530970983\n",
      "29: Train=630.5428106845953 Valid=576.2500115094866\n",
      "30: Train=622.8284074832231 Valid=568.2485142299107\n",
      "31: Train=626.1885180351062 Valid=571.445750906808\n",
      "32: Train=611.9641653207632 Valid=563.8156366838728\n",
      "33: Train=613.511239858774 Valid=569.2140534319196\n",
      "34: Train=627.5037833971855 Valid=565.2030294363839\n",
      "35: Train=614.7774196526943 Valid=568.2193974958147\n",
      "36: Train=617.4637302496494 Valid=560.1529275948661\n",
      "37: Train=623.4126712114384 Valid=570.7793239048549\n",
      "38: Train=633.3097784580328 Valid=572.7327924455915\n",
      "39: Train=612.9131383651342 Valid=569.3185096958705\n",
      "40: Train=622.086184770633 Valid=575.9133850097656\n",
      "41: Train=612.0914666591547 Valid=553.6948181152344\n",
      "42: Train=618.0547798352363 Valid=562.6672126116072\n",
      "43: Train=613.3846005170773 Valid=557.0450634765625\n",
      "44: Train=615.7211288060897 Valid=572.5362773786272\n",
      "45: Train=602.0029875926482 Valid=554.806390032087\n",
      "46: Train=599.7720016088241 Valid=556.1134554617746\n",
      "47: Train=606.8064974271334 Valid=561.0846355329242\n",
      "48: Train=605.663076547476 Valid=559.0727005440848\n",
      "49: Train=611.5824115459735 Valid=559.2849375697544\n",
      "50: Train=604.5596556052184 Valid=564.4700882393973\n",
      "51: Train=612.7583297338241 Valid=554.9057608468192\n",
      "52: Train=601.9258062900641 Valid=559.6534966169085\n",
      "53: Train=606.4147878793569 Valid=557.588524344308\n",
      "54: Train=614.0646823980869 Valid=560.3364662388393\n",
      "55: Train=602.11620311248 Valid=548.0716291155134\n",
      "56: Train=600.2207140800281 Valid=564.9531113978794\n",
      "57: Train=610.9744786971654 Valid=556.2782013811384\n",
      "58: Train=602.5201298640325 Valid=551.1642684500558\n",
      "59: Train=606.4795446151342 Valid=555.672190813337\n",
      "60: Train=610.8353263659355 Valid=543.4650891113281\n",
      "61: Train=607.9817857008713 Valid=552.7063820103236\n",
      "62: Train=609.4166095440204 Valid=557.6627172851563\n",
      "63: Train=622.3454331618088 Valid=551.2666350446428\n",
      "64: Train=601.4974420009515 Valid=566.7208501325334\n",
      "65: Train=598.6170904697516 Valid=555.0496595982142\n",
      "66: Train=602.7989165477263 Valid=577.8257660784041\n",
      "67: Train=615.5198786808894 Valid=549.0312458147322\n",
      "68: Train=596.1176483936799 Valid=564.5071927315848\n",
      "69: Train=614.735116811899 Valid=563.7399363490514\n",
      "70: Train=599.8182153946315 Valid=554.6775606863839\n",
      "71: Train=601.8487580128206 Valid=571.8982758440291\n",
      "72: Train=598.0583926469852 Valid=553.3630875069755\n",
      "73: Train=602.7704342573116 Valid=554.3611075265067\n",
      "74: Train=602.5307366786859 Valid=558.8854842703684\n",
      "75: Train=595.3310288649338 Valid=553.5060567801339\n",
      "76: Train=595.276111309345 Valid=549.0694536481585\n",
      "77: Train=591.3277423565204 Valid=564.3277118791852\n",
      "78: Train=601.3097142928685 Valid=558.0866092354911\n",
      "79: Train=598.0604318472056 Valid=554.2752022879464\n",
      "80: Train=604.2722770495293 Valid=556.4609913853236\n",
      "81: Train=605.2490868201622 Valid=549.4638150460379\n",
      "82: Train=590.3631748297275 Valid=562.3691169084822\n",
      "83: Train=606.0900628505609 Valid=550.445447126116\n",
      "84: Train=601.7646922576122 Valid=545.4298924037388\n",
      "85: Train=601.5533353365385 Valid=554.0715980747768\n",
      "86: Train=594.7872447478466 Valid=556.4730618722098\n",
      "87: Train=600.4483423477565 Valid=561.2526935686384\n",
      "88: Train=599.0028811723759 Valid=545.0794970703125\n",
      "89: Train=599.531001946865 Valid=553.08859375\n",
      "90: Train=607.9725850423177 Valid=555.8975929478237\n",
      "91: Train=596.3979108761519 Valid=548.3992520577567\n",
      "92: Train=605.0984817896134 Valid=558.1998869977679\n",
      "93: Train=604.8965759277344 Valid=557.8067051478795\n",
      "94: Train=595.9339403983874 Valid=540.67935773577\n",
      "95: Train=601.4766900478265 Valid=554.2649070521763\n",
      "96: Train=598.1280329777644 Valid=568.8281004115513\n",
      "97: Train=601.5526076096755 Valid=565.099226422991\n",
      "98: Train=591.8393171261519 Valid=557.7280531529018\n",
      "99: Train=594.7183509239784 Valid=548.7166969517299\n",
      "100: Train=588.9072899451622 Valid=552.8268579101563\n"
     ]
    }
   ],
   "source": [
    "class CMSOpenInferno(AbsInferno):\n",
    "    r'''Inheriting class for dealing with INFERNO paper synthetic problem'''\n",
    "    @delegates(AbsInferno, but=['b_shape_alpha', 's_shape_alpha'])\n",
    "    def __init__(self, b_true:float=2800, mu_true:float=300, **kwargs):\n",
    "        super().__init__(b_true=b_true, mu_true=mu_true, **kwargs)\n",
    "\n",
    "    def _aug_data(self, x:Tensor) -> None:\n",
    "        pass\n",
    "    \n",
    "net_inferno_nonn = nn.Sequential(nn.Linear(4,100),  nn.ReLU(),\n",
    "                        nn.Linear(100,100), nn.ReLU(),\n",
    "                        nn.Linear(100,10), VariableSoftmax(0.1))\n",
    "#init_net(net)\n",
    "model_inferno_nonn = ModelWrapper(net_inferno_nonn)\n",
    "lt = LossTracker()\n",
    "model_inferno_nonn.fit(100, data=data, opt=partialler(optim.Adam,lr=1e-3), loss=None,\n",
    "                      cbs=[CMSOpenInferno(), lt])"
   ]
  },
  {
   "cell_type": "code",
   "execution_count": 14,
   "id": "481053f0",
   "metadata": {},
   "outputs": [],
   "source": [
    "class CMSOpenInferno(AbsInferno):\n",
    "    r'''Inheriting class for dealing with INFERNO paper synthetic problem'''\n",
    "    @delegates(AbsInferno, but=['b_shape_alpha', 's_shape_alpha'])\n",
    "    def __init__(self, b_true:float=2800, mu_true:float=300, **kwargs):\n",
    "        super().__init__(b_true=b_true, mu_true=mu_true, b_shape_alpha=True, \n",
    "                         n_shape_alphas=1, **kwargs)\n",
    "\n",
    "    def _aug_data(self, x:Tensor) -> None:\n",
    "        \n",
    "        x[self.b_mask,0] += self.alpha[self.shape_idxs[0]]"
   ]
  },
  {
   "cell_type": "code",
   "execution_count": 15,
   "id": "a529bd08",
   "metadata": {},
   "outputs": [],
   "source": [
    "net_inferno = nn.Sequential(nn.Linear(4,100),  nn.ReLU(),\n",
    "                        nn.Linear(100,100), nn.ReLU(),\n",
    "                        nn.Linear(100,10), VariableSoftmax(0.1))\n",
    "#init_net(net)\n",
    "model_inferno = ModelWrapper(net_inferno)"
   ]
  },
  {
   "cell_type": "code",
   "execution_count": 16,
   "id": "89b01061",
   "metadata": {},
   "outputs": [],
   "source": [
    "lt = LossTracker()"
   ]
  },
  {
   "cell_type": "code",
   "execution_count": 18,
   "id": "b1d47fd4",
   "metadata": {},
   "outputs": [
    {
     "data": {
      "text/html": [],
      "text/plain": [
       "<IPython.core.display.HTML object>"
      ]
     },
     "metadata": {},
     "output_type": "display_data"
    },
    {
     "name": "stdout",
     "output_type": "stream",
     "text": [
      "1: Train=1240.5667849809695 Valid=845.1743976702008\n",
      "2: Train=810.2691431290065 Valid=806.9039904785157\n",
      "3: Train=788.7434754982972 Valid=770.8526759556362\n",
      "4: Train=764.6871791741787 Valid=757.15732195173\n",
      "5: Train=753.3924857897637 Valid=727.8375484793527\n",
      "6: Train=741.1129627716847 Valid=710.7454523577009\n",
      "7: Train=731.4101797250601 Valid=701.3631454031809\n",
      "8: Train=720.0929972330729 Valid=689.4262663922991\n",
      "9: Train=706.6441634740585 Valid=686.7608884974888\n",
      "10: Train=707.1173479129106 Valid=684.8019288853236\n",
      "11: Train=701.1901229467147 Valid=661.7459807477678\n",
      "12: Train=693.7002751277043 Valid=677.4671843610491\n",
      "13: Train=708.5690691043169 Valid=673.6915630231584\n",
      "14: Train=692.1345793895232 Valid=656.9863506208147\n",
      "15: Train=692.1022511017628 Valid=670.4750903320313\n",
      "16: Train=687.4406268780048 Valid=653.408312639509\n",
      "17: Train=683.3737057416866 Valid=668.8049408830915\n",
      "18: Train=694.8106298202123 Valid=647.654203578404\n",
      "19: Train=674.3614486303085 Valid=639.8473266601562\n",
      "20: Train=684.2468660794772 Valid=631.4961647251674\n",
      "21: Train=686.1629529121594 Valid=645.7996943010603\n",
      "22: Train=683.4291186210437 Valid=619.3925280761719\n",
      "23: Train=667.3294450808794 Valid=627.5065398297991\n",
      "24: Train=675.2509092673278 Valid=631.9759727260044\n",
      "25: Train=677.0546366373698 Valid=616.2159352329799\n",
      "26: Train=665.7453887156951 Valid=620.5098041643415\n",
      "27: Train=662.6455758901743 Valid=628.7647017996652\n",
      "28: Train=665.739513690655 Valid=619.4781556919643\n",
      "29: Train=661.4299582456931 Valid=617.4365958077567\n",
      "30: Train=673.7224958370894 Valid=612.5832760184152\n",
      "31: Train=659.7106323242188 Valid=623.0058679199219\n",
      "32: Train=656.0420407026241 Valid=615.1989805385044\n",
      "33: Train=662.3606864733574 Valid=608.3277097865514\n",
      "34: Train=660.5283375275441 Valid=620.6805568150112\n",
      "35: Train=646.8420496231471 Valid=610.2495882742745\n",
      "36: Train=655.3847116323618 Valid=626.295068359375\n",
      "37: Train=656.1976075783754 Valid=621.4002472795759\n",
      "38: Train=652.5586070525341 Valid=627.4382993861607\n",
      "39: Train=645.4408475435697 Valid=609.462944859096\n",
      "40: Train=651.0902506510416 Valid=608.722069266183\n",
      "41: Train=642.7251884264824 Valid=618.2101592145648\n",
      "42: Train=641.3879809257312 Valid=606.0858675711496\n",
      "43: Train=657.3123927972256 Valid=597.6937920270648\n",
      "44: Train=656.8719427646735 Valid=610.0801339285714\n",
      "45: Train=654.3211325620994 Valid=612.0715241350447\n",
      "46: Train=658.6288765149238 Valid=603.741560407366\n",
      "47: Train=653.2281650641025 Valid=612.5412475585938\n",
      "48: Train=663.0406901041666 Valid=597.9726492745535\n",
      "49: Train=652.6242229755109 Valid=620.1882376534599\n",
      "50: Train=648.3938786433293 Valid=595.9916453334264\n",
      "51: Train=654.0392659505209 Valid=596.9205240304129\n",
      "52: Train=644.8799673227163 Valid=584.1437562779017\n",
      "53: Train=653.7162741636619 Valid=609.7655970982142\n",
      "54: Train=655.8655059031951 Valid=605.9417604282924\n",
      "55: Train=647.2217469826722 Valid=604.2642640904018\n",
      "56: Train=661.0832104805188 Valid=609.1540530831473\n",
      "57: Train=648.5936341897035 Valid=599.7047514997209\n",
      "58: Train=655.1378197303185 Valid=620.3575244140625\n",
      "59: Train=657.8410769731571 Valid=593.5468050711496\n",
      "60: Train=654.2874020307491 Valid=594.7254019601005\n",
      "61: Train=656.3717721792368 Valid=584.1410923549107\n",
      "62: Train=653.6136881510416 Valid=609.1130650111608\n",
      "63: Train=657.1539103190104 Valid=600.3889290945871\n",
      "64: Train=644.3689880371094 Valid=589.604470563616\n",
      "65: Train=646.0154285919972 Valid=587.4354750279018\n",
      "66: Train=644.431869115585 Valid=599.3889243861607\n",
      "67: Train=644.1915823129507 Valid=583.0067937360491\n",
      "68: Train=642.4022748898237 Valid=597.3990921456473\n",
      "69: Train=652.2949962126903 Valid=590.5192529296875\n",
      "70: Train=642.7799659142128 Valid=592.0323863002233\n",
      "71: Train=645.986558180589 Valid=591.8685006277901\n",
      "72: Train=634.4338253705929 Valid=590.3508748953683\n",
      "73: Train=644.3418939052484 Valid=596.2630732073103\n",
      "74: Train=642.2342435396635 Valid=597.3818723842076\n",
      "75: Train=635.3938348232172 Valid=591.497914515904\n",
      "76: Train=633.3107800605969 Valid=597.7986598423549\n",
      "77: Train=657.0325677333734 Valid=594.1559282575334\n",
      "78: Train=641.2110908703926 Valid=585.1928342982701\n",
      "79: Train=647.3914740146735 Valid=597.9806848144531\n",
      "80: Train=642.7656563000801 Valid=593.1378683035714\n",
      "81: Train=647.923098833133 Valid=599.015849609375\n",
      "82: Train=643.9129043970353 Valid=600.9169560895647\n",
      "83: Train=634.2359666090745 Valid=602.9823495047433\n",
      "84: Train=638.6504438351362 Valid=608.3490485491071\n",
      "85: Train=653.538821489383 Valid=597.87822265625\n",
      "86: Train=644.8814055613982 Valid=590.597778843471\n",
      "87: Train=624.8074450370593 Valid=583.6543455287389\n",
      "88: Train=646.8920561961638 Valid=596.309431501116\n",
      "89: Train=637.2660358135516 Valid=598.7093818010603\n",
      "90: Train=644.6642064803685 Valid=599.0312740652902\n",
      "91: Train=645.5843850160256 Valid=602.8096074567522\n",
      "92: Train=639.2106706668169 Valid=601.0903473772321\n",
      "93: Train=641.3378405448718 Valid=612.1370579310826\n",
      "94: Train=648.0791399050981 Valid=600.1639086914063\n",
      "95: Train=649.7338608961838 Valid=602.6291927664621\n",
      "96: Train=636.0698758638822 Valid=596.2488316127232\n",
      "97: Train=650.9560265174279 Valid=592.0418003627232\n",
      "98: Train=638.162108592498 Valid=597.4518113490514\n",
      "99: Train=646.5943760016025 Valid=604.7023367745536\n",
      "100: Train=639.4311163486578 Valid=617.1525394112723\n"
     ]
    }
   ],
   "source": [
    "shape_aux=[Normal(0,0.5)]\n",
    "model_inferno.fit(100, data=data, opt=partialler(optim.Adam,lr=1e-3), loss=None,\n",
    "                  cbs=[CMSOpenInferno(shape_aux=shape_aux), lt])"
   ]
  },
  {
   "cell_type": "code",
   "execution_count": 19,
   "id": "2d7dce9a",
   "metadata": {},
   "outputs": [
    {
     "data": {
      "text/plain": [
       "<matplotlib.legend.Legend at 0x7f86eeeb6da0>"
      ]
     },
     "execution_count": 19,
     "metadata": {},
     "output_type": "execute_result"
    },
    {
     "data": {
      "image/png": "[encoded data removed]",
      "text/plain": [
       "<Figure size 432x288 with 1 Axes>"
      ]
     },
     "metadata": {
      "needs_background": "light"
     },
     "output_type": "display_data"
    }
   ],
   "source": [
    "plt.plot(lt.losses[\"trn\"], label=\"train\")\n",
    "plt.plot(lt.losses[\"val\"], label=\"val\")\n",
    "plt.ylabel(r\"$\\sigma^2(\\mu)$\")\n",
    "plt.xlabel(r\"epoch\")\n",
    "plt.legend(loc=\"upper right\")"
   ]
  },
  {
   "cell_type": "code",
   "execution_count": 129,
   "id": "d99ff542",
   "metadata": {},
   "outputs": [],
   "source": [
    "class InfernoPred(PredHandler):\n",
    "    r'''Prediction handler for hard assignments'''\n",
    "    def get_preds(self) -> np.ndarray: return np.argmax(self.preds, 1)"
   ]
  },
  {
   "cell_type": "code",
   "execution_count": 130,
   "id": "033e2f3b",
   "metadata": {},
   "outputs": [
    {
     "data": {
      "text/html": [
       "\n",
       "    <div>\n",
       "        <style>\n",
       "            /* Turns off some styling */\n",
       "            progress {\n",
       "                /* gets rid of default border in Firefox and Opera. */\n",
       "                border: none;\n",
       "                /* Needs to be in here for Safari polyfill so background images work as expected. */\n",
       "                background-size: auto;\n",
       "            }\n",
       "            .progress-bar-interrupted, .progress-bar-interrupted::-webkit-progress-bar {\n",
       "                background: #F44336;\n",
       "            }\n",
       "        </style>\n",
       "      <progress value='175' class='' max='175' style='width:300px; height:20px; vertical-align: middle;'></progress>\n",
       "      100.00% [175/175 00:00<00:00]\n",
       "    </div>\n",
       "    "
      ],
      "text/plain": [
       "<IPython.core.display.HTML object>"
      ]
     },
     "metadata": {},
     "output_type": "display_data"
    }
   ],
   "source": [
    "preds_inferno = model_inferno._predict_dl(test.val_dl, pred_cb=InfernoPred())"
   ]
  },
  {
   "cell_type": "code",
   "execution_count": 131,
   "id": "0037df1a",
   "metadata": {},
   "outputs": [
    {
     "data": {
      "text/html": [
       "<div>\n",
       "<style scoped>\n",
       "    .dataframe tbody tr th:only-of-type {\n",
       "        vertical-align: middle;\n",
       "    }\n",
       "\n",
       "    .dataframe tbody tr th {\n",
       "        vertical-align: top;\n",
       "    }\n",
       "\n",
       "    .dataframe thead th {\n",
       "        text-align: right;\n",
       "    }\n",
       "</style>\n",
       "<table border=\"1\" class=\"dataframe\">\n",
       "  <thead>\n",
       "    <tr style=\"text-align: right;\">\n",
       "      <th></th>\n",
       "      <th>pred</th>\n",
       "      <th>gen_target</th>\n",
       "    </tr>\n",
       "  </thead>\n",
       "  <tbody>\n",
       "    <tr>\n",
       "      <th>0</th>\n",
       "      <td>2</td>\n",
       "      <td>1</td>\n",
       "    </tr>\n",
       "    <tr>\n",
       "      <th>1</th>\n",
       "      <td>2</td>\n",
       "      <td>1</td>\n",
       "    </tr>\n",
       "    <tr>\n",
       "      <th>2</th>\n",
       "      <td>4</td>\n",
       "      <td>1</td>\n",
       "    </tr>\n",
       "    <tr>\n",
       "      <th>3</th>\n",
       "      <td>6</td>\n",
       "      <td>1</td>\n",
       "    </tr>\n",
       "    <tr>\n",
       "      <th>4</th>\n",
       "      <td>3</td>\n",
       "      <td>1</td>\n",
       "    </tr>\n",
       "  </tbody>\n",
       "</table>\n",
       "</div>"
      ],
      "text/plain": [
       "   pred  gen_target\n",
       "0     2           1\n",
       "1     2           1\n",
       "2     4           1\n",
       "3     6           1\n",
       "4     3           1"
      ]
     },
     "execution_count": 131,
     "metadata": {},
     "output_type": "execute_result"
    }
   ],
   "source": [
    "df_inferno = pd.DataFrame({'pred':preds_inferno})\n",
    "df_inferno['gen_target'] = test.val_dl.dataset.y\n",
    "df_inferno.head()"
   ]
  },
  {
   "cell_type": "code",
   "execution_count": 132,
   "id": "3569d998",
   "metadata": {},
   "outputs": [
    {
     "name": "stderr",
     "output_type": "stream",
     "text": [
      "/home/centos/env/lib64/python3.6/site-packages/seaborn/distributions.py:2557: FutureWarning: `distplot` is a deprecated function and will be removed in a future version. Please adapt your code to use either `displot` (a figure-level function with similar flexibility) or `histplot` (an axes-level function for histograms).\n",
      "  warnings.warn(msg, FutureWarning)\n",
      "/home/centos/env/lib64/python3.6/site-packages/seaborn/distributions.py:2557: FutureWarning: `distplot` is a deprecated function and will be removed in a future version. Please adapt your code to use either `displot` (a figure-level function with similar flexibility) or `histplot` (an axes-level function for histograms).\n",
      "  warnings.warn(msg, FutureWarning)\n"
     ]
    },
    {
     "data": {
      "image/png": "[encoded data removed]",
      "text/plain": [
       "<Figure size 1024x576 with 1 Axes>"
      ]
     },
     "metadata": {},
     "output_type": "display_data"
    }
   ],
   "source": [
    "plot_preds(df_inferno, bin_edges=np.linspace(0,10,11))"
   ]
  },
  {
   "cell_type": "code",
   "execution_count": null,
   "id": "95545dae",
   "metadata": {},
   "outputs": [],
   "source": []
  },
  {
   "cell_type": "markdown",
   "id": "274264dd",
   "metadata": {},
   "source": [
    "## 3. Artificial systematics"
   ]
  },
  {
   "cell_type": "code",
   "execution_count": 27,
   "id": "c86c0280",
   "metadata": {},
   "outputs": [],
   "source": [
    "import copy"
   ]
  },
  {
   "cell_type": "code",
   "execution_count": 73,
   "id": "c60d8ea5",
   "metadata": {},
   "outputs": [],
   "source": [
    "def shift(X, y, shift, label = 0, axis=0):\n",
    "    X_var = copy.deepcopy(X)\n",
    "    mask = y==label\n",
    "    mask = mask.squeeze()\n",
    "    print(mask.shape)\n",
    "    print(X_var.shape)\n",
    "    X_var[mask,0] += shift\n",
    "    return X_var"
   ]
  },
  {
   "cell_type": "code",
   "execution_count": 74,
   "id": "1e943d69",
   "metadata": {},
   "outputs": [],
   "source": [
    "X = test.val_dl.dataset.x\n",
    "y = test.val_dl.dataset.y"
   ]
  },
  {
   "cell_type": "code",
   "execution_count": 75,
   "id": "402bb81c",
   "metadata": {},
   "outputs": [
    {
     "name": "stdout",
     "output_type": "stream",
     "text": [
      "(44746,)\n",
      "(44746, 4)\n",
      "(44746,)\n",
      "(44746, 4)\n"
     ]
    }
   ],
   "source": [
    "X_up = shift(X, y, 0.5, label = 0, axis=0)\n",
    "X_down = shift(X, y, -0.5, label = 0, axis=0)"
   ]
  },
  {
   "cell_type": "code",
   "execution_count": 76,
   "id": "793d14b3",
   "metadata": {},
   "outputs": [
    {
     "data": {
      "text/plain": [
       "(array([1.886e+03, 5.305e+03, 8.869e+03, 7.785e+03, 6.026e+03, 4.449e+03,\n",
       "        3.215e+03, 2.357e+03, 1.692e+03, 1.105e+03, 8.200e+02, 4.670e+02,\n",
       "        3.500e+02, 1.940e+02, 1.170e+02, 6.200e+01, 3.800e+01, 5.000e+00,\n",
       "        3.000e+00, 1.000e+00]),\n",
       " array([-1.68433838, -1.27054278, -0.85674718, -0.44295158, -0.02915598,\n",
       "         0.38463962,  0.79843522,  1.21223082,  1.62602642,  2.03982202,\n",
       "         2.45361761,  2.86741321,  3.28120881,  3.69500441,  4.10880001,\n",
       "         4.52259561,  4.93639121,  5.35018681,  5.76398241,  6.17777801,\n",
       "         6.59157361]),\n",
       " <BarContainer object of 20 artists>)"
      ]
     },
     "execution_count": 76,
     "metadata": {},
     "output_type": "execute_result"
    },
    {
     "data": {
      "image/png": "[encoded data removed]",
      "text/plain": [
       "<Figure size 432x288 with 1 Axes>"
      ]
     },
     "metadata": {
      "needs_background": "light"
     },
     "output_type": "display_data"
    }
   ],
   "source": [
    "plt.hist(X[:,0], bins=20, alpha=0.5)\n",
    "plt.hist(X_up[:,0], bins=20, alpha=0.5)\n",
    "plt.hist(X_down[:,0], bins=20, alpha=0.5)"
   ]
  },
  {
   "cell_type": "code",
   "execution_count": 117,
   "id": "044b19f8",
   "metadata": {},
   "outputs": [
    {
     "data": {
      "text/html": [
       "\n",
       "    <div>\n",
       "        <style>\n",
       "            /* Turns off some styling */\n",
       "            progress {\n",
       "                /* gets rid of default border in Firefox and Opera. */\n",
       "                border: none;\n",
       "                /* Needs to be in here for Safari polyfill so background images work as expected. */\n",
       "                background-size: auto;\n",
       "            }\n",
       "            .progress-bar-interrupted, .progress-bar-interrupted::-webkit-progress-bar {\n",
       "                background: #F44336;\n",
       "            }\n",
       "        </style>\n",
       "      <progress value='175' class='' max='175' style='width:300px; height:20px; vertical-align: middle;'></progress>\n",
       "      100.00% [175/175 00:00<00:00]\n",
       "    </div>\n",
       "    "
      ],
      "text/plain": [
       "<IPython.core.display.HTML object>"
      ]
     },
     "metadata": {},
     "output_type": "display_data"
    },
    {
     "data": {
      "text/html": [
       "\n",
       "    <div>\n",
       "        <style>\n",
       "            /* Turns off some styling */\n",
       "            progress {\n",
       "                /* gets rid of default border in Firefox and Opera. */\n",
       "                border: none;\n",
       "                /* Needs to be in here for Safari polyfill so background images work as expected. */\n",
       "                background-size: auto;\n",
       "            }\n",
       "            .progress-bar-interrupted, .progress-bar-interrupted::-webkit-progress-bar {\n",
       "                background: #F44336;\n",
       "            }\n",
       "        </style>\n",
       "      <progress value='175' class='' max='175' style='width:300px; height:20px; vertical-align: middle;'></progress>\n",
       "      100.00% [175/175 00:00<00:00]\n",
       "    </div>\n",
       "    "
      ],
      "text/plain": [
       "<IPython.core.display.HTML object>"
      ]
     },
     "metadata": {},
     "output_type": "display_data"
    }
   ],
   "source": [
    "df_bce[\"pred_up\"] = model_bce._predict_dl(WeightedDataLoader(DataSet(X_up, None, None), batch_size=256))\n",
    "df_bce[\"pred_down\"] = model_bce._predict_dl(WeightedDataLoader(DataSet(X_down, None, None), batch_size=256))"
   ]
  },
  {
   "cell_type": "code",
   "execution_count": 118,
   "id": "2d3d890c",
   "metadata": {},
   "outputs": [
    {
     "data": {
      "text/html": [
       "\n",
       "    <div>\n",
       "        <style>\n",
       "            /* Turns off some styling */\n",
       "            progress {\n",
       "                /* gets rid of default border in Firefox and Opera. */\n",
       "                border: none;\n",
       "                /* Needs to be in here for Safari polyfill so background images work as expected. */\n",
       "                background-size: auto;\n",
       "            }\n",
       "            .progress-bar-interrupted, .progress-bar-interrupted::-webkit-progress-bar {\n",
       "                background: #F44336;\n",
       "            }\n",
       "        </style>\n",
       "      <progress value='175' class='' max='175' style='width:300px; height:20px; vertical-align: middle;'></progress>\n",
       "      100.00% [175/175 00:00<00:00]\n",
       "    </div>\n",
       "    "
      ],
      "text/plain": [
       "<IPython.core.display.HTML object>"
      ]
     },
     "metadata": {},
     "output_type": "display_data"
    },
    {
     "data": {
      "text/html": [
       "\n",
       "    <div>\n",
       "        <style>\n",
       "            /* Turns off some styling */\n",
       "            progress {\n",
       "                /* gets rid of default border in Firefox and Opera. */\n",
       "                border: none;\n",
       "                /* Needs to be in here for Safari polyfill so background images work as expected. */\n",
       "                background-size: auto;\n",
       "            }\n",
       "            .progress-bar-interrupted, .progress-bar-interrupted::-webkit-progress-bar {\n",
       "                background: #F44336;\n",
       "            }\n",
       "        </style>\n",
       "      <progress value='175' class='' max='175' style='width:300px; height:20px; vertical-align: middle;'></progress>\n",
       "      100.00% [175/175 00:00<00:00]\n",
       "    </div>\n",
       "    "
      ],
      "text/plain": [
       "<IPython.core.display.HTML object>"
      ]
     },
     "metadata": {},
     "output_type": "display_data"
    }
   ],
   "source": [
    "df_inferno[\"pred_up\"] = model_inferno._predict_dl(WeightedDataLoader(DataSet(X_up, None, None), batch_size=256), pred_cb=InfernoPred())\n",
    "df_inferno[\"pred_down\"] = model_inferno._predict_dl(WeightedDataLoader(DataSet(X_down, None, None), batch_size=256), pred_cb=InfernoPred())"
   ]
  },
  {
   "cell_type": "code",
   "execution_count": 119,
   "id": "3ce1e8bd",
   "metadata": {},
   "outputs": [],
   "source": [
    "def plot_var(df, label):\n",
    "    plt.hist(df[df[\"gen_target\"]==label][\"pred_up\"], alpha=0.5, label=\"up\", density=True)\n",
    "    plt.hist(df[df[\"gen_target\"]==label][\"pred\"], alpha=0.5, label=\"nominal\", density=True)\n",
    "    plt.hist(df[df[\"gen_target\"]==label][\"pred_down\"], alpha=0.5, label=\"down\", density=True)\n",
    "    plt.legend(loc=\"upper right\")\n",
    "    plt.show()"
   ]
  },
  {
   "cell_type": "code",
   "execution_count": 120,
   "id": "c78a636e",
   "metadata": {},
   "outputs": [
    {
     "data": {
      "image/png": "[encoded data removed]",
      "text/plain": [
       "<Figure size 432x288 with 1 Axes>"
      ]
     },
     "metadata": {
      "needs_background": "light"
     },
     "output_type": "display_data"
    }
   ],
   "source": [
    "plot_var(df_bce, 0)"
   ]
  },
  {
   "cell_type": "code",
   "execution_count": 121,
   "id": "71cd1e04",
   "metadata": {},
   "outputs": [
    {
     "data": {
      "image/png": "[encoded data removed]",
      "text/plain": [
       "<Figure size 432x288 with 1 Axes>"
      ]
     },
     "metadata": {
      "needs_background": "light"
     },
     "output_type": "display_data"
    }
   ],
   "source": [
    "plot_var(df_inferno, 0)"
   ]
  },
  {
   "cell_type": "markdown",
   "id": "af186fc3",
   "metadata": {},
   "source": [
    "## 4. Store predictions"
   ]
  },
  {
   "cell_type": "code",
   "execution_count": 28,
   "id": "149c950e",
   "metadata": {},
   "outputs": [],
   "source": [
    "def shift_pred(X, shift):\n",
    "    X_var = copy.deepcopy(X)\n",
    "    X_var[:,0] += shift\n",
    "    return X_var"
   ]
  },
  {
   "cell_type": "code",
   "execution_count": 34,
   "id": "a2e1dda2",
   "metadata": {},
   "outputs": [],
   "source": [
    "def pred_samples(model, name):\n",
    "\n",
    "    for s in samples:\n",
    "\n",
    "        X = samples[s][features].values\n",
    "        X = scaler.transform(X)\n",
    "        loader = WeightedDataLoader(DataSet(X, None, None), batch_size=256)\n",
    "        if name == \"bce\":\n",
    "            samples[s][name] = model._predict_dl(loader)\n",
    "        else:\n",
    "            samples[s][name] = model._predict_dl(loader, pred_cb=InfernoPred())\n",
    "\n",
    "        if s == \"QCD\":\n",
    "            X_up = shift_pred(X,0.5)\n",
    "            X_down = shift_pred(X, -0.5)\n",
    "            if name == \"bce\":\n",
    "                samples[s][name + \"_up\"] = model._predict_dl(WeightedDataLoader(DataSet(X_up, None, None), batch_size=256))\n",
    "                samples[s][name + \"_down\"] = model._predict_dl(WeightedDataLoader(DataSet(X_down, None, None), batch_size=256))                \n",
    "            else:\n",
    "                samples[s][name + \"_up\"] = model._predict_dl(WeightedDataLoader(DataSet(X_up, None, None), batch_size=256), pred_cb=InfernoPred())\n",
    "                samples[s][name + \"_down\"] = model._predict_dl(WeightedDataLoader(DataSet(X_down, None, None), batch_size=256), pred_cb=InfernoPred())"
   ]
  },
  {
   "cell_type": "code",
   "execution_count": 35,
   "id": "8994a79e",
   "metadata": {},
   "outputs": [
    {
     "data": {
      "text/html": [
       "\n",
       "    <div>\n",
       "        <style>\n",
       "            /* Turns off some styling */\n",
       "            progress {\n",
       "                /* gets rid of default border in Firefox and Opera. */\n",
       "                border: none;\n",
       "                /* Needs to be in here for Safari polyfill so background images work as expected. */\n",
       "                background-size: auto;\n",
       "            }\n",
       "            .progress-bar-interrupted, .progress-bar-interrupted::-webkit-progress-bar {\n",
       "                background: #F44336;\n",
       "            }\n",
       "        </style>\n",
       "      <progress value='67' class='' max='67' style='width:300px; height:20px; vertical-align: middle;'></progress>\n",
       "      100.00% [67/67 00:00<00:00]\n",
       "    </div>\n",
       "    "
      ],
      "text/plain": [
       "<IPython.core.display.HTML object>"
      ]
     },
     "metadata": {},
     "output_type": "display_data"
    },
    {
     "data": {
      "text/html": [
       "\n",
       "    <div>\n",
       "        <style>\n",
       "            /* Turns off some styling */\n",
       "            progress {\n",
       "                /* gets rid of default border in Firefox and Opera. */\n",
       "                border: none;\n",
       "                /* Needs to be in here for Safari polyfill so background images work as expected. */\n",
       "                background-size: auto;\n",
       "            }\n",
       "            .progress-bar-interrupted, .progress-bar-interrupted::-webkit-progress-bar {\n",
       "                background: #F44336;\n",
       "            }\n",
       "        </style>\n",
       "      <progress value='1' class='' max='1' style='width:300px; height:20px; vertical-align: middle;'></progress>\n",
       "      100.00% [1/1 00:00<00:00]\n",
       "    </div>\n",
       "    "
      ],
      "text/plain": [
       "<IPython.core.display.HTML object>"
      ]
     },
     "metadata": {},
     "output_type": "display_data"
    },
    {
     "data": {
      "text/html": [
       "\n",
       "    <div>\n",
       "        <style>\n",
       "            /* Turns off some styling */\n",
       "            progress {\n",
       "                /* gets rid of default border in Firefox and Opera. */\n",
       "                border: none;\n",
       "                /* Needs to be in here for Safari polyfill so background images work as expected. */\n",
       "                background-size: auto;\n",
       "            }\n",
       "            .progress-bar-interrupted, .progress-bar-interrupted::-webkit-progress-bar {\n",
       "                background: #F44336;\n",
       "            }\n",
       "        </style>\n",
       "      <progress value='5' class='' max='5' style='width:300px; height:20px; vertical-align: middle;'></progress>\n",
       "      100.00% [5/5 00:00<00:00]\n",
       "    </div>\n",
       "    "
      ],
      "text/plain": [
       "<IPython.core.display.HTML object>"
      ]
     },
     "metadata": {},
     "output_type": "display_data"
    },
    {
     "data": {
      "text/html": [
       "\n",
       "    <div>\n",
       "        <style>\n",
       "            /* Turns off some styling */\n",
       "            progress {\n",
       "                /* gets rid of default border in Firefox and Opera. */\n",
       "                border: none;\n",
       "                /* Needs to be in here for Safari polyfill so background images work as expected. */\n",
       "                background-size: auto;\n",
       "            }\n",
       "            .progress-bar-interrupted, .progress-bar-interrupted::-webkit-progress-bar {\n",
       "                background: #F44336;\n",
       "            }\n",
       "        </style>\n",
       "      <progress value='44' class='' max='44' style='width:300px; height:20px; vertical-align: middle;'></progress>\n",
       "      100.00% [44/44 00:00<00:00]\n",
       "    </div>\n",
       "    "
      ],
      "text/plain": [
       "<IPython.core.display.HTML object>"
      ]
     },
     "metadata": {},
     "output_type": "display_data"
    },
    {
     "data": {
      "text/html": [
       "\n",
       "    <div>\n",
       "        <style>\n",
       "            /* Turns off some styling */\n",
       "            progress {\n",
       "                /* gets rid of default border in Firefox and Opera. */\n",
       "                border: none;\n",
       "                /* Needs to be in here for Safari polyfill so background images work as expected. */\n",
       "                background-size: auto;\n",
       "            }\n",
       "            .progress-bar-interrupted, .progress-bar-interrupted::-webkit-progress-bar {\n",
       "                background: #F44336;\n",
       "            }\n",
       "        </style>\n",
       "      <progress value='44' class='' max='44' style='width:300px; height:20px; vertical-align: middle;'></progress>\n",
       "      100.00% [44/44 00:00<00:00]\n",
       "    </div>\n",
       "    "
      ],
      "text/plain": [
       "<IPython.core.display.HTML object>"
      ]
     },
     "metadata": {},
     "output_type": "display_data"
    },
    {
     "data": {
      "text/html": [
       "\n",
       "    <div>\n",
       "        <style>\n",
       "            /* Turns off some styling */\n",
       "            progress {\n",
       "                /* gets rid of default border in Firefox and Opera. */\n",
       "                border: none;\n",
       "                /* Needs to be in here for Safari polyfill so background images work as expected. */\n",
       "                background-size: auto;\n",
       "            }\n",
       "            .progress-bar-interrupted, .progress-bar-interrupted::-webkit-progress-bar {\n",
       "                background: #F44336;\n",
       "            }\n",
       "        </style>\n",
       "      <progress value='44' class='' max='44' style='width:300px; height:20px; vertical-align: middle;'></progress>\n",
       "      100.00% [44/44 00:00<00:00]\n",
       "    </div>\n",
       "    "
      ],
      "text/plain": [
       "<IPython.core.display.HTML object>"
      ]
     },
     "metadata": {},
     "output_type": "display_data"
    },
    {
     "data": {
      "text/html": [
       "\n",
       "    <div>\n",
       "        <style>\n",
       "            /* Turns off some styling */\n",
       "            progress {\n",
       "                /* gets rid of default border in Firefox and Opera. */\n",
       "                border: none;\n",
       "                /* Needs to be in here for Safari polyfill so background images work as expected. */\n",
       "                background-size: auto;\n",
       "            }\n",
       "            .progress-bar-interrupted, .progress-bar-interrupted::-webkit-progress-bar {\n",
       "                background: #F44336;\n",
       "            }\n",
       "        </style>\n",
       "      <progress value='171' class='' max='171' style='width:300px; height:20px; vertical-align: middle;'></progress>\n",
       "      100.00% [171/171 00:00<00:00]\n",
       "    </div>\n",
       "    "
      ],
      "text/plain": [
       "<IPython.core.display.HTML object>"
      ]
     },
     "metadata": {},
     "output_type": "display_data"
    },
    {
     "data": {
      "text/html": [
       "\n",
       "    <div>\n",
       "        <style>\n",
       "            /* Turns off some styling */\n",
       "            progress {\n",
       "                /* gets rid of default border in Firefox and Opera. */\n",
       "                border: none;\n",
       "                /* Needs to be in here for Safari polyfill so background images work as expected. */\n",
       "                background-size: auto;\n",
       "            }\n",
       "            .progress-bar-interrupted, .progress-bar-interrupted::-webkit-progress-bar {\n",
       "                background: #F44336;\n",
       "            }\n",
       "        </style>\n",
       "      <progress value='13' class='' max='13' style='width:300px; height:20px; vertical-align: middle;'></progress>\n",
       "      100.00% [13/13 00:00<00:00]\n",
       "    </div>\n",
       "    "
      ],
      "text/plain": [
       "<IPython.core.display.HTML object>"
      ]
     },
     "metadata": {},
     "output_type": "display_data"
    }
   ],
   "source": [
    "pred_samples(model_bce, \"bce\")"
   ]
  },
  {
   "cell_type": "code",
   "execution_count": 38,
   "id": "bf3a99d8",
   "metadata": {},
   "outputs": [
    {
     "data": {
      "text/plain": [
       "0        0.039839\n",
       "1        0.371840\n",
       "2        0.246228\n",
       "3        0.039545\n",
       "4        0.095067\n",
       "           ...   \n",
       "11171    0.315371\n",
       "11172    0.135686\n",
       "11173    0.088991\n",
       "11174    0.146870\n",
       "11175    0.014055\n",
       "Name: bce_down, Length: 11176, dtype: float32"
      ]
     },
     "execution_count": 38,
     "metadata": {},
     "output_type": "execute_result"
    }
   ],
   "source": [
    "samples[\"QCD\"][\"bce_down\"]"
   ]
  },
  {
   "cell_type": "code",
   "execution_count": 39,
   "id": "686fe34c",
   "metadata": {},
   "outputs": [
    {
     "data": {
      "text/html": [
       "\n",
       "    <div>\n",
       "        <style>\n",
       "            /* Turns off some styling */\n",
       "            progress {\n",
       "                /* gets rid of default border in Firefox and Opera. */\n",
       "                border: none;\n",
       "                /* Needs to be in here for Safari polyfill so background images work as expected. */\n",
       "                background-size: auto;\n",
       "            }\n",
       "            .progress-bar-interrupted, .progress-bar-interrupted::-webkit-progress-bar {\n",
       "                background: #F44336;\n",
       "            }\n",
       "        </style>\n",
       "      <progress value='67' class='' max='67' style='width:300px; height:20px; vertical-align: middle;'></progress>\n",
       "      100.00% [67/67 00:00<00:00]\n",
       "    </div>\n",
       "    "
      ],
      "text/plain": [
       "<IPython.core.display.HTML object>"
      ]
     },
     "metadata": {},
     "output_type": "display_data"
    },
    {
     "data": {
      "text/html": [
       "\n",
       "    <div>\n",
       "        <style>\n",
       "            /* Turns off some styling */\n",
       "            progress {\n",
       "                /* gets rid of default border in Firefox and Opera. */\n",
       "                border: none;\n",
       "                /* Needs to be in here for Safari polyfill so background images work as expected. */\n",
       "                background-size: auto;\n",
       "            }\n",
       "            .progress-bar-interrupted, .progress-bar-interrupted::-webkit-progress-bar {\n",
       "                background: #F44336;\n",
       "            }\n",
       "        </style>\n",
       "      <progress value='1' class='' max='1' style='width:300px; height:20px; vertical-align: middle;'></progress>\n",
       "      100.00% [1/1 00:00<00:00]\n",
       "    </div>\n",
       "    "
      ],
      "text/plain": [
       "<IPython.core.display.HTML object>"
      ]
     },
     "metadata": {},
     "output_type": "display_data"
    },
    {
     "data": {
      "text/html": [
       "\n",
       "    <div>\n",
       "        <style>\n",
       "            /* Turns off some styling */\n",
       "            progress {\n",
       "                /* gets rid of default border in Firefox and Opera. */\n",
       "                border: none;\n",
       "                /* Needs to be in here for Safari polyfill so background images work as expected. */\n",
       "                background-size: auto;\n",
       "            }\n",
       "            .progress-bar-interrupted, .progress-bar-interrupted::-webkit-progress-bar {\n",
       "                background: #F44336;\n",
       "            }\n",
       "        </style>\n",
       "      <progress value='5' class='' max='5' style='width:300px; height:20px; vertical-align: middle;'></progress>\n",
       "      100.00% [5/5 00:00<00:00]\n",
       "    </div>\n",
       "    "
      ],
      "text/plain": [
       "<IPython.core.display.HTML object>"
      ]
     },
     "metadata": {},
     "output_type": "display_data"
    },
    {
     "data": {
      "text/html": [
       "\n",
       "    <div>\n",
       "        <style>\n",
       "            /* Turns off some styling */\n",
       "            progress {\n",
       "                /* gets rid of default border in Firefox and Opera. */\n",
       "                border: none;\n",
       "                /* Needs to be in here for Safari polyfill so background images work as expected. */\n",
       "                background-size: auto;\n",
       "            }\n",
       "            .progress-bar-interrupted, .progress-bar-interrupted::-webkit-progress-bar {\n",
       "                background: #F44336;\n",
       "            }\n",
       "        </style>\n",
       "      <progress value='44' class='' max='44' style='width:300px; height:20px; vertical-align: middle;'></progress>\n",
       "      100.00% [44/44 00:00<00:00]\n",
       "    </div>\n",
       "    "
      ],
      "text/plain": [
       "<IPython.core.display.HTML object>"
      ]
     },
     "metadata": {},
     "output_type": "display_data"
    },
    {
     "data": {
      "text/html": [
       "\n",
       "    <div>\n",
       "        <style>\n",
       "            /* Turns off some styling */\n",
       "            progress {\n",
       "                /* gets rid of default border in Firefox and Opera. */\n",
       "                border: none;\n",
       "                /* Needs to be in here for Safari polyfill so background images work as expected. */\n",
       "                background-size: auto;\n",
       "            }\n",
       "            .progress-bar-interrupted, .progress-bar-interrupted::-webkit-progress-bar {\n",
       "                background: #F44336;\n",
       "            }\n",
       "        </style>\n",
       "      <progress value='44' class='' max='44' style='width:300px; height:20px; vertical-align: middle;'></progress>\n",
       "      100.00% [44/44 00:00<00:00]\n",
       "    </div>\n",
       "    "
      ],
      "text/plain": [
       "<IPython.core.display.HTML object>"
      ]
     },
     "metadata": {},
     "output_type": "display_data"
    },
    {
     "data": {
      "text/html": [
       "\n",
       "    <div>\n",
       "        <style>\n",
       "            /* Turns off some styling */\n",
       "            progress {\n",
       "                /* gets rid of default border in Firefox and Opera. */\n",
       "                border: none;\n",
       "                /* Needs to be in here for Safari polyfill so background images work as expected. */\n",
       "                background-size: auto;\n",
       "            }\n",
       "            .progress-bar-interrupted, .progress-bar-interrupted::-webkit-progress-bar {\n",
       "                background: #F44336;\n",
       "            }\n",
       "        </style>\n",
       "      <progress value='44' class='' max='44' style='width:300px; height:20px; vertical-align: middle;'></progress>\n",
       "      100.00% [44/44 00:00<00:00]\n",
       "    </div>\n",
       "    "
      ],
      "text/plain": [
       "<IPython.core.display.HTML object>"
      ]
     },
     "metadata": {},
     "output_type": "display_data"
    },
    {
     "data": {
      "text/html": [
       "\n",
       "    <div>\n",
       "        <style>\n",
       "            /* Turns off some styling */\n",
       "            progress {\n",
       "                /* gets rid of default border in Firefox and Opera. */\n",
       "                border: none;\n",
       "                /* Needs to be in here for Safari polyfill so background images work as expected. */\n",
       "                background-size: auto;\n",
       "            }\n",
       "            .progress-bar-interrupted, .progress-bar-interrupted::-webkit-progress-bar {\n",
       "                background: #F44336;\n",
       "            }\n",
       "        </style>\n",
       "      <progress value='171' class='' max='171' style='width:300px; height:20px; vertical-align: middle;'></progress>\n",
       "      100.00% [171/171 00:00<00:00]\n",
       "    </div>\n",
       "    "
      ],
      "text/plain": [
       "<IPython.core.display.HTML object>"
      ]
     },
     "metadata": {},
     "output_type": "display_data"
    },
    {
     "data": {
      "text/html": [
       "\n",
       "    <div>\n",
       "        <style>\n",
       "            /* Turns off some styling */\n",
       "            progress {\n",
       "                /* gets rid of default border in Firefox and Opera. */\n",
       "                border: none;\n",
       "                /* Needs to be in here for Safari polyfill so background images work as expected. */\n",
       "                background-size: auto;\n",
       "            }\n",
       "            .progress-bar-interrupted, .progress-bar-interrupted::-webkit-progress-bar {\n",
       "                background: #F44336;\n",
       "            }\n",
       "        </style>\n",
       "      <progress value='13' class='' max='13' style='width:300px; height:20px; vertical-align: middle;'></progress>\n",
       "      100.00% [13/13 00:00<00:00]\n",
       "    </div>\n",
       "    "
      ],
      "text/plain": [
       "<IPython.core.display.HTML object>"
      ]
     },
     "metadata": {},
     "output_type": "display_data"
    }
   ],
   "source": [
    "pred_samples(model_inferno_nonn, \"inferno_nonn\")"
   ]
  },
  {
   "cell_type": "code",
   "execution_count": 41,
   "id": "01c285fe",
   "metadata": {},
   "outputs": [
    {
     "data": {
      "text/html": [
       "\n",
       "    <div>\n",
       "        <style>\n",
       "            /* Turns off some styling */\n",
       "            progress {\n",
       "                /* gets rid of default border in Firefox and Opera. */\n",
       "                border: none;\n",
       "                /* Needs to be in here for Safari polyfill so background images work as expected. */\n",
       "                background-size: auto;\n",
       "            }\n",
       "            .progress-bar-interrupted, .progress-bar-interrupted::-webkit-progress-bar {\n",
       "                background: #F44336;\n",
       "            }\n",
       "        </style>\n",
       "      <progress value='67' class='' max='67' style='width:300px; height:20px; vertical-align: middle;'></progress>\n",
       "      100.00% [67/67 00:00<00:00]\n",
       "    </div>\n",
       "    "
      ],
      "text/plain": [
       "<IPython.core.display.HTML object>"
      ]
     },
     "metadata": {},
     "output_type": "display_data"
    },
    {
     "data": {
      "text/html": [
       "\n",
       "    <div>\n",
       "        <style>\n",
       "            /* Turns off some styling */\n",
       "            progress {\n",
       "                /* gets rid of default border in Firefox and Opera. */\n",
       "                border: none;\n",
       "                /* Needs to be in here for Safari polyfill so background images work as expected. */\n",
       "                background-size: auto;\n",
       "            }\n",
       "            .progress-bar-interrupted, .progress-bar-interrupted::-webkit-progress-bar {\n",
       "                background: #F44336;\n",
       "            }\n",
       "        </style>\n",
       "      <progress value='1' class='' max='1' style='width:300px; height:20px; vertical-align: middle;'></progress>\n",
       "      100.00% [1/1 00:00<00:00]\n",
       "    </div>\n",
       "    "
      ],
      "text/plain": [
       "<IPython.core.display.HTML object>"
      ]
     },
     "metadata": {},
     "output_type": "display_data"
    },
    {
     "data": {
      "text/html": [
       "\n",
       "    <div>\n",
       "        <style>\n",
       "            /* Turns off some styling */\n",
       "            progress {\n",
       "                /* gets rid of default border in Firefox and Opera. */\n",
       "                border: none;\n",
       "                /* Needs to be in here for Safari polyfill so background images work as expected. */\n",
       "                background-size: auto;\n",
       "            }\n",
       "            .progress-bar-interrupted, .progress-bar-interrupted::-webkit-progress-bar {\n",
       "                background: #F44336;\n",
       "            }\n",
       "        </style>\n",
       "      <progress value='5' class='' max='5' style='width:300px; height:20px; vertical-align: middle;'></progress>\n",
       "      100.00% [5/5 00:00<00:00]\n",
       "    </div>\n",
       "    "
      ],
      "text/plain": [
       "<IPython.core.display.HTML object>"
      ]
     },
     "metadata": {},
     "output_type": "display_data"
    },
    {
     "data": {
      "text/html": [
       "\n",
       "    <div>\n",
       "        <style>\n",
       "            /* Turns off some styling */\n",
       "            progress {\n",
       "                /* gets rid of default border in Firefox and Opera. */\n",
       "                border: none;\n",
       "                /* Needs to be in here for Safari polyfill so background images work as expected. */\n",
       "                background-size: auto;\n",
       "            }\n",
       "            .progress-bar-interrupted, .progress-bar-interrupted::-webkit-progress-bar {\n",
       "                background: #F44336;\n",
       "            }\n",
       "        </style>\n",
       "      <progress value='44' class='' max='44' style='width:300px; height:20px; vertical-align: middle;'></progress>\n",
       "      100.00% [44/44 00:00<00:00]\n",
       "    </div>\n",
       "    "
      ],
      "text/plain": [
       "<IPython.core.display.HTML object>"
      ]
     },
     "metadata": {},
     "output_type": "display_data"
    },
    {
     "data": {
      "text/html": [
       "\n",
       "    <div>\n",
       "        <style>\n",
       "            /* Turns off some styling */\n",
       "            progress {\n",
       "                /* gets rid of default border in Firefox and Opera. */\n",
       "                border: none;\n",
       "                /* Needs to be in here for Safari polyfill so background images work as expected. */\n",
       "                background-size: auto;\n",
       "            }\n",
       "            .progress-bar-interrupted, .progress-bar-interrupted::-webkit-progress-bar {\n",
       "                background: #F44336;\n",
       "            }\n",
       "        </style>\n",
       "      <progress value='44' class='' max='44' style='width:300px; height:20px; vertical-align: middle;'></progress>\n",
       "      100.00% [44/44 00:00<00:00]\n",
       "    </div>\n",
       "    "
      ],
      "text/plain": [
       "<IPython.core.display.HTML object>"
      ]
     },
     "metadata": {},
     "output_type": "display_data"
    },
    {
     "data": {
      "text/html": [
       "\n",
       "    <div>\n",
       "        <style>\n",
       "            /* Turns off some styling */\n",
       "            progress {\n",
       "                /* gets rid of default border in Firefox and Opera. */\n",
       "                border: none;\n",
       "                /* Needs to be in here for Safari polyfill so background images work as expected. */\n",
       "                background-size: auto;\n",
       "            }\n",
       "            .progress-bar-interrupted, .progress-bar-interrupted::-webkit-progress-bar {\n",
       "                background: #F44336;\n",
       "            }\n",
       "        </style>\n",
       "      <progress value='44' class='' max='44' style='width:300px; height:20px; vertical-align: middle;'></progress>\n",
       "      100.00% [44/44 00:00<00:00]\n",
       "    </div>\n",
       "    "
      ],
      "text/plain": [
       "<IPython.core.display.HTML object>"
      ]
     },
     "metadata": {},
     "output_type": "display_data"
    },
    {
     "data": {
      "text/html": [
       "\n",
       "    <div>\n",
       "        <style>\n",
       "            /* Turns off some styling */\n",
       "            progress {\n",
       "                /* gets rid of default border in Firefox and Opera. */\n",
       "                border: none;\n",
       "                /* Needs to be in here for Safari polyfill so background images work as expected. */\n",
       "                background-size: auto;\n",
       "            }\n",
       "            .progress-bar-interrupted, .progress-bar-interrupted::-webkit-progress-bar {\n",
       "                background: #F44336;\n",
       "            }\n",
       "        </style>\n",
       "      <progress value='171' class='' max='171' style='width:300px; height:20px; vertical-align: middle;'></progress>\n",
       "      100.00% [171/171 00:00<00:00]\n",
       "    </div>\n",
       "    "
      ],
      "text/plain": [
       "<IPython.core.display.HTML object>"
      ]
     },
     "metadata": {},
     "output_type": "display_data"
    },
    {
     "data": {
      "text/html": [
       "\n",
       "    <div>\n",
       "        <style>\n",
       "            /* Turns off some styling */\n",
       "            progress {\n",
       "                /* gets rid of default border in Firefox and Opera. */\n",
       "                border: none;\n",
       "                /* Needs to be in here for Safari polyfill so background images work as expected. */\n",
       "                background-size: auto;\n",
       "            }\n",
       "            .progress-bar-interrupted, .progress-bar-interrupted::-webkit-progress-bar {\n",
       "                background: #F44336;\n",
       "            }\n",
       "        </style>\n",
       "      <progress value='13' class='' max='13' style='width:300px; height:20px; vertical-align: middle;'></progress>\n",
       "      100.00% [13/13 00:00<00:00]\n",
       "    </div>\n",
       "    "
      ],
      "text/plain": [
       "<IPython.core.display.HTML object>"
      ]
     },
     "metadata": {},
     "output_type": "display_data"
    }
   ],
   "source": [
    "pred_samples(model_inferno_nonn, \"inferno\")"
   ]
  },
  {
   "cell_type": "code",
   "execution_count": 45,
   "id": "b24693c3",
   "metadata": {},
   "outputs": [],
   "source": [
    "outpath = \"/home/centos/data/inferno\"\n",
    "for s in samples:\n",
    "    samples[s].to_hdf(outpath + \"/\" + s + \".h5\", \"frame\")"
   ]
  },
  {
   "cell_type": "code",
   "execution_count": null,
   "id": "c7032a4f",
   "metadata": {},
   "outputs": [],
   "source": []
  },
  {
   "cell_type": "code",
   "execution_count": null,
   "id": "45647c8d",
   "metadata": {},
   "outputs": [],
   "source": []
  }
 ],
 "metadata": {
  "kernelspec": {
   "display_name": "Python 3",
   "language": "python",
   "name": "python3"
  },
  "language_info": {
   "codemirror_mode": {
    "name": "ipython",
    "version": 3
   },
   "file_extension": ".py",
   "mimetype": "text/x-python",
   "name": "python",
   "nbconvert_exporter": "python",
   "pygments_lexer": "ipython3",
   "version": "3.6.8"
  }
 },
 "nbformat": 4,
 "nbformat_minor": 5
}
