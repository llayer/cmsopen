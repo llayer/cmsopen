{
 "cells": [
  {
   "cell_type": "code",
   "execution_count": 1,
   "id": "80d0b7e1",
   "metadata": {},
   "outputs": [],
   "source": [
    "import pandas as pd\n",
    "import importlib"
   ]
  },
  {
   "cell_type": "code",
   "execution_count": 2,
   "id": "d3fcb547",
   "metadata": {},
   "outputs": [],
   "source": [
    "import run_cmsopen\n",
    "from pytorch_inferno.data import *"
   ]
  },
  {
   "cell_type": "code",
   "execution_count": 26,
   "id": "bf913eec",
   "metadata": {},
   "outputs": [
    {
     "data": {
      "text/plain": [
       "<module 'run_cmsopen' from '/home/centos/dev/pytorch_inferno/experiments/run_cmsopen.py'>"
      ]
     },
     "execution_count": 26,
     "metadata": {},
     "output_type": "execute_result"
    }
   ],
   "source": [
    "importlib.reload(run_cmsopen)"
   ]
  },
  {
   "cell_type": "markdown",
   "id": "1e8c39a3",
   "metadata": {},
   "source": [
    "## Load data"
   ]
  },
  {
   "cell_type": "code",
   "execution_count": 27,
   "id": "323bbc39",
   "metadata": {},
   "outputs": [],
   "source": [
    "#features = ['ht', 'aplanarity', 'sphericity', 'chargeEta', 'MET_met', 'deltaPhiTauMet', 'mt', 'mTauJet']\n",
    "features = ['aplanarity', 'chargeEta', 'MET_met', 'deltaPhiTauMet']\n",
    "shape_syst = [\"jes\"]\n",
    "weight_syst = [\"btag_weight1\"]\n",
    "use_weights = False\n",
    "\n",
    "# Parameters for INFERNO training\n",
    "inferno_args = {}\n",
    "# Signal and bkg\n",
    "inferno_args[\"b_true\"] = 2800\n",
    "inferno_args[\"mu_true\"] = 400\n",
    "# Number of shape nuisances\n",
    "inferno_args[\"n_shape_alphas\"] = len(shape_syst) + len(weight_syst)\n",
    "# Constraints on the nuisance parameters - typically should be N(0,1) if +-1sigma templates are provided\n",
    "inferno_args[\"shape_aux\"] = None\n",
    "# Uncertainties on signal norm - should be Normal(0,s) with s in absolute event numbers\n",
    "inferno_args[\"s_norm_aux\"] = None\n",
    "# Boolean whether to let the background float\n",
    "inferno_args[\"nonaux_b_norm\"] = False\n",
    "\n",
    "train_args = {}\n",
    "train_args[\"lr\"] = 1e-3\n",
    "train_args[\"n_feats\"] = 4\n",
    "train_args[\"neurons\"] = 100\n",
    "train_args[\"bins\"] = 10\n",
    "train_args[\"temperature\"] = 0.1\n",
    "train_args[\"weights\"] = False"
   ]
  },
  {
   "cell_type": "code",
   "execution_count": 28,
   "id": "45414d01",
   "metadata": {},
   "outputs": [],
   "source": [
    "OUTPATH = \"/home/centos/data/inferno_cmsopen7\"\n",
    "\n",
    "bs = 1000\n",
    "n_sig = 20000\n",
    "epochs = 2\n",
    "store = True\n"
   ]
  },
  {
   "cell_type": "code",
   "execution_count": 29,
   "id": "37ae6cab",
   "metadata": {},
   "outputs": [
    {
     "name": "stdout",
     "output_type": "stream",
     "text": [
      "*********************\n",
      "Summary training data\n",
      "Features ['aplanarity', 'chargeEta', 'MET_met', 'deltaPhiTauMet']\n",
      "Shape systematics ['jes']\n",
      "Weight systematics ['btag_weight1']\n",
      "Use weights False\n",
      "Number of signal training / test events: 20000 23570\n",
      "Number of bkg training / test events: 5000 6176\n",
      "*********************\n",
      "*********************\n",
      "Summary dataloader\n",
      "batch size 1000\n",
      "epochs 2\n",
      "x torch.Size([4, 5])\n",
      "y tensor([1.])\n",
      "w None\n",
      "*********************\n",
      "*********************\n",
      "Summary NN setup\n",
      "learning rate 0.001\n",
      "n_feats 4\n",
      "neurons 100\n",
      "temperature 0.1\n",
      "bins 10\n",
      "weights False\n",
      "*********************\n",
      "*********************\n",
      "Summary INFERNO setup\n",
      "b_true 2800\n",
      "mu_true 400\n",
      "nshape_alphas 2\n",
      "shape_aux None\n",
      "s_norm_aux []\n",
      "n_alpha 3\n",
      "*********************\n"
     ]
    },
    {
     "data": {
      "text/html": [],
      "text/plain": [
       "<IPython.core.display.HTML object>"
      ]
     },
     "metadata": {},
     "output_type": "display_data"
    },
    {
     "name": "stdout",
     "output_type": "stream",
     "text": [
      "1: Train=1819.374072265625 Valid=1431.3161073882004\n",
      "2: Train=1374.4532373046875 Valid=1341.6915556808997\n"
     ]
    },
    {
     "data": {
      "text/html": [
       "\n",
       "    <div>\n",
       "        <style>\n",
       "            /* Turns off some styling */\n",
       "            progress {\n",
       "                /* gets rid of default border in Firefox and Opera. */\n",
       "                border: none;\n",
       "                /* Needs to be in here for Safari polyfill so background images work as expected. */\n",
       "                background-size: auto;\n",
       "            }\n",
       "            .progress-bar-interrupted, .progress-bar-interrupted::-webkit-progress-bar {\n",
       "                background: #F44336;\n",
       "            }\n",
       "        </style>\n",
       "      <progress value='29' class='' max='29' style='width:300px; height:20px; vertical-align: middle;'></progress>\n",
       "      100.00% [29/29 00:00<00:00]\n",
       "    </div>\n",
       "    "
      ],
      "text/plain": [
       "<IPython.core.display.HTML object>"
      ]
     },
     "metadata": {},
     "output_type": "display_data"
    },
    {
     "data": {
      "image/png": "[encoded data removed]",
      "text/plain": [
       "<Figure size 432x288 with 1 Axes>"
      ]
     },
     "metadata": {
      "needs_background": "light"
     },
     "output_type": "display_data"
    },
    {
     "data": {
      "image/png": "[encoded data removed]",
      "text/plain": [
       "<Figure size 432x288 with 1 Axes>"
      ]
     },
     "metadata": {
      "needs_background": "light"
     },
     "output_type": "display_data"
    },
    {
     "data": {
      "text/html": [
       "\n",
       "    <div>\n",
       "        <style>\n",
       "            /* Turns off some styling */\n",
       "            progress {\n",
       "                /* gets rid of default border in Firefox and Opera. */\n",
       "                border: none;\n",
       "                /* Needs to be in here for Safari polyfill so background images work as expected. */\n",
       "                background-size: auto;\n",
       "            }\n",
       "            .progress-bar-interrupted, .progress-bar-interrupted::-webkit-progress-bar {\n",
       "                background: #F44336;\n",
       "            }\n",
       "        </style>\n",
       "      <progress value='67' class='' max='67' style='width:300px; height:20px; vertical-align: middle;'></progress>\n",
       "      100.00% [67/67 00:00<00:00]\n",
       "    </div>\n",
       "    "
      ],
      "text/plain": [
       "<IPython.core.display.HTML object>"
      ]
     },
     "metadata": {},
     "output_type": "display_data"
    },
    {
     "data": {
      "text/html": [
       "\n",
       "    <div>\n",
       "        <style>\n",
       "            /* Turns off some styling */\n",
       "            progress {\n",
       "                /* gets rid of default border in Firefox and Opera. */\n",
       "                border: none;\n",
       "                /* Needs to be in here for Safari polyfill so background images work as expected. */\n",
       "                background-size: auto;\n",
       "            }\n",
       "            .progress-bar-interrupted, .progress-bar-interrupted::-webkit-progress-bar {\n",
       "                background: #F44336;\n",
       "            }\n",
       "        </style>\n",
       "      <progress value='1' class='' max='1' style='width:300px; height:20px; vertical-align: middle;'></progress>\n",
       "      100.00% [1/1 00:00<00:00]\n",
       "    </div>\n",
       "    "
      ],
      "text/plain": [
       "<IPython.core.display.HTML object>"
      ]
     },
     "metadata": {},
     "output_type": "display_data"
    },
    {
     "data": {
      "text/html": [
       "\n",
       "    <div>\n",
       "        <style>\n",
       "            /* Turns off some styling */\n",
       "            progress {\n",
       "                /* gets rid of default border in Firefox and Opera. */\n",
       "                border: none;\n",
       "                /* Needs to be in here for Safari polyfill so background images work as expected. */\n",
       "                background-size: auto;\n",
       "            }\n",
       "            .progress-bar-interrupted, .progress-bar-interrupted::-webkit-progress-bar {\n",
       "                background: #F44336;\n",
       "            }\n",
       "        </style>\n",
       "      <progress value='5' class='' max='5' style='width:300px; height:20px; vertical-align: middle;'></progress>\n",
       "      100.00% [5/5 00:00<00:00]\n",
       "    </div>\n",
       "    "
      ],
      "text/plain": [
       "<IPython.core.display.HTML object>"
      ]
     },
     "metadata": {},
     "output_type": "display_data"
    },
    {
     "data": {
      "text/html": [
       "\n",
       "    <div>\n",
       "        <style>\n",
       "            /* Turns off some styling */\n",
       "            progress {\n",
       "                /* gets rid of default border in Firefox and Opera. */\n",
       "                border: none;\n",
       "                /* Needs to be in here for Safari polyfill so background images work as expected. */\n",
       "                background-size: auto;\n",
       "            }\n",
       "            .progress-bar-interrupted, .progress-bar-interrupted::-webkit-progress-bar {\n",
       "                background: #F44336;\n",
       "            }\n",
       "        </style>\n",
       "      <progress value='44' class='' max='44' style='width:300px; height:20px; vertical-align: middle;'></progress>\n",
       "      100.00% [44/44 00:00<00:00]\n",
       "    </div>\n",
       "    "
      ],
      "text/plain": [
       "<IPython.core.display.HTML object>"
      ]
     },
     "metadata": {},
     "output_type": "display_data"
    },
    {
     "data": {
      "text/html": [
       "\n",
       "    <div>\n",
       "        <style>\n",
       "            /* Turns off some styling */\n",
       "            progress {\n",
       "                /* gets rid of default border in Firefox and Opera. */\n",
       "                border: none;\n",
       "                /* Needs to be in here for Safari polyfill so background images work as expected. */\n",
       "                background-size: auto;\n",
       "            }\n",
       "            .progress-bar-interrupted, .progress-bar-interrupted::-webkit-progress-bar {\n",
       "                background: #F44336;\n",
       "            }\n",
       "        </style>\n",
       "      <progress value='171' class='' max='171' style='width:300px; height:20px; vertical-align: middle;'></progress>\n",
       "      100.00% [171/171 00:00<00:00]\n",
       "    </div>\n",
       "    "
      ],
      "text/plain": [
       "<IPython.core.display.HTML object>"
      ]
     },
     "metadata": {},
     "output_type": "display_data"
    },
    {
     "data": {
      "text/html": [
       "\n",
       "    <div>\n",
       "        <style>\n",
       "            /* Turns off some styling */\n",
       "            progress {\n",
       "                /* gets rid of default border in Firefox and Opera. */\n",
       "                border: none;\n",
       "                /* Needs to be in here for Safari polyfill so background images work as expected. */\n",
       "                background-size: auto;\n",
       "            }\n",
       "            .progress-bar-interrupted, .progress-bar-interrupted::-webkit-progress-bar {\n",
       "                background: #F44336;\n",
       "            }\n",
       "        </style>\n",
       "      <progress value='174' class='' max='174' style='width:300px; height:20px; vertical-align: middle;'></progress>\n",
       "      100.00% [174/174 00:00<00:00]\n",
       "    </div>\n",
       "    "
      ],
      "text/plain": [
       "<IPython.core.display.HTML object>"
      ]
     },
     "metadata": {},
     "output_type": "display_data"
    },
    {
     "data": {
      "text/html": [
       "\n",
       "    <div>\n",
       "        <style>\n",
       "            /* Turns off some styling */\n",
       "            progress {\n",
       "                /* gets rid of default border in Firefox and Opera. */\n",
       "                border: none;\n",
       "                /* Needs to be in here for Safari polyfill so background images work as expected. */\n",
       "                background-size: auto;\n",
       "            }\n",
       "            .progress-bar-interrupted, .progress-bar-interrupted::-webkit-progress-bar {\n",
       "                background: #F44336;\n",
       "            }\n",
       "        </style>\n",
       "      <progress value='167' class='' max='167' style='width:300px; height:20px; vertical-align: middle;'></progress>\n",
       "      100.00% [167/167 00:00<00:00]\n",
       "    </div>\n",
       "    "
      ],
      "text/plain": [
       "<IPython.core.display.HTML object>"
      ]
     },
     "metadata": {},
     "output_type": "display_data"
    },
    {
     "data": {
      "text/html": [
       "\n",
       "    <div>\n",
       "        <style>\n",
       "            /* Turns off some styling */\n",
       "            progress {\n",
       "                /* gets rid of default border in Firefox and Opera. */\n",
       "                border: none;\n",
       "                /* Needs to be in here for Safari polyfill so background images work as expected. */\n",
       "                background-size: auto;\n",
       "            }\n",
       "            .progress-bar-interrupted, .progress-bar-interrupted::-webkit-progress-bar {\n",
       "                background: #F44336;\n",
       "            }\n",
       "        </style>\n",
       "      <progress value='170' class='' max='170' style='width:300px; height:20px; vertical-align: middle;'></progress>\n",
       "      100.00% [170/170 00:00<00:00]\n",
       "    </div>\n",
       "    "
      ],
      "text/plain": [
       "<IPython.core.display.HTML object>"
      ]
     },
     "metadata": {},
     "output_type": "display_data"
    },
    {
     "data": {
      "text/html": [
       "\n",
       "    <div>\n",
       "        <style>\n",
       "            /* Turns off some styling */\n",
       "            progress {\n",
       "                /* gets rid of default border in Firefox and Opera. */\n",
       "                border: none;\n",
       "                /* Needs to be in here for Safari polyfill so background images work as expected. */\n",
       "                background-size: auto;\n",
       "            }\n",
       "            .progress-bar-interrupted, .progress-bar-interrupted::-webkit-progress-bar {\n",
       "                background: #F44336;\n",
       "            }\n",
       "        </style>\n",
       "      <progress value='172' class='' max='172' style='width:300px; height:20px; vertical-align: middle;'></progress>\n",
       "      100.00% [172/172 00:00<00:00]\n",
       "    </div>\n",
       "    "
      ],
      "text/plain": [
       "<IPython.core.display.HTML object>"
      ]
     },
     "metadata": {},
     "output_type": "display_data"
    },
    {
     "data": {
      "text/html": [
       "\n",
       "    <div>\n",
       "        <style>\n",
       "            /* Turns off some styling */\n",
       "            progress {\n",
       "                /* gets rid of default border in Firefox and Opera. */\n",
       "                border: none;\n",
       "                /* Needs to be in here for Safari polyfill so background images work as expected. */\n",
       "                background-size: auto;\n",
       "            }\n",
       "            .progress-bar-interrupted, .progress-bar-interrupted::-webkit-progress-bar {\n",
       "                background: #F44336;\n",
       "            }\n",
       "        </style>\n",
       "      <progress value='173' class='' max='173' style='width:300px; height:20px; vertical-align: middle;'></progress>\n",
       "      100.00% [173/173 00:00<00:00]\n",
       "    </div>\n",
       "    "
      ],
      "text/plain": [
       "<IPython.core.display.HTML object>"
      ]
     },
     "metadata": {},
     "output_type": "display_data"
    },
    {
     "data": {
      "text/html": [
       "\n",
       "    <div>\n",
       "        <style>\n",
       "            /* Turns off some styling */\n",
       "            progress {\n",
       "                /* gets rid of default border in Firefox and Opera. */\n",
       "                border: none;\n",
       "                /* Needs to be in here for Safari polyfill so background images work as expected. */\n",
       "                background-size: auto;\n",
       "            }\n",
       "            .progress-bar-interrupted, .progress-bar-interrupted::-webkit-progress-bar {\n",
       "                background: #F44336;\n",
       "            }\n",
       "        </style>\n",
       "      <progress value='167' class='' max='167' style='width:300px; height:20px; vertical-align: middle;'></progress>\n",
       "      100.00% [167/167 00:00<00:00]\n",
       "    </div>\n",
       "    "
      ],
      "text/plain": [
       "<IPython.core.display.HTML object>"
      ]
     },
     "metadata": {},
     "output_type": "display_data"
    },
    {
     "data": {
      "text/html": [
       "\n",
       "    <div>\n",
       "        <style>\n",
       "            /* Turns off some styling */\n",
       "            progress {\n",
       "                /* gets rid of default border in Firefox and Opera. */\n",
       "                border: none;\n",
       "                /* Needs to be in here for Safari polyfill so background images work as expected. */\n",
       "                background-size: auto;\n",
       "            }\n",
       "            .progress-bar-interrupted, .progress-bar-interrupted::-webkit-progress-bar {\n",
       "                background: #F44336;\n",
       "            }\n",
       "        </style>\n",
       "      <progress value='174' class='' max='174' style='width:300px; height:20px; vertical-align: middle;'></progress>\n",
       "      100.00% [174/174 00:00<00:00]\n",
       "    </div>\n",
       "    "
      ],
      "text/plain": [
       "<IPython.core.display.HTML object>"
      ]
     },
     "metadata": {},
     "output_type": "display_data"
    },
    {
     "data": {
      "text/html": [
       "\n",
       "    <div>\n",
       "        <style>\n",
       "            /* Turns off some styling */\n",
       "            progress {\n",
       "                /* gets rid of default border in Firefox and Opera. */\n",
       "                border: none;\n",
       "                /* Needs to be in here for Safari polyfill so background images work as expected. */\n",
       "                background-size: auto;\n",
       "            }\n",
       "            .progress-bar-interrupted, .progress-bar-interrupted::-webkit-progress-bar {\n",
       "                background: #F44336;\n",
       "            }\n",
       "        </style>\n",
       "      <progress value='162' class='' max='162' style='width:300px; height:20px; vertical-align: middle;'></progress>\n",
       "      100.00% [162/162 00:00<00:00]\n",
       "    </div>\n",
       "    "
      ],
      "text/plain": [
       "<IPython.core.display.HTML object>"
      ]
     },
     "metadata": {},
     "output_type": "display_data"
    },
    {
     "data": {
      "text/html": [
       "\n",
       "    <div>\n",
       "        <style>\n",
       "            /* Turns off some styling */\n",
       "            progress {\n",
       "                /* gets rid of default border in Firefox and Opera. */\n",
       "                border: none;\n",
       "                /* Needs to be in here for Safari polyfill so background images work as expected. */\n",
       "                background-size: auto;\n",
       "            }\n",
       "            .progress-bar-interrupted, .progress-bar-interrupted::-webkit-progress-bar {\n",
       "                background: #F44336;\n",
       "            }\n",
       "        </style>\n",
       "      <progress value='13' class='' max='13' style='width:300px; height:20px; vertical-align: middle;'></progress>\n",
       "      100.00% [13/13 00:00<00:00]\n",
       "    </div>\n",
       "    "
      ],
      "text/plain": [
       "<IPython.core.display.HTML object>"
      ]
     },
     "metadata": {},
     "output_type": "display_data"
    }
   ],
   "source": [
    "lt_inferno = run_cmsopen.train(OUTPATH, features = features, \n",
    "                                        shape_syst = shape_syst,\n",
    "                                        weight_syst = weight_syst,\n",
    "                                        epochs=epochs, bs=bs, n_sig=n_sig, \n",
    "                                        inferno_args = inferno_args, \n",
    "                                        train_args = train_args,\n",
    "                                        use_weights = use_weights,\n",
    "                                        store=store)"
   ]
  },
  {
   "cell_type": "markdown",
   "id": "26269970",
   "metadata": {},
   "source": [
    "## Bayesian optimization"
   ]
  },
  {
   "cell_type": "code",
   "execution_count": 6,
   "id": "7fdff47d",
   "metadata": {},
   "outputs": [],
   "source": [
    "import pandas as pd\n",
    "import numpy as np\n",
    "from skopt.space import Real, Categorical, Integer\n",
    "from skopt.utils import use_named_args\n",
    "from skopt import gp_minimize"
   ]
  },
  {
   "cell_type": "code",
   "execution_count": 17,
   "id": "eef3c991",
   "metadata": {},
   "outputs": [],
   "source": [
    "def store_results(search_result, prior_names):\n",
    "\n",
    "    params = pd.DataFrame(search_result['x_iters'])\n",
    "    params.columns = [*prior_names]\n",
    "    params = params.rename_axis('call').reset_index()\n",
    "    scores = pd.DataFrame(search_result['func_vals'])\n",
    "    scores.columns = ['score']\n",
    "    result = pd.concat([params, scores], axis=1)\n",
    "    result = result.sort_values(by=['score'])\n",
    "\n",
    "    #result.to_hdf(self.path + 'skopt.h5', 'frame')\n",
    "\n",
    "    return result \n",
    "\n",
    "\n",
    "def find_optimal_parameters( dimensions, initial_param, num_calls=12): \n",
    "\n",
    "    prior_values = []\n",
    "    prior_names = []\n",
    "    for var in dimensions:\n",
    "        name = var.name\n",
    "        print( name )\n",
    "        prior_names.append(name)\n",
    "        prior_values.append(initial_param[name])\n",
    "\n",
    "\n",
    "    global num_skopt_call\n",
    "    num_skopt_call = 0\n",
    "    cv_results = []\n",
    "\n",
    "    @use_named_args(dimensions)\n",
    "    def fitness(**p): \n",
    "\n",
    "        global num_skopt_call\n",
    "\n",
    "        print('\\n \\t ::: {} SKOPT CALL ::: \\n'.format(num_skopt_call+1))\n",
    "        print(p)\n",
    "\n",
    "        train_args = {}\n",
    "        train_args[\"lr\"] = p[\"lr\"]\n",
    "        train_args[\"n_feats\"] = 4\n",
    "        train_args[\"neurons\"] = p[\"neurons\"]\n",
    "        train_args[\"bins\"] = 10\n",
    "        train_args[\"temperature\"] = p[\"temperature\"]\n",
    "        train_args[\"weights\"] = False\n",
    "        \n",
    "        try:\n",
    "            lt = run_cmsopen.train(OUTPATH, features = features, \n",
    "                                            shape_syst = shape_syst,\n",
    "                                            weight_syst = weight_syst,\n",
    "                                            epochs=epochs, bs=bs, n_sig=n_sig, \n",
    "                                            inferno_args = inferno_args, \n",
    "                                            train_args = train_args,\n",
    "                                            use_weights = use_weights,\n",
    "                                            store=store)\n",
    "            score = min(lt.losses[\"val\"])\n",
    "        except:\n",
    "            score = 10000\n",
    "\n",
    "        \n",
    "        num_skopt_call += 1\n",
    "\n",
    "        return score\n",
    "\n",
    "    search_result = gp_minimize( func = fitness, dimensions = dimensions,\n",
    "                                 acq_func = 'EI', # Expected Improvement\n",
    "                                 n_calls = num_calls, x0 = prior_values )\n",
    "\n",
    "    #result = store_results(search_result, prior_names)\n",
    "\n",
    "    return search_result, prior_names"
   ]
  },
  {
   "cell_type": "code",
   "execution_count": 18,
   "id": "f892b41f",
   "metadata": {},
   "outputs": [],
   "source": [
    "skopt_dim_nominal = [\n",
    "    Real(        low=1e-4, high=1e-2, prior='log-uniform', name='lr'),\n",
    "    Real(        low=0.01, high=0.99, name='temperature'),\n",
    "    Integer(     low=50, high=200,  name='neurons')\n",
    "    ]\n",
    "initial_param = {'lr': 1e-3, 'temperature':0.2, 'neurons' : 80}"
   ]
  },
  {
   "cell_type": "code",
   "execution_count": 19,
   "id": "a3dd8a61",
   "metadata": {},
   "outputs": [
    {
     "name": "stdout",
     "output_type": "stream",
     "text": [
      "lr\n",
      "temperature\n",
      "neurons\n",
      "\n",
      " \t ::: 1 SKOPT CALL ::: \n",
      "\n",
      "{'lr': 0.001, 'temperature': 0.2, 'neurons': 80}\n",
      "*********************\n",
      "Summary training data\n",
      "Features ['aplanarity', 'chargeEta', 'MET_met', 'deltaPhiTauMet']\n",
      "Shape systematics ['jes']\n",
      "Weight systematics ['btag_weight1']\n",
      "Use weights False\n",
      "Number of signal training / test events: 20000 23570\n",
      "Number of bkg training / test events: 5000 6176\n",
      "*********************\n",
      "*********************\n",
      "Summary dataloader\n",
      "batch size 1000\n",
      "epochs 30\n",
      "x torch.Size([4, 5])\n",
      "y tensor([1.])\n",
      "w None\n",
      "*********************\n",
      "*********************\n",
      "Summary NN setup\n",
      "learning rate 0.001\n",
      "n_feats 4\n",
      "neurons 80\n",
      "temperature 0.2\n",
      "bins 10\n",
      "weights False\n",
      "*********************\n",
      "*********************\n",
      "Summary INFERNO setup\n",
      "b_true 2800\n",
      "mu_true 400\n",
      "nshape_alphas 2\n",
      "shape_aux None\n",
      "s_norm_aux []\n",
      "n_alpha 3\n",
      "*********************\n"
     ]
    },
    {
     "data": {
      "text/html": [],
      "text/plain": [
       "<IPython.core.display.HTML object>"
      ]
     },
     "metadata": {},
     "output_type": "display_data"
    },
    {
     "name": "stdout",
     "output_type": "stream",
     "text": [
      "1: Train=2412.58837890625 Valid=1826.5885851629848\n",
      "2: Train=1557.2384716796876 Valid=1528.356723127694\n",
      "3: Train=1362.0093310546874 Valid=1442.004049366918\n",
      "4: Train=1288.41845703125 Valid=1388.1896467537715\n",
      "5: Train=1251.1458447265625 Valid=1343.2026093581628\n",
      "6: Train=1211.3865283203124 Valid=1315.8908565126617\n",
      "7: Train=1179.5335400390625 Valid=1282.5548243029364\n",
      "8: Train=1159.9734375 Valid=1257.2410215180496\n",
      "9: Train=1138.7088427734375 Valid=1258.7894918507543\n",
      "10: Train=1129.0407739257812 Valid=1235.5556072366649\n",
      "11: Train=1111.43646484375 Valid=1220.8700814082704\n",
      "12: Train=1096.1781713867188 Valid=1213.5734421302532\n",
      "13: Train=1088.5098950195313 Valid=1196.4349407327586\n",
      "14: Train=1089.1327758789062 Valid=1208.4973523370152\n",
      "15: Train=1065.3491235351562 Valid=1161.6332208041488\n",
      "16: Train=1061.7445922851562 Valid=1172.572389799973\n",
      "17: Train=1059.0033520507814 Valid=1156.184058879984\n",
      "18: Train=1049.7410034179688 Valid=1135.2259921369882\n",
      "19: Train=1036.1929858398437 Valid=1134.456174653152\n",
      "20: Train=1031.1239208984375 Valid=1136.7499536974676\n",
      "21: Train=1022.9026538085938 Valid=1143.056047110722\n",
      "22: Train=1017.0448608398438 Valid=1123.6308530610183\n",
      "23: Train=1017.4536206054687 Valid=1118.7695059940734\n",
      "24: Train=1012.0208935546875 Valid=1122.9606954640356\n",
      "25: Train=997.6966015625 Valid=1112.6421487742457\n",
      "26: Train=1001.719658203125 Valid=1121.3530967975485\n",
      "27: Train=986.0125537109375 Valid=1093.4942858465786\n",
      "28: Train=973.8548559570313 Valid=1102.2859539163524\n",
      "29: Train=991.1628784179687 Valid=1110.7214965820312\n",
      "30: Train=980.4749926757812 Valid=1102.8987952922953\n"
     ]
    },
    {
     "data": {
      "text/html": [
       "\n",
       "    <div>\n",
       "        <style>\n",
       "            /* Turns off some styling */\n",
       "            progress {\n",
       "                /* gets rid of default border in Firefox and Opera. */\n",
       "                border: none;\n",
       "                /* Needs to be in here for Safari polyfill so background images work as expected. */\n",
       "                background-size: auto;\n",
       "            }\n",
       "            .progress-bar-interrupted, .progress-bar-interrupted::-webkit-progress-bar {\n",
       "                background: #F44336;\n",
       "            }\n",
       "        </style>\n",
       "      <progress value='29' class='' max='29' style='width:300px; height:20px; vertical-align: middle;'></progress>\n",
       "      100.00% [29/29 00:00<00:00]\n",
       "    </div>\n",
       "    "
      ],
      "text/plain": [
       "<IPython.core.display.HTML object>"
      ]
     },
     "metadata": {},
     "output_type": "display_data"
    },
    {
     "data": {
      "image/png": "[encoded data removed]",
      "text/plain": [
       "<Figure size 432x288 with 1 Axes>"
      ]
     },
     "metadata": {
      "needs_background": "light"
     },
     "output_type": "display_data"
    },
    {
     "data": {
      "image/png": "[encoded data removed]",
      "text/plain": [
       "<Figure size 432x288 with 1 Axes>"
      ]
     },
     "metadata": {
      "needs_background": "light"
     },
     "output_type": "display_data"
    },
    {
     "name": "stdout",
     "output_type": "stream",
     "text": [
      "\n",
      " \t ::: 2 SKOPT CALL ::: \n",
      "\n",
      "{'lr': 0.001305488406374723, 'temperature': 0.7622910683970598, 'neurons': 142}\n",
      "*********************\n",
      "Summary training data\n",
      "Features ['aplanarity', 'chargeEta', 'MET_met', 'deltaPhiTauMet']\n",
      "Shape systematics ['jes']\n",
      "Weight systematics ['btag_weight1']\n",
      "Use weights False\n",
      "Number of signal training / test events: 20000 23570\n",
      "Number of bkg training / test events: 5000 6176\n",
      "*********************\n",
      "*********************\n",
      "Summary dataloader\n",
      "batch size 1000\n",
      "epochs 30\n",
      "x torch.Size([4, 5])\n",
      "y tensor([1.])\n",
      "w None\n",
      "*********************\n",
      "*********************\n",
      "Summary NN setup\n",
      "learning rate 0.001305488406374723\n",
      "n_feats 4\n",
      "neurons 142\n",
      "temperature 0.7622910683970598\n",
      "bins 10\n",
      "weights False\n",
      "*********************\n",
      "*********************\n",
      "Summary INFERNO setup\n",
      "b_true 2800\n",
      "mu_true 400\n",
      "nshape_alphas 2\n",
      "shape_aux None\n",
      "s_norm_aux []\n",
      "n_alpha 3\n",
      "*********************\n"
     ]
    },
    {
     "data": {
      "text/html": [],
      "text/plain": [
       "<IPython.core.display.HTML object>"
      ]
     },
     "metadata": {},
     "output_type": "display_data"
    },
    {
     "name": "stdout",
     "output_type": "stream",
     "text": [
      "1: Train=2576.7556201171874 Valid=1897.0639480064656\n",
      "2: Train=1647.657333984375 Valid=1604.3336770945582\n",
      "3: Train=1441.8043798828126 Valid=1496.402310075431\n",
      "4: Train=1369.0922265625 Valid=1422.5863415948277\n",
      "5: Train=1307.975537109375 Valid=1376.4682785560344\n",
      "6: Train=1271.672216796875 Valid=1340.7832389042296\n",
      "7: Train=1242.7741186523438 Valid=1318.317277579472\n",
      "8: Train=1209.5357958984375 Valid=1283.6174568965516\n",
      "9: Train=1196.017529296875 Valid=1284.9333643419989\n",
      "10: Train=1181.208857421875 Valid=1260.0895448882004\n",
      "11: Train=1168.6366967773438 Valid=1261.186001481681\n",
      "12: Train=1153.0209448242188 Valid=1236.5732506061422\n",
      "13: Train=1135.8876782226562 Valid=1212.1201256061422\n",
      "14: Train=1124.9505908203125 Valid=1197.5501582704742\n",
      "15: Train=1120.7170825195312 Valid=1191.9150495858028\n",
      "16: Train=1111.576083984375 Valid=1211.6710647056843\n",
      "17: Train=1101.3893676757812 Valid=1177.1460360823007\n",
      "18: Train=1085.68091796875 Valid=1181.3944218076508\n",
      "19: Train=1085.7538256835937 Valid=1161.2264509529903\n",
      "20: Train=1076.3323120117188 Valid=1146.4612510944235\n",
      "21: Train=1053.6558227539062 Valid=1145.8379706021012\n",
      "22: Train=1059.1405322265625 Valid=1140.7144733297414\n",
      "23: Train=1061.5099096679687 Valid=1149.4885359139278\n",
      "24: Train=1037.4846313476562 Valid=1121.8594865470097\n",
      "25: Train=1030.0730322265624 Valid=1142.0520671976024\n",
      "26: Train=1031.8911474609374 Valid=1093.2866863382274\n",
      "27: Train=1018.2067138671875 Valid=1111.4758006128773\n",
      "28: Train=1014.8871948242188 Valid=1114.143434721848\n",
      "29: Train=1019.569990234375 Valid=1105.4286814722523\n",
      "30: Train=1001.6689184570313 Valid=1094.5209266399515\n"
     ]
    },
    {
     "data": {
      "text/html": [
       "\n",
       "    <div>\n",
       "        <style>\n",
       "            /* Turns off some styling */\n",
       "            progress {\n",
       "                /* gets rid of default border in Firefox and Opera. */\n",
       "                border: none;\n",
       "                /* Needs to be in here for Safari polyfill so background images work as expected. */\n",
       "                background-size: auto;\n",
       "            }\n",
       "            .progress-bar-interrupted, .progress-bar-interrupted::-webkit-progress-bar {\n",
       "                background: #F44336;\n",
       "            }\n",
       "        </style>\n",
       "      <progress value='29' class='' max='29' style='width:300px; height:20px; vertical-align: middle;'></progress>\n",
       "      100.00% [29/29 00:00<00:00]\n",
       "    </div>\n",
       "    "
      ],
      "text/plain": [
       "<IPython.core.display.HTML object>"
      ]
     },
     "metadata": {},
     "output_type": "display_data"
    },
    {
     "data": {
      "image/png": "[encoded data removed]",
      "text/plain": [
       "<Figure size 432x288 with 1 Axes>"
      ]
     },
     "metadata": {
      "needs_background": "light"
     },
     "output_type": "display_data"
    },
    {
     "data": {
      "image/png": "[encoded data removed]",
      "text/plain": [
       "<Figure size 432x288 with 1 Axes>"
      ]
     },
     "metadata": {
      "needs_background": "light"
     },
     "output_type": "display_data"
    },
    {
     "name": "stdout",
     "output_type": "stream",
     "text": [
      "\n",
      " \t ::: 3 SKOPT CALL ::: \n",
      "\n",
      "{'lr': 0.00012521169390572042, 'temperature': 0.2744659549012489, 'neurons': 179}\n",
      "*********************\n",
      "Summary training data\n",
      "Features ['aplanarity', 'chargeEta', 'MET_met', 'deltaPhiTauMet']\n",
      "Shape systematics ['jes']\n",
      "Weight systematics ['btag_weight1']\n",
      "Use weights False\n",
      "Number of signal training / test events: 20000 23570\n",
      "Number of bkg training / test events: 5000 6176\n",
      "*********************\n",
      "*********************\n",
      "Summary dataloader\n",
      "batch size 1000\n",
      "epochs 30\n",
      "x torch.Size([4, 5])\n",
      "y tensor([1.])\n",
      "w None\n",
      "*********************\n",
      "*********************\n",
      "Summary NN setup\n",
      "learning rate 0.00012521169390572042\n",
      "n_feats 4\n",
      "neurons 179\n",
      "temperature 0.2744659549012489\n",
      "bins 10\n",
      "weights False\n",
      "*********************\n",
      "*********************\n",
      "Summary INFERNO setup\n",
      "b_true 2800\n",
      "mu_true 400\n",
      "nshape_alphas 2\n",
      "shape_aux None\n",
      "s_norm_aux []\n",
      "n_alpha 3\n",
      "*********************\n"
     ]
    },
    {
     "data": {
      "text/html": [],
      "text/plain": [
       "<IPython.core.display.HTML object>"
      ]
     },
     "metadata": {},
     "output_type": "display_data"
    },
    {
     "name": "stdout",
     "output_type": "stream",
     "text": [
      "1: Train=2993.2512890625 Valid=2734.2725451239226\n",
      "2: Train=2422.37208984375 Valid=2230.332696322737\n",
      "3: Train=2007.727353515625 Valid=1986.0208319302262\n",
      "4: Train=1796.8576611328126 Valid=1843.523715315194\n",
      "5: Train=1692.096298828125 Valid=1746.3812887257543\n",
      "6: Train=1630.8193212890626 Valid=1694.466552734375\n",
      "7: Train=1575.5325634765625 Valid=1645.2610031654094\n",
      "8: Train=1537.3083935546874 Valid=1610.036031788793\n",
      "9: Train=1503.7049462890625 Valid=1572.9305125269398\n",
      "10: Train=1459.658212890625 Valid=1539.018276872306\n",
      "11: Train=1441.34685546875 Valid=1514.2460474474676\n",
      "12: Train=1417.4670263671876 Valid=1489.3461072198277\n",
      "13: Train=1401.935966796875 Valid=1470.7161444302262\n",
      "14: Train=1378.7790283203126 Valid=1445.9633957435344\n",
      "15: Train=1354.80359375 Valid=1431.120049838362\n",
      "16: Train=1342.489345703125 Valid=1427.0441810344828\n",
      "17: Train=1328.20109375 Valid=1402.0249781115301\n",
      "18: Train=1307.8449853515624 Valid=1387.4712503367457\n",
      "19: Train=1294.76044921875 Valid=1378.6206559806035\n",
      "20: Train=1280.259462890625 Valid=1364.6457435344828\n",
      "21: Train=1269.2698291015624 Valid=1360.2545544854527\n",
      "22: Train=1260.8381201171876 Valid=1351.006520238416\n",
      "23: Train=1259.9540063476563 Valid=1348.255122743804\n",
      "24: Train=1240.2814892578126 Valid=1327.5400516904633\n",
      "25: Train=1246.371904296875 Valid=1324.5437516837285\n",
      "26: Train=1229.3200244140626 Valid=1302.646724306304\n",
      "27: Train=1221.0338037109375 Valid=1296.4912046235183\n",
      "28: Train=1211.7774072265624 Valid=1305.0758772225215\n",
      "29: Train=1204.4935498046875 Valid=1278.3741876010238\n",
      "30: Train=1197.65611328125 Valid=1291.6580726360453\n"
     ]
    },
    {
     "data": {
      "text/html": [
       "\n",
       "    <div>\n",
       "        <style>\n",
       "            /* Turns off some styling */\n",
       "            progress {\n",
       "                /* gets rid of default border in Firefox and Opera. */\n",
       "                border: none;\n",
       "                /* Needs to be in here for Safari polyfill so background images work as expected. */\n",
       "                background-size: auto;\n",
       "            }\n",
       "            .progress-bar-interrupted, .progress-bar-interrupted::-webkit-progress-bar {\n",
       "                background: #F44336;\n",
       "            }\n",
       "        </style>\n",
       "      <progress value='29' class='' max='29' style='width:300px; height:20px; vertical-align: middle;'></progress>\n",
       "      100.00% [29/29 00:00<00:00]\n",
       "    </div>\n",
       "    "
      ],
      "text/plain": [
       "<IPython.core.display.HTML object>"
      ]
     },
     "metadata": {},
     "output_type": "display_data"
    },
    {
     "data": {
      "image/png": "[encoded data removed]",
      "text/plain": [
       "<Figure size 432x288 with 1 Axes>"
      ]
     },
     "metadata": {
      "needs_background": "light"
     },
     "output_type": "display_data"
    },
    {
     "data": {
      "image/png": "[encoded data removed]",
      "text/plain": [
       "<Figure size 432x288 with 1 Axes>"
      ]
     },
     "metadata": {
      "needs_background": "light"
     },
     "output_type": "display_data"
    },
    {
     "name": "stdout",
     "output_type": "stream",
     "text": [
      "\n",
      " \t ::: 4 SKOPT CALL ::: \n",
      "\n",
      "{'lr': 0.0029042674744225285, 'temperature': 0.6367496761999438, 'neurons': 143}\n",
      "*********************\n",
      "Summary training data\n",
      "Features ['aplanarity', 'chargeEta', 'MET_met', 'deltaPhiTauMet']\n",
      "Shape systematics ['jes']\n",
      "Weight systematics ['btag_weight1']\n",
      "Use weights False\n",
      "Number of signal training / test events: 20000 23570\n",
      "Number of bkg training / test events: 5000 6176\n",
      "*********************\n",
      "*********************\n",
      "Summary dataloader\n",
      "batch size 1000\n",
      "epochs 30\n",
      "x torch.Size([4, 5])\n",
      "y tensor([1.])\n",
      "w None\n",
      "*********************\n",
      "*********************\n",
      "Summary NN setup\n",
      "learning rate 0.0029042674744225285\n",
      "n_feats 4\n",
      "neurons 143\n",
      "temperature 0.6367496761999438\n",
      "bins 10\n",
      "weights False\n",
      "*********************\n",
      "*********************\n",
      "Summary INFERNO setup\n",
      "b_true 2800\n",
      "mu_true 400\n",
      "nshape_alphas 2\n",
      "shape_aux None\n",
      "s_norm_aux []\n",
      "n_alpha 3\n",
      "*********************\n"
     ]
    },
    {
     "data": {
      "text/html": [],
      "text/plain": [
       "<IPython.core.display.HTML object>"
      ]
     },
     "metadata": {},
     "output_type": "display_data"
    },
    {
     "name": "stdout",
     "output_type": "stream",
     "text": [
      "1: Train=2034.4869970703126 Valid=1558.8735562028555\n",
      "2: Train=1422.223857421875 Valid=1377.6935950969828\n",
      "3: Train=1297.6043017578124 Valid=1326.1102968413254\n",
      "4: Train=1240.270146484375 Valid=1247.3336181640625\n",
      "5: Train=1208.62337890625 Valid=1210.2614472487878\n",
      "6: Train=1171.4273583984375 Valid=1199.9960200868804\n",
      "7: Train=1154.8027905273439 Valid=1181.427629141972\n",
      "8: Train=1136.4392260742188 Valid=1140.5124785324622\n",
      "9: Train=1126.425078125 Valid=1146.3271021349676\n",
      "10: Train=1120.993984375 Valid=1199.1051277949891\n",
      "11: Train=1172.9466064453125 Valid=1161.1041196625808\n",
      "12: Train=1115.8113110351562 Valid=1106.2033565126617\n",
      "13: Train=1085.4327587890625 Valid=1112.6329619308997\n",
      "14: Train=1057.6081518554688 Valid=1091.9693561422414\n",
      "15: Train=1045.782744140625 Valid=1107.9685900457973\n",
      "16: Train=1101.723076171875 Valid=1129.1740133351293\n",
      "17: Train=1053.3953271484374 Valid=1080.803418389682\n",
      "18: Train=1049.1024438476563 Valid=1088.0976688779633\n",
      "19: Train=1093.5925952148436 Valid=1135.6353949185075\n",
      "20: Train=1104.70005859375 Valid=1118.0335819639008\n",
      "21: Train=1078.5783056640626 Valid=1090.0233154296875\n",
      "22: Train=1043.6879418945311 Valid=1089.0964060816273\n",
      "23: Train=1050.03869140625 Valid=1103.6572897023168\n",
      "24: Train=1046.1201245117188 Valid=1127.3125820817618\n",
      "25: Train=1142.6441162109375 Valid=1118.2692765860722\n",
      "26: Train=1114.5137133789062 Valid=1180.902148016568\n",
      "27: Train=1267.8843627929687 Valid=1378.223531788793\n",
      "28: Train=1429.446748046875 Valid=1378.0296273067079\n",
      "29: Train=1379.10505859375 Valid=1258.536031788793\n",
      "30: Train=1315.2548803710938 Valid=1371.1827476764547\n"
     ]
    },
    {
     "data": {
      "text/html": [
       "\n",
       "    <div>\n",
       "        <style>\n",
       "            /* Turns off some styling */\n",
       "            progress {\n",
       "                /* gets rid of default border in Firefox and Opera. */\n",
       "                border: none;\n",
       "                /* Needs to be in here for Safari polyfill so background images work as expected. */\n",
       "                background-size: auto;\n",
       "            }\n",
       "            .progress-bar-interrupted, .progress-bar-interrupted::-webkit-progress-bar {\n",
       "                background: #F44336;\n",
       "            }\n",
       "        </style>\n",
       "      <progress value='29' class='' max='29' style='width:300px; height:20px; vertical-align: middle;'></progress>\n",
       "      100.00% [29/29 00:00<00:00]\n",
       "    </div>\n",
       "    "
      ],
      "text/plain": [
       "<IPython.core.display.HTML object>"
      ]
     },
     "metadata": {},
     "output_type": "display_data"
    },
    {
     "data": {
      "image/png": "[encoded data removed]",
      "text/plain": [
       "<Figure size 432x288 with 1 Axes>"
      ]
     },
     "metadata": {
      "needs_background": "light"
     },
     "output_type": "display_data"
    },
    {
     "data": {
      "image/png": "[encoded data removed]",
      "text/plain": [
       "<Figure size 432x288 with 1 Axes>"
      ]
     },
     "metadata": {
      "needs_background": "light"
     },
     "output_type": "display_data"
    },
    {
     "name": "stdout",
     "output_type": "stream",
     "text": [
      "\n",
      " \t ::: 5 SKOPT CALL ::: \n",
      "\n",
      "{'lr': 0.00033086849298300685, 'temperature': 0.6417367044652853, 'neurons': 172}\n",
      "*********************\n",
      "Summary training data\n",
      "Features ['aplanarity', 'chargeEta', 'MET_met', 'deltaPhiTauMet']\n",
      "Shape systematics ['jes']\n",
      "Weight systematics ['btag_weight1']\n",
      "Use weights False\n",
      "Number of signal training / test events: 20000 23570\n",
      "Number of bkg training / test events: 5000 6176\n",
      "*********************\n",
      "*********************\n",
      "Summary dataloader\n",
      "batch size 1000\n",
      "epochs 30\n",
      "x torch.Size([4, 5])\n",
      "y tensor([1.])\n",
      "w None\n",
      "*********************\n",
      "*********************\n",
      "Summary NN setup\n",
      "learning rate 0.00033086849298300685\n",
      "n_feats 4\n",
      "neurons 172\n",
      "temperature 0.6417367044652853\n",
      "bins 10\n",
      "weights False\n",
      "*********************\n",
      "*********************\n",
      "Summary INFERNO setup\n",
      "b_true 2800\n",
      "mu_true 400\n",
      "nshape_alphas 2\n",
      "shape_aux None\n",
      "s_norm_aux []\n",
      "n_alpha 3\n",
      "*********************\n"
     ]
    },
    {
     "data": {
      "text/html": [],
      "text/plain": [
       "<IPython.core.display.HTML object>"
      ]
     },
     "metadata": {},
     "output_type": "display_data"
    },
    {
     "name": "stdout",
     "output_type": "stream",
     "text": [
      "1: Train=3029.368212890625 Valid=2733.7622912176726\n",
      "2: Train=2431.684814453125 Valid=2126.7387989964977\n",
      "3: Train=2007.2053955078125 Valid=1859.2428694100215\n",
      "4: Train=1786.2599609375 Valid=1684.057196255388\n",
      "5: Train=1653.431064453125 Valid=1584.7998804552801\n",
      "6: Train=1576.3157080078124 Valid=1516.5325254242996\n",
      "7: Train=1507.4496875 Valid=1461.269253434806\n",
      "8: Train=1437.5010498046875 Valid=1418.0799686826508\n",
      "9: Train=1394.89609375 Valid=1386.5059351427801\n",
      "10: Train=1363.08767578125 Valid=1363.8785063644934\n",
      "11: Train=1324.5322705078124 Valid=1339.7980746565195\n",
      "12: Train=1309.1946728515625 Valid=1319.0714195514547\n",
      "13: Train=1301.3596435546874 Valid=1312.1799190126617\n",
      "14: Train=1285.4036962890625 Valid=1294.7326491783406\n",
      "15: Train=1268.158642578125 Valid=1295.513528758082\n",
      "16: Train=1260.7714624023438 Valid=1289.414129849138\n",
      "17: Train=1254.2903051757812 Valid=1275.2703604862609\n",
      "18: Train=1251.8885498046875 Valid=1263.2523067079742\n",
      "19: Train=1242.5454736328124 Valid=1257.2585154566273\n",
      "20: Train=1233.4140454101562 Valid=1246.647115773168\n",
      "21: Train=1232.4659936523437 Valid=1260.601653000404\n",
      "22: Train=1219.4158154296874 Valid=1251.234236092403\n",
      "23: Train=1210.88595703125 Valid=1239.3141816237878\n",
      "24: Train=1212.189853515625 Valid=1230.874684300916\n",
      "25: Train=1205.0236840820312 Valid=1234.2133578596445\n",
      "26: Train=1196.072646484375 Valid=1221.6786562163254\n",
      "27: Train=1195.1355249023438 Valid=1227.507789348734\n",
      "28: Train=1185.29814453125 Valid=1219.1791171369882\n",
      "29: Train=1182.7374291992187 Valid=1222.4887274380387\n",
      "30: Train=1182.66703125 Valid=1199.8636243096714\n"
     ]
    },
    {
     "data": {
      "text/html": [
       "\n",
       "    <div>\n",
       "        <style>\n",
       "            /* Turns off some styling */\n",
       "            progress {\n",
       "                /* gets rid of default border in Firefox and Opera. */\n",
       "                border: none;\n",
       "                /* Needs to be in here for Safari polyfill so background images work as expected. */\n",
       "                background-size: auto;\n",
       "            }\n",
       "            .progress-bar-interrupted, .progress-bar-interrupted::-webkit-progress-bar {\n",
       "                background: #F44336;\n",
       "            }\n",
       "        </style>\n",
       "      <progress value='29' class='' max='29' style='width:300px; height:20px; vertical-align: middle;'></progress>\n",
       "      100.00% [29/29 00:00<00:00]\n",
       "    </div>\n",
       "    "
      ],
      "text/plain": [
       "<IPython.core.display.HTML object>"
      ]
     },
     "metadata": {},
     "output_type": "display_data"
    },
    {
     "data": {
      "image/png": "[encoded data removed]",
      "text/plain": [
       "<Figure size 432x288 with 1 Axes>"
      ]
     },
     "metadata": {
      "needs_background": "light"
     },
     "output_type": "display_data"
    },
    {
     "data": {
      "image/png": "[encoded data removed]",
      "text/plain": [
       "<Figure size 432x288 with 1 Axes>"
      ]
     },
     "metadata": {
      "needs_background": "light"
     },
     "output_type": "display_data"
    },
    {
     "name": "stdout",
     "output_type": "stream",
     "text": [
      "\n",
      " \t ::: 6 SKOPT CALL ::: \n",
      "\n",
      "{'lr': 0.003829508693663697, 'temperature': 0.31271113846884824, 'neurons': 69}\n",
      "*********************\n",
      "Summary training data\n",
      "Features ['aplanarity', 'chargeEta', 'MET_met', 'deltaPhiTauMet']\n",
      "Shape systematics ['jes']\n",
      "Weight systematics ['btag_weight1']\n",
      "Use weights False\n",
      "Number of signal training / test events: 20000 23570\n",
      "Number of bkg training / test events: 5000 6176\n",
      "*********************\n",
      "*********************\n",
      "Summary dataloader\n",
      "batch size 1000\n",
      "epochs 30\n",
      "x torch.Size([4, 5])\n",
      "y tensor([1.])\n",
      "w None\n",
      "*********************\n",
      "*********************\n",
      "Summary NN setup\n",
      "learning rate 0.003829508693663697\n",
      "n_feats 4\n",
      "neurons 69\n",
      "temperature 0.31271113846884824\n",
      "bins 10\n",
      "weights False\n",
      "*********************\n",
      "*********************\n",
      "Summary INFERNO setup\n",
      "b_true 2800\n",
      "mu_true 400\n",
      "nshape_alphas 2\n",
      "shape_aux None\n",
      "s_norm_aux []\n",
      "n_alpha 3\n",
      "*********************\n"
     ]
    },
    {
     "data": {
      "text/html": [],
      "text/plain": [
       "<IPython.core.display.HTML object>"
      ]
     },
     "metadata": {},
     "output_type": "display_data"
    },
    {
     "name": "stdout",
     "output_type": "stream",
     "text": [
      "1: Train=2104.862041015625 Valid=1615.983154296875\n",
      "2: Train=1459.3550341796874 Valid=1361.0229786839977\n",
      "3: Train=1304.07419921875 Valid=1340.3767931707973\n",
      "4: Train=1264.141416015625 Valid=1226.694163355334\n",
      "5: Train=1167.1689184570312 Valid=1202.083424535291\n",
      "6: Train=1148.6577758789062 Valid=1157.252001532193\n",
      "7: Train=1118.8339892578124 Valid=1125.6541979559536\n",
      "8: Train=1097.8052465820313 Valid=1105.812984071929\n",
      "9: Train=1080.5738208007813 Valid=1085.1002975990032\n",
      "10: Train=1065.6577319335938 Valid=1105.7946272225215\n",
      "11: Train=1069.8455908203125 Valid=1086.1762421706628\n",
      "12: Train=1061.97068359375 Valid=1109.5333820211476\n",
      "13: Train=1058.3191284179688 Valid=1066.8585078798492\n",
      "14: Train=1040.5700756835938 Valid=1087.8490474306304\n",
      "15: Train=1031.82888671875 Valid=1093.4833584489493\n",
      "16: Train=1055.0189135742187 Valid=1100.2616219356141\n",
      "17: Train=1156.2619482421876 Valid=1184.4270903488684\n",
      "18: Train=1099.2221069335938 Valid=1090.4885148673222\n",
      "19: Train=1054.2569921875 Valid=1064.5388878131735\n",
      "20: Train=1031.9575 Valid=1061.5583096208243\n",
      "21: Train=999.352109375 Valid=1073.8370782260238\n",
      "22: Train=1071.1090063476563 Valid=1130.2661216998922\n",
      "23: Train=1165.7135229492187 Valid=1291.1528636011585\n",
      "24: Train=1270.972734375 Valid=1306.9080052869074\n",
      "25: Train=1204.7363671875 Valid=1175.567976326778\n",
      "26: Train=1241.84404296875 Valid=1298.1821983600485\n",
      "27: Train=1186.650986328125 Valid=1195.9849664096175\n",
      "28: Train=1202.9709814453124 Valid=1116.2848237136316\n",
      "29: Train=1116.1812329101563 Valid=1204.3950069032867\n",
      "30: Train=1097.4874389648437 Valid=1166.6470273774246\n"
     ]
    },
    {
     "data": {
      "text/html": [
       "\n",
       "    <div>\n",
       "        <style>\n",
       "            /* Turns off some styling */\n",
       "            progress {\n",
       "                /* gets rid of default border in Firefox and Opera. */\n",
       "                border: none;\n",
       "                /* Needs to be in here for Safari polyfill so background images work as expected. */\n",
       "                background-size: auto;\n",
       "            }\n",
       "            .progress-bar-interrupted, .progress-bar-interrupted::-webkit-progress-bar {\n",
       "                background: #F44336;\n",
       "            }\n",
       "        </style>\n",
       "      <progress value='29' class='' max='29' style='width:300px; height:20px; vertical-align: middle;'></progress>\n",
       "      100.00% [29/29 00:00<00:00]\n",
       "    </div>\n",
       "    "
      ],
      "text/plain": [
       "<IPython.core.display.HTML object>"
      ]
     },
     "metadata": {},
     "output_type": "display_data"
    },
    {
     "data": {
      "image/png": "[encoded data removed]",
      "text/plain": [
       "<Figure size 432x288 with 1 Axes>"
      ]
     },
     "metadata": {
      "needs_background": "light"
     },
     "output_type": "display_data"
    },
    {
     "data": {
      "image/png": "[encoded data removed]",
      "text/plain": [
       "<Figure size 432x288 with 1 Axes>"
      ]
     },
     "metadata": {
      "needs_background": "light"
     },
     "output_type": "display_data"
    },
    {
     "name": "stdout",
     "output_type": "stream",
     "text": [
      "\n",
      " \t ::: 7 SKOPT CALL ::: \n",
      "\n",
      "{'lr': 0.0070673841643105135, 'temperature': 0.6640147819491843, 'neurons': 62}\n",
      "*********************\n",
      "Summary training data\n",
      "Features ['aplanarity', 'chargeEta', 'MET_met', 'deltaPhiTauMet']\n",
      "Shape systematics ['jes']\n",
      "Weight systematics ['btag_weight1']\n",
      "Use weights False\n",
      "Number of signal training / test events: 20000 23570\n",
      "Number of bkg training / test events: 5000 6176\n",
      "*********************\n",
      "*********************\n",
      "Summary dataloader\n",
      "batch size 1000\n",
      "epochs 30\n",
      "x torch.Size([4, 5])\n",
      "y tensor([1.])\n",
      "w None\n",
      "*********************\n",
      "*********************\n",
      "Summary NN setup\n",
      "learning rate 0.0070673841643105135\n",
      "n_feats 4\n",
      "neurons 62\n",
      "temperature 0.6640147819491843\n",
      "bins 10\n",
      "weights False\n",
      "*********************\n",
      "*********************\n",
      "Summary INFERNO setup\n",
      "b_true 2800\n",
      "mu_true 400\n",
      "nshape_alphas 2\n",
      "shape_aux None\n",
      "s_norm_aux []\n",
      "n_alpha 3\n",
      "*********************\n"
     ]
    },
    {
     "data": {
      "text/html": [],
      "text/plain": [
       "<IPython.core.display.HTML object>"
      ]
     },
     "metadata": {},
     "output_type": "display_data"
    },
    {
     "name": "stdout",
     "output_type": "stream",
     "text": [
      "1: Train=2202.4106689453124 Valid=1544.8877500336746\n",
      "2: Train=1399.332548828125 Valid=1356.5135140254579\n",
      "3: Train=1272.4223754882812 Valid=1231.4420418574891\n",
      "4: Train=1197.9169213867187 Valid=1177.2200464709051\n",
      "5: Train=1135.8555981445313 Valid=1183.2200127963363\n",
      "6: Train=1148.6510180664063 Valid=1157.8788662614493\n",
      "7: Train=1106.358408203125 Valid=1124.2150121228449\n",
      "8: Train=1070.459423828125 Valid=1102.5868403993804\n",
      "9: Train=1056.5455908203126 Valid=1161.1887859476024\n",
      "10: Train=1085.23857421875 Valid=1234.7244767813847\n",
      "11: Train=1167.552890625 Valid=1314.5239131532867\n",
      "12: Train=1233.7173315429689 Valid=1159.8138196221714\n",
      "13: Train=1088.8440747070313 Valid=1122.295725855334\n",
      "14: Train=1175.245244140625 Valid=1171.491593985722\n",
      "15: Train=1137.9641479492188 Valid=1151.2124318089977\n",
      "16: Train=1122.6024877929688 Valid=1084.0394855367726\n",
      "17: Train=1069.0259350585939 Valid=1114.0738672716864\n",
      "18: Train=1079.12701171875 Valid=1087.0454880286907\n",
      "19: Train=1073.28189453125 Valid=1114.6095623147899\n",
      "20: Train=1064.5738134765625 Valid=1104.0055163153286\n",
      "21: Train=1081.2344775390625 Valid=1227.9895903488684\n",
      "22: Train=1156.7096899414062 Valid=1154.1252693965516\n",
      "23: Train=1252.0768896484376 Valid=1244.913134344693\n",
      "24: Train=1259.706103515625 Valid=1317.369921454068\n",
      "25: Train=1193.95685546875 Valid=1224.4815000336746\n",
      "26: Train=1158.5590625 Valid=1328.3315892712824\n",
      "27: Train=1403.453505859375 Valid=1357.6379562904094\n",
      "28: Train=1337.884443359375 Valid=1271.1066431505926\n",
      "29: Train=1350.1504321289062 Valid=1368.1912505051184\n",
      "30: Train=1386.306005859375 Valid=1225.4536701070851\n"
     ]
    },
    {
     "data": {
      "text/html": [
       "\n",
       "    <div>\n",
       "        <style>\n",
       "            /* Turns off some styling */\n",
       "            progress {\n",
       "                /* gets rid of default border in Firefox and Opera. */\n",
       "                border: none;\n",
       "                /* Needs to be in here for Safari polyfill so background images work as expected. */\n",
       "                background-size: auto;\n",
       "            }\n",
       "            .progress-bar-interrupted, .progress-bar-interrupted::-webkit-progress-bar {\n",
       "                background: #F44336;\n",
       "            }\n",
       "        </style>\n",
       "      <progress value='29' class='' max='29' style='width:300px; height:20px; vertical-align: middle;'></progress>\n",
       "      100.00% [29/29 00:00<00:00]\n",
       "    </div>\n",
       "    "
      ],
      "text/plain": [
       "<IPython.core.display.HTML object>"
      ]
     },
     "metadata": {},
     "output_type": "display_data"
    },
    {
     "data": {
      "image/png": "[encoded data removed]",
      "text/plain": [
       "<Figure size 432x288 with 1 Axes>"
      ]
     },
     "metadata": {
      "needs_background": "light"
     },
     "output_type": "display_data"
    },
    {
     "data": {
      "image/png": "[encoded data removed]",
      "text/plain": [
       "<Figure size 432x288 with 1 Axes>"
      ]
     },
     "metadata": {
      "needs_background": "light"
     },
     "output_type": "display_data"
    },
    {
     "name": "stdout",
     "output_type": "stream",
     "text": [
      "\n",
      " \t ::: 8 SKOPT CALL ::: \n",
      "\n",
      "{'lr': 0.00012381214234993934, 'temperature': 0.08068733812752421, 'neurons': 180}\n",
      "*********************\n",
      "Summary training data\n",
      "Features ['aplanarity', 'chargeEta', 'MET_met', 'deltaPhiTauMet']\n",
      "Shape systematics ['jes']\n",
      "Weight systematics ['btag_weight1']\n",
      "Use weights False\n",
      "Number of signal training / test events: 20000 23570\n",
      "Number of bkg training / test events: 5000 6176\n",
      "*********************\n",
      "*********************\n",
      "Summary dataloader\n",
      "batch size 1000\n",
      "epochs 30\n",
      "x torch.Size([4, 5])\n",
      "y tensor([1.])\n",
      "w None\n",
      "*********************\n",
      "*********************\n",
      "Summary NN setup\n",
      "learning rate 0.00012381214234993934\n",
      "n_feats 4\n",
      "neurons 180\n",
      "temperature 0.08068733812752421\n",
      "bins 10\n",
      "weights False\n",
      "*********************\n",
      "*********************\n",
      "Summary INFERNO setup\n",
      "b_true 2800\n",
      "mu_true 400\n",
      "nshape_alphas 2\n",
      "shape_aux None\n",
      "s_norm_aux []\n",
      "n_alpha 3\n",
      "*********************\n"
     ]
    },
    {
     "data": {
      "text/html": [],
      "text/plain": [
       "<IPython.core.display.HTML object>"
      ]
     },
     "metadata": {},
     "output_type": "display_data"
    },
    {
     "name": "stdout",
     "output_type": "stream",
     "text": [
      "1: Train=2306.32712890625 Valid=1940.5239468278555\n",
      "2: Train=1795.845234375 Valid=1714.2893487338363\n",
      "3: Train=1623.4962158203125 Valid=1571.7335078798492\n",
      "4: Train=1517.5768310546875 Valid=1465.5796277276402\n",
      "5: Train=1447.1137451171876 Valid=1411.9822282462285\n",
      "6: Train=1385.107177734375 Valid=1388.6167876144934\n",
      "7: Train=1355.6222900390626 Valid=1359.771661166487\n",
      "8: Train=1326.9970581054688 Valid=1325.4879192483836\n",
      "9: Train=1300.62685546875 Valid=1310.5905972184805\n",
      "10: Train=1285.5409326171875 Valid=1293.0952274717133\n",
      "11: Train=1270.0919482421875 Valid=1274.0894649110992\n",
      "12: Train=1248.15435546875 Valid=1262.1160109947468\n",
      "13: Train=1243.7738208007813 Valid=1264.7929519127156\n",
      "14: Train=1231.7484619140625 Valid=1244.5310332199622\n",
      "15: Train=1206.916845703125 Valid=1241.4765077788254\n",
      "16: Train=1200.6949780273437 Valid=1222.1852248619343\n",
      "17: Train=1194.6478466796875 Valid=1219.9074054586476\n",
      "18: Train=1186.709072265625 Valid=1211.231081206223\n",
      "19: Train=1176.26369140625 Valid=1221.953718514278\n",
      "20: Train=1170.7143676757812 Valid=1211.760344406654\n",
      "21: Train=1158.7324389648438 Valid=1209.6380025929418\n",
      "22: Train=1148.1334350585937 Valid=1198.9795342807113\n",
      "23: Train=1159.7961840820312 Valid=1203.987477269666\n",
      "24: Train=1149.4280688476563 Valid=1189.6784562735722\n",
      "25: Train=1130.597216796875 Valid=1205.545965786638\n",
      "26: Train=1137.5374609375 Valid=1193.987203663793\n",
      "27: Train=1134.7416357421876 Valid=1184.4558926286368\n",
      "28: Train=1122.4537182617187 Valid=1197.4688489190464\n",
      "29: Train=1128.931513671875 Valid=1188.109934839709\n",
      "30: Train=1117.4458715820313 Valid=1181.5863605367726\n"
     ]
    },
    {
     "data": {
      "text/html": [
       "\n",
       "    <div>\n",
       "        <style>\n",
       "            /* Turns off some styling */\n",
       "            progress {\n",
       "                /* gets rid of default border in Firefox and Opera. */\n",
       "                border: none;\n",
       "                /* Needs to be in here for Safari polyfill so background images work as expected. */\n",
       "                background-size: auto;\n",
       "            }\n",
       "            .progress-bar-interrupted, .progress-bar-interrupted::-webkit-progress-bar {\n",
       "                background: #F44336;\n",
       "            }\n",
       "        </style>\n",
       "      <progress value='29' class='' max='29' style='width:300px; height:20px; vertical-align: middle;'></progress>\n",
       "      100.00% [29/29 00:00<00:00]\n",
       "    </div>\n",
       "    "
      ],
      "text/plain": [
       "<IPython.core.display.HTML object>"
      ]
     },
     "metadata": {},
     "output_type": "display_data"
    },
    {
     "data": {
      "image/png": "[encoded data removed]",
      "text/plain": [
       "<Figure size 432x288 with 1 Axes>"
      ]
     },
     "metadata": {
      "needs_background": "light"
     },
     "output_type": "display_data"
    },
    {
     "data": {
      "image/png": "[encoded data removed]",
      "text/plain": [
       "<Figure size 432x288 with 1 Axes>"
      ]
     },
     "metadata": {
      "needs_background": "light"
     },
     "output_type": "display_data"
    },
    {
     "name": "stdout",
     "output_type": "stream",
     "text": [
      "\n",
      " \t ::: 9 SKOPT CALL ::: \n",
      "\n",
      "{'lr': 0.009673767405039039, 'temperature': 0.25282720016882304, 'neurons': 155}\n",
      "*********************\n",
      "Summary training data\n",
      "Features ['aplanarity', 'chargeEta', 'MET_met', 'deltaPhiTauMet']\n",
      "Shape systematics ['jes']\n",
      "Weight systematics ['btag_weight1']\n",
      "Use weights False\n",
      "Number of signal training / test events: 20000 23570\n",
      "Number of bkg training / test events: 5000 6176\n",
      "*********************\n",
      "*********************\n",
      "Summary dataloader\n",
      "batch size 1000\n",
      "epochs 30\n",
      "x torch.Size([4, 5])\n",
      "y tensor([1.])\n",
      "w None\n",
      "*********************\n",
      "*********************\n",
      "Summary NN setup\n",
      "learning rate 0.009673767405039039\n",
      "n_feats 4\n",
      "neurons 155\n",
      "temperature 0.25282720016882304\n",
      "bins 10\n",
      "weights False\n",
      "*********************\n",
      "*********************\n",
      "Summary INFERNO setup\n",
      "b_true 2800\n",
      "mu_true 400\n",
      "nshape_alphas 2\n",
      "shape_aux None\n",
      "s_norm_aux []\n",
      "n_alpha 3\n",
      "*********************\n"
     ]
    },
    {
     "data": {
      "text/html": [],
      "text/plain": [
       "<IPython.core.display.HTML object>"
      ]
     },
     "metadata": {},
     "output_type": "display_data"
    },
    {
     "name": "stdout",
     "output_type": "stream",
     "text": [
      "1: Train=1662.543818359375 Valid=1325.1024064688847\n",
      "2: Train=1672.5492138671875 Valid=1644.8270895070043\n",
      "3: Train=2427.9252099609375 Valid=2884.804923221983\n",
      "4: Train=2951.201689453125 Valid=3172.7060715247844\n",
      "5: Train=2782.1901318359373 Valid=3199.9666032462283\n",
      "6: Train=2486.532412109375 Valid=3194.994982489224\n",
      "7: Train=3200.000703125 Valid=3210.524515086207\n",
      "8: Train=3199.81470703125 Valid=3199.7820076778016\n",
      "9: Train=3200.004658203125 Valid=3200.753039129849\n",
      "10: Train=3199.994892578125 Valid=3023.5584085398705\n",
      "11: Train=3199.9816796875 Valid=3200.0238079202586\n",
      "12: Train=3200.001259765625 Valid=3199.9812853582976\n",
      "13: Train=3199.99640625 Valid=3199.9540426320045\n",
      "14: Train=3199.995263671875 Valid=3199.9576458108836\n",
      "15: Train=3199.762822265625 Valid=3200.0384563577586\n",
      "16: Train=3200.04431640625 Valid=3199.730721309267\n",
      "17: Train=3199.9958203125 Valid=3200.0069285425648\n",
      "18: Train=3199.984794921875 Valid=3200.0052195581898\n",
      "19: Train=3199.983828125 Valid=3200.0390372440734\n",
      "20: Train=3200.009755859375 Valid=3200.0054636988148\n",
      "21: Train=3199.9896875 Valid=3199.9420208108836\n",
      "22: Train=3199.97224609375 Valid=3199.9969777074352\n",
      "23: Train=3199.974296875 Valid=3200.0002188846984\n",
      "24: Train=3199.999873046875 Valid=3200.048592403017\n",
      "25: Train=3200.23953125 Valid=3200.016812028556\n",
      "26: Train=3200.021337890625 Valid=3199.998678273168\n",
      "27: Train=3199.97158203125 Valid=3200.01708984375\n",
      "28: Train=3199.984296875 Valid=3199.998913995151\n",
      "29: Train=3200.014140625 Valid=3200.0351815059266\n",
      "30: Train=3200.035341796875 Valid=3200.069049703664\n"
     ]
    },
    {
     "data": {
      "text/html": [
       "\n",
       "    <div>\n",
       "        <style>\n",
       "            /* Turns off some styling */\n",
       "            progress {\n",
       "                /* gets rid of default border in Firefox and Opera. */\n",
       "                border: none;\n",
       "                /* Needs to be in here for Safari polyfill so background images work as expected. */\n",
       "                background-size: auto;\n",
       "            }\n",
       "            .progress-bar-interrupted, .progress-bar-interrupted::-webkit-progress-bar {\n",
       "                background: #F44336;\n",
       "            }\n",
       "        </style>\n",
       "      <progress value='29' class='' max='29' style='width:300px; height:20px; vertical-align: middle;'></progress>\n",
       "      100.00% [29/29 00:00<00:00]\n",
       "    </div>\n",
       "    "
      ],
      "text/plain": [
       "<IPython.core.display.HTML object>"
      ]
     },
     "metadata": {},
     "output_type": "display_data"
    },
    {
     "data": {
      "image/png": "[encoded data removed]",
      "text/plain": [
       "<Figure size 432x288 with 1 Axes>"
      ]
     },
     "metadata": {
      "needs_background": "light"
     },
     "output_type": "display_data"
    },
    {
     "data": {
      "image/png": "[encoded data removed]",
      "text/plain": [
       "<Figure size 432x288 with 1 Axes>"
      ]
     },
     "metadata": {
      "needs_background": "light"
     },
     "output_type": "display_data"
    },
    {
     "name": "stdout",
     "output_type": "stream",
     "text": [
      "\n",
      " \t ::: 10 SKOPT CALL ::: \n",
      "\n",
      "{'lr': 0.00243783716857707, 'temperature': 0.9192233151515897, 'neurons': 71}\n",
      "*********************\n",
      "Summary training data\n",
      "Features ['aplanarity', 'chargeEta', 'MET_met', 'deltaPhiTauMet']\n",
      "Shape systematics ['jes']\n",
      "Weight systematics ['btag_weight1']\n",
      "Use weights False\n",
      "Number of signal training / test events: 20000 23570\n",
      "Number of bkg training / test events: 5000 6176\n",
      "*********************\n",
      "*********************\n",
      "Summary dataloader\n",
      "batch size 1000\n",
      "epochs 30\n",
      "x torch.Size([4, 5])\n",
      "y tensor([1.])\n",
      "w None\n",
      "*********************\n",
      "*********************\n",
      "Summary NN setup\n",
      "learning rate 0.00243783716857707\n",
      "n_feats 4\n",
      "neurons 71\n",
      "temperature 0.9192233151515897\n",
      "bins 10\n",
      "weights False\n",
      "*********************\n",
      "*********************\n",
      "Summary INFERNO setup\n",
      "b_true 2800\n",
      "mu_true 400\n",
      "nshape_alphas 2\n",
      "shape_aux None\n",
      "s_norm_aux []\n",
      "n_alpha 3\n",
      "*********************\n"
     ]
    },
    {
     "data": {
      "text/html": [],
      "text/plain": [
       "<IPython.core.display.HTML object>"
      ]
     },
     "metadata": {},
     "output_type": "display_data"
    },
    {
     "name": "stdout",
     "output_type": "stream",
     "text": [
      "1: Train=2723.2662353515625 Valid=2006.4470762055496\n",
      "2: Train=1762.75873046875 Valid=1582.3722891971984\n",
      "3: Train=1547.9423193359376 Valid=1461.6513040476832\n",
      "4: Train=1433.7709375 Valid=1373.3793145541488\n",
      "5: Train=1354.4086328125 Valid=1313.9735023235453\n",
      "6: Train=1307.8343701171875 Valid=1291.8567062904094\n",
      "7: Train=1274.6006982421875 Valid=1282.7090117355872\n",
      "8: Train=1245.4241137695312 Valid=1266.7367280105066\n",
      "9: Train=1245.0909887695314 Valid=1250.4463479929957\n",
      "10: Train=1216.0374560546875 Valid=1242.1877146753773\n",
      "11: Train=1202.5267919921876 Valid=1214.3054367591594\n",
      "12: Train=1189.338720703125 Valid=1200.5615529027477\n",
      "13: Train=1174.2391748046875 Valid=1188.0007871430496\n",
      "14: Train=1143.1746557617187 Valid=1161.246826171875\n",
      "15: Train=1122.59787109375 Valid=1152.5940404431574\n",
      "16: Train=1117.3757470703124 Valid=1137.0342196760507\n",
      "17: Train=1103.7632153320312 Valid=1144.348077182112\n",
      "18: Train=1098.167138671875 Valid=1132.6908863988415\n",
      "19: Train=1094.4046020507812 Valid=1150.5636828192348\n",
      "20: Train=1099.2363061523438 Valid=1118.850777461611\n",
      "21: Train=1079.9995141601562 Valid=1115.4239649279364\n",
      "22: Train=1061.7220678710937 Valid=1118.009814032193\n",
      "23: Train=1058.9021630859374 Valid=1129.2668141332165\n",
      "24: Train=1053.9951416015624 Valid=1118.674339557516\n",
      "25: Train=1044.8311645507813 Valid=1101.60231386382\n",
      "26: Train=1039.9262182617188 Valid=1098.7268129546067\n",
      "27: Train=1027.0168505859374 Valid=1096.3998139480066\n",
      "28: Train=1021.0295141601563 Valid=1088.864066288389\n",
      "29: Train=1023.054423828125 Valid=1068.814276333513\n",
      "30: Train=1023.58603515625 Valid=1083.9497512291218\n"
     ]
    },
    {
     "data": {
      "text/html": [
       "\n",
       "    <div>\n",
       "        <style>\n",
       "            /* Turns off some styling */\n",
       "            progress {\n",
       "                /* gets rid of default border in Firefox and Opera. */\n",
       "                border: none;\n",
       "                /* Needs to be in here for Safari polyfill so background images work as expected. */\n",
       "                background-size: auto;\n",
       "            }\n",
       "            .progress-bar-interrupted, .progress-bar-interrupted::-webkit-progress-bar {\n",
       "                background: #F44336;\n",
       "            }\n",
       "        </style>\n",
       "      <progress value='29' class='' max='29' style='width:300px; height:20px; vertical-align: middle;'></progress>\n",
       "      100.00% [29/29 00:00<00:00]\n",
       "    </div>\n",
       "    "
      ],
      "text/plain": [
       "<IPython.core.display.HTML object>"
      ]
     },
     "metadata": {},
     "output_type": "display_data"
    },
    {
     "data": {
      "image/png": "[encoded data removed]",
      "text/plain": [
       "<Figure size 432x288 with 1 Axes>"
      ]
     },
     "metadata": {
      "needs_background": "light"
     },
     "output_type": "display_data"
    },
    {
     "data": {
      "image/png": "[encoded data removed]",
      "text/plain": [
       "<Figure size 432x288 with 1 Axes>"
      ]
     },
     "metadata": {
      "needs_background": "light"
     },
     "output_type": "display_data"
    },
    {
     "name": "stdout",
     "output_type": "stream",
     "text": [
      "\n",
      " \t ::: 11 SKOPT CALL ::: \n",
      "\n",
      "{'lr': 0.0018576527364465708, 'temperature': 0.14863050003558417, 'neurons': 192}\n",
      "*********************\n",
      "Summary training data\n",
      "Features ['aplanarity', 'chargeEta', 'MET_met', 'deltaPhiTauMet']\n",
      "Shape systematics ['jes']\n",
      "Weight systematics ['btag_weight1']\n",
      "Use weights False\n",
      "Number of signal training / test events: 20000 23570\n",
      "Number of bkg training / test events: 5000 6176\n",
      "*********************\n",
      "*********************\n",
      "Summary dataloader\n",
      "batch size 1000\n",
      "epochs 30\n",
      "x torch.Size([4, 5])\n",
      "y tensor([1.])\n",
      "w None\n",
      "*********************\n",
      "*********************\n",
      "Summary NN setup\n",
      "learning rate 0.0018576527364465708\n",
      "n_feats 4\n",
      "neurons 192\n",
      "temperature 0.14863050003558417\n",
      "bins 10\n",
      "weights False\n",
      "*********************\n",
      "*********************\n",
      "Summary INFERNO setup\n",
      "b_true 2800\n",
      "mu_true 400\n",
      "nshape_alphas 2\n",
      "shape_aux None\n",
      "s_norm_aux []\n",
      "n_alpha 3\n",
      "*********************\n"
     ]
    },
    {
     "data": {
      "text/html": [],
      "text/plain": [
       "<IPython.core.display.HTML object>"
      ]
     },
     "metadata": {},
     "output_type": "display_data"
    },
    {
     "name": "stdout",
     "output_type": "stream",
     "text": [
      "1: Train=1597.1483056640625 Valid=1384.6736302869074\n",
      "2: Train=1343.7547802734375 Valid=1333.4998779296875\n",
      "3: Train=1251.5701953125 Valid=1231.574850148168\n",
      "4: Train=1208.5319604492188 Valid=1223.9476234172953\n",
      "5: Train=1171.7467651367188 Valid=1168.967236749057\n",
      "6: Train=1167.236875 Valid=1194.5384163692079\n",
      "7: Train=1122.1204272460936 Valid=1200.7158792429957\n",
      "8: Train=1141.5966967773438 Valid=1178.1651421908675\n",
      "9: Train=1166.8812573242187 Valid=1191.481148555361\n",
      "10: Train=1129.6883447265625 Valid=1154.2283830313847\n",
      "11: Train=1109.2004028320312 Valid=1186.971239813443\n",
      "12: Train=1126.478974609375 Valid=1134.423512425916\n",
      "13: Train=1092.8359497070312 Valid=1115.914704421471\n",
      "14: Train=1232.2890063476561 Valid=1265.8766205886316\n",
      "15: Train=1260.8911669921874 Valid=1217.172171757139\n",
      "16: Train=1448.113828125 Valid=1851.1487784550109\n",
      "17: Train=1904.6249951171876 Valid=1560.428132155846\n",
      "18: Train=1655.11287109375 Valid=1783.6465938173492\n",
      "19: Train=2056.2825341796874 Valid=1776.6312150626347\n",
      "20: Train=2286.6709130859376 Valid=2443.2803660425648\n",
      "21: Train=2700.8648876953125 Valid=2596.629436624461\n",
      "22: Train=2585.8724462890623 Valid=2462.856335870151\n",
      "23: Train=2277.91388671875 Valid=2365.162387190194\n",
      "24: Train=2419.082314453125 Valid=2585.7958268790408\n",
      "25: Train=2055.4832275390627 Valid=2029.305348363416\n",
      "26: Train=1854.999169921875 Valid=1645.5798066237878\n",
      "27: Train=1740.5731982421876 Valid=1785.8372423895473\n",
      "28: Train=2079.3445263671874 Valid=2633.8390229323813\n",
      "29: Train=2309.26392578125 Valid=2448.2726208917024\n",
      "30: Train=2403.1135693359374 Valid=2662.960971174569\n"
     ]
    },
    {
     "data": {
      "text/html": [
       "\n",
       "    <div>\n",
       "        <style>\n",
       "            /* Turns off some styling */\n",
       "            progress {\n",
       "                /* gets rid of default border in Firefox and Opera. */\n",
       "                border: none;\n",
       "                /* Needs to be in here for Safari polyfill so background images work as expected. */\n",
       "                background-size: auto;\n",
       "            }\n",
       "            .progress-bar-interrupted, .progress-bar-interrupted::-webkit-progress-bar {\n",
       "                background: #F44336;\n",
       "            }\n",
       "        </style>\n",
       "      <progress value='29' class='' max='29' style='width:300px; height:20px; vertical-align: middle;'></progress>\n",
       "      100.00% [29/29 00:00<00:00]\n",
       "    </div>\n",
       "    "
      ],
      "text/plain": [
       "<IPython.core.display.HTML object>"
      ]
     },
     "metadata": {},
     "output_type": "display_data"
    },
    {
     "data": {
      "image/png": "[encoded data removed]",
      "text/plain": [
       "<Figure size 432x288 with 1 Axes>"
      ]
     },
     "metadata": {
      "needs_background": "light"
     },
     "output_type": "display_data"
    },
    {
     "data": {
      "image/png": "[encoded data removed]",
      "text/plain": [
       "<Figure size 432x288 with 1 Axes>"
      ]
     },
     "metadata": {
      "needs_background": "light"
     },
     "output_type": "display_data"
    },
    {
     "name": "stdout",
     "output_type": "stream",
     "text": [
      "\n",
      " \t ::: 12 SKOPT CALL ::: \n",
      "\n",
      "{'lr': 0.009043027002241254, 'temperature': 0.5637167893309362, 'neurons': 85}\n",
      "*********************\n",
      "Summary training data\n",
      "Features ['aplanarity', 'chargeEta', 'MET_met', 'deltaPhiTauMet']\n",
      "Shape systematics ['jes']\n",
      "Weight systematics ['btag_weight1']\n",
      "Use weights False\n",
      "Number of signal training / test events: 20000 23570\n",
      "Number of bkg training / test events: 5000 6176\n",
      "*********************\n",
      "*********************\n",
      "Summary dataloader\n",
      "batch size 1000\n",
      "epochs 30\n",
      "x torch.Size([4, 5])\n",
      "y tensor([1.])\n",
      "w None\n",
      "*********************\n",
      "*********************\n",
      "Summary NN setup\n",
      "learning rate 0.009043027002241254\n",
      "n_feats 4\n",
      "neurons 85\n",
      "temperature 0.5637167893309362\n",
      "bins 10\n",
      "weights False\n",
      "*********************\n",
      "*********************\n",
      "Summary INFERNO setup\n",
      "b_true 2800\n",
      "mu_true 400\n",
      "nshape_alphas 2\n",
      "shape_aux None\n",
      "s_norm_aux []\n",
      "n_alpha 3\n",
      "*********************\n"
     ]
    },
    {
     "data": {
      "text/html": [],
      "text/plain": [
       "<IPython.core.display.HTML object>"
      ]
     },
     "metadata": {},
     "output_type": "display_data"
    },
    {
     "name": "stdout",
     "output_type": "stream",
     "text": [
      "1: Train=1875.04953125 Valid=1418.1909432246766\n",
      "2: Train=1373.4602124023438 Valid=1249.3821495319235\n",
      "3: Train=1295.4618359375 Valid=1190.4223569672683\n",
      "4: Train=1214.38521484375 Valid=1164.495853818696\n",
      "5: Train=1266.6269018554688 Valid=1171.403440278152\n",
      "6: Train=1235.2827270507812 Valid=1159.8547910492996\n",
      "7: Train=1302.3137377929688 Valid=1399.140553441541\n",
      "8: Train=1255.0616772460937 Valid=1194.9407053980335\n",
      "9: Train=1267.0266528320312 Valid=1220.5088101091055\n",
      "10: Train=1463.0980615234375 Valid=1736.2468851023707\n",
      "11: Train=1867.9063134765624 Valid=2196.871375774515\n",
      "12: Train=2301.7580322265626 Valid=2486.909625875539\n",
      "13: Train=2717.095673828125 Valid=2830.062845164332\n",
      "14: Train=2712.90361328125 Valid=2725.532967403017\n",
      "15: Train=2360.7293798828123 Valid=2023.9746304216055\n",
      "16: Train=1739.0540283203125 Valid=1586.539938038793\n",
      "17: Train=1950.6758740234375 Valid=2312.097454202586\n",
      "18: Train=1909.8155224609375 Valid=1833.8010759024785\n",
      "19: Train=2354.31830078125 Valid=2482.8349441002156\n",
      "20: Train=2475.9750927734376 Valid=3167.798836543642\n",
      "21: Train=3199.921064453125 Valid=3227.9391332165947\n",
      "22: Train=3235.697236328125 Valid=3200.000244140625\n",
      "23: Train=3199.99873046875 Valid=3200.026114628233\n",
      "24: Train=3199.999384765625 Valid=3200.0035021551726\n",
      "25: Train=3200.004765625 Valid=3199.99462890625\n",
      "26: Train=3200.0034765625 Valid=3200.0054300242455\n",
      "27: Train=3199.973876953125 Valid=3199.9639176993533\n",
      "28: Train=3200.0020703125 Valid=3200.019674366918\n",
      "29: Train=3199.94619140625 Valid=3199.976697198276\n",
      "30: Train=3199.99876953125 Valid=3189.387728987069\n"
     ]
    },
    {
     "data": {
      "text/html": [
       "\n",
       "    <div>\n",
       "        <style>\n",
       "            /* Turns off some styling */\n",
       "            progress {\n",
       "                /* gets rid of default border in Firefox and Opera. */\n",
       "                border: none;\n",
       "                /* Needs to be in here for Safari polyfill so background images work as expected. */\n",
       "                background-size: auto;\n",
       "            }\n",
       "            .progress-bar-interrupted, .progress-bar-interrupted::-webkit-progress-bar {\n",
       "                background: #F44336;\n",
       "            }\n",
       "        </style>\n",
       "      <progress value='29' class='' max='29' style='width:300px; height:20px; vertical-align: middle;'></progress>\n",
       "      100.00% [29/29 00:00<00:00]\n",
       "    </div>\n",
       "    "
      ],
      "text/plain": [
       "<IPython.core.display.HTML object>"
      ]
     },
     "metadata": {},
     "output_type": "display_data"
    },
    {
     "data": {
      "image/png": "[encoded data removed]",
      "text/plain": [
       "<Figure size 432x288 with 1 Axes>"
      ]
     },
     "metadata": {
      "needs_background": "light"
     },
     "output_type": "display_data"
    },
    {
     "data": {
      "image/png": "[encoded data removed]",
      "text/plain": [
       "<Figure size 432x288 with 1 Axes>"
      ]
     },
     "metadata": {
      "needs_background": "light"
     },
     "output_type": "display_data"
    },
    {
     "name": "stdout",
     "output_type": "stream",
     "text": [
      "\n",
      " \t ::: 13 SKOPT CALL ::: \n",
      "\n",
      "{'lr': 0.009645873845161856, 'temperature': 0.14074063429598838, 'neurons': 135}\n",
      "*********************\n",
      "Summary training data\n",
      "Features ['aplanarity', 'chargeEta', 'MET_met', 'deltaPhiTauMet']\n",
      "Shape systematics ['jes']\n",
      "Weight systematics ['btag_weight1']\n",
      "Use weights False\n",
      "Number of signal training / test events: 20000 23570\n",
      "Number of bkg training / test events: 5000 6176\n",
      "*********************\n",
      "*********************\n",
      "Summary dataloader\n",
      "batch size 1000\n",
      "epochs 30\n",
      "x torch.Size([4, 5])\n",
      "y tensor([1.])\n",
      "w None\n",
      "*********************\n",
      "*********************\n",
      "Summary NN setup\n",
      "learning rate 0.009645873845161856\n",
      "n_feats 4\n",
      "neurons 135\n",
      "temperature 0.14074063429598838\n",
      "bins 10\n",
      "weights False\n",
      "*********************\n",
      "*********************\n",
      "Summary INFERNO setup\n",
      "b_true 2800\n",
      "mu_true 400\n",
      "nshape_alphas 2\n",
      "shape_aux None\n",
      "s_norm_aux []\n",
      "n_alpha 3\n",
      "*********************\n"
     ]
    },
    {
     "data": {
      "text/html": [
       "\n",
       "    <div>\n",
       "        <style>\n",
       "            /* Turns off some styling */\n",
       "            progress {\n",
       "                /* gets rid of default border in Firefox and Opera. */\n",
       "                border: none;\n",
       "                /* Needs to be in here for Safari polyfill so background images work as expected. */\n",
       "                background-size: auto;\n",
       "            }\n",
       "            .progress-bar-interrupted, .progress-bar-interrupted::-webkit-progress-bar {\n",
       "                background: #F44336;\n",
       "            }\n",
       "        </style>\n",
       "      <progress value='14' class='' max='30' style='width:300px; height:20px; vertical-align: middle;'></progress>\n",
       "      46.67% [14/30 00:21<00:24]\n",
       "    </div>\n",
       "    \n",
       "\n",
       "\n",
       "    <div>\n",
       "        <style>\n",
       "            /* Turns off some styling */\n",
       "            progress {\n",
       "                /* gets rid of default border in Firefox and Opera. */\n",
       "                border: none;\n",
       "                /* Needs to be in here for Safari polyfill so background images work as expected. */\n",
       "                background-size: auto;\n",
       "            }\n",
       "            .progress-bar-interrupted, .progress-bar-interrupted::-webkit-progress-bar {\n",
       "                background: #F44336;\n",
       "            }\n",
       "        </style>\n",
       "      <progress value='18' class='' max='25' style='width:300px; height:20px; vertical-align: middle;'></progress>\n",
       "      72.00% [18/25 00:00<00:00]\n",
       "    </div>\n",
       "    "
      ],
      "text/plain": [
       "<IPython.core.display.HTML object>"
      ]
     },
     "metadata": {},
     "output_type": "display_data"
    },
    {
     "name": "stdout",
     "output_type": "stream",
     "text": [
      "1: Train=1701.236630859375 Valid=1365.2013023639547\n",
      "2: Train=2452.0472607421875 Valid=3189.423760775862\n",
      "3: Train=2985.1305517578126 Valid=3200.010599070582\n",
      "4: Train=3200.015546875 Valid=3201.370403421336\n",
      "5: Train=3171.04447265625 Valid=3200.0068359375\n",
      "6: Train=3200.188515625 Valid=3200.0248770878234\n",
      "7: Train=3200.019794921875 Valid=3200.4483347925648\n",
      "8: Train=3199.95626953125 Valid=3199.9795090247844\n",
      "9: Train=3200.023779296875 Valid=3204.659600619612\n",
      "10: Train=3200.011279296875 Valid=3198.8089136584053\n",
      "11: Train=3199.841513671875 Valid=3205.143032731681\n",
      "12: Train=3200.006982421875 Valid=3199.9970703125\n",
      "13: Train=3200.01640625 Valid=3200.087991648707\n",
      "14: Train=3192.200537109375 Valid=3009.234427616514\n",
      "\n",
      " \t ::: 14 SKOPT CALL ::: \n",
      "\n",
      "{'lr': 0.00023471406017940377, 'temperature': 0.9581634896492418, 'neurons': 147}\n",
      "*********************\n",
      "Summary training data\n",
      "Features ['aplanarity', 'chargeEta', 'MET_met', 'deltaPhiTauMet']\n",
      "Shape systematics ['jes']\n",
      "Weight systematics ['btag_weight1']\n",
      "Use weights False\n",
      "Number of signal training / test events: 20000 23570\n",
      "Number of bkg training / test events: 5000 6176\n",
      "*********************\n",
      "*********************\n",
      "Summary dataloader\n",
      "batch size 1000\n",
      "epochs 30\n",
      "x torch.Size([4, 5])\n",
      "y tensor([1.])\n",
      "w None\n",
      "*********************\n",
      "*********************\n",
      "Summary NN setup\n",
      "learning rate 0.00023471406017940377\n",
      "n_feats 4\n",
      "neurons 147\n",
      "temperature 0.9581634896492418\n",
      "bins 10\n",
      "weights False\n",
      "*********************\n",
      "*********************\n",
      "Summary INFERNO setup\n",
      "b_true 2800\n",
      "mu_true 400\n",
      "nshape_alphas 2\n",
      "shape_aux None\n",
      "s_norm_aux []\n",
      "n_alpha 3\n",
      "*********************\n"
     ]
    },
    {
     "data": {
      "text/html": [],
      "text/plain": [
       "<IPython.core.display.HTML object>"
      ]
     },
     "metadata": {},
     "output_type": "display_data"
    },
    {
     "name": "stdout",
     "output_type": "stream",
     "text": [
      "1: Train=3163.3863671875 Valid=3099.6295629040947\n",
      "2: Train=2992.27087890625 Valid=2815.515869140625\n",
      "3: Train=2640.678134765625 Valid=2440.3710095635774\n",
      "4: Train=2295.7507666015626 Valid=2119.877504546067\n",
      "5: Train=2064.59017578125 Valid=1943.9880497373383\n",
      "6: Train=1899.0507177734376 Valid=1808.0414870689656\n",
      "7: Train=1784.4869873046875 Valid=1717.8711905643859\n",
      "8: Train=1694.14365234375 Valid=1645.8175048828125\n",
      "9: Train=1641.4158203125 Valid=1607.8428702518859\n",
      "10: Train=1590.2349462890625 Valid=1557.6520448882004\n",
      "11: Train=1553.7036865234375 Valid=1526.427805933459\n",
      "12: Train=1518.4630517578125 Valid=1503.356790476832\n",
      "13: Train=1479.1570654296875 Valid=1470.9119115369074\n",
      "14: Train=1452.0825830078124 Valid=1442.6974339978449\n",
      "15: Train=1427.5254150390624 Valid=1421.517826474946\n",
      "16: Train=1407.9695849609375 Valid=1411.4904280037715\n",
      "17: Train=1386.79181640625 Valid=1394.9390995420258\n",
      "18: Train=1369.3540478515624 Valid=1375.1368534482758\n",
      "19: Train=1356.722353515625 Valid=1374.9515717605066\n",
      "20: Train=1332.4036083984374 Valid=1371.1499444369613\n",
      "21: Train=1321.6320751953126 Valid=1348.5391508957434\n",
      "22: Train=1312.025537109375 Valid=1343.858571019666\n",
      "23: Train=1300.091328125 Valid=1334.3056851091055\n",
      "24: Train=1290.0187158203125 Valid=1321.0378923087285\n",
      "25: Train=1284.19796875 Valid=1315.2296773976293\n",
      "26: Train=1277.2644189453124 Valid=1329.2463210533406\n",
      "27: Train=1272.0055517578126 Valid=1304.7702657765356\n",
      "28: Train=1261.4565161132812 Valid=1299.4102404364223\n",
      "29: Train=1257.8190869140626 Valid=1298.493092504041\n",
      "30: Train=1244.9590380859374 Valid=1293.5534015523976\n"
     ]
    },
    {
     "data": {
      "text/html": [
       "\n",
       "    <div>\n",
       "        <style>\n",
       "            /* Turns off some styling */\n",
       "            progress {\n",
       "                /* gets rid of default border in Firefox and Opera. */\n",
       "                border: none;\n",
       "                /* Needs to be in here for Safari polyfill so background images work as expected. */\n",
       "                background-size: auto;\n",
       "            }\n",
       "            .progress-bar-interrupted, .progress-bar-interrupted::-webkit-progress-bar {\n",
       "                background: #F44336;\n",
       "            }\n",
       "        </style>\n",
       "      <progress value='29' class='' max='29' style='width:300px; height:20px; vertical-align: middle;'></progress>\n",
       "      100.00% [29/29 00:00<00:00]\n",
       "    </div>\n",
       "    "
      ],
      "text/plain": [
       "<IPython.core.display.HTML object>"
      ]
     },
     "metadata": {},
     "output_type": "display_data"
    },
    {
     "data": {
      "image/png": "[encoded data removed]",
      "text/plain": [
       "<Figure size 432x288 with 1 Axes>"
      ]
     },
     "metadata": {
      "needs_background": "light"
     },
     "output_type": "display_data"
    },
    {
     "data": {
      "image/png": "[encoded data removed]",
      "text/plain": [
       "<Figure size 432x288 with 1 Axes>"
      ]
     },
     "metadata": {
      "needs_background": "light"
     },
     "output_type": "display_data"
    },
    {
     "name": "stdout",
     "output_type": "stream",
     "text": [
      "\n",
      " \t ::: 15 SKOPT CALL ::: \n",
      "\n",
      "{'lr': 0.0001, 'temperature': 0.0625759037043653, 'neurons': 163}\n",
      "*********************\n",
      "Summary training data\n",
      "Features ['aplanarity', 'chargeEta', 'MET_met', 'deltaPhiTauMet']\n",
      "Shape systematics ['jes']\n",
      "Weight systematics ['btag_weight1']\n",
      "Use weights False\n",
      "Number of signal training / test events: 20000 23570\n",
      "Number of bkg training / test events: 5000 6176\n",
      "*********************\n",
      "*********************\n",
      "Summary dataloader\n",
      "batch size 1000\n",
      "epochs 30\n",
      "x torch.Size([4, 5])\n",
      "y tensor([1.])\n",
      "w None\n",
      "*********************\n",
      "*********************\n",
      "Summary NN setup\n",
      "learning rate 0.0001\n",
      "n_feats 4\n",
      "neurons 163\n",
      "temperature 0.0625759037043653\n",
      "bins 10\n",
      "weights False\n",
      "*********************\n",
      "*********************\n",
      "Summary INFERNO setup\n",
      "b_true 2800\n",
      "mu_true 400\n",
      "nshape_alphas 2\n",
      "shape_aux None\n",
      "s_norm_aux []\n",
      "n_alpha 3\n",
      "*********************\n"
     ]
    },
    {
     "data": {
      "text/html": [],
      "text/plain": [
       "<IPython.core.display.HTML object>"
      ]
     },
     "metadata": {},
     "output_type": "display_data"
    },
    {
     "name": "stdout",
     "output_type": "stream",
     "text": [
      "1: Train=2488.91310546875 Valid=1957.421559300916\n",
      "2: Train=1812.31275390625 Valid=1600.9693519329203\n",
      "3: Train=1556.567158203125 Valid=1442.5723119275324\n",
      "4: Train=1443.688076171875 Valid=1368.7876060748922\n",
      "5: Train=1384.638857421875 Valid=1331.722134294181\n",
      "6: Train=1353.9995190429688 Valid=1306.4479812095906\n",
      "7: Train=1308.7103295898437 Valid=1274.484791722791\n",
      "8: Train=1288.889462890625 Valid=1267.884487809806\n",
      "9: Train=1269.8550317382812 Valid=1255.538727858971\n",
      "10: Train=1255.956796875 Valid=1237.189764614763\n",
      "11: Train=1246.34228515625 Valid=1224.9701517039332\n",
      "12: Train=1228.4153271484374 Valid=1228.2466809502964\n",
      "13: Train=1226.106767578125 Valid=1220.1727568527747\n",
      "14: Train=1207.5158959960938 Valid=1217.1012425915949\n",
      "15: Train=1191.365732421875 Valid=1204.0438295561692\n",
      "16: Train=1184.4075512695313 Valid=1208.475030307112\n",
      "17: Train=1192.9371264648437 Valid=1190.8347715180496\n",
      "18: Train=1179.0287182617187 Valid=1197.3552119814117\n",
      "19: Train=1179.1529052734375 Valid=1195.5233785695043\n",
      "20: Train=1170.83228515625 Valid=1194.2096010405442\n",
      "21: Train=1164.1452490234376 Valid=1180.2197139345367\n",
      "22: Train=1163.4858325195312 Valid=1179.5124616951778\n",
      "23: Train=1152.9904711914062 Valid=1166.6853827114762\n",
      "24: Train=1158.2195239257812 Valid=1165.449075633082\n",
      "25: Train=1145.5613623046875 Valid=1160.4888495083512\n",
      "26: Train=1139.2383666992187 Valid=1171.1048394564925\n",
      "27: Train=1141.9561010742189 Valid=1164.2023126010238\n",
      "28: Train=1139.550927734375 Valid=1159.3706559806035\n",
      "29: Train=1136.52267578125 Valid=1158.95778261382\n",
      "30: Train=1136.0243774414062 Valid=1143.7213534651132\n"
     ]
    },
    {
     "data": {
      "text/html": [
       "\n",
       "    <div>\n",
       "        <style>\n",
       "            /* Turns off some styling */\n",
       "            progress {\n",
       "                /* gets rid of default border in Firefox and Opera. */\n",
       "                border: none;\n",
       "                /* Needs to be in here for Safari polyfill so background images work as expected. */\n",
       "                background-size: auto;\n",
       "            }\n",
       "            .progress-bar-interrupted, .progress-bar-interrupted::-webkit-progress-bar {\n",
       "                background: #F44336;\n",
       "            }\n",
       "        </style>\n",
       "      <progress value='29' class='' max='29' style='width:300px; height:20px; vertical-align: middle;'></progress>\n",
       "      100.00% [29/29 00:00<00:00]\n",
       "    </div>\n",
       "    "
      ],
      "text/plain": [
       "<IPython.core.display.HTML object>"
      ]
     },
     "metadata": {},
     "output_type": "display_data"
    },
    {
     "data": {
      "image/png": "[encoded data removed]",
      "text/plain": [
       "<Figure size 432x288 with 1 Axes>"
      ]
     },
     "metadata": {
      "needs_background": "light"
     },
     "output_type": "display_data"
    },
    {
     "data": {
      "image/png": "[encoded data removed]",
      "text/plain": [
       "<Figure size 432x288 with 1 Axes>"
      ]
     },
     "metadata": {
      "needs_background": "light"
     },
     "output_type": "display_data"
    },
    {
     "name": "stdout",
     "output_type": "stream",
     "text": [
      "\n",
      " \t ::: 16 SKOPT CALL ::: \n",
      "\n",
      "{'lr': 0.0001, 'temperature': 0.06882821856928761, 'neurons': 53}\n",
      "*********************\n",
      "Summary training data\n",
      "Features ['aplanarity', 'chargeEta', 'MET_met', 'deltaPhiTauMet']\n",
      "Shape systematics ['jes']\n",
      "Weight systematics ['btag_weight1']\n",
      "Use weights False\n",
      "Number of signal training / test events: 20000 23570\n",
      "Number of bkg training / test events: 5000 6176\n",
      "*********************\n",
      "*********************\n",
      "Summary dataloader\n",
      "batch size 1000\n",
      "epochs 30\n",
      "x torch.Size([4, 5])\n",
      "y tensor([1.])\n",
      "w None\n",
      "*********************\n",
      "*********************\n",
      "Summary NN setup\n",
      "learning rate 0.0001\n",
      "n_feats 4\n",
      "neurons 53\n",
      "temperature 0.06882821856928761\n",
      "bins 10\n",
      "weights False\n",
      "*********************\n",
      "*********************\n",
      "Summary INFERNO setup\n",
      "b_true 2800\n",
      "mu_true 400\n",
      "nshape_alphas 2\n",
      "shape_aux None\n",
      "s_norm_aux []\n",
      "n_alpha 3\n",
      "*********************\n"
     ]
    },
    {
     "data": {
      "text/html": [],
      "text/plain": [
       "<IPython.core.display.HTML object>"
      ]
     },
     "metadata": {},
     "output_type": "display_data"
    },
    {
     "name": "stdout",
     "output_type": "stream",
     "text": [
      "1: Train=3101.086181640625 Valid=2964.4324235587283\n",
      "2: Train=2772.12314453125 Valid=2516.1356243265086\n",
      "3: Train=2316.824169921875 Valid=2134.4000875538795\n",
      "4: Train=2033.8831103515624 Valid=1929.6431295460668\n",
      "5: Train=1896.8324072265625 Valid=1816.4604239628234\n",
      "6: Train=1800.772138671875 Valid=1743.5419500942887\n",
      "7: Train=1734.02853515625 Valid=1694.5806421740301\n",
      "8: Train=1680.0281494140625 Valid=1641.8563527074352\n",
      "9: Train=1633.4660107421876 Valid=1592.7621565193965\n",
      "10: Train=1599.474130859375 Valid=1554.4940648572199\n",
      "11: Train=1571.456591796875 Valid=1531.2208546605602\n",
      "12: Train=1532.4073046875 Valid=1506.8139522157867\n",
      "13: Train=1510.954296875 Valid=1476.5311026737609\n",
      "14: Train=1488.804296875 Valid=1464.936350855334\n",
      "15: Train=1468.9456884765625 Valid=1439.534634294181\n",
      "16: Train=1455.905263671875 Valid=1432.6025222252156\n",
      "17: Train=1435.851953125 Valid=1418.6548440867457\n",
      "18: Train=1424.81888671875 Valid=1397.147953428071\n",
      "19: Train=1408.456728515625 Valid=1385.6469221443965\n",
      "20: Train=1396.2574169921875 Valid=1382.5721519733297\n",
      "21: Train=1388.5068212890626 Valid=1366.1079943426723\n",
      "22: Train=1368.0808154296874 Valid=1354.4489240975215\n",
      "23: Train=1365.6099951171875 Valid=1344.7978052599676\n",
      "24: Train=1350.7668994140624 Valid=1346.163090146821\n",
      "25: Train=1338.1048388671875 Valid=1328.425747575431\n",
      "26: Train=1334.59611328125 Valid=1324.3453747979527\n",
      "27: Train=1323.8134912109374 Valid=1318.0339608028016\n",
      "28: Train=1322.4546240234374 Valid=1309.953996329472\n",
      "29: Train=1309.74349609375 Valid=1308.4885506465516\n",
      "30: Train=1310.7509033203125 Valid=1302.9931893184266\n"
     ]
    },
    {
     "data": {
      "text/html": [
       "\n",
       "    <div>\n",
       "        <style>\n",
       "            /* Turns off some styling */\n",
       "            progress {\n",
       "                /* gets rid of default border in Firefox and Opera. */\n",
       "                border: none;\n",
       "                /* Needs to be in here for Safari polyfill so background images work as expected. */\n",
       "                background-size: auto;\n",
       "            }\n",
       "            .progress-bar-interrupted, .progress-bar-interrupted::-webkit-progress-bar {\n",
       "                background: #F44336;\n",
       "            }\n",
       "        </style>\n",
       "      <progress value='29' class='' max='29' style='width:300px; height:20px; vertical-align: middle;'></progress>\n",
       "      100.00% [29/29 00:00<00:00]\n",
       "    </div>\n",
       "    "
      ],
      "text/plain": [
       "<IPython.core.display.HTML object>"
      ]
     },
     "metadata": {},
     "output_type": "display_data"
    },
    {
     "data": {
      "image/png": "[encoded data removed]",
      "text/plain": [
       "<Figure size 432x288 with 1 Axes>"
      ]
     },
     "metadata": {
      "needs_background": "light"
     },
     "output_type": "display_data"
    },
    {
     "data": {
      "image/png": "[encoded data removed]",
      "text/plain": [
       "<Figure size 432x288 with 1 Axes>"
      ]
     },
     "metadata": {
      "needs_background": "light"
     },
     "output_type": "display_data"
    },
    {
     "name": "stdout",
     "output_type": "stream",
     "text": [
      "\n",
      " \t ::: 17 SKOPT CALL ::: \n",
      "\n",
      "{'lr': 0.01, 'temperature': 0.8549074841484525, 'neurons': 186}\n",
      "*********************\n",
      "Summary training data\n",
      "Features ['aplanarity', 'chargeEta', 'MET_met', 'deltaPhiTauMet']\n",
      "Shape systematics ['jes']\n",
      "Weight systematics ['btag_weight1']\n",
      "Use weights False\n",
      "Number of signal training / test events: 20000 23570\n",
      "Number of bkg training / test events: 5000 6176\n",
      "*********************\n",
      "*********************\n",
      "Summary dataloader\n",
      "batch size 1000\n",
      "epochs 30\n",
      "x torch.Size([4, 5])\n",
      "y tensor([1.])\n",
      "w None\n",
      "*********************\n",
      "*********************\n",
      "Summary NN setup\n",
      "learning rate 0.01\n",
      "n_feats 4\n",
      "neurons 186\n",
      "temperature 0.8549074841484525\n",
      "bins 10\n",
      "weights False\n",
      "*********************\n",
      "*********************\n",
      "Summary INFERNO setup\n",
      "b_true 2800\n",
      "mu_true 400\n",
      "nshape_alphas 2\n",
      "shape_aux None\n",
      "s_norm_aux []\n",
      "n_alpha 3\n",
      "*********************\n"
     ]
    },
    {
     "data": {
      "text/html": [
       "\n",
       "    <div>\n",
       "        <style>\n",
       "            /* Turns off some styling */\n",
       "            progress {\n",
       "                /* gets rid of default border in Firefox and Opera. */\n",
       "                border: none;\n",
       "                /* Needs to be in here for Safari polyfill so background images work as expected. */\n",
       "                background-size: auto;\n",
       "            }\n",
       "            .progress-bar-interrupted, .progress-bar-interrupted::-webkit-progress-bar {\n",
       "                background: #F44336;\n",
       "            }\n",
       "        </style>\n",
       "      <progress value='6' class='' max='30' style='width:300px; height:20px; vertical-align: middle;'></progress>\n",
       "      20.00% [6/30 00:09<00:37]\n",
       "    </div>\n",
       "    \n",
       "\n",
       "\n",
       "    <div>\n",
       "        <style>\n",
       "            /* Turns off some styling */\n",
       "            progress {\n",
       "                /* gets rid of default border in Firefox and Opera. */\n",
       "                border: none;\n",
       "                /* Needs to be in here for Safari polyfill so background images work as expected. */\n",
       "                background-size: auto;\n",
       "            }\n",
       "            .progress-bar-interrupted, .progress-bar-interrupted::-webkit-progress-bar {\n",
       "                background: #F44336;\n",
       "            }\n",
       "        </style>\n",
       "      <progress value='21' class='' max='25' style='width:300px; height:20px; vertical-align: middle;'></progress>\n",
       "      84.00% [21/25 00:00<00:00]\n",
       "    </div>\n",
       "    "
      ],
      "text/plain": [
       "<IPython.core.display.HTML object>"
      ]
     },
     "metadata": {},
     "output_type": "display_data"
    },
    {
     "name": "stdout",
     "output_type": "stream",
     "text": [
      "1: Train=1796.0378369140626 Valid=1381.5908097891972\n",
      "2: Train=1264.450361328125 Valid=1200.816071608971\n",
      "3: Train=1216.6268310546875 Valid=1241.0556009226832\n",
      "4: Train=1296.5580322265625 Valid=1317.1774039432921\n",
      "5: Train=1266.034638671875 Valid=1351.8259256297144\n",
      "6: Train=1451.9025341796876 Valid=1850.3176059065195\n",
      "\n",
      " \t ::: 18 SKOPT CALL ::: \n",
      "\n",
      "{'lr': 0.0023900694555425163, 'temperature': 0.7529023501583789, 'neurons': 153}\n",
      "*********************\n",
      "Summary training data\n",
      "Features ['aplanarity', 'chargeEta', 'MET_met', 'deltaPhiTauMet']\n",
      "Shape systematics ['jes']\n",
      "Weight systematics ['btag_weight1']\n",
      "Use weights False\n",
      "Number of signal training / test events: 20000 23570\n",
      "Number of bkg training / test events: 5000 6176\n",
      "*********************\n",
      "*********************\n",
      "Summary dataloader\n",
      "batch size 1000\n",
      "epochs 30\n",
      "x torch.Size([4, 5])\n",
      "y tensor([1.])\n",
      "w None\n",
      "*********************\n",
      "*********************\n",
      "Summary NN setup\n",
      "learning rate 0.0023900694555425163\n",
      "n_feats 4\n",
      "neurons 153\n",
      "temperature 0.7529023501583789\n",
      "bins 10\n",
      "weights False\n",
      "*********************\n",
      "*********************\n",
      "Summary INFERNO setup\n",
      "b_true 2800\n",
      "mu_true 400\n",
      "nshape_alphas 2\n",
      "shape_aux None\n",
      "s_norm_aux []\n",
      "n_alpha 3\n",
      "*********************\n"
     ]
    },
    {
     "data": {
      "text/html": [],
      "text/plain": [
       "<IPython.core.display.HTML object>"
      ]
     },
     "metadata": {},
     "output_type": "display_data"
    },
    {
     "name": "stdout",
     "output_type": "stream",
     "text": [
      "1: Train=2198.11361328125 Valid=1564.864114695582\n",
      "2: Train=1436.572587890625 Valid=1374.4065783270473\n",
      "3: Train=1317.2903686523437 Valid=1327.5373156317348\n",
      "4: Train=1238.864345703125 Valid=1243.308109678071\n",
      "5: Train=1173.2898217773438 Valid=1187.4890978582973\n",
      "6: Train=1126.8720458984376 Valid=1169.2566907159214\n",
      "7: Train=1117.3855322265624 Valid=1153.0391277444774\n",
      "8: Train=1092.5795288085938 Valid=1136.285640321929\n",
      "9: Train=1077.610849609375 Valid=1135.8870323444235\n",
      "10: Train=1079.3358642578125 Valid=1138.5155323949352\n",
      "11: Train=1070.2681420898436 Valid=1117.2466241244613\n",
      "12: Train=1048.676708984375 Valid=1113.6956829202586\n",
      "13: Train=1048.076044921875 Valid=1117.709003316945\n",
      "14: Train=1075.3670166015625 Valid=1145.3682335162985\n",
      "15: Train=1227.7013745117188 Valid=1204.2044530408136\n",
      "16: Train=1089.3691333007812 Valid=1107.215212065598\n",
      "17: Train=1078.68271484375 Valid=1132.3106836779364\n",
      "18: Train=1085.4505688476563 Valid=1087.5632766197468\n",
      "19: Train=1049.1311962890625 Valid=1105.187868315598\n",
      "20: Train=1048.6113134765626 Valid=1067.0527554216055\n",
      "21: Train=1016.1151416015625 Valid=1074.1878178037446\n",
      "22: Train=1021.7564819335937 Valid=1078.4296517207704\n",
      "23: Train=1004.3106689453125 Valid=1070.5708786536907\n",
      "24: Train=1007.7220458984375 Valid=1069.0906940328664\n",
      "25: Train=1039.4460693359374 Valid=1145.406910863416\n",
      "26: Train=1167.1519873046875 Valid=1287.0698326373922\n",
      "27: Train=1226.9831469726562 Valid=1191.9225042935075\n",
      "28: Train=1190.8964404296876 Valid=1276.084232724946\n",
      "29: Train=1367.1532080078125 Valid=1537.5624494881465\n",
      "30: Train=1658.867109375 Valid=2029.0108979323816\n"
     ]
    },
    {
     "data": {
      "text/html": [
       "\n",
       "    <div>\n",
       "        <style>\n",
       "            /* Turns off some styling */\n",
       "            progress {\n",
       "                /* gets rid of default border in Firefox and Opera. */\n",
       "                border: none;\n",
       "                /* Needs to be in here for Safari polyfill so background images work as expected. */\n",
       "                background-size: auto;\n",
       "            }\n",
       "            .progress-bar-interrupted, .progress-bar-interrupted::-webkit-progress-bar {\n",
       "                background: #F44336;\n",
       "            }\n",
       "        </style>\n",
       "      <progress value='29' class='' max='29' style='width:300px; height:20px; vertical-align: middle;'></progress>\n",
       "      100.00% [29/29 00:00<00:00]\n",
       "    </div>\n",
       "    "
      ],
      "text/plain": [
       "<IPython.core.display.HTML object>"
      ]
     },
     "metadata": {},
     "output_type": "display_data"
    },
    {
     "data": {
      "image/png": "[encoded data removed]",
      "text/plain": [
       "<Figure size 432x288 with 1 Axes>"
      ]
     },
     "metadata": {
      "needs_background": "light"
     },
     "output_type": "display_data"
    },
    {
     "data": {
      "image/png": "[encoded data removed]",
      "text/plain": [
       "<Figure size 432x288 with 1 Axes>"
      ]
     },
     "metadata": {
      "needs_background": "light"
     },
     "output_type": "display_data"
    },
    {
     "name": "stdout",
     "output_type": "stream",
     "text": [
      "\n",
      " \t ::: 19 SKOPT CALL ::: \n",
      "\n",
      "{'lr': 0.001070694594892739, 'temperature': 0.9436479482919313, 'neurons': 82}\n",
      "*********************\n",
      "Summary training data\n",
      "Features ['aplanarity', 'chargeEta', 'MET_met', 'deltaPhiTauMet']\n",
      "Shape systematics ['jes']\n",
      "Weight systematics ['btag_weight1']\n",
      "Use weights False\n",
      "Number of signal training / test events: 20000 23570\n",
      "Number of bkg training / test events: 5000 6176\n",
      "*********************\n",
      "*********************\n",
      "Summary dataloader\n",
      "batch size 1000\n",
      "epochs 30\n",
      "x torch.Size([4, 5])\n",
      "y tensor([1.])\n",
      "w None\n",
      "*********************\n",
      "*********************\n",
      "Summary NN setup\n",
      "learning rate 0.001070694594892739\n",
      "n_feats 4\n",
      "neurons 82\n",
      "temperature 0.9436479482919313\n",
      "bins 10\n",
      "weights False\n",
      "*********************\n",
      "*********************\n",
      "Summary INFERNO setup\n",
      "b_true 2800\n",
      "mu_true 400\n",
      "nshape_alphas 2\n",
      "shape_aux None\n",
      "s_norm_aux []\n",
      "n_alpha 3\n",
      "*********************\n"
     ]
    },
    {
     "data": {
      "text/html": [],
      "text/plain": [
       "<IPython.core.display.HTML object>"
      ]
     },
     "metadata": {},
     "output_type": "display_data"
    },
    {
     "name": "stdout",
     "output_type": "stream",
     "text": [
      "1: Train=3043.66248046875 Valid=2719.662740773168\n",
      "2: Train=2322.081787109375 Valid=1963.2893992456898\n",
      "3: Train=1865.4485546875 Valid=1727.920405946929\n",
      "4: Train=1708.601748046875 Valid=1606.1866791823816\n",
      "5: Train=1623.8814794921875 Valid=1529.5099213698816\n",
      "6: Train=1533.66509765625 Valid=1469.2690345501078\n",
      "7: Train=1471.490380859375 Valid=1414.3826567551184\n",
      "8: Train=1418.0031005859375 Valid=1375.09788144868\n",
      "9: Train=1369.807587890625 Valid=1358.7115773168102\n",
      "10: Train=1333.2837744140625 Valid=1320.4856462149785\n",
      "11: Train=1300.9435107421875 Valid=1293.840159449084\n",
      "12: Train=1287.81330078125 Valid=1280.7809911267511\n",
      "13: Train=1267.8387890625 Valid=1268.3059439823546\n",
      "14: Train=1250.252587890625 Valid=1260.4378746295797\n",
      "15: Train=1232.1622924804688 Valid=1247.4747714338632\n",
      "16: Train=1220.4912084960938 Valid=1238.9988298087285\n",
      "17: Train=1213.7077294921876 Valid=1226.8235789331898\n",
      "18: Train=1200.7953100585937 Valid=1219.296875\n",
      "19: Train=1195.4244702148437 Valid=1216.336760422279\n",
      "20: Train=1178.7389794921876 Valid=1207.9035181505926\n",
      "21: Train=1180.6971142578125 Valid=1205.5325990874192\n",
      "22: Train=1162.4118359375 Valid=1197.3654216897899\n",
      "23: Train=1155.1914477539062 Valid=1193.403271905307\n",
      "24: Train=1145.25 Valid=1193.8391260607489\n",
      "25: Train=1140.9595947265625 Valid=1188.8620289769665\n",
      "26: Train=1132.2443237304688 Valid=1178.6932562466325\n",
      "27: Train=1120.6546606445313 Valid=1181.7412046235183\n",
      "28: Train=1119.8872729492186 Valid=1177.8663266938308\n",
      "29: Train=1114.7094018554687 Valid=1174.8197400323277\n",
      "30: Train=1102.73203125 Valid=1162.0302839608028\n"
     ]
    },
    {
     "data": {
      "text/html": [
       "\n",
       "    <div>\n",
       "        <style>\n",
       "            /* Turns off some styling */\n",
       "            progress {\n",
       "                /* gets rid of default border in Firefox and Opera. */\n",
       "                border: none;\n",
       "                /* Needs to be in here for Safari polyfill so background images work as expected. */\n",
       "                background-size: auto;\n",
       "            }\n",
       "            .progress-bar-interrupted, .progress-bar-interrupted::-webkit-progress-bar {\n",
       "                background: #F44336;\n",
       "            }\n",
       "        </style>\n",
       "      <progress value='29' class='' max='29' style='width:300px; height:20px; vertical-align: middle;'></progress>\n",
       "      100.00% [29/29 00:00<00:00]\n",
       "    </div>\n",
       "    "
      ],
      "text/plain": [
       "<IPython.core.display.HTML object>"
      ]
     },
     "metadata": {},
     "output_type": "display_data"
    },
    {
     "data": {
      "image/png": "[encoded data removed]",
      "text/plain": [
       "<Figure size 432x288 with 1 Axes>"
      ]
     },
     "metadata": {
      "needs_background": "light"
     },
     "output_type": "display_data"
    },
    {
     "data": {
      "image/png": "[encoded data removed]",
      "text/plain": [
       "<Figure size 432x288 with 1 Axes>"
      ]
     },
     "metadata": {
      "needs_background": "light"
     },
     "output_type": "display_data"
    },
    {
     "name": "stdout",
     "output_type": "stream",
     "text": [
      "\n",
      " \t ::: 20 SKOPT CALL ::: \n",
      "\n",
      "{'lr': 0.000616355411024755, 'temperature': 0.050053735312842934, 'neurons': 194}\n",
      "*********************\n",
      "Summary training data\n",
      "Features ['aplanarity', 'chargeEta', 'MET_met', 'deltaPhiTauMet']\n",
      "Shape systematics ['jes']\n",
      "Weight systematics ['btag_weight1']\n",
      "Use weights False\n",
      "Number of signal training / test events: 20000 23570\n",
      "Number of bkg training / test events: 5000 6176\n",
      "*********************\n",
      "*********************\n",
      "Summary dataloader\n",
      "batch size 1000\n",
      "epochs 30\n",
      "x torch.Size([4, 5])\n",
      "y tensor([1.])\n",
      "w None\n",
      "*********************\n",
      "*********************\n",
      "Summary NN setup\n",
      "learning rate 0.000616355411024755\n",
      "n_feats 4\n",
      "neurons 194\n",
      "temperature 0.050053735312842934\n",
      "bins 10\n",
      "weights False\n",
      "*********************\n",
      "*********************\n",
      "Summary INFERNO setup\n",
      "b_true 2800\n",
      "mu_true 400\n",
      "nshape_alphas 2\n",
      "shape_aux None\n",
      "s_norm_aux []\n",
      "n_alpha 3\n",
      "*********************\n"
     ]
    },
    {
     "data": {
      "text/html": [],
      "text/plain": [
       "<IPython.core.display.HTML object>"
      ]
     },
     "metadata": {},
     "output_type": "display_data"
    },
    {
     "name": "stdout",
     "output_type": "stream",
     "text": [
      "1: Train=1615.4639306640624 Valid=1374.9906637257543\n",
      "2: Train=1286.265029296875 Valid=1314.4612279431574\n",
      "3: Train=1242.1821826171874 Valid=1261.753954657193\n",
      "4: Train=1189.427724609375 Valid=1199.1764379040949\n",
      "5: Train=1175.657236328125 Valid=1210.201517039332\n",
      "6: Train=1148.8880932617187 Valid=1211.8853465113148\n",
      "7: Train=1149.3355053710939 Valid=1202.8813687028555\n",
      "8: Train=1144.25056640625 Valid=1164.497291301859\n",
      "9: Train=1147.3171264648438 Valid=1122.7813846982758\n",
      "10: Train=1106.801357421875 Valid=1153.4719701306574\n",
      "11: Train=1104.3254736328124 Valid=1138.8642451845367\n",
      "12: Train=1120.8394091796874 Valid=1120.678729879445\n",
      "13: Train=1089.6158837890625 Valid=1139.1524552970097\n",
      "14: Train=1095.4913208007813 Valid=1097.8970884125808\n",
      "15: Train=1044.5951489257814 Valid=1071.5529153758082\n",
      "16: Train=1070.2027270507813 Valid=1097.3786158068426\n",
      "17: Train=1073.9175708007813 Valid=1109.8601389917835\n",
      "18: Train=1107.7923461914063 Valid=1117.2631541285023\n",
      "19: Train=1071.8487768554687 Valid=1104.2845690497036\n",
      "20: Train=1052.5625463867189 Valid=1098.1167560445851\n",
      "21: Train=1070.1827856445314 Valid=1107.3341695851293\n",
      "22: Train=1047.75228515625 Valid=1089.9574942753234\n",
      "23: Train=1064.7530102539063 Valid=1088.8077055832434\n",
      "24: Train=1049.9946728515624 Valid=1101.1477913692079\n",
      "25: Train=1045.753837890625 Valid=1072.2241505589977\n",
      "26: Train=1062.1057836914063 Valid=1076.2899422481141\n",
      "27: Train=1046.4832275390625 Valid=1090.6865928912985\n",
      "28: Train=1053.559814453125 Valid=1164.2138293036098\n",
      "29: Train=1220.592685546875 Valid=1310.9543435984644\n",
      "30: Train=1169.5664038085938 Valid=1165.9832363786368\n"
     ]
    },
    {
     "data": {
      "text/html": [
       "\n",
       "    <div>\n",
       "        <style>\n",
       "            /* Turns off some styling */\n",
       "            progress {\n",
       "                /* gets rid of default border in Firefox and Opera. */\n",
       "                border: none;\n",
       "                /* Needs to be in here for Safari polyfill so background images work as expected. */\n",
       "                background-size: auto;\n",
       "            }\n",
       "            .progress-bar-interrupted, .progress-bar-interrupted::-webkit-progress-bar {\n",
       "                background: #F44336;\n",
       "            }\n",
       "        </style>\n",
       "      <progress value='29' class='' max='29' style='width:300px; height:20px; vertical-align: middle;'></progress>\n",
       "      100.00% [29/29 00:00<00:00]\n",
       "    </div>\n",
       "    "
      ],
      "text/plain": [
       "<IPython.core.display.HTML object>"
      ]
     },
     "metadata": {},
     "output_type": "display_data"
    },
    {
     "data": {
      "image/png": "[encoded data removed]",
      "text/plain": [
       "<Figure size 432x288 with 1 Axes>"
      ]
     },
     "metadata": {
      "needs_background": "light"
     },
     "output_type": "display_data"
    },
    {
     "data": {
      "image/png": "[encoded data removed]",
      "text/plain": [
       "<Figure size 432x288 with 1 Axes>"
      ]
     },
     "metadata": {
      "needs_background": "light"
     },
     "output_type": "display_data"
    },
    {
     "name": "stdout",
     "output_type": "stream",
     "text": [
      "\n",
      " \t ::: 21 SKOPT CALL ::: \n",
      "\n",
      "{'lr': 0.0001, 'temperature': 0.3107575412160147, 'neurons': 199}\n",
      "*********************\n",
      "Summary training data\n",
      "Features ['aplanarity', 'chargeEta', 'MET_met', 'deltaPhiTauMet']\n",
      "Shape systematics ['jes']\n",
      "Weight systematics ['btag_weight1']\n",
      "Use weights False\n",
      "Number of signal training / test events: 20000 23570\n",
      "Number of bkg training / test events: 5000 6176\n",
      "*********************\n",
      "*********************\n",
      "Summary dataloader\n",
      "batch size 1000\n",
      "epochs 30\n",
      "x torch.Size([4, 5])\n",
      "y tensor([1.])\n",
      "w None\n",
      "*********************\n",
      "*********************\n",
      "Summary NN setup\n",
      "learning rate 0.0001\n",
      "n_feats 4\n",
      "neurons 199\n",
      "temperature 0.3107575412160147\n",
      "bins 10\n",
      "weights False\n",
      "*********************\n",
      "*********************\n",
      "Summary INFERNO setup\n",
      "b_true 2800\n",
      "mu_true 400\n",
      "nshape_alphas 2\n",
      "shape_aux None\n",
      "s_norm_aux []\n",
      "n_alpha 3\n",
      "*********************\n"
     ]
    },
    {
     "data": {
      "text/html": [],
      "text/plain": [
       "<IPython.core.display.HTML object>"
      ]
     },
     "metadata": {},
     "output_type": "display_data"
    },
    {
     "name": "stdout",
     "output_type": "stream",
     "text": [
      "1: Train=3016.5728515625 Valid=2777.7384748787717\n",
      "2: Train=2466.9058203125 Valid=2260.798230401401\n",
      "3: Train=2079.4622265625 Valid=2010.0317088160023\n",
      "4: Train=1907.7236962890624 Valid=1865.8261171538254\n",
      "5: Train=1787.7303271484375 Valid=1759.0269143992457\n",
      "6: Train=1709.53927734375 Valid=1701.7484551791488\n",
      "7: Train=1641.583046875 Valid=1650.1890448208512\n",
      "8: Train=1584.19931640625 Valid=1603.252757105334\n",
      "9: Train=1545.563603515625 Valid=1556.7573663119613\n",
      "10: Train=1513.593681640625 Valid=1530.5030938510238\n",
      "11: Train=1501.2654248046874 Valid=1529.7460727033945\n",
      "12: Train=1462.413720703125 Valid=1508.7756263469828\n",
      "13: Train=1444.2435546875 Valid=1491.6415510506465\n",
      "14: Train=1418.143203125 Valid=1455.1383477572738\n",
      "15: Train=1408.8476318359376 Valid=1450.1446785762391\n",
      "16: Train=1401.83439453125 Valid=1429.8390608162715\n",
      "17: Train=1398.493173828125 Valid=1422.6539011988148\n",
      "18: Train=1381.836728515625 Valid=1447.897953428071\n",
      "19: Train=1370.1619775390625 Valid=1412.9371043238148\n",
      "20: Train=1347.1740673828126 Valid=1401.0791226091055\n",
      "21: Train=1336.923662109375 Valid=1395.0724466258082\n",
      "22: Train=1331.091962890625 Valid=1375.1986504916488\n",
      "23: Train=1315.4928125 Valid=1359.7416697535023\n",
      "24: Train=1302.1504516601562 Valid=1363.5980561355066\n",
      "25: Train=1297.04708984375 Valid=1351.0717941810344\n",
      "26: Train=1292.392529296875 Valid=1339.460794383082\n",
      "27: Train=1295.6627954101561 Valid=1324.9332612136316\n",
      "28: Train=1273.9004638671875 Valid=1331.4681270204742\n",
      "29: Train=1272.5611279296875 Valid=1326.8172186489762\n",
      "30: Train=1267.120576171875 Valid=1337.649485620959\n"
     ]
    },
    {
     "data": {
      "text/html": [
       "\n",
       "    <div>\n",
       "        <style>\n",
       "            /* Turns off some styling */\n",
       "            progress {\n",
       "                /* gets rid of default border in Firefox and Opera. */\n",
       "                border: none;\n",
       "                /* Needs to be in here for Safari polyfill so background images work as expected. */\n",
       "                background-size: auto;\n",
       "            }\n",
       "            .progress-bar-interrupted, .progress-bar-interrupted::-webkit-progress-bar {\n",
       "                background: #F44336;\n",
       "            }\n",
       "        </style>\n",
       "      <progress value='29' class='' max='29' style='width:300px; height:20px; vertical-align: middle;'></progress>\n",
       "      100.00% [29/29 00:00<00:00]\n",
       "    </div>\n",
       "    "
      ],
      "text/plain": [
       "<IPython.core.display.HTML object>"
      ]
     },
     "metadata": {},
     "output_type": "display_data"
    },
    {
     "data": {
      "image/png": "[encoded data removed]",
      "text/plain": [
       "<Figure size 432x288 with 1 Axes>"
      ]
     },
     "metadata": {
      "needs_background": "light"
     },
     "output_type": "display_data"
    },
    {
     "data": {
      "image/png": "[encoded data removed]",
      "text/plain": [
       "<Figure size 432x288 with 1 Axes>"
      ]
     },
     "metadata": {
      "needs_background": "light"
     },
     "output_type": "display_data"
    },
    {
     "name": "stdout",
     "output_type": "stream",
     "text": [
      "\n",
      " \t ::: 22 SKOPT CALL ::: \n",
      "\n",
      "{'lr': 0.0006773312292242044, 'temperature': 0.0536067467577516, 'neurons': 55}\n",
      "*********************\n",
      "Summary training data\n",
      "Features ['aplanarity', 'chargeEta', 'MET_met', 'deltaPhiTauMet']\n",
      "Shape systematics ['jes']\n",
      "Weight systematics ['btag_weight1']\n",
      "Use weights False\n",
      "Number of signal training / test events: 20000 23570\n",
      "Number of bkg training / test events: 5000 6176\n",
      "*********************\n",
      "*********************\n",
      "Summary dataloader\n",
      "batch size 1000\n",
      "epochs 30\n",
      "x torch.Size([4, 5])\n",
      "y tensor([1.])\n",
      "w None\n",
      "*********************\n",
      "*********************\n",
      "Summary NN setup\n",
      "learning rate 0.0006773312292242044\n",
      "n_feats 4\n",
      "neurons 55\n",
      "temperature 0.0536067467577516\n",
      "bins 10\n",
      "weights False\n",
      "*********************\n",
      "*********************\n",
      "Summary INFERNO setup\n",
      "b_true 2800\n",
      "mu_true 400\n",
      "nshape_alphas 2\n",
      "shape_aux None\n",
      "s_norm_aux []\n",
      "n_alpha 3\n",
      "*********************\n"
     ]
    },
    {
     "data": {
      "text/html": [],
      "text/plain": [
       "<IPython.core.display.HTML object>"
      ]
     },
     "metadata": {},
     "output_type": "display_data"
    },
    {
     "name": "stdout",
     "output_type": "stream",
     "text": [
      "1: Train=2271.2220068359375 Valid=1672.6985999797953\n",
      "2: Train=1558.66265625 Valid=1429.9910551926184\n",
      "3: Train=1393.0038818359376 Valid=1332.1318948679957\n",
      "4: Train=1305.0169262695313 Valid=1296.8029343177532\n",
      "5: Train=1258.8228173828124 Valid=1272.1147629310344\n",
      "6: Train=1230.886640625 Valid=1259.0653707570043\n",
      "7: Train=1213.0441577148438 Valid=1229.1991408775593\n",
      "8: Train=1199.6400463867187 Valid=1220.1644013503503\n",
      "9: Train=1185.9467260742188 Valid=1226.199342924973\n",
      "10: Train=1168.0070581054688 Valid=1218.357767039332\n",
      "11: Train=1158.067587890625 Valid=1187.2196044921875\n",
      "12: Train=1151.8529833984376 Valid=1198.4185875202047\n",
      "13: Train=1138.5588208007812 Valid=1199.0880063813308\n",
      "14: Train=1140.2171459960937 Valid=1198.4861829034214\n",
      "15: Train=1139.23412109375 Valid=1187.0972311085668\n",
      "16: Train=1124.2748828125 Valid=1198.8061818089977\n",
      "17: Train=1140.9516577148438 Valid=1202.7862275222253\n",
      "18: Train=1115.9727197265624 Valid=1184.230746565194\n",
      "19: Train=1122.6056372070314 Valid=1182.6225186051993\n",
      "20: Train=1117.0592211914063 Valid=1175.7417749865301\n",
      "21: Train=1118.290517578125 Valid=1170.9069403286637\n",
      "22: Train=1107.5748852539064 Valid=1176.6459140119882\n",
      "23: Train=1096.6419360351563 Valid=1175.3682629815464\n",
      "24: Train=1099.3663037109375 Valid=1166.4854125976562\n",
      "25: Train=1081.3949682617188 Valid=1179.3373328899515\n",
      "26: Train=1072.471669921875 Valid=1149.3609135068696\n",
      "27: Train=1079.8835571289062 Valid=1159.105803391029\n",
      "28: Train=1065.8802856445313 Valid=1176.7217259900324\n",
      "29: Train=1075.0058618164062 Valid=1152.0543549636316\n",
      "30: Train=1061.2492260742188 Valid=1151.4492355872844\n"
     ]
    },
    {
     "data": {
      "text/html": [
       "\n",
       "    <div>\n",
       "        <style>\n",
       "            /* Turns off some styling */\n",
       "            progress {\n",
       "                /* gets rid of default border in Firefox and Opera. */\n",
       "                border: none;\n",
       "                /* Needs to be in here for Safari polyfill so background images work as expected. */\n",
       "                background-size: auto;\n",
       "            }\n",
       "            .progress-bar-interrupted, .progress-bar-interrupted::-webkit-progress-bar {\n",
       "                background: #F44336;\n",
       "            }\n",
       "        </style>\n",
       "      <progress value='29' class='' max='29' style='width:300px; height:20px; vertical-align: middle;'></progress>\n",
       "      100.00% [29/29 00:00<00:00]\n",
       "    </div>\n",
       "    "
      ],
      "text/plain": [
       "<IPython.core.display.HTML object>"
      ]
     },
     "metadata": {},
     "output_type": "display_data"
    },
    {
     "data": {
      "image/png": "[encoded data removed]",
      "text/plain": [
       "<Figure size 432x288 with 1 Axes>"
      ]
     },
     "metadata": {
      "needs_background": "light"
     },
     "output_type": "display_data"
    },
    {
     "data": {
      "image/png": "[encoded data removed]",
      "text/plain": [
       "<Figure size 432x288 with 1 Axes>"
      ]
     },
     "metadata": {
      "needs_background": "light"
     },
     "output_type": "display_data"
    },
    {
     "name": "stdout",
     "output_type": "stream",
     "text": [
      "\n",
      " \t ::: 23 SKOPT CALL ::: \n",
      "\n",
      "{'lr': 0.00018257024606840758, 'temperature': 0.01, 'neurons': 200}\n",
      "*********************\n",
      "Summary training data\n",
      "Features ['aplanarity', 'chargeEta', 'MET_met', 'deltaPhiTauMet']\n",
      "Shape systematics ['jes']\n",
      "Weight systematics ['btag_weight1']\n",
      "Use weights False\n",
      "Number of signal training / test events: 20000 23570\n",
      "Number of bkg training / test events: 5000 6176\n",
      "*********************\n",
      "*********************\n",
      "Summary dataloader\n",
      "batch size 1000\n",
      "epochs 30\n",
      "x torch.Size([4, 5])\n",
      "y tensor([1.])\n",
      "w None\n",
      "*********************\n",
      "*********************\n",
      "Summary NN setup\n",
      "learning rate 0.00018257024606840758\n",
      "n_feats 4\n",
      "neurons 200\n",
      "temperature 0.01\n",
      "bins 10\n",
      "weights False\n",
      "*********************\n",
      "*********************\n",
      "Summary INFERNO setup\n",
      "b_true 2800\n",
      "mu_true 400\n",
      "nshape_alphas 2\n",
      "shape_aux None\n",
      "s_norm_aux []\n",
      "n_alpha 3\n",
      "*********************\n"
     ]
    },
    {
     "data": {
      "text/html": [],
      "text/plain": [
       "<IPython.core.display.HTML object>"
      ]
     },
     "metadata": {},
     "output_type": "display_data"
    },
    {
     "name": "stdout",
     "output_type": "stream",
     "text": [
      "1: Train=1802.7754736328125 Valid=1517.5024245689656\n",
      "2: Train=1443.451630859375 Valid=1405.1756654936692\n",
      "3: Train=1385.6644189453125 Valid=1405.166436557112\n",
      "4: Train=1371.0218725585937 Valid=1361.7563560748922\n",
      "5: Train=1268.1851928710937 Valid=1342.528669686153\n",
      "6: Train=1196.8458642578125 Valid=1340.8114055765086\n",
      "7: Train=1227.8356762695312 Valid=1331.922975737473\n",
      "8: Train=1253.1293408203126 Valid=1384.2484467605066\n",
      "9: Train=1249.52525390625 Valid=1466.4642965382543\n",
      "10: Train=1358.6005493164062 Valid=1486.930563038793\n",
      "11: Train=1288.9475634765624 Valid=1417.9477076037176\n",
      "12: Train=1318.50408203125 Valid=1413.0254074622844\n",
      "13: Train=1255.40416015625 Valid=1425.6326904296875\n",
      "14: Train=1241.7071118164063 Valid=1345.8826251852101\n",
      "15: Train=1248.916572265625 Valid=1515.7342908135777\n",
      "16: Train=1304.265419921875 Valid=1364.9228242019128\n",
      "17: Train=1278.1790576171875 Valid=1359.8191380994074\n",
      "18: Train=1409.039638671875 Valid=1487.5437895676184\n",
      "19: Train=1455.584658203125 Valid=1510.2897338867188\n",
      "20: Train=1645.220654296875 Valid=1462.2180638806574\n",
      "21: Train=1406.501923828125 Valid=1461.8097976158406\n",
      "22: Train=1334.5460986328126 Valid=1413.6583167766703\n",
      "23: Train=1327.34759765625 Valid=1352.9054796942348\n",
      "24: Train=1258.5427392578124 Valid=1369.2291259765625\n",
      "25: Train=1307.6714501953124 Valid=1345.1265448208512\n",
      "26: Train=1217.954169921875 Valid=1331.1436136179957\n",
      "27: Train=1239.472822265625 Valid=1298.423268285291\n",
      "28: Train=1186.4893286132813 Valid=1304.703996329472\n",
      "29: Train=1184.3560302734375 Valid=1332.3866934940734\n",
      "30: Train=1182.2003662109375 Valid=1341.3261129445043\n"
     ]
    },
    {
     "data": {
      "text/html": [
       "\n",
       "    <div>\n",
       "        <style>\n",
       "            /* Turns off some styling */\n",
       "            progress {\n",
       "                /* gets rid of default border in Firefox and Opera. */\n",
       "                border: none;\n",
       "                /* Needs to be in here for Safari polyfill so background images work as expected. */\n",
       "                background-size: auto;\n",
       "            }\n",
       "            .progress-bar-interrupted, .progress-bar-interrupted::-webkit-progress-bar {\n",
       "                background: #F44336;\n",
       "            }\n",
       "        </style>\n",
       "      <progress value='29' class='' max='29' style='width:300px; height:20px; vertical-align: middle;'></progress>\n",
       "      100.00% [29/29 00:00<00:00]\n",
       "    </div>\n",
       "    "
      ],
      "text/plain": [
       "<IPython.core.display.HTML object>"
      ]
     },
     "metadata": {},
     "output_type": "display_data"
    },
    {
     "data": {
      "image/png": "[encoded data removed]",
      "text/plain": [
       "<Figure size 432x288 with 1 Axes>"
      ]
     },
     "metadata": {
      "needs_background": "light"
     },
     "output_type": "display_data"
    },
    {
     "data": {
      "image/png": "[encoded data removed]",
      "text/plain": [
       "<Figure size 432x288 with 1 Axes>"
      ]
     },
     "metadata": {
      "needs_background": "light"
     },
     "output_type": "display_data"
    },
    {
     "name": "stdout",
     "output_type": "stream",
     "text": [
      "\n",
      " \t ::: 24 SKOPT CALL ::: \n",
      "\n",
      "{'lr': 0.0006035880106703501, 'temperature': 0.13247246418750178, 'neurons': 200}\n",
      "*********************\n",
      "Summary training data\n",
      "Features ['aplanarity', 'chargeEta', 'MET_met', 'deltaPhiTauMet']\n",
      "Shape systematics ['jes']\n",
      "Weight systematics ['btag_weight1']\n",
      "Use weights False\n",
      "Number of signal training / test events: 20000 23570\n",
      "Number of bkg training / test events: 5000 6176\n",
      "*********************\n",
      "*********************\n",
      "Summary dataloader\n",
      "batch size 1000\n",
      "epochs 30\n",
      "x torch.Size([4, 5])\n",
      "y tensor([1.])\n",
      "w None\n",
      "*********************\n",
      "*********************\n",
      "Summary NN setup\n",
      "learning rate 0.0006035880106703501\n",
      "n_feats 4\n",
      "neurons 200\n",
      "temperature 0.13247246418750178\n",
      "bins 10\n",
      "weights False\n",
      "*********************\n",
      "*********************\n",
      "Summary INFERNO setup\n",
      "b_true 2800\n",
      "mu_true 400\n",
      "nshape_alphas 2\n",
      "shape_aux None\n",
      "s_norm_aux []\n",
      "n_alpha 3\n",
      "*********************\n"
     ]
    },
    {
     "data": {
      "text/html": [],
      "text/plain": [
       "<IPython.core.display.HTML object>"
      ]
     },
     "metadata": {},
     "output_type": "display_data"
    },
    {
     "name": "stdout",
     "output_type": "stream",
     "text": [
      "1: Train=1921.20396484375 Valid=1568.411027579472\n",
      "2: Train=1465.0228369140625 Valid=1457.1436767578125\n",
      "3: Train=1354.508623046875 Valid=1353.4684427195582\n",
      "4: Train=1272.4915478515625 Valid=1292.2046740301723\n",
      "5: Train=1231.8652392578124 Valid=1265.991593985722\n",
      "6: Train=1187.3641650390625 Valid=1266.038822568696\n",
      "7: Train=1172.3070825195311 Valid=1220.0645394160829\n",
      "8: Train=1151.7764892578125 Valid=1194.1905959556843\n",
      "9: Train=1139.5175 Valid=1199.7077552532328\n",
      "10: Train=1118.7793579101562 Valid=1174.1839852168641\n",
      "11: Train=1118.0232958984375 Valid=1172.8273567988954\n",
      "12: Train=1092.4035888671874 Valid=1171.551997743804\n",
      "13: Train=1093.8903857421874 Valid=1158.185445851293\n",
      "14: Train=1050.3064111328124 Valid=1143.8581164129848\n",
      "15: Train=1065.9386596679688 Valid=1166.4463037951239\n",
      "16: Train=1046.8986840820312 Valid=1124.49245058257\n",
      "17: Train=1040.6965576171874 Valid=1144.4816831391433\n",
      "18: Train=1057.0403540039063 Valid=1135.7955659011316\n",
      "19: Train=1044.6366650390626 Valid=1126.0868256667566\n",
      "20: Train=1019.3163623046875 Valid=1105.7466767409753\n",
      "21: Train=1015.2791333007813 Valid=1131.8626940497036\n",
      "22: Train=1002.2389233398437 Valid=1114.9923221982758\n",
      "23: Train=1009.13484375 Valid=1115.9262863685344\n",
      "24: Train=1008.910947265625 Valid=1119.4170027108028\n",
      "25: Train=990.2442211914063 Valid=1107.131069841056\n",
      "26: Train=1006.1084155273437 Valid=1100.081441945043\n",
      "27: Train=983.4656079101562 Valid=1115.6273277545797\n",
      "28: Train=994.2449536132813 Valid=1088.2036343278555\n",
      "29: Train=979.519814453125 Valid=1089.466481175916\n",
      "30: Train=973.5732104492188 Valid=1099.097708866514\n"
     ]
    },
    {
     "data": {
      "text/html": [
       "\n",
       "    <div>\n",
       "        <style>\n",
       "            /* Turns off some styling */\n",
       "            progress {\n",
       "                /* gets rid of default border in Firefox and Opera. */\n",
       "                border: none;\n",
       "                /* Needs to be in here for Safari polyfill so background images work as expected. */\n",
       "                background-size: auto;\n",
       "            }\n",
       "            .progress-bar-interrupted, .progress-bar-interrupted::-webkit-progress-bar {\n",
       "                background: #F44336;\n",
       "            }\n",
       "        </style>\n",
       "      <progress value='29' class='' max='29' style='width:300px; height:20px; vertical-align: middle;'></progress>\n",
       "      100.00% [29/29 00:00<00:00]\n",
       "    </div>\n",
       "    "
      ],
      "text/plain": [
       "<IPython.core.display.HTML object>"
      ]
     },
     "metadata": {},
     "output_type": "display_data"
    },
    {
     "data": {
      "image/png": "[encoded data removed]",
      "text/plain": [
       "<Figure size 432x288 with 1 Axes>"
      ]
     },
     "metadata": {
      "needs_background": "light"
     },
     "output_type": "display_data"
    },
    {
     "data": {
      "image/png": "[encoded data removed]",
      "text/plain": [
       "<Figure size 432x288 with 1 Axes>"
      ]
     },
     "metadata": {
      "needs_background": "light"
     },
     "output_type": "display_data"
    },
    {
     "name": "stdout",
     "output_type": "stream",
     "text": [
      "\n",
      " \t ::: 25 SKOPT CALL ::: \n",
      "\n",
      "{'lr': 0.01, 'temperature': 0.32013452876124754, 'neurons': 196}\n",
      "*********************\n",
      "Summary training data\n",
      "Features ['aplanarity', 'chargeEta', 'MET_met', 'deltaPhiTauMet']\n",
      "Shape systematics ['jes']\n",
      "Weight systematics ['btag_weight1']\n",
      "Use weights False\n",
      "Number of signal training / test events: 20000 23570\n",
      "Number of bkg training / test events: 5000 6176\n",
      "*********************\n",
      "*********************\n",
      "Summary dataloader\n",
      "batch size 1000\n",
      "epochs 30\n",
      "x torch.Size([4, 5])\n",
      "y tensor([1.])\n",
      "w None\n",
      "*********************\n",
      "*********************\n",
      "Summary NN setup\n",
      "learning rate 0.01\n",
      "n_feats 4\n",
      "neurons 196\n",
      "temperature 0.32013452876124754\n",
      "bins 10\n",
      "weights False\n",
      "*********************\n",
      "*********************\n",
      "Summary INFERNO setup\n",
      "b_true 2800\n",
      "mu_true 400\n",
      "nshape_alphas 2\n",
      "shape_aux None\n",
      "s_norm_aux []\n",
      "n_alpha 3\n",
      "*********************\n"
     ]
    },
    {
     "data": {
      "text/html": [],
      "text/plain": [
       "<IPython.core.display.HTML object>"
      ]
     },
     "metadata": {},
     "output_type": "display_data"
    },
    {
     "name": "stdout",
     "output_type": "stream",
     "text": [
      "1: Train=1821.439501953125 Valid=1422.4576794854527\n",
      "2: Train=1489.7497900390624 Valid=1449.9304093985722\n",
      "3: Train=2072.1518896484376 Valid=1892.7942147090516\n",
      "4: Train=2159.2632080078124 Valid=2181.125454606681\n",
      "5: Train=2946.302802734375 Valid=3198.8023723733836\n",
      "6: Train=3200.060439453125 Valid=3200.0542160560344\n",
      "7: Train=3200.041591796875 Valid=3199.9249983162717\n",
      "8: Train=3200.065078125 Valid=3199.928020608836\n",
      "9: Train=3200.053759765625 Valid=3199.9533438846984\n",
      "10: Train=3200.092470703125 Valid=3199.9796773976295\n",
      "11: Train=3199.901787109375 Valid=3200.0147999730602\n",
      "12: Train=3200.003828125 Valid=3199.986858499461\n",
      "13: Train=3199.644765625 Valid=3199.992566338901\n",
      "14: Train=3200.0030078125 Valid=3199.9548171470906\n",
      "15: Train=3200.10296875 Valid=3199.964953192349\n",
      "16: Train=3200.006337890625 Valid=3199.9971460802803\n",
      "17: Train=3199.976923828125 Valid=3200.009479391164\n",
      "18: Train=3199.97033203125 Valid=3201.5312668372844\n",
      "19: Train=3199.994287109375 Valid=3200.1330818965516\n",
      "20: Train=3200.006845703125 Valid=3200.0214001885774\n",
      "21: Train=3200.0034375 Valid=3199.9825734105602\n",
      "22: Train=3200.054501953125 Valid=3199.986563846983\n",
      "23: Train=3199.933271484375 Valid=3199.990444841056\n",
      "24: Train=3199.98884765625 Valid=3200.0144548087283\n",
      "25: Train=3200.011943359375 Valid=3199.991008890086\n",
      "26: Train=3199.98189453125 Valid=3200.0424299568967\n",
      "27: Train=3200.05833984375 Valid=3200.005724676724\n",
      "28: Train=3199.944716796875 Valid=3200.0095467403016\n",
      "29: Train=3199.93796875 Valid=3199.9984846443967\n",
      "30: Train=3200.010908203125 Valid=3200.0325548895476\n"
     ]
    },
    {
     "data": {
      "text/html": [
       "\n",
       "    <div>\n",
       "        <style>\n",
       "            /* Turns off some styling */\n",
       "            progress {\n",
       "                /* gets rid of default border in Firefox and Opera. */\n",
       "                border: none;\n",
       "                /* Needs to be in here for Safari polyfill so background images work as expected. */\n",
       "                background-size: auto;\n",
       "            }\n",
       "            .progress-bar-interrupted, .progress-bar-interrupted::-webkit-progress-bar {\n",
       "                background: #F44336;\n",
       "            }\n",
       "        </style>\n",
       "      <progress value='29' class='' max='29' style='width:300px; height:20px; vertical-align: middle;'></progress>\n",
       "      100.00% [29/29 00:00<00:00]\n",
       "    </div>\n",
       "    "
      ],
      "text/plain": [
       "<IPython.core.display.HTML object>"
      ]
     },
     "metadata": {},
     "output_type": "display_data"
    },
    {
     "data": {
      "image/png": "[encoded data removed]",
      "text/plain": [
       "<Figure size 432x288 with 1 Axes>"
      ]
     },
     "metadata": {
      "needs_background": "light"
     },
     "output_type": "display_data"
    },
    {
     "data": {
      "image/png": "[encoded data removed]",
      "text/plain": [
       "<Figure size 432x288 with 1 Axes>"
      ]
     },
     "metadata": {
      "needs_background": "light"
     },
     "output_type": "display_data"
    },
    {
     "name": "stdout",
     "output_type": "stream",
     "text": [
      "\n",
      " \t ::: 26 SKOPT CALL ::: \n",
      "\n",
      "{'lr': 0.0001579828436945954, 'temperature': 0.09385041316040842, 'neurons': 93}\n",
      "*********************\n",
      "Summary training data\n",
      "Features ['aplanarity', 'chargeEta', 'MET_met', 'deltaPhiTauMet']\n",
      "Shape systematics ['jes']\n",
      "Weight systematics ['btag_weight1']\n",
      "Use weights False\n",
      "Number of signal training / test events: 20000 23570\n",
      "Number of bkg training / test events: 5000 6176\n",
      "*********************\n",
      "*********************\n",
      "Summary dataloader\n",
      "batch size 1000\n",
      "epochs 30\n",
      "x torch.Size([4, 5])\n",
      "y tensor([1.])\n",
      "w None\n",
      "*********************\n",
      "*********************\n",
      "Summary NN setup\n",
      "learning rate 0.0001579828436945954\n",
      "n_feats 4\n",
      "neurons 93\n",
      "temperature 0.09385041316040842\n",
      "bins 10\n",
      "weights False\n",
      "*********************\n",
      "*********************\n",
      "Summary INFERNO setup\n",
      "b_true 2800\n",
      "mu_true 400\n",
      "nshape_alphas 2\n",
      "shape_aux None\n",
      "s_norm_aux []\n",
      "n_alpha 3\n",
      "*********************\n"
     ]
    },
    {
     "data": {
      "text/html": [],
      "text/plain": [
       "<IPython.core.display.HTML object>"
      ]
     },
     "metadata": {},
     "output_type": "display_data"
    },
    {
     "name": "stdout",
     "output_type": "stream",
     "text": [
      "1: Train=2651.02330078125 Valid=2254.2888730805494\n",
      "2: Train=2040.59921875 Valid=1931.4316827182113\n",
      "3: Train=1849.64841796875 Valid=1803.0433433795797\n",
      "4: Train=1761.33353515625 Valid=1740.5742650525324\n",
      "5: Train=1701.667236328125 Valid=1675.2647326239223\n",
      "6: Train=1652.263515625 Valid=1625.0282403353988\n",
      "7: Train=1604.0859423828124 Valid=1589.889437971444\n",
      "8: Train=1553.1947705078126 Valid=1547.347412109375\n",
      "9: Train=1521.552294921875 Valid=1506.343400626347\n",
      "10: Train=1484.503984375 Valid=1471.7892561287715\n",
      "11: Train=1447.9527197265625 Valid=1440.8567988954742\n",
      "12: Train=1417.6044287109376 Valid=1418.6238761112609\n",
      "13: Train=1390.3000390625 Valid=1394.823069605334\n",
      "14: Train=1372.805400390625 Valid=1372.5887072332973\n",
      "15: Train=1355.87013671875 Valid=1349.3021703259699\n",
      "16: Train=1335.4076513671876 Valid=1336.8219751818426\n",
      "17: Train=1324.5303564453125 Valid=1317.328019766972\n",
      "18: Train=1306.523876953125 Valid=1311.0371683054957\n",
      "19: Train=1294.9479638671876 Valid=1300.240688981681\n",
      "20: Train=1283.8899560546874 Valid=1285.6172001279633\n",
      "21: Train=1279.02373046875 Valid=1283.3545132341055\n",
      "22: Train=1268.6096337890624 Valid=1276.969707620555\n",
      "23: Train=1254.7045849609376 Valid=1271.310647898707\n",
      "24: Train=1256.3578564453126 Valid=1262.6178778286637\n",
      "25: Train=1245.7892138671875 Valid=1257.5877096241918\n",
      "26: Train=1247.8160791015625 Valid=1254.699496565194\n",
      "27: Train=1236.6743359375 Valid=1246.3976692988954\n",
      "28: Train=1230.3225219726562 Valid=1243.9718796302532\n",
      "29: Train=1216.0398779296875 Valid=1241.8104584792566\n",
      "30: Train=1219.997744140625 Valid=1231.5946718413254\n"
     ]
    },
    {
     "data": {
      "text/html": [
       "\n",
       "    <div>\n",
       "        <style>\n",
       "            /* Turns off some styling */\n",
       "            progress {\n",
       "                /* gets rid of default border in Firefox and Opera. */\n",
       "                border: none;\n",
       "                /* Needs to be in here for Safari polyfill so background images work as expected. */\n",
       "                background-size: auto;\n",
       "            }\n",
       "            .progress-bar-interrupted, .progress-bar-interrupted::-webkit-progress-bar {\n",
       "                background: #F44336;\n",
       "            }\n",
       "        </style>\n",
       "      <progress value='29' class='' max='29' style='width:300px; height:20px; vertical-align: middle;'></progress>\n",
       "      100.00% [29/29 00:00<00:00]\n",
       "    </div>\n",
       "    "
      ],
      "text/plain": [
       "<IPython.core.display.HTML object>"
      ]
     },
     "metadata": {},
     "output_type": "display_data"
    },
    {
     "data": {
      "image/png": "[encoded data removed]",
      "text/plain": [
       "<Figure size 432x288 with 1 Axes>"
      ]
     },
     "metadata": {
      "needs_background": "light"
     },
     "output_type": "display_data"
    },
    {
     "data": {
      "image/png": "[encoded data removed]",
      "text/plain": [
       "<Figure size 432x288 with 1 Axes>"
      ]
     },
     "metadata": {
      "needs_background": "light"
     },
     "output_type": "display_data"
    },
    {
     "name": "stdout",
     "output_type": "stream",
     "text": [
      "\n",
      " \t ::: 27 SKOPT CALL ::: \n",
      "\n",
      "{'lr': 0.0016337511066641301, 'temperature': 0.7007041623123308, 'neurons': 56}\n",
      "*********************\n",
      "Summary training data\n",
      "Features ['aplanarity', 'chargeEta', 'MET_met', 'deltaPhiTauMet']\n",
      "Shape systematics ['jes']\n",
      "Weight systematics ['btag_weight1']\n",
      "Use weights False\n",
      "Number of signal training / test events: 20000 23570\n",
      "Number of bkg training / test events: 5000 6176\n",
      "*********************\n",
      "*********************\n",
      "Summary dataloader\n",
      "batch size 1000\n",
      "epochs 30\n",
      "x torch.Size([4, 5])\n",
      "y tensor([1.])\n",
      "w None\n",
      "*********************\n",
      "*********************\n",
      "Summary NN setup\n",
      "learning rate 0.0016337511066641301\n",
      "n_feats 4\n",
      "neurons 56\n",
      "temperature 0.7007041623123308\n",
      "bins 10\n",
      "weights False\n",
      "*********************\n",
      "*********************\n",
      "Summary INFERNO setup\n",
      "b_true 2800\n",
      "mu_true 400\n",
      "nshape_alphas 2\n",
      "shape_aux None\n",
      "s_norm_aux []\n",
      "n_alpha 3\n",
      "*********************\n"
     ]
    },
    {
     "data": {
      "text/html": [],
      "text/plain": [
       "<IPython.core.display.HTML object>"
      ]
     },
     "metadata": {},
     "output_type": "display_data"
    },
    {
     "name": "stdout",
     "output_type": "stream",
     "text": [
      "1: Train=2987.819775390625 Valid=2575.7873282596984\n",
      "2: Train=2117.4557666015626 Valid=1769.3094524515086\n",
      "3: Train=1659.800537109375 Valid=1593.421702417834\n",
      "4: Train=1543.770888671875 Valid=1501.7538094356141\n",
      "5: Train=1472.998798828125 Valid=1446.2728018925109\n",
      "6: Train=1443.2730078125 Valid=1402.3113929485453\n",
      "7: Train=1371.0038061523437 Valid=1358.6998038456359\n",
      "8: Train=1347.1277197265624 Valid=1320.9599230536098\n",
      "9: Train=1317.1035693359374 Valid=1301.1402166958512\n",
      "10: Train=1287.6665380859374 Valid=1291.941827182112\n",
      "11: Train=1278.547333984375 Valid=1271.3862704573007\n",
      "12: Train=1269.4823876953126 Valid=1256.2367280105066\n",
      "13: Train=1262.3900415039063 Valid=1259.9226389917835\n",
      "14: Train=1250.4054614257811 Valid=1249.8346010405442\n",
      "15: Train=1235.6679321289062 Valid=1234.650946255388\n",
      "16: Train=1228.394052734375 Valid=1227.4623202619882\n",
      "17: Train=1222.612177734375 Valid=1219.4243816507274\n",
      "18: Train=1214.7528759765626 Valid=1208.3520865604796\n",
      "19: Train=1199.00732421875 Valid=1197.8406224744074\n",
      "20: Train=1185.222529296875 Valid=1185.929735907193\n",
      "21: Train=1184.4604711914062 Valid=1189.570379849138\n",
      "22: Train=1177.626806640625 Valid=1172.3271379141972\n",
      "23: Train=1169.618232421875 Valid=1163.8415506297144\n",
      "24: Train=1159.6000073242187 Valid=1164.9952834556843\n",
      "25: Train=1157.4049975585938 Valid=1151.979544804014\n",
      "26: Train=1145.7649609375 Valid=1158.6942075532058\n",
      "27: Train=1147.750224609375 Valid=1158.6222008014547\n",
      "28: Train=1131.2009887695312 Valid=1155.7516100653286\n",
      "29: Train=1119.5095263671874 Valid=1144.197652882543\n",
      "30: Train=1116.8231665039064 Valid=1148.6132223195043\n"
     ]
    },
    {
     "data": {
      "text/html": [
       "\n",
       "    <div>\n",
       "        <style>\n",
       "            /* Turns off some styling */\n",
       "            progress {\n",
       "                /* gets rid of default border in Firefox and Opera. */\n",
       "                border: none;\n",
       "                /* Needs to be in here for Safari polyfill so background images work as expected. */\n",
       "                background-size: auto;\n",
       "            }\n",
       "            .progress-bar-interrupted, .progress-bar-interrupted::-webkit-progress-bar {\n",
       "                background: #F44336;\n",
       "            }\n",
       "        </style>\n",
       "      <progress value='29' class='' max='29' style='width:300px; height:20px; vertical-align: middle;'></progress>\n",
       "      100.00% [29/29 00:00<00:00]\n",
       "    </div>\n",
       "    "
      ],
      "text/plain": [
       "<IPython.core.display.HTML object>"
      ]
     },
     "metadata": {},
     "output_type": "display_data"
    },
    {
     "data": {
      "image/png": "[encoded data removed]",
      "text/plain": [
       "<Figure size 432x288 with 1 Axes>"
      ]
     },
     "metadata": {
      "needs_background": "light"
     },
     "output_type": "display_data"
    },
    {
     "data": {
      "image/png": "[encoded data removed]",
      "text/plain": [
       "<Figure size 432x288 with 1 Axes>"
      ]
     },
     "metadata": {
      "needs_background": "light"
     },
     "output_type": "display_data"
    },
    {
     "name": "stdout",
     "output_type": "stream",
     "text": [
      "\n",
      " \t ::: 28 SKOPT CALL ::: \n",
      "\n",
      "{'lr': 0.0032687746614495695, 'temperature': 0.35816237654178545, 'neurons': 101}\n",
      "*********************\n",
      "Summary training data\n",
      "Features ['aplanarity', 'chargeEta', 'MET_met', 'deltaPhiTauMet']\n",
      "Shape systematics ['jes']\n",
      "Weight systematics ['btag_weight1']\n",
      "Use weights False\n",
      "Number of signal training / test events: 20000 23570\n",
      "Number of bkg training / test events: 5000 6176\n",
      "*********************\n",
      "*********************\n",
      "Summary dataloader\n",
      "batch size 1000\n",
      "epochs 30\n",
      "x torch.Size([4, 5])\n",
      "y tensor([1.])\n",
      "w None\n",
      "*********************\n",
      "*********************\n",
      "Summary NN setup\n",
      "learning rate 0.0032687746614495695\n",
      "n_feats 4\n",
      "neurons 101\n",
      "temperature 0.35816237654178545\n",
      "bins 10\n",
      "weights False\n",
      "*********************\n",
      "*********************\n",
      "Summary INFERNO setup\n",
      "b_true 2800\n",
      "mu_true 400\n",
      "nshape_alphas 2\n",
      "shape_aux None\n",
      "s_norm_aux []\n",
      "n_alpha 3\n",
      "*********************\n"
     ]
    },
    {
     "data": {
      "text/html": [],
      "text/plain": [
       "<IPython.core.display.HTML object>"
      ]
     },
     "metadata": {},
     "output_type": "display_data"
    },
    {
     "name": "stdout",
     "output_type": "stream",
     "text": [
      "1: Train=2032.9050244140626 Valid=1509.273576407597\n",
      "2: Train=1365.146279296875 Valid=1340.7470787311422\n",
      "3: Train=1246.530361328125 Valid=1271.6917429956898\n",
      "4: Train=1184.55349609375 Valid=1220.2761925006735\n",
      "5: Train=1142.2379443359375 Valid=1211.375311489763\n",
      "6: Train=1125.1285815429687 Valid=1143.0783965012122\n",
      "7: Train=1092.3207006835937 Valid=1179.5738967369343\n",
      "8: Train=1066.51298828125 Valid=1165.17333984375\n",
      "9: Train=1071.3417163085937 Valid=1132.1429380219558\n",
      "10: Train=1051.0346752929688 Valid=1158.1481323242188\n",
      "11: Train=1057.0970776367187 Valid=1127.1578011348329\n",
      "12: Train=1048.9972802734376 Valid=1141.817694302263\n",
      "13: Train=1065.7030004882813 Valid=1157.5959199050378\n",
      "14: Train=1041.9644213867186 Valid=1104.528177195582\n",
      "15: Train=1050.70755859375 Valid=1151.0570489291488\n",
      "16: Train=1061.1929858398437 Valid=1131.893171639278\n",
      "17: Train=1075.8241015625 Valid=1112.4092975484914\n",
      "18: Train=1049.6805639648437 Valid=1160.2182490907867\n",
      "19: Train=1096.8746923828126 Valid=1103.0585621800915\n",
      "20: Train=1063.3209033203125 Valid=1113.39453125\n",
      "21: Train=1062.2380786132812 Valid=1131.894148201778\n",
      "22: Train=1075.9319873046875 Valid=1098.4990529027477\n",
      "23: Train=1157.8264428710938 Valid=1158.0051711509968\n",
      "24: Train=1063.5705029296876 Valid=1126.0373429923222\n",
      "25: Train=1076.76583984375 Valid=1152.2114805024246\n",
      "26: Train=1092.668447265625 Valid=1184.470042261584\n",
      "27: Train=1177.2276196289063 Valid=1226.7371636752425\n",
      "28: Train=1585.6249365234376 Valid=1433.4285972858297\n",
      "29: Train=1662.144345703125 Valid=1782.0431244948816\n",
      "30: Train=1447.6393115234375 Valid=1295.180209455819\n"
     ]
    },
    {
     "data": {
      "text/html": [
       "\n",
       "    <div>\n",
       "        <style>\n",
       "            /* Turns off some styling */\n",
       "            progress {\n",
       "                /* gets rid of default border in Firefox and Opera. */\n",
       "                border: none;\n",
       "                /* Needs to be in here for Safari polyfill so background images work as expected. */\n",
       "                background-size: auto;\n",
       "            }\n",
       "            .progress-bar-interrupted, .progress-bar-interrupted::-webkit-progress-bar {\n",
       "                background: #F44336;\n",
       "            }\n",
       "        </style>\n",
       "      <progress value='29' class='' max='29' style='width:300px; height:20px; vertical-align: middle;'></progress>\n",
       "      100.00% [29/29 00:00<00:00]\n",
       "    </div>\n",
       "    "
      ],
      "text/plain": [
       "<IPython.core.display.HTML object>"
      ]
     },
     "metadata": {},
     "output_type": "display_data"
    },
    {
     "data": {
      "image/png": "[encoded data removed]",
      "text/plain": [
       "<Figure size 432x288 with 1 Axes>"
      ]
     },
     "metadata": {
      "needs_background": "light"
     },
     "output_type": "display_data"
    },
    {
     "data": {
      "image/png": "[encoded data removed]",
      "text/plain": [
       "<Figure size 432x288 with 1 Axes>"
      ]
     },
     "metadata": {
      "needs_background": "light"
     },
     "output_type": "display_data"
    },
    {
     "name": "stdout",
     "output_type": "stream",
     "text": [
      "\n",
      " \t ::: 29 SKOPT CALL ::: \n",
      "\n",
      "{'lr': 0.0002523030233946563, 'temperature': 0.24907236349648224, 'neurons': 108}\n",
      "*********************\n",
      "Summary training data\n",
      "Features ['aplanarity', 'chargeEta', 'MET_met', 'deltaPhiTauMet']\n",
      "Shape systematics ['jes']\n",
      "Weight systematics ['btag_weight1']\n",
      "Use weights False\n",
      "Number of signal training / test events: 20000 23570\n",
      "Number of bkg training / test events: 5000 6176\n",
      "*********************\n",
      "*********************\n",
      "Summary dataloader\n",
      "batch size 1000\n",
      "epochs 30\n",
      "x torch.Size([4, 5])\n",
      "y tensor([1.])\n",
      "w None\n",
      "*********************\n",
      "*********************\n",
      "Summary NN setup\n",
      "learning rate 0.0002523030233946563\n",
      "n_feats 4\n",
      "neurons 108\n",
      "temperature 0.24907236349648224\n",
      "bins 10\n",
      "weights False\n",
      "*********************\n",
      "*********************\n",
      "Summary INFERNO setup\n",
      "b_true 2800\n",
      "mu_true 400\n",
      "nshape_alphas 2\n",
      "shape_aux None\n",
      "s_norm_aux []\n",
      "n_alpha 3\n",
      "*********************\n"
     ]
    },
    {
     "data": {
      "text/html": [],
      "text/plain": [
       "<IPython.core.display.HTML object>"
      ]
     },
     "metadata": {},
     "output_type": "display_data"
    },
    {
     "name": "stdout",
     "output_type": "stream",
     "text": [
      "1: Train=2963.789794921875 Valid=2646.372794315733\n",
      "2: Train=2345.1887353515626 Valid=2064.4554022427264\n",
      "3: Train=1920.2142333984375 Valid=1829.851179451778\n",
      "4: Train=1730.2561279296874 Valid=1691.2359282394934\n",
      "5: Train=1602.653505859375 Valid=1594.8881288725754\n",
      "6: Train=1528.2799462890625 Valid=1536.0774220433727\n",
      "7: Train=1481.7394775390626 Valid=1496.6847218480602\n",
      "8: Train=1443.9461669921875 Valid=1457.843021787446\n",
      "9: Train=1416.404921875 Valid=1432.2569537984914\n",
      "10: Train=1397.55349609375 Valid=1410.915316877694\n",
      "11: Train=1376.9522802734375 Valid=1387.0298314587824\n",
      "12: Train=1359.8155712890625 Valid=1369.4408800848598\n",
      "13: Train=1347.9256982421875 Valid=1353.7495538119613\n",
      "14: Train=1328.2516162109375 Valid=1344.0457048087285\n",
      "15: Train=1318.5722607421876 Valid=1321.1063632307382\n",
      "16: Train=1315.1237939453124 Valid=1324.6740806842672\n",
      "17: Train=1293.0713818359375 Valid=1299.5303029027477\n",
      "18: Train=1282.2715942382813 Valid=1287.5732674434266\n",
      "19: Train=1278.2400439453124 Valid=1276.8808341190734\n",
      "20: Train=1265.3816943359375 Valid=1281.4922338025324\n",
      "21: Train=1253.7284887695312 Valid=1263.1212810647899\n",
      "22: Train=1248.5293237304688 Valid=1265.9029414735992\n",
      "23: Train=1238.7170532226562 Valid=1254.96608339507\n",
      "24: Train=1235.906171875 Valid=1244.8016125909214\n",
      "25: Train=1225.02689453125 Valid=1234.0550095130657\n",
      "26: Train=1220.7287622070312 Valid=1239.621998754041\n",
      "27: Train=1217.0867749023437 Valid=1221.4562356883082\n",
      "28: Train=1204.958525390625 Valid=1220.8005792025863\n",
      "29: Train=1202.4077978515625 Valid=1212.8006465517242\n",
      "30: Train=1194.2639135742188 Valid=1210.4187558930496\n"
     ]
    },
    {
     "data": {
      "text/html": [
       "\n",
       "    <div>\n",
       "        <style>\n",
       "            /* Turns off some styling */\n",
       "            progress {\n",
       "                /* gets rid of default border in Firefox and Opera. */\n",
       "                border: none;\n",
       "                /* Needs to be in here for Safari polyfill so background images work as expected. */\n",
       "                background-size: auto;\n",
       "            }\n",
       "            .progress-bar-interrupted, .progress-bar-interrupted::-webkit-progress-bar {\n",
       "                background: #F44336;\n",
       "            }\n",
       "        </style>\n",
       "      <progress value='29' class='' max='29' style='width:300px; height:20px; vertical-align: middle;'></progress>\n",
       "      100.00% [29/29 00:00<00:00]\n",
       "    </div>\n",
       "    "
      ],
      "text/plain": [
       "<IPython.core.display.HTML object>"
      ]
     },
     "metadata": {},
     "output_type": "display_data"
    },
    {
     "data": {
      "image/png": "[encoded data removed]",
      "text/plain": [
       "<Figure size 432x288 with 1 Axes>"
      ]
     },
     "metadata": {
      "needs_background": "light"
     },
     "output_type": "display_data"
    },
    {
     "data": {
      "image/png": "[encoded data removed]",
      "text/plain": [
       "<Figure size 432x288 with 1 Axes>"
      ]
     },
     "metadata": {
      "needs_background": "light"
     },
     "output_type": "display_data"
    },
    {
     "name": "stdout",
     "output_type": "stream",
     "text": [
      "\n",
      " \t ::: 30 SKOPT CALL ::: \n",
      "\n",
      "{'lr': 0.0005658786287281878, 'temperature': 0.45104547065588496, 'neurons': 200}\n",
      "*********************\n",
      "Summary training data\n",
      "Features ['aplanarity', 'chargeEta', 'MET_met', 'deltaPhiTauMet']\n",
      "Shape systematics ['jes']\n",
      "Weight systematics ['btag_weight1']\n",
      "Use weights False\n",
      "Number of signal training / test events: 20000 23570\n",
      "Number of bkg training / test events: 5000 6176\n",
      "*********************\n",
      "*********************\n",
      "Summary dataloader\n",
      "batch size 1000\n",
      "epochs 30\n",
      "x torch.Size([4, 5])\n",
      "y tensor([1.])\n",
      "w None\n",
      "*********************\n",
      "*********************\n",
      "Summary NN setup\n",
      "learning rate 0.0005658786287281878\n",
      "n_feats 4\n",
      "neurons 200\n",
      "temperature 0.45104547065588496\n",
      "bins 10\n",
      "weights False\n",
      "*********************\n",
      "*********************\n",
      "Summary INFERNO setup\n",
      "b_true 2800\n",
      "mu_true 400\n",
      "nshape_alphas 2\n",
      "shape_aux None\n",
      "s_norm_aux []\n",
      "n_alpha 3\n",
      "*********************\n"
     ]
    },
    {
     "data": {
      "text/html": [],
      "text/plain": [
       "<IPython.core.display.HTML object>"
      ]
     },
     "metadata": {},
     "output_type": "display_data"
    },
    {
     "name": "stdout",
     "output_type": "stream",
     "text": [
      "1: Train=2515.3369384765624 Valid=1829.076449690194\n",
      "2: Train=1736.800908203125 Valid=1607.1103052599676\n",
      "3: Train=1576.848896484375 Valid=1501.184881802263\n",
      "4: Train=1456.8484912109375 Valid=1429.4017733869882\n",
      "5: Train=1370.9222998046876 Valid=1342.3184856546336\n",
      "6: Train=1313.3293310546876 Valid=1319.1944832637391\n",
      "7: Train=1284.745 Valid=1293.1270836139547\n",
      "8: Train=1259.6137524414062 Valid=1268.398020777209\n",
      "9: Train=1242.9569775390626 Valid=1254.367766281654\n",
      "10: Train=1216.6696240234376 Valid=1233.8917720400054\n",
      "11: Train=1215.0487890625 Valid=1222.492431640625\n",
      "12: Train=1199.1947631835938 Valid=1219.6158910290949\n",
      "13: Train=1187.4298608398437 Valid=1208.0675974878773\n",
      "14: Train=1173.8222143554688 Valid=1199.1864645070043\n",
      "15: Train=1170.9803100585937 Valid=1196.8370319234914\n",
      "16: Train=1162.6342993164062 Valid=1181.4652899380387\n",
      "17: Train=1166.2745776367187 Valid=1191.7487814015356\n",
      "18: Train=1151.0697241210937 Valid=1156.1224260001347\n",
      "19: Train=1138.1348779296875 Valid=1151.9375736631196\n",
      "20: Train=1118.8428076171874 Valid=1148.6029894598598\n",
      "21: Train=1120.1245141601562 Valid=1142.0163826778016\n",
      "22: Train=1104.80068359375 Valid=1134.789828596444\n",
      "23: Train=1100.4215258789063 Valid=1146.726772966056\n",
      "24: Train=1085.5749365234376 Valid=1133.1205465382543\n",
      "25: Train=1067.3571459960938 Valid=1126.4456555596714\n",
      "26: Train=1081.4369921875 Valid=1129.3966653758082\n",
      "27: Train=1068.1258276367187 Valid=1145.5925671807652\n",
      "28: Train=1071.437646484375 Valid=1121.7841628502156\n",
      "29: Train=1061.4908740234375 Valid=1124.0980477168641\n",
      "30: Train=1057.9489697265626 Valid=1123.3311115133351\n"
     ]
    },
    {
     "data": {
      "text/html": [
       "\n",
       "    <div>\n",
       "        <style>\n",
       "            /* Turns off some styling */\n",
       "            progress {\n",
       "                /* gets rid of default border in Firefox and Opera. */\n",
       "                border: none;\n",
       "                /* Needs to be in here for Safari polyfill so background images work as expected. */\n",
       "                background-size: auto;\n",
       "            }\n",
       "            .progress-bar-interrupted, .progress-bar-interrupted::-webkit-progress-bar {\n",
       "                background: #F44336;\n",
       "            }\n",
       "        </style>\n",
       "      <progress value='29' class='' max='29' style='width:300px; height:20px; vertical-align: middle;'></progress>\n",
       "      100.00% [29/29 00:00<00:00]\n",
       "    </div>\n",
       "    "
      ],
      "text/plain": [
       "<IPython.core.display.HTML object>"
      ]
     },
     "metadata": {},
     "output_type": "display_data"
    },
    {
     "data": {
      "image/png": "[encoded data removed]",
      "text/plain": [
       "<Figure size 432x288 with 1 Axes>"
      ]
     },
     "metadata": {
      "needs_background": "light"
     },
     "output_type": "display_data"
    },
    {
     "data": {
      "image/png": "[encoded data removed]",
      "text/plain": [
       "<Figure size 432x288 with 1 Axes>"
      ]
     },
     "metadata": {
      "needs_background": "light"
     },
     "output_type": "display_data"
    }
   ],
   "source": [
    "search_result, prior_names = find_optimal_parameters( skopt_dim_nominal, initial_param, num_calls=30)"
   ]
  },
  {
   "cell_type": "code",
   "execution_count": 20,
   "id": "0304aec3",
   "metadata": {},
   "outputs": [
    {
     "data": {
      "text/html": [
       "<div>\n",
       "<style scoped>\n",
       "    .dataframe tbody tr th:only-of-type {\n",
       "        vertical-align: middle;\n",
       "    }\n",
       "\n",
       "    .dataframe tbody tr th {\n",
       "        vertical-align: top;\n",
       "    }\n",
       "\n",
       "    .dataframe thead th {\n",
       "        text-align: right;\n",
       "    }\n",
       "</style>\n",
       "<table border=\"1\" class=\"dataframe\">\n",
       "  <thead>\n",
       "    <tr style=\"text-align: right;\">\n",
       "      <th></th>\n",
       "      <th>call</th>\n",
       "      <th>lr</th>\n",
       "      <th>temperature</th>\n",
       "      <th>neurons</th>\n",
       "      <th>score</th>\n",
       "    </tr>\n",
       "  </thead>\n",
       "  <tbody>\n",
       "    <tr>\n",
       "      <th>5</th>\n",
       "      <td>5</td>\n",
       "      <td>0.003830</td>\n",
       "      <td>0.312711</td>\n",
       "      <td>69</td>\n",
       "      <td>1061.558310</td>\n",
       "    </tr>\n",
       "    <tr>\n",
       "      <th>17</th>\n",
       "      <td>17</td>\n",
       "      <td>0.002390</td>\n",
       "      <td>0.752902</td>\n",
       "      <td>153</td>\n",
       "      <td>1067.052755</td>\n",
       "    </tr>\n",
       "    <tr>\n",
       "      <th>9</th>\n",
       "      <td>9</td>\n",
       "      <td>0.002438</td>\n",
       "      <td>0.919223</td>\n",
       "      <td>71</td>\n",
       "      <td>1068.814276</td>\n",
       "    </tr>\n",
       "    <tr>\n",
       "      <th>19</th>\n",
       "      <td>19</td>\n",
       "      <td>0.000616</td>\n",
       "      <td>0.050054</td>\n",
       "      <td>194</td>\n",
       "      <td>1071.552915</td>\n",
       "    </tr>\n",
       "    <tr>\n",
       "      <th>3</th>\n",
       "      <td>3</td>\n",
       "      <td>0.002904</td>\n",
       "      <td>0.636750</td>\n",
       "      <td>143</td>\n",
       "      <td>1080.803418</td>\n",
       "    </tr>\n",
       "    <tr>\n",
       "      <th>6</th>\n",
       "      <td>6</td>\n",
       "      <td>0.007067</td>\n",
       "      <td>0.664015</td>\n",
       "      <td>62</td>\n",
       "      <td>1084.039486</td>\n",
       "    </tr>\n",
       "    <tr>\n",
       "      <th>23</th>\n",
       "      <td>23</td>\n",
       "      <td>0.000604</td>\n",
       "      <td>0.132472</td>\n",
       "      <td>200</td>\n",
       "      <td>1088.203634</td>\n",
       "    </tr>\n",
       "    <tr>\n",
       "      <th>1</th>\n",
       "      <td>1</td>\n",
       "      <td>0.001305</td>\n",
       "      <td>0.762291</td>\n",
       "      <td>142</td>\n",
       "      <td>1093.286686</td>\n",
       "    </tr>\n",
       "    <tr>\n",
       "      <th>0</th>\n",
       "      <td>0</td>\n",
       "      <td>0.001000</td>\n",
       "      <td>0.200000</td>\n",
       "      <td>80</td>\n",
       "      <td>1093.494286</td>\n",
       "    </tr>\n",
       "    <tr>\n",
       "      <th>27</th>\n",
       "      <td>27</td>\n",
       "      <td>0.003269</td>\n",
       "      <td>0.358162</td>\n",
       "      <td>101</td>\n",
       "      <td>1098.499053</td>\n",
       "    </tr>\n",
       "    <tr>\n",
       "      <th>10</th>\n",
       "      <td>10</td>\n",
       "      <td>0.001858</td>\n",
       "      <td>0.148631</td>\n",
       "      <td>192</td>\n",
       "      <td>1115.914704</td>\n",
       "    </tr>\n",
       "    <tr>\n",
       "      <th>29</th>\n",
       "      <td>29</td>\n",
       "      <td>0.000566</td>\n",
       "      <td>0.451045</td>\n",
       "      <td>200</td>\n",
       "      <td>1121.784163</td>\n",
       "    </tr>\n",
       "    <tr>\n",
       "      <th>14</th>\n",
       "      <td>14</td>\n",
       "      <td>0.000100</td>\n",
       "      <td>0.062576</td>\n",
       "      <td>163</td>\n",
       "      <td>1143.721353</td>\n",
       "    </tr>\n",
       "    <tr>\n",
       "      <th>26</th>\n",
       "      <td>26</td>\n",
       "      <td>0.001634</td>\n",
       "      <td>0.700704</td>\n",
       "      <td>56</td>\n",
       "      <td>1144.197653</td>\n",
       "    </tr>\n",
       "    <tr>\n",
       "      <th>21</th>\n",
       "      <td>21</td>\n",
       "      <td>0.000677</td>\n",
       "      <td>0.053607</td>\n",
       "      <td>55</td>\n",
       "      <td>1149.360914</td>\n",
       "    </tr>\n",
       "    <tr>\n",
       "      <th>11</th>\n",
       "      <td>11</td>\n",
       "      <td>0.009043</td>\n",
       "      <td>0.563717</td>\n",
       "      <td>85</td>\n",
       "      <td>1159.854791</td>\n",
       "    </tr>\n",
       "    <tr>\n",
       "      <th>18</th>\n",
       "      <td>18</td>\n",
       "      <td>0.001071</td>\n",
       "      <td>0.943648</td>\n",
       "      <td>82</td>\n",
       "      <td>1162.030284</td>\n",
       "    </tr>\n",
       "    <tr>\n",
       "      <th>7</th>\n",
       "      <td>7</td>\n",
       "      <td>0.000124</td>\n",
       "      <td>0.080687</td>\n",
       "      <td>180</td>\n",
       "      <td>1181.586361</td>\n",
       "    </tr>\n",
       "    <tr>\n",
       "      <th>4</th>\n",
       "      <td>4</td>\n",
       "      <td>0.000331</td>\n",
       "      <td>0.641737</td>\n",
       "      <td>172</td>\n",
       "      <td>1199.863624</td>\n",
       "    </tr>\n",
       "    <tr>\n",
       "      <th>28</th>\n",
       "      <td>28</td>\n",
       "      <td>0.000252</td>\n",
       "      <td>0.249072</td>\n",
       "      <td>108</td>\n",
       "      <td>1210.418756</td>\n",
       "    </tr>\n",
       "    <tr>\n",
       "      <th>25</th>\n",
       "      <td>25</td>\n",
       "      <td>0.000158</td>\n",
       "      <td>0.093850</td>\n",
       "      <td>93</td>\n",
       "      <td>1231.594672</td>\n",
       "    </tr>\n",
       "    <tr>\n",
       "      <th>2</th>\n",
       "      <td>2</td>\n",
       "      <td>0.000125</td>\n",
       "      <td>0.274466</td>\n",
       "      <td>179</td>\n",
       "      <td>1278.374188</td>\n",
       "    </tr>\n",
       "    <tr>\n",
       "      <th>13</th>\n",
       "      <td>13</td>\n",
       "      <td>0.000235</td>\n",
       "      <td>0.958163</td>\n",
       "      <td>147</td>\n",
       "      <td>1293.553402</td>\n",
       "    </tr>\n",
       "    <tr>\n",
       "      <th>22</th>\n",
       "      <td>22</td>\n",
       "      <td>0.000183</td>\n",
       "      <td>0.010000</td>\n",
       "      <td>200</td>\n",
       "      <td>1298.423268</td>\n",
       "    </tr>\n",
       "    <tr>\n",
       "      <th>15</th>\n",
       "      <td>15</td>\n",
       "      <td>0.000100</td>\n",
       "      <td>0.068828</td>\n",
       "      <td>53</td>\n",
       "      <td>1302.993189</td>\n",
       "    </tr>\n",
       "    <tr>\n",
       "      <th>20</th>\n",
       "      <td>20</td>\n",
       "      <td>0.000100</td>\n",
       "      <td>0.310758</td>\n",
       "      <td>199</td>\n",
       "      <td>1324.933261</td>\n",
       "    </tr>\n",
       "    <tr>\n",
       "      <th>8</th>\n",
       "      <td>8</td>\n",
       "      <td>0.009674</td>\n",
       "      <td>0.252827</td>\n",
       "      <td>155</td>\n",
       "      <td>1325.102406</td>\n",
       "    </tr>\n",
       "    <tr>\n",
       "      <th>24</th>\n",
       "      <td>24</td>\n",
       "      <td>0.010000</td>\n",
       "      <td>0.320135</td>\n",
       "      <td>196</td>\n",
       "      <td>1422.457679</td>\n",
       "    </tr>\n",
       "    <tr>\n",
       "      <th>16</th>\n",
       "      <td>16</td>\n",
       "      <td>0.010000</td>\n",
       "      <td>0.854907</td>\n",
       "      <td>186</td>\n",
       "      <td>10000.000000</td>\n",
       "    </tr>\n",
       "    <tr>\n",
       "      <th>12</th>\n",
       "      <td>12</td>\n",
       "      <td>0.009646</td>\n",
       "      <td>0.140741</td>\n",
       "      <td>135</td>\n",
       "      <td>10000.000000</td>\n",
       "    </tr>\n",
       "  </tbody>\n",
       "</table>\n",
       "</div>"
      ],
      "text/plain": [
       "    call        lr  temperature  neurons         score\n",
       "5      5  0.003830     0.312711       69   1061.558310\n",
       "17    17  0.002390     0.752902      153   1067.052755\n",
       "9      9  0.002438     0.919223       71   1068.814276\n",
       "19    19  0.000616     0.050054      194   1071.552915\n",
       "3      3  0.002904     0.636750      143   1080.803418\n",
       "6      6  0.007067     0.664015       62   1084.039486\n",
       "23    23  0.000604     0.132472      200   1088.203634\n",
       "1      1  0.001305     0.762291      142   1093.286686\n",
       "0      0  0.001000     0.200000       80   1093.494286\n",
       "27    27  0.003269     0.358162      101   1098.499053\n",
       "10    10  0.001858     0.148631      192   1115.914704\n",
       "29    29  0.000566     0.451045      200   1121.784163\n",
       "14    14  0.000100     0.062576      163   1143.721353\n",
       "26    26  0.001634     0.700704       56   1144.197653\n",
       "21    21  0.000677     0.053607       55   1149.360914\n",
       "11    11  0.009043     0.563717       85   1159.854791\n",
       "18    18  0.001071     0.943648       82   1162.030284\n",
       "7      7  0.000124     0.080687      180   1181.586361\n",
       "4      4  0.000331     0.641737      172   1199.863624\n",
       "28    28  0.000252     0.249072      108   1210.418756\n",
       "25    25  0.000158     0.093850       93   1231.594672\n",
       "2      2  0.000125     0.274466      179   1278.374188\n",
       "13    13  0.000235     0.958163      147   1293.553402\n",
       "22    22  0.000183     0.010000      200   1298.423268\n",
       "15    15  0.000100     0.068828       53   1302.993189\n",
       "20    20  0.000100     0.310758      199   1324.933261\n",
       "8      8  0.009674     0.252827      155   1325.102406\n",
       "24    24  0.010000     0.320135      196   1422.457679\n",
       "16    16  0.010000     0.854907      186  10000.000000\n",
       "12    12  0.009646     0.140741      135  10000.000000"
      ]
     },
     "execution_count": 20,
     "metadata": {},
     "output_type": "execute_result"
    }
   ],
   "source": [
    "store_results(search_result, prior_names)"
   ]
  },
  {
   "cell_type": "code",
   "execution_count": 21,
   "id": "165d6119",
   "metadata": {},
   "outputs": [
    {
     "data": {
      "text/plain": [
       "          fun: 1061.5583096208243\n",
       "    func_vals: array([ 1093.49428585,  1093.28668634,  1278.3741876 ,  1080.80341839,\n",
       "        1199.86362431,  1061.55830962,  1084.03948554,  1181.58636054,\n",
       "        1325.10240647,  1068.81427633,  1115.91470442,  1159.85479105,\n",
       "       10000.        ,  1293.55340155,  1143.72135347,  1302.99318932,\n",
       "       10000.        ,  1067.05275542,  1162.03028396,  1071.55291538,\n",
       "        1324.93326121,  1149.36091351,  1298.42326829,  1088.20363433,\n",
       "        1422.45767949,  1231.59467184,  1144.19765288,  1098.4990529 ,\n",
       "        1210.41875589,  1121.78416285])\n",
       "       models: [GaussianProcessRegressor(kernel=1**2 * Matern(length_scale=[1, 1, 1], nu=2.5) + WhiteKernel(noise_level=1),\n",
       "                         n_restarts_optimizer=2, noise='gaussian',\n",
       "                         normalize_y=True, random_state=940390913), GaussianProcessRegressor(kernel=1**2 * Matern(length_scale=[1, 1, 1], nu=2.5) + WhiteKernel(noise_level=1),\n",
       "                         n_restarts_optimizer=2, noise='gaussian',\n",
       "                         normalize_y=True, random_state=940390913), GaussianProcessRegressor(kernel=1**2 * Matern(length_scale=[1, 1, 1], nu=2.5) + WhiteKernel(noise_level=1),\n",
       "                         n_restarts_optimizer=2, noise='gaussian',\n",
       "                         normalize_y=True, random_state=940390913), GaussianProcessRegressor(kernel=1**2 * Matern(length_scale=[1, 1, 1], nu=2.5) + WhiteKernel(noise_level=1),\n",
       "                         n_restarts_optimizer=2, noise='gaussian',\n",
       "                         normalize_y=True, random_state=940390913), GaussianProcessRegressor(kernel=1**2 * Matern(length_scale=[1, 1, 1], nu=2.5) + WhiteKernel(noise_level=1),\n",
       "                         n_restarts_optimizer=2, noise='gaussian',\n",
       "                         normalize_y=True, random_state=940390913), GaussianProcessRegressor(kernel=1**2 * Matern(length_scale=[1, 1, 1], nu=2.5) + WhiteKernel(noise_level=1),\n",
       "                         n_restarts_optimizer=2, noise='gaussian',\n",
       "                         normalize_y=True, random_state=940390913), GaussianProcessRegressor(kernel=1**2 * Matern(length_scale=[1, 1, 1], nu=2.5) + WhiteKernel(noise_level=1),\n",
       "                         n_restarts_optimizer=2, noise='gaussian',\n",
       "                         normalize_y=True, random_state=940390913), GaussianProcessRegressor(kernel=1**2 * Matern(length_scale=[1, 1, 1], nu=2.5) + WhiteKernel(noise_level=1),\n",
       "                         n_restarts_optimizer=2, noise='gaussian',\n",
       "                         normalize_y=True, random_state=940390913), GaussianProcessRegressor(kernel=1**2 * Matern(length_scale=[1, 1, 1], nu=2.5) + WhiteKernel(noise_level=1),\n",
       "                         n_restarts_optimizer=2, noise='gaussian',\n",
       "                         normalize_y=True, random_state=940390913), GaussianProcessRegressor(kernel=1**2 * Matern(length_scale=[1, 1, 1], nu=2.5) + WhiteKernel(noise_level=1),\n",
       "                         n_restarts_optimizer=2, noise='gaussian',\n",
       "                         normalize_y=True, random_state=940390913), GaussianProcessRegressor(kernel=1**2 * Matern(length_scale=[1, 1, 1], nu=2.5) + WhiteKernel(noise_level=1),\n",
       "                         n_restarts_optimizer=2, noise='gaussian',\n",
       "                         normalize_y=True, random_state=940390913), GaussianProcessRegressor(kernel=1**2 * Matern(length_scale=[1, 1, 1], nu=2.5) + WhiteKernel(noise_level=1),\n",
       "                         n_restarts_optimizer=2, noise='gaussian',\n",
       "                         normalize_y=True, random_state=940390913), GaussianProcessRegressor(kernel=1**2 * Matern(length_scale=[1, 1, 1], nu=2.5) + WhiteKernel(noise_level=1),\n",
       "                         n_restarts_optimizer=2, noise='gaussian',\n",
       "                         normalize_y=True, random_state=940390913), GaussianProcessRegressor(kernel=1**2 * Matern(length_scale=[1, 1, 1], nu=2.5) + WhiteKernel(noise_level=1),\n",
       "                         n_restarts_optimizer=2, noise='gaussian',\n",
       "                         normalize_y=True, random_state=940390913), GaussianProcessRegressor(kernel=1**2 * Matern(length_scale=[1, 1, 1], nu=2.5) + WhiteKernel(noise_level=1),\n",
       "                         n_restarts_optimizer=2, noise='gaussian',\n",
       "                         normalize_y=True, random_state=940390913), GaussianProcessRegressor(kernel=1**2 * Matern(length_scale=[1, 1, 1], nu=2.5) + WhiteKernel(noise_level=1),\n",
       "                         n_restarts_optimizer=2, noise='gaussian',\n",
       "                         normalize_y=True, random_state=940390913), GaussianProcessRegressor(kernel=1**2 * Matern(length_scale=[1, 1, 1], nu=2.5) + WhiteKernel(noise_level=1),\n",
       "                         n_restarts_optimizer=2, noise='gaussian',\n",
       "                         normalize_y=True, random_state=940390913), GaussianProcessRegressor(kernel=1**2 * Matern(length_scale=[1, 1, 1], nu=2.5) + WhiteKernel(noise_level=1),\n",
       "                         n_restarts_optimizer=2, noise='gaussian',\n",
       "                         normalize_y=True, random_state=940390913), GaussianProcessRegressor(kernel=1**2 * Matern(length_scale=[1, 1, 1], nu=2.5) + WhiteKernel(noise_level=1),\n",
       "                         n_restarts_optimizer=2, noise='gaussian',\n",
       "                         normalize_y=True, random_state=940390913), GaussianProcessRegressor(kernel=1**2 * Matern(length_scale=[1, 1, 1], nu=2.5) + WhiteKernel(noise_level=1),\n",
       "                         n_restarts_optimizer=2, noise='gaussian',\n",
       "                         normalize_y=True, random_state=940390913)]\n",
       " random_state: RandomState(MT19937) at 0x7FA38C075258\n",
       "        space: Space([Real(low=0.0001, high=0.01, prior='log-uniform', transform='normalize'),\n",
       "       Real(low=0.01, high=0.99, prior='uniform', transform='normalize'),\n",
       "       Integer(low=50, high=200, prior='uniform', transform='normalize')])\n",
       "        specs: {'args': {'model_queue_size': None, 'n_jobs': 1, 'kappa': 1.96, 'xi': 0.01, 'n_restarts_optimizer': 5, 'n_points': 10000, 'callback': None, 'verbose': False, 'random_state': RandomState(MT19937) at 0x7FA38C075258, 'y0': None, 'x0': [0.001, 0.2, 80], 'acq_optimizer': 'auto', 'acq_func': 'EI', 'initial_point_generator': 'random', 'n_initial_points': 10, 'n_random_starts': None, 'n_calls': 30, 'base_estimator': GaussianProcessRegressor(kernel=1**2 * Matern(length_scale=[1, 1, 1], nu=2.5),\n",
       "                         n_restarts_optimizer=2, noise='gaussian',\n",
       "                         normalize_y=True, random_state=940390913), 'dimensions': Space([Real(low=0.0001, high=0.01, prior='log-uniform', transform='normalize'),\n",
       "       Real(low=0.01, high=0.99, prior='uniform', transform='normalize'),\n",
       "       Integer(low=50, high=200, prior='uniform', transform='normalize')]), 'func': <function find_optimal_parameters.<locals>.fitness at 0x7fa28fa80d90>}, 'function': 'base_minimize'}\n",
       "            x: [0.003829508693663697, 0.31271113846884824, 69]\n",
       "      x_iters: [[0.001, 0.2, 80], [0.001305488406374723, 0.7622910683970598, 142], [0.00012521169390572042, 0.2744659549012489, 179], [0.0029042674744225285, 0.6367496761999438, 143], [0.00033086849298300685, 0.6417367044652853, 172], [0.003829508693663697, 0.31271113846884824, 69], [0.0070673841643105135, 0.6640147819491843, 62], [0.00012381214234993934, 0.08068733812752421, 180], [0.009673767405039039, 0.25282720016882304, 155], [0.00243783716857707, 0.9192233151515897, 71], [0.0018576527364465708, 0.14863050003558417, 192], [0.009043027002241254, 0.5637167893309362, 85], [0.009645873845161856, 0.14074063429598838, 135], [0.00023471406017940377, 0.9581634896492418, 147], [0.0001, 0.0625759037043653, 163], [0.0001, 0.06882821856928761, 53], [0.01, 0.8549074841484525, 186], [0.0023900694555425163, 0.7529023501583789, 153], [0.001070694594892739, 0.9436479482919313, 82], [0.000616355411024755, 0.050053735312842934, 194], [0.0001, 0.3107575412160147, 199], [0.0006773312292242044, 0.0536067467577516, 55], [0.00018257024606840758, 0.01, 200], [0.0006035880106703501, 0.13247246418750178, 200], [0.01, 0.32013452876124754, 196], [0.0001579828436945954, 0.09385041316040842, 93], [0.0016337511066641301, 0.7007041623123308, 56], [0.0032687746614495695, 0.35816237654178545, 101], [0.0002523030233946563, 0.24907236349648224, 108], [0.0005658786287281878, 0.45104547065588496, 200]]"
      ]
     },
     "execution_count": 21,
     "metadata": {},
     "output_type": "execute_result"
    }
   ],
   "source": [
    "search_result"
   ]
  },
  {
   "cell_type": "code",
   "execution_count": null,
   "id": "1e1f99ad",
   "metadata": {},
   "outputs": [],
   "source": []
  }
 ],
 "metadata": {
  "kernelspec": {
   "display_name": "Python 3",
   "language": "python",
   "name": "python3"
  },
  "language_info": {
   "codemirror_mode": {
    "name": "ipython",
    "version": 3
   },
   "file_extension": ".py",
   "mimetype": "text/x-python",
   "name": "python",
   "nbconvert_exporter": "python",
   "pygments_lexer": "ipython3",
   "version": "3.6.8"
  }
 },
 "nbformat": 4,
 "nbformat_minor": 5
}
