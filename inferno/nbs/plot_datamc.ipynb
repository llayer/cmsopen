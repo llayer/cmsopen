{
 "cells": [
  {
   "cell_type": "code",
   "execution_count": null,
   "id": "799104e6",
   "metadata": {},
   "outputs": [],
   "source": [
    "import stack\n",
    "import importlib\n",
    "import pandas as pd\n",
    "import glob\n",
    "from preproc import set_weights"
   ]
  },
  {
   "cell_type": "code",
   "execution_count": null,
   "id": "736d9760",
   "metadata": {},
   "outputs": [],
   "source": [
    "samples = {}\n",
    "sample_names = glob.glob(\"/home/centos/mount_point/data/samples/*.h5\")\n",
    "for s in sample_names:\n",
    "    if \"cutflow\" in s: continue\n",
    "    name = s.split(\"/\")[-1][:-3]\n",
    "    samples[name] = pd.read_hdf(s)"
   ]
  },
  {
   "cell_type": "code",
   "execution_count": null,
   "id": "8899bc4f",
   "metadata": {},
   "outputs": [],
   "source": [
    "set_weights(samples, [\"btag\"])"
   ]
  },
  {
   "cell_type": "code",
   "execution_count": null,
   "id": "c94e747d",
   "metadata": {},
   "outputs": [],
   "source": [
    "variables = [\n",
    "    {\"var_name\" : \"PV_npvs\", \"bins\" : 25, \"xlow\" : 0., \"xup\" : 25, \"xtitle\" : \"primary vertices\", \"max_sf\": 100, \"log\":True},\n",
    "    {\"var_name\" : \"MET_met\", \"bins\" : 30, \"xlow\" : 0., \"xup\" : 400, \"xtitle\" : \"MET [GeV]\", \"max_sf\": 10., \"log\":True},\n",
    "    {\"var_name\" : \"Jet_pt\", \"bins\" : 30, \"xlow\" : 0., \"xup\" : 500., \"xtitle\" : r\"$p_{\\mathrm{T}}(\\mathrm{jet})$ [GeV]\", \"max_sf\": 15, \"log\":True},\n",
    "    {\"var_name\" : \"Jet_eta\", \"bins\" : 30, \"xlow\" : -3., \"xup\" : 3., \"xtitle\" : r\"$\\eta(\\mathrm{jet})$\", \"max_sf\": 12, \"log\":False},\n",
    "    {\"var_name\" : \"Tau_pt\", \"bins\" : 30, \"xlow\" : 0., \"xup\" : 350, \"xtitle\" : r\"$p_{T}(\\mathrm{\\tau_h}$) [GeV]\", \"max_sf\": 15, \"log\":True},\n",
    "    {\"var_name\" : \"Tau_eta\", \"bins\" : 30, \"xlow\" : -3., \"xup\" : 3., \"xtitle\" : r\"$\\eta(\\tau_h)$\", \"max_sf\": 10, \"log\":False},\n",
    "    {\"var_name\" : \"aplanarity\", \"bins\" : 20, \"xlow\" : -0.1, \"xup\" : 0.5, \"xtitle\" : \"aplanarity\", \"max_sf\": 15, \"log\":True},\n",
    "    {\"var_name\" : \"ht\", \"bins\" : 20, \"xlow\" : 0., \"xup\" : 1600., \"xtitle\" : r\"$H_{\\mathrm{T}}$ [GeV]\", \"max_sf\": 10, \"log\":True},\n",
    "    {\"var_name\" : \"chargeEta\", \"bins\" : 20, \"xlow\" : -3., \"xup\" : 3., \"xtitle\" : r\"$q \\times |\\eta(\\tau_h)|$\", \"max_sf\": 10, \"log\":False},\n",
    "    {\"var_name\" : \"deltaPhiTauMet\", \"bins\" : 20, \"xlow\" : 0., \"xup\" : 3.2, \"xtitle\" : r\"$\\Delta \\phi(\\tau_h, \\mathrm{MET})$\", \"max_sf\": 10, \"log\":False},\n",
    "    {\"var_name\" : \"mt\", \"bins\" : 20, \"xlow\" : 0., \"xup\" : 300., \"xtitle\" : r\"$M_{\\mathrm{T}}(\\tau, \\mathrm{MET})$ [GeV]\", \"max_sf\": 15, \"log\":True},\n",
    "    {\"var_name\" : \"mTauJet\", \"bins\" : 20, \"xlow\" : 0., \"xup\" : 2500., \"xtitle\" : r\"$M(\\tau_h, \\mathrm{jets})$ [GeV]\", \"max_sf\": 50, \"log\":True},\n",
    "    {\"var_name\" : \"nJets\", \"bins\" : 8, \"xlow\" : 3., \"xup\" : 11., \"xtitle\" : \"number of jets\", \"max_sf\": 50, \"log\":True},\n",
    "    {\"var_name\" : \"sphericity\", \"bins\" : 20, \"xlow\" : 0., \"xup\" : 1.0, \"xtitle\" : \"sphericity\", \"max_sf\": 50, \"log\":True}\n",
    "]    "
   ]
  },
  {
   "cell_type": "code",
   "execution_count": null,
   "id": "2cae6092",
   "metadata": {},
   "outputs": [],
   "source": [
    "\n",
    "variables = [\n",
    "    {\"var_name\" : \"MET_met\", \"bins\" : 30, \"xlow\" : 0., \"xup\" : 400, \"xtitle\" : \"MET [GeV]\", \"max_sf\": 1.5, \"log\":True},\n",
    "]   "
   ]
  },
  {
   "cell_type": "code",
   "execution_count": null,
   "id": "d5c6565b",
   "metadata": {
    "scrolled": false
   },
   "outputs": [],
   "source": [
    "importlib.reload(stack)\n",
    "\n",
    "for var in variables:\n",
    "    stack.plot_from_pd(samples, var[\"var_name\"], bins=var[\"bins\"], \n",
    "                       range=(var[\"xlow\"], var[\"xup\"]), title=var[\"xtitle\"], max_scale = var[\"max_sf\"],\n",
    "                       log_scale=var[\"log\"], store=True, path=\"stacks\")"
   ]
  },
  {
   "cell_type": "code",
   "execution_count": null,
   "id": "721ff7db",
   "metadata": {},
   "outputs": [],
   "source": []
  },
  {
   "cell_type": "code",
   "execution_count": null,
   "id": "32f8de75",
   "metadata": {},
   "outputs": [],
   "source": []
  },
  {
   "cell_type": "code",
   "execution_count": null,
   "id": "ff8badc4",
   "metadata": {},
   "outputs": [],
   "source": []
  }
 ],
 "metadata": {
  "kernelspec": {
   "display_name": "Python 3 (ipykernel)",
   "language": "python",
   "name": "python3"
  },
  "language_info": {
   "codemirror_mode": {
    "name": "ipython",
    "version": 3
   },
   "file_extension": ".py",
   "mimetype": "text/x-python",
   "name": "python",
   "nbconvert_exporter": "python",
   "pygments_lexer": "ipython3",
   "version": "3.8.12"
  }
 },
 "nbformat": 4,
 "nbformat_minor": 5
}
