{
 "cells": [
  {
   "cell_type": "code",
   "execution_count": 1,
   "id": "8185f401",
   "metadata": {},
   "outputs": [
    {
     "ename": "ModuleNotFoundError",
     "evalue": "No module named 'uproot3'",
     "output_type": "error",
     "traceback": [
      "\u001b[0;31m---------------------------------------------------------------------------\u001b[0m",
      "\u001b[0;31mModuleNotFoundError\u001b[0m                       Traceback (most recent call last)",
      "\u001b[0;32m/tmp/ipykernel_9914/2409276176.py\u001b[0m in \u001b[0;36m<module>\u001b[0;34m\u001b[0m\n\u001b[1;32m      1\u001b[0m \u001b[0;32mimport\u001b[0m \u001b[0muproot\u001b[0m\u001b[0;34m\u001b[0m\u001b[0;34m\u001b[0m\u001b[0m\n\u001b[0;32m----> 2\u001b[0;31m \u001b[0;32mimport\u001b[0m \u001b[0muproot3\u001b[0m\u001b[0;34m\u001b[0m\u001b[0;34m\u001b[0m\u001b[0m\n\u001b[0m\u001b[1;32m      3\u001b[0m \u001b[0;32mimport\u001b[0m \u001b[0mpandas\u001b[0m \u001b[0;32mas\u001b[0m \u001b[0mpd\u001b[0m\u001b[0;34m\u001b[0m\u001b[0;34m\u001b[0m\u001b[0m\n\u001b[1;32m      4\u001b[0m \u001b[0;32mimport\u001b[0m \u001b[0mnumpy\u001b[0m \u001b[0;32mas\u001b[0m \u001b[0mnp\u001b[0m\u001b[0;34m\u001b[0m\u001b[0;34m\u001b[0m\u001b[0m\n\u001b[1;32m      5\u001b[0m \u001b[0;32mimport\u001b[0m \u001b[0mmatplotlib\u001b[0m\u001b[0;34m.\u001b[0m\u001b[0mpyplot\u001b[0m \u001b[0;32mas\u001b[0m \u001b[0mplt\u001b[0m\u001b[0;34m\u001b[0m\u001b[0;34m\u001b[0m\u001b[0m\n",
      "\u001b[0;31mModuleNotFoundError\u001b[0m: No module named 'uproot3'"
     ]
    }
   ],
   "source": [
    "import uproot\n",
    "\n",
    "import uproot3\n",
    "import pandas as pd\n",
    "import numpy as np\n",
    "import matplotlib.pyplot as plt"
   ]
  },
  {
   "cell_type": "code",
   "execution_count": 10,
   "id": "a2d37b42",
   "metadata": {},
   "outputs": [
    {
     "data": {
      "text/plain": [
       "'0.4.0'"
      ]
     },
     "execution_count": 10,
     "metadata": {},
     "output_type": "execute_result"
    }
   ],
   "source": [
    "cabinetry.__version__"
   ]
  },
  {
   "cell_type": "code",
   "execution_count": null,
   "id": "6d46dfc4",
   "metadata": {},
   "outputs": [],
   "source": []
  },
  {
   "cell_type": "code",
   "execution_count": null,
   "id": "e1b21152",
   "metadata": {},
   "outputs": [],
   "source": []
  },
  {
   "cell_type": "code",
   "execution_count": 71,
   "id": "4bdf8a34",
   "metadata": {},
   "outputs": [],
   "source": [
    "test = uproot.open(\"example.root\")[\"tree\"]"
   ]
  },
  {
   "cell_type": "code",
   "execution_count": 77,
   "id": "ed10cedf",
   "metadata": {},
   "outputs": [],
   "source": [
    "t=test.arrays()"
   ]
  },
  {
   "cell_type": "code",
   "execution_count": 83,
   "id": "dd2500ea",
   "metadata": {},
   "outputs": [
    {
     "data": {
      "text/plain": [
       "awkward.highlevel.Array"
      ]
     },
     "execution_count": 83,
     "metadata": {},
     "output_type": "execute_result"
    }
   ],
   "source": [
    "type(t)"
   ]
  },
  {
   "cell_type": "code",
   "execution_count": 64,
   "id": "d0fcb59e",
   "metadata": {},
   "outputs": [
    {
     "data": {
      "text/plain": [
       "['MET_met',\n",
       " 'event',\n",
       " 'run',\n",
       " 'luminosityBlock',\n",
       " 'HLT_QuadJet40_IsoPFTau40',\n",
       " 'HLT_QuadJet45_IsoPFTau45',\n",
       " 'PV_npvs',\n",
       " 'genEvent_tmeme',\n",
       " 'norm',\n",
       " 'norm_up',\n",
       " 'norm_down',\n",
       " 'trigger_weight',\n",
       " 'trigger_weight_up',\n",
       " 'trigger_weight_down',\n",
       " 'trigger_is40',\n",
       " 'isSignal',\n",
       " 'isBkg',\n",
       " 'btag_weight1',\n",
       " 'btag_weight1_up',\n",
       " 'btag_weight1_down',\n",
       " 'btag_weight2',\n",
       " 'btag_weight2_up',\n",
       " 'btag_weight2_down',\n",
       " 'pdf',\n",
       " 'pdf_up',\n",
       " 'pdf_down',\n",
       " 'h',\n",
       " 'ht',\n",
       " 'h_jet',\n",
       " 'ht_jet',\n",
       " 'chargeEta',\n",
       " 'mTauJet',\n",
       " 'mt',\n",
       " 'deltaPhiTauMet',\n",
       " 'nJets',\n",
       " 'aplanarity',\n",
       " 'sphericity',\n",
       " 'train_flag',\n",
       " 'label',\n",
       " 'bdt']"
      ]
     },
     "execution_count": 64,
     "metadata": {},
     "output_type": "execute_result"
    }
   ],
   "source": [
    "list(f)"
   ]
  },
  {
   "cell_type": "code",
   "execution_count": 39,
   "id": "c4120816",
   "metadata": {},
   "outputs": [],
   "source": [
    "t = test.arrays()"
   ]
  },
  {
   "cell_type": "code",
   "execution_count": 40,
   "id": "ca25708e",
   "metadata": {},
   "outputs": [
    {
     "data": {
      "text/plain": [
       "<Record {event: 1.22e+05, bdt: 1.22e+05} type='{\"event\": float32, \"bdt\": float32}'>"
      ]
     },
     "execution_count": 40,
     "metadata": {},
     "output_type": "execute_result"
    }
   ],
   "source": [
    "t[0]"
   ]
  },
  {
   "cell_type": "code",
   "execution_count": 47,
   "id": "05fef0de",
   "metadata": {},
   "outputs": [],
   "source": [
    "import uproot3\n",
    "import pandas as pd"
   ]
  },
  {
   "cell_type": "code",
   "execution_count": 187,
   "id": "82caf413",
   "metadata": {},
   "outputs": [],
   "source": [
    "sample_names = [\"Data\", \"TTJets_bkg\", \"WZJets\", \"STJets\", \"QCD\", \"TTJets_signal\",\n",
    "                \"TTJets_signal_06_jes_up\", \"TTJets_signal_06_jes_down\"]\n",
    "for s in sample_names:\n",
    "    sample = pd.read_hdf(\"/home/centos/data/bdt_rs5/\" + s + \".h5\")\n",
    "    \n",
    "    if s == \"Data\":\n",
    "        sample['weight'] = 1.\n",
    "    elif s == \"QCD\":\n",
    "        scale_qcd = 4.\n",
    "        sample['weight'] = sample['btag_weight2'] * scale_qcd\n",
    "    else:\n",
    "        sample['weight'] = sample['norm'] * sample['trigger_weight'] * sample['btag_weight1']\n",
    "\n",
    "    file = uproot3.recreate(\"data2/\" + s + \".root\")\n",
    "    file[\"tree\"] = uproot3.newtree(\n",
    "        {\n",
    "        \"bdt\": np.float32,\n",
    "        \"weight\": np.float32,    \n",
    "        \"event\": np.float32\n",
    "        }\n",
    "    )    \n",
    "    file[\"tree\"].extend({\n",
    "    \"bdt\": sample[\"bdt\"].values ,\n",
    "    \"weight\": sample[\"weight\"].values ,\n",
    "    \"event\": sample[\"event\"].values\n",
    "    })\n",
    "    file.close()"
   ]
  },
  {
   "cell_type": "code",
   "execution_count": 186,
   "id": "b0ee93a4",
   "metadata": {},
   "outputs": [],
   "source": [
    "file = uproot3.recreate(\"example.root\")"
   ]
  },
  {
   "cell_type": "code",
   "execution_count": 67,
   "id": "1af9b024",
   "metadata": {},
   "outputs": [],
   "source": [
    "file[\"tree\"] = uproot3.newtree(\n",
    "    {\n",
    "    \"bdt\": np.float32,\n",
    "    \"event\": np.float32\n",
    "    }\n",
    ")"
   ]
  },
  {
   "cell_type": "code",
   "execution_count": 69,
   "id": "4131c482",
   "metadata": {},
   "outputs": [],
   "source": [
    "file[\"tree\"].extend({\n",
    "    \"bdt\": f[\"bdt\"].values ,\n",
    "    \"event\": f[\"event\"].values\n",
    "})"
   ]
  },
  {
   "cell_type": "code",
   "execution_count": 70,
   "id": "109d7ca2",
   "metadata": {},
   "outputs": [],
   "source": [
    "file.close()"
   ]
  },
  {
   "cell_type": "code",
   "execution_count": null,
   "id": "4f8cbe7c",
   "metadata": {},
   "outputs": [],
   "source": []
  },
  {
   "cell_type": "code",
   "execution_count": null,
   "id": "5a6126cc",
   "metadata": {},
   "outputs": [],
   "source": []
  },
  {
   "cell_type": "code",
   "execution_count": null,
   "id": "6668e461",
   "metadata": {},
   "outputs": [],
   "source": []
  },
  {
   "cell_type": "code",
   "execution_count": null,
   "id": "fc0d048e",
   "metadata": {},
   "outputs": [],
   "source": []
  },
  {
   "cell_type": "code",
   "execution_count": null,
   "id": "63e0e848",
   "metadata": {},
   "outputs": [],
   "source": []
  },
  {
   "cell_type": "code",
   "execution_count": null,
   "id": "5d4b8e70",
   "metadata": {},
   "outputs": [],
   "source": []
  },
  {
   "cell_type": "code",
   "execution_count": 50,
   "id": "f2f0a4bc",
   "metadata": {},
   "outputs": [],
   "source": [
    "import numpy as np\n",
    "bins = np.linspace(0,1,10)"
   ]
  },
  {
   "cell_type": "code",
   "execution_count": 188,
   "id": "4d05c226",
   "metadata": {},
   "outputs": [],
   "source": [
    "import cabinetry\n",
    "import pyhf"
   ]
  },
  {
   "cell_type": "code",
   "execution_count": 189,
   "id": "69b0e87c",
   "metadata": {},
   "outputs": [],
   "source": [
    "config = {\n",
    "   \"General\":{\n",
    "      \"Measurement\": \"PyHEP_cabinetry\",\n",
    "      \"POI\": \"Signal_norm\",               # parameter of interest, which we want to measure \n",
    "      \"InputPath\": \"data2/{SamplePath}\", # where to find input data\n",
    "      \"HistogramFolder\": \"histograms/\"\n",
    "   }\n",
    "}"
   ]
  },
  {
   "cell_type": "code",
   "execution_count": 190,
   "id": "d4b93d13",
   "metadata": {},
   "outputs": [],
   "source": [
    "config.update({\n",
    "   \"Regions\":[\n",
    "      {\n",
    "         \"Name\": \"Signal_region\",\n",
    "         \"Variable\": \"bdt\",                 # which variable we bin histograms in\n",
    "         \"Binning\": list(bins), #[0,0.1,0.2, 0.3, 0.4, 0.5, 0.6, 0.7, 0.8, 0.9, 1.],\n",
    "         \"Filter\": \"bdt > -1\"           # event selection \n",
    "\n",
    "      }\n",
    "   ]\n",
    "})"
   ]
  },
  {
   "cell_type": "code",
   "execution_count": 191,
   "id": "db1d4045",
   "metadata": {},
   "outputs": [],
   "source": [
    "config.update({\n",
    "   \"Samples\":[\n",
    "      {\n",
    "         \"Name\": \"Data\",\n",
    "         \"Tree\": \"tree\",\n",
    "         \"SamplePath\": \"Data.root\",\n",
    "         \"Data\": True                       # observed data is handled differently, need to distinguish\n",
    "      },\n",
    "      {\n",
    "         \"Name\": \"Signal\",\n",
    "         \"Tree\": \"tree\",\n",
    "         \"SamplePath\": \"TTJets_signal.root\",\n",
    "         \"Weight\": \"weight\"\n",
    "      },\n",
    "      {\n",
    "         \"Name\": \"QCD\",\n",
    "         \"Tree\": \"tree\",\n",
    "         \"SamplePath\": \"QCD.root\",\n",
    "         \"Weight\": \"weight\"\n",
    "      },\n",
    "      {\n",
    "         \"Name\": \"TTJets_bkg\",\n",
    "         \"Tree\": \"tree\",\n",
    "         \"SamplePath\": \"TTJets_bkg.root\",\n",
    "         \"Weight\": \"weight\"\n",
    "      },\n",
    "      {\n",
    "         \"Name\": \"WZJets\",\n",
    "         \"Tree\": \"tree\",\n",
    "         \"SamplePath\": \"WZJets.root\",\n",
    "         \"Weight\": \"weight\"\n",
    "      },\n",
    "      {\n",
    "         \"Name\": \"STJets\",\n",
    "         \"Tree\": \"tree\",\n",
    "         \"SamplePath\": \"STJets.root\",\n",
    "         \"Weight\": \"weight\"\n",
    "      }\n",
    "\n",
    "   ]\n",
    "})\n"
   ]
  },
  {
   "cell_type": "code",
   "execution_count": 192,
   "id": "e0f32e1d",
   "metadata": {},
   "outputs": [],
   "source": [
    "config.update({\"Systematics\":[\n",
    "    {\n",
    "    \"Name\": \"Signal_modeling\",\n",
    "        \"Up\": {\"SamplePath\": \"TTJets_signal_06_jes_up.root\", \n",
    "               #\"Tree\": \"tree\", \"Weight\": \"weight\"\n",
    "              },\n",
    "        \"Down\": {\"SamplePath\": \"TTJets_signal_06_jes_down.root\", \n",
    "                 #\"Tree\": \"tree\", \"Weight\": \"weight\"\n",
    "                },\n",
    "        \"Type\" : \"NormPlusShape\",\n",
    "        \"Samples\": \"Signal\"\n",
    "    }\n",
    "    ]\n",
    "    }\n",
    ")"
   ]
  },
  {
   "cell_type": "code",
   "execution_count": 193,
   "id": "a7fd7e47",
   "metadata": {},
   "outputs": [
    {
     "data": {
      "text/plain": [
       "{'General': {'Measurement': 'PyHEP_cabinetry',\n",
       "  'POI': 'Signal_norm',\n",
       "  'InputPath': 'data2/{SamplePath}',\n",
       "  'HistogramFolder': 'histograms/'},\n",
       " 'Regions': [{'Name': 'Signal_region',\n",
       "   'Variable': 'bdt',\n",
       "   'Binning': [0.0,\n",
       "    0.1111111111111111,\n",
       "    0.2222222222222222,\n",
       "    0.3333333333333333,\n",
       "    0.4444444444444444,\n",
       "    0.5555555555555556,\n",
       "    0.6666666666666666,\n",
       "    0.7777777777777777,\n",
       "    0.8888888888888888,\n",
       "    1.0],\n",
       "   'Filter': 'bdt > -1'}],\n",
       " 'Samples': [{'Name': 'Data',\n",
       "   'Tree': 'tree',\n",
       "   'SamplePath': 'Data.root',\n",
       "   'Data': True},\n",
       "  {'Name': 'Signal',\n",
       "   'Tree': 'tree',\n",
       "   'SamplePath': 'TTJets_signal.root',\n",
       "   'Weight': 'weight'},\n",
       "  {'Name': 'QCD',\n",
       "   'Tree': 'tree',\n",
       "   'SamplePath': 'QCD.root',\n",
       "   'Weight': 'weight'},\n",
       "  {'Name': 'TTJets_bkg',\n",
       "   'Tree': 'tree',\n",
       "   'SamplePath': 'TTJets_bkg.root',\n",
       "   'Weight': 'weight'},\n",
       "  {'Name': 'WZJets',\n",
       "   'Tree': 'tree',\n",
       "   'SamplePath': 'WZJets.root',\n",
       "   'Weight': 'weight'},\n",
       "  {'Name': 'STJets',\n",
       "   'Tree': 'tree',\n",
       "   'SamplePath': 'STJets.root',\n",
       "   'Weight': 'weight'}],\n",
       " 'Systematics': [{'Name': 'Signal_modeling',\n",
       "   'Up': {'SamplePath': 'TTJets_signal_06_jes_up.root'},\n",
       "   'Down': {'SamplePath': 'TTJets_signal_06_jes_down.root'},\n",
       "   'Type': 'NormPlusShape',\n",
       "   'Samples': 'Signal'}]}"
      ]
     },
     "execution_count": 193,
     "metadata": {},
     "output_type": "execute_result"
    }
   ],
   "source": [
    "config"
   ]
  },
  {
   "cell_type": "code",
   "execution_count": 68,
   "id": "be00bad9",
   "metadata": {},
   "outputs": [
    {
     "ename": "SyntaxError",
     "evalue": "unexpected character after line continuation character (1709197770.py, line 1)",
     "output_type": "error",
     "traceback": [
      "\u001b[0;36m  File \u001b[0;32m\"/tmp/ipykernel_19085/1709197770.py\"\u001b[0;36m, line \u001b[0;32m1\u001b[0m\n\u001b[0;31m    {'Name': 'Modeling',\\n\",\u001b[0m\n\u001b[0m                            ^\u001b[0m\n\u001b[0;31mSyntaxError\u001b[0m\u001b[0;31m:\u001b[0m unexpected character after line continuation character\n"
     ]
    }
   ],
   "source": [
    "{'Name': 'Modeling',\\n\",\n",
    "       \"  'Up': {'Path': 'ntuples/prediction.root', 'Tree': 'background_varied'},\\n\",\n",
    "       \"  'Down': {'Symmetrize': True},\\n\",\n",
    "       \"  'Samples': 'Background',\\n\",\n",
    "       \"  'Type': 'NormPlusShape'},\\n\","
   ]
  },
  {
   "cell_type": "code",
   "execution_count": null,
   "id": "577587ab",
   "metadata": {},
   "outputs": [],
   "source": []
  },
  {
   "cell_type": "code",
   "execution_count": null,
   "id": "d9aa5d5d",
   "metadata": {},
   "outputs": [],
   "source": []
  },
  {
   "cell_type": "code",
   "execution_count": 194,
   "id": "1d3dd191",
   "metadata": {},
   "outputs": [],
   "source": [
    "config.update({\n",
    "   \"NormFactors\":[\n",
    "      {\n",
    "         \"Name\": \"Signal_norm\",\n",
    "         \"Samples\": \"Signal\",    # we want this parameter to scale the signal\n",
    "         \"Nominal\": 1,\n",
    "         \"Bounds\": [-5, 10]\n",
    "      },\n",
    "      {\n",
    "         \"Name\": \"QCD_norm\",\n",
    "         \"Samples\": \"QCD\",    # we want this parameter to scale the signal\n",
    "         \"Nominal\": 1,\n",
    "         \"Bounds\": [0.5, 1.5]\n",
    "      }\n",
    "   ]\n",
    "})\n"
   ]
  },
  {
   "cell_type": "code",
   "execution_count": 195,
   "id": "e01a2623",
   "metadata": {},
   "outputs": [
    {
     "data": {
      "text/plain": [
       "{'General': {'Measurement': 'PyHEP_cabinetry',\n",
       "  'POI': 'Signal_norm',\n",
       "  'InputPath': 'data2/{SamplePath}',\n",
       "  'HistogramFolder': 'histograms/'},\n",
       " 'Regions': [{'Name': 'Signal_region',\n",
       "   'Variable': 'bdt',\n",
       "   'Binning': [0.0,\n",
       "    0.1111111111111111,\n",
       "    0.2222222222222222,\n",
       "    0.3333333333333333,\n",
       "    0.4444444444444444,\n",
       "    0.5555555555555556,\n",
       "    0.6666666666666666,\n",
       "    0.7777777777777777,\n",
       "    0.8888888888888888,\n",
       "    1.0],\n",
       "   'Filter': 'bdt > -1'}],\n",
       " 'Samples': [{'Name': 'Data',\n",
       "   'Tree': 'tree',\n",
       "   'SamplePath': 'Data.root',\n",
       "   'Data': True},\n",
       "  {'Name': 'Signal',\n",
       "   'Tree': 'tree',\n",
       "   'SamplePath': 'TTJets_signal.root',\n",
       "   'Weight': 'weight'},\n",
       "  {'Name': 'QCD',\n",
       "   'Tree': 'tree',\n",
       "   'SamplePath': 'QCD.root',\n",
       "   'Weight': 'weight'},\n",
       "  {'Name': 'TTJets_bkg',\n",
       "   'Tree': 'tree',\n",
       "   'SamplePath': 'TTJets_bkg.root',\n",
       "   'Weight': 'weight'},\n",
       "  {'Name': 'WZJets',\n",
       "   'Tree': 'tree',\n",
       "   'SamplePath': 'WZJets.root',\n",
       "   'Weight': 'weight'},\n",
       "  {'Name': 'STJets',\n",
       "   'Tree': 'tree',\n",
       "   'SamplePath': 'STJets.root',\n",
       "   'Weight': 'weight'}],\n",
       " 'Systematics': [{'Name': 'Signal_modeling',\n",
       "   'Up': {'SamplePath': 'TTJets_signal_06_jes_up.root'},\n",
       "   'Down': {'SamplePath': 'TTJets_signal_06_jes_down.root'},\n",
       "   'Type': 'NormPlusShape',\n",
       "   'Samples': 'Signal'}],\n",
       " 'NormFactors': [{'Name': 'Signal_norm',\n",
       "   'Samples': 'Signal',\n",
       "   'Nominal': 1,\n",
       "   'Bounds': [-5, 10]},\n",
       "  {'Name': 'QCD_norm', 'Samples': 'QCD', 'Nominal': 1, 'Bounds': [0.5, 1.5]}]}"
      ]
     },
     "execution_count": 195,
     "metadata": {},
     "output_type": "execute_result"
    }
   ],
   "source": [
    "config"
   ]
  },
  {
   "cell_type": "code",
   "execution_count": 196,
   "id": "47d2ed62",
   "metadata": {},
   "outputs": [
    {
     "data": {
      "text/plain": [
       "True"
      ]
     },
     "execution_count": 196,
     "metadata": {},
     "output_type": "execute_result"
    }
   ],
   "source": [
    "cabinetry.configuration.validate(config)"
   ]
  },
  {
   "cell_type": "code",
   "execution_count": 197,
   "id": "d28eed0b",
   "metadata": {},
   "outputs": [
    {
     "data": {
      "text/plain": [
       "{'General': {'Measurement': 'PyHEP_cabinetry',\n",
       "  'POI': 'Signal_norm',\n",
       "  'InputPath': 'data2/{SamplePath}',\n",
       "  'HistogramFolder': 'histograms/'},\n",
       " 'Regions': [{'Name': 'Signal_region',\n",
       "   'Variable': 'bdt',\n",
       "   'Binning': [0.0,\n",
       "    0.1111111111111111,\n",
       "    0.2222222222222222,\n",
       "    0.3333333333333333,\n",
       "    0.4444444444444444,\n",
       "    0.5555555555555556,\n",
       "    0.6666666666666666,\n",
       "    0.7777777777777777,\n",
       "    0.8888888888888888,\n",
       "    1.0],\n",
       "   'Filter': 'bdt > -1'}],\n",
       " 'Samples': [{'Name': 'Data',\n",
       "   'Tree': 'tree',\n",
       "   'SamplePath': 'Data.root',\n",
       "   'Data': True},\n",
       "  {'Name': 'Signal',\n",
       "   'Tree': 'tree',\n",
       "   'SamplePath': 'TTJets_signal.root',\n",
       "   'Weight': 'weight'},\n",
       "  {'Name': 'QCD',\n",
       "   'Tree': 'tree',\n",
       "   'SamplePath': 'QCD.root',\n",
       "   'Weight': 'weight'},\n",
       "  {'Name': 'TTJets_bkg',\n",
       "   'Tree': 'tree',\n",
       "   'SamplePath': 'TTJets_bkg.root',\n",
       "   'Weight': 'weight'},\n",
       "  {'Name': 'WZJets',\n",
       "   'Tree': 'tree',\n",
       "   'SamplePath': 'WZJets.root',\n",
       "   'Weight': 'weight'},\n",
       "  {'Name': 'STJets',\n",
       "   'Tree': 'tree',\n",
       "   'SamplePath': 'STJets.root',\n",
       "   'Weight': 'weight'}],\n",
       " 'Systematics': [{'Name': 'Signal_modeling',\n",
       "   'Up': {'SamplePath': 'TTJets_signal_06_jes_up.root'},\n",
       "   'Down': {'SamplePath': 'TTJets_signal_06_jes_down.root'},\n",
       "   'Type': 'NormPlusShape',\n",
       "   'Samples': 'Signal'}],\n",
       " 'NormFactors': [{'Name': 'Signal_norm',\n",
       "   'Samples': 'Signal',\n",
       "   'Nominal': 1,\n",
       "   'Bounds': [-5, 10]},\n",
       "  {'Name': 'QCD_norm', 'Samples': 'QCD', 'Nominal': 1, 'Bounds': [0.5, 1.5]}]}"
      ]
     },
     "execution_count": 197,
     "metadata": {},
     "output_type": "execute_result"
    }
   ],
   "source": [
    "config"
   ]
  },
  {
   "cell_type": "code",
   "execution_count": 198,
   "id": "fb4cad23",
   "metadata": {},
   "outputs": [],
   "source": [
    "cabinetry.templates.build(config, method=\"uproot\")"
   ]
  },
  {
   "cell_type": "code",
   "execution_count": 199,
   "id": "3f6e8320",
   "metadata": {},
   "outputs": [
    {
     "name": "stdout",
     "output_type": "stream",
     "text": [
      "total 60\r\n",
      "-rw-rw-r-- 1 centos centos 972 Nov 19 17:51 Signal_region_STJets.npz\r\n",
      "-rw-rw-r-- 1 centos centos 972 Nov 19 17:51 Signal_region_WZJets.npz\r\n",
      "-rw-rw-r-- 1 centos centos 972 Nov 19 17:51 Signal_region_TTJets_bkg.npz\r\n",
      "-rw-rw-r-- 1 centos centos 972 Nov 19 17:51 Signal_region_QCD.npz\r\n",
      "-rw-rw-r-- 1 centos centos 972 Nov 19 17:51 Signal_region_Signal_Signal_modeling_Down.npz\r\n",
      "-rw-rw-r-- 1 centos centos 972 Nov 19 17:51 Signal_region_Signal_Signal_modeling_Up.npz\r\n",
      "-rw-rw-r-- 1 centos centos 972 Nov 19 17:51 Signal_region_Signal.npz\r\n",
      "-rw-rw-r-- 1 centos centos 972 Nov 19 17:51 Signal_region_Data.npz\r\n",
      "-rw-rw-r-- 1 centos centos 972 Nov 19 17:06 Signal_region_Background.npz\r\n",
      "-rw-rw-r-- 1 centos centos 876 Sep  8 12:12 Signal_region_Background_Nominal_modified.npz\r\n",
      "-rw-rw-r-- 1 centos centos 876 Sep  8 12:12 Signal_region_Signal_Nominal_modified.npz\r\n",
      "-rw-rw-r-- 1 centos centos 876 Sep  8 12:12 Signal_region_Data_Nominal_modified.npz\r\n",
      "-rw-rw-r-- 1 centos centos 876 Sep  8 12:10 Signal_region_Background_Nominal.npz\r\n",
      "-rw-rw-r-- 1 centos centos 876 Sep  8 12:10 Signal_region_Signal_Nominal.npz\r\n",
      "-rw-rw-r-- 1 centos centos 876 Sep  8 12:10 Signal_region_Data_Nominal.npz\r\n"
     ]
    }
   ],
   "source": [
    "!ls -lt histograms/"
   ]
  },
  {
   "cell_type": "code",
   "execution_count": 177,
   "id": "ffc5c7a5",
   "metadata": {},
   "outputs": [],
   "source": [
    "cabinetry.configuration.print_overview(config)"
   ]
  },
  {
   "cell_type": "code",
   "execution_count": 178,
   "id": "823fb247",
   "metadata": {},
   "outputs": [],
   "source": [
    "#cabinetry.template_postprocessor.run(config)"
   ]
  },
  {
   "cell_type": "code",
   "execution_count": 179,
   "id": "394a1fea",
   "metadata": {},
   "outputs": [],
   "source": [
    "#cabinetry.visualize.data_MC_from_histograms(config)"
   ]
  },
  {
   "cell_type": "code",
   "execution_count": 200,
   "id": "536d39d2",
   "metadata": {},
   "outputs": [
    {
     "name": "stderr",
     "output_type": "stream",
     "text": [
      "the modified histogram histograms/Signal_region_Signal_modified.npz does not exist\n",
      "loading the un-modified histogram instead!\n",
      "the modified histogram histograms/Signal_region_Signal_Signal_modeling_Up_modified.npz does not exist\n",
      "loading the un-modified histogram instead!\n",
      "the modified histogram histograms/Signal_region_Signal_modified.npz does not exist\n",
      "loading the un-modified histogram instead!\n",
      "the modified histogram histograms/Signal_region_Signal_Signal_modeling_Down_modified.npz does not exist\n",
      "loading the un-modified histogram instead!\n",
      "the modified histogram histograms/Signal_region_QCD_modified.npz does not exist\n",
      "loading the un-modified histogram instead!\n",
      "the modified histogram histograms/Signal_region_TTJets_bkg_modified.npz does not exist\n",
      "loading the un-modified histogram instead!\n",
      "the modified histogram histograms/Signal_region_WZJets_modified.npz does not exist\n",
      "loading the un-modified histogram instead!\n",
      "the modified histogram histograms/Signal_region_STJets_modified.npz does not exist\n",
      "loading the un-modified histogram instead!\n",
      "the modified histogram histograms/Signal_region_Data_modified.npz does not exist\n",
      "loading the un-modified histogram instead!\n"
     ]
    }
   ],
   "source": [
    "workspace_path = \"PyHEP_workspace.json\"\n",
    "ws = cabinetry.workspace.build(config)\n",
    "cabinetry.workspace.save(ws, workspace_path)"
   ]
  },
  {
   "cell_type": "code",
   "execution_count": 128,
   "id": "a5fb4952",
   "metadata": {},
   "outputs": [
    {
     "data": {
      "text/plain": [
       "{'channels': [{'name': 'Signal_region',\n",
       "   'samples': [{'name': 'Signal',\n",
       "     'data': [3.9402451990172267,\n",
       "      11.574440160067752,\n",
       "      16.355582057498395,\n",
       "      23.32741598598659,\n",
       "      25.948222141014412,\n",
       "      27.39036282314919,\n",
       "      28.65352308587171,\n",
       "      45.622515368508175,\n",
       "      165.64022055873647],\n",
       "     'modifiers': [{'name': 'staterror_Signal_region',\n",
       "       'type': 'staterror',\n",
       "       'data': [0.17750151670948705,\n",
       "        0.3038113934656942,\n",
       "        0.36586845498008463,\n",
       "        0.4374852660328917,\n",
       "        0.45995709758907954,\n",
       "        0.474752464242868,\n",
       "        0.4875660284716018,\n",
       "        0.6150626541604653,\n",
       "        1.1815705111973267]},\n",
       "      {'data': None, 'name': 'Signal_norm', 'type': 'normfactor'},\n",
       "      {'name': 'Signal_modeling',\n",
       "       'type': 'normsys',\n",
       "       'data': {'hi': 1.0376600915623995, 'lo': 0.9418028877873506}},\n",
       "      {'name': 'Signal_modeling',\n",
       "       'type': 'histosys',\n",
       "       'data': {'hi_data': [4.357767744479887,\n",
       "         12.300256017698622,\n",
       "         17.858764508219625,\n",
       "         24.926091531192032,\n",
       "         28.56979259407378,\n",
       "         28.72663778631338,\n",
       "         30.62026823326507,\n",
       "         48.129326470571854,\n",
       "         152.96362249403566],\n",
       "        'lo_data': [3.8820519275945196,\n",
       "         10.87608148086184,\n",
       "         15.563785868012811,\n",
       "         21.382788403992713,\n",
       "         23.878061346949284,\n",
       "         25.102111381714085,\n",
       "         27.23539956554818,\n",
       "         42.603774213198996,\n",
       "         177.9284731919775]}}]},\n",
       "    {'name': 'QCD',\n",
       "     'data': [1646.058402478695,\n",
       "      1158.5465881228447,\n",
       "      708.595548003912,\n",
       "      530.6458232700825,\n",
       "      323.1855997443199,\n",
       "      202.08946120738983,\n",
       "      113.21914955973625,\n",
       "      90.24966403841972,\n",
       "      88.87315559387207],\n",
       "     'modifiers': [{'name': 'staterror_Signal_region',\n",
       "       'type': 'staterror',\n",
       "       'data': [27.072891457617697,\n",
       "        22.698707464280183,\n",
       "        17.74925178031924,\n",
       "        15.220421551574677,\n",
       "        11.86767404411162,\n",
       "        9.466464768394605,\n",
       "        7.046568262106467,\n",
       "        6.391904239989787,\n",
       "        6.247556235092048]}]},\n",
       "    {'name': 'TTJets_bkg',\n",
       "     'data': [9.178852842422202,\n",
       "      15.823575965128839,\n",
       "      16.812346172286198,\n",
       "      19.02226969623007,\n",
       "      19.597449593245983,\n",
       "      14.02579085342586,\n",
       "      10.275909821502864,\n",
       "      10.903375795809552,\n",
       "      18.463832223555073],\n",
       "     'modifiers': [{'name': 'staterror_Signal_region',\n",
       "       'type': 'staterror',\n",
       "       'data': [0.27255878096566666,\n",
       "        0.3578431344466496,\n",
       "        0.3718161323573605,\n",
       "        0.39431853641136605,\n",
       "        0.402374615978025,\n",
       "        0.3419178634217249,\n",
       "        0.29409225045145054,\n",
       "        0.3010573274073143,\n",
       "        0.3936945302278845]}]},\n",
       "    {'name': 'WZJets',\n",
       "     'data': [2.481561742722988,\n",
       "      2.8931460231542587,\n",
       "      1.9116459041833878,\n",
       "      5.518872186541557,\n",
       "      4.795277521014214,\n",
       "      3.464102655649185,\n",
       "      10.64520414173603,\n",
       "      8.493048816919327,\n",
       "      23.484397530555725],\n",
       "     'modifiers': [{'name': 'staterror_Signal_region',\n",
       "       'type': 'staterror',\n",
       "       'data': [1.2508518091240444,\n",
       "        0.8112526056228166,\n",
       "        1.3023424213309396,\n",
       "        2.188835080824703,\n",
       "        2.1101520855038225,\n",
       "        1.3662522260569394,\n",
       "        3.213660347563586,\n",
       "        2.85652341377351,\n",
       "        4.577352196132272]}]},\n",
       "    {'name': 'STJets',\n",
       "     'data': [1.7684078235179186,\n",
       "      1.7934843339025974,\n",
       "      2.323320117779076,\n",
       "      2.6053136894479394,\n",
       "      1.9135175393894315,\n",
       "      2.1522395946085453,\n",
       "      2.1055605681613088,\n",
       "      3.821106657385826,\n",
       "      11.725647780112922],\n",
       "     'modifiers': [{'name': 'staterror_Signal_region',\n",
       "       'type': 'staterror',\n",
       "       'data': [0.22898700327258104,\n",
       "        0.2323698767730405,\n",
       "        0.2614273157381675,\n",
       "        0.27811895291570465,\n",
       "        0.23560374050239877,\n",
       "        0.25526975331662655,\n",
       "        0.2530067293944027,\n",
       "        0.3371104612852827,\n",
       "        0.5879312127062569]}]}]}],\n",
       " 'measurements': [{'name': 'PyHEP_cabinetry',\n",
       "   'config': {'parameters': [{'name': 'Signal_norm',\n",
       "      'inits': [1],\n",
       "      'bounds': [[-5, 10]]},\n",
       "     {'name': 'QCD_norm', 'inits': [1], 'bounds': [[0.5, 1.5]]}],\n",
       "    'poi': 'Signal_norm'}}],\n",
       " 'observations': [{'name': 'Signal_region',\n",
       "   'data': [945.0, 669.0, 448.0, 340.0, 234.0, 181.0, 128.0, 129.0, 249.0]}],\n",
       " 'version': '1.0.0'}"
      ]
     },
     "execution_count": 128,
     "metadata": {},
     "output_type": "execute_result"
    }
   ],
   "source": [
    "ws"
   ]
  },
  {
   "cell_type": "code",
   "execution_count": 201,
   "id": "9ce2b849",
   "metadata": {},
   "outputs": [],
   "source": [
    "# apply pruning: make a pyhf workspace, prune all staterror modifiers, return the workspace specification again\n",
    "spec = dict(pyhf.Workspace(ws).prune(modifier_types=[\"staterror\"]))"
   ]
  },
  {
   "cell_type": "code",
   "execution_count": 202,
   "id": "792f7d88",
   "metadata": {},
   "outputs": [],
   "source": [
    "model, data = cabinetry.model_utils.model_and_data(spec)"
   ]
  },
  {
   "cell_type": "code",
   "execution_count": 207,
   "id": "30c02a05",
   "metadata": {},
   "outputs": [],
   "source": [
    "model, data = cabinetry.model_utils.model_and_data(spec, asimov=True)"
   ]
  },
  {
   "cell_type": "code",
   "execution_count": 208,
   "id": "9bf58470",
   "metadata": {},
   "outputs": [
    {
     "data": {
      "text/plain": [
       "<pyhf.pdf.Model at 0x7f391c6d0b20>"
      ]
     },
     "execution_count": 208,
     "metadata": {},
     "output_type": "execute_result"
    }
   ],
   "source": [
    "model"
   ]
  },
  {
   "cell_type": "code",
   "execution_count": 209,
   "id": "08f3b1c7",
   "metadata": {},
   "outputs": [],
   "source": [
    "fit_results = cabinetry.fit.fit(model, data)"
   ]
  },
  {
   "cell_type": "code",
   "execution_count": 210,
   "id": "ce9e9b99",
   "metadata": {},
   "outputs": [
    {
     "data": {
      "text/plain": [
       "FitResults(bestfit=array([1.00000001e+00, 2.49361197e-09, 1.00000000e+00]), uncertainty=array([0.08874568, 0.82984693, 0.02172565]), labels=['Signal_norm', 'Signal_modeling', 'QCD_norm'], corr_mat=array([[ 1.        , -0.01885168, -0.25892653],\n",
       "       [-0.01885168,  1.        , -0.21626001],\n",
       "       [-0.25892653, -0.21626001,  1.        ]]), best_twice_nll=69.25564809678262, goodness_of_fit=-1)"
      ]
     },
     "execution_count": 210,
     "metadata": {},
     "output_type": "execute_result"
    }
   ],
   "source": [
    "fit_results"
   ]
  },
  {
   "cell_type": "code",
   "execution_count": 28,
   "id": "c7bcb27b",
   "metadata": {},
   "outputs": [],
   "source": [
    "cabinetry.fit.print_results(fit_results)"
   ]
  },
  {
   "cell_type": "code",
   "execution_count": 29,
   "id": "881f4eee",
   "metadata": {},
   "outputs": [
    {
     "data": {
      "text/plain": [
       "array([1., 1., 1., 1., 1., 1., 1., 1., 1., 1., 1., 1., 1., 1., 1., 1., 1.,\n",
       "       1., 1., 1.])"
      ]
     },
     "execution_count": 29,
     "metadata": {},
     "output_type": "execute_result"
    }
   ],
   "source": [
    "fit_results.bestfit"
   ]
  },
  {
   "cell_type": "code",
   "execution_count": 211,
   "id": "481ae2d2",
   "metadata": {},
   "outputs": [
    {
     "name": "stdout",
     "output_type": "stream",
     "text": [
      "W DavidonErrorUpdator delgam < 0 : first derivatives increasing along search line\n"
     ]
    }
   ],
   "source": [
    "scan_results = cabinetry.fit.scan(model, data, \"Signal_norm\")"
   ]
  },
  {
   "cell_type": "code",
   "execution_count": 212,
   "id": "615a2fe1",
   "metadata": {},
   "outputs": [
    {
     "data": {
      "image/png": "[encoded data removed]",
      "text/plain": [
       "<Figure size 432x288 with 1 Axes>"
      ]
     },
     "execution_count": 212,
     "metadata": {},
     "output_type": "execute_result"
    }
   ],
   "source": [
    "cabinetry.visualize.scan(scan_results)"
   ]
  },
  {
   "cell_type": "code",
   "execution_count": null,
   "id": "fe303953",
   "metadata": {},
   "outputs": [],
   "source": []
  },
  {
   "cell_type": "code",
   "execution_count": null,
   "id": "366ebcc6",
   "metadata": {},
   "outputs": [],
   "source": []
  },
  {
   "cell_type": "code",
   "execution_count": 205,
   "id": "8b772f3a",
   "metadata": {},
   "outputs": [
    {
     "data": {
      "image/png": "[encoded data removed]",
      "text/plain": [
       "<Figure size 432x432 with 2 Axes>"
      ]
     },
     "metadata": {
      "needs_background": "light"
     },
     "output_type": "display_data"
    }
   ],
   "source": [
    "model_pred = cabinetry.model_utils.prediction(model)\n",
    "figures = cabinetry.visualize.data_mc(model_pred, data, config=config, log_scale=True)"
   ]
  },
  {
   "cell_type": "code",
   "execution_count": null,
   "id": "c7896bac",
   "metadata": {},
   "outputs": [],
   "source": []
  },
  {
   "cell_type": "code",
   "execution_count": null,
   "id": "7756538f",
   "metadata": {},
   "outputs": [],
   "source": []
  },
  {
   "cell_type": "code",
   "execution_count": null,
   "id": "6d2d2c58",
   "metadata": {},
   "outputs": [],
   "source": []
  },
  {
   "cell_type": "code",
   "execution_count": null,
   "id": "5d4ccad5",
   "metadata": {},
   "outputs": [],
   "source": []
  },
  {
   "cell_type": "code",
   "execution_count": 213,
   "id": "ddbb8293",
   "metadata": {},
   "outputs": [
    {
     "data": {
      "image/png": "[encoded data removed]",
      "text/plain": [
       "<Figure size 600x175 with 1 Axes>"
      ]
     },
     "execution_count": 213,
     "metadata": {},
     "output_type": "execute_result"
    }
   ],
   "source": [
    "cabinetry.visualize.pulls(fit_results)"
   ]
  },
  {
   "cell_type": "code",
   "execution_count": null,
   "id": "8409e499",
   "metadata": {},
   "outputs": [],
   "source": []
  },
  {
   "cell_type": "code",
   "execution_count": null,
   "id": "047d3929",
   "metadata": {},
   "outputs": [],
   "source": []
  }
 ],
 "metadata": {
  "kernelspec": {
   "display_name": "Python 3 (ipykernel)",
   "language": "python",
   "name": "python3"
  },
  "language_info": {
   "codemirror_mode": {
    "name": "ipython",
    "version": 3
   },
   "file_extension": ".py",
   "mimetype": "text/x-python",
   "name": "python",
   "nbconvert_exporter": "python",
   "pygments_lexer": "ipython3",
   "version": "3.8.12"
  }
 },
 "nbformat": 4,
 "nbformat_minor": 5
}
