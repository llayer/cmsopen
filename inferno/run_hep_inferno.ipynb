{
 "cells": [
  {
   "cell_type": "markdown",
   "id": "f3f7213b",
   "metadata": {},
   "source": [
    "# INFERNO HEP"
   ]
  },
  {
   "cell_type": "markdown",
   "id": "3700594e",
   "metadata": {},
   "source": [
    "## 1. Load CMS Open Data"
   ]
  },
  {
   "cell_type": "code",
   "execution_count": 1,
   "id": "2c64a81c",
   "metadata": {},
   "outputs": [],
   "source": [
    "import run_cmsopen\n",
    "import importlib"
   ]
  },
  {
   "cell_type": "code",
   "execution_count": 9,
   "id": "91bf4fa5",
   "metadata": {},
   "outputs": [
    {
     "data": {
      "text/plain": [
       "<module 'run_cmsopen' from '/home/centos/dev/pytorch_inferno/experiments/run_cmsopen.py'>"
      ]
     },
     "execution_count": 9,
     "metadata": {},
     "output_type": "execute_result"
    }
   ],
   "source": [
    "importlib.reload(run_cmsopen)"
   ]
  },
  {
   "cell_type": "code",
   "execution_count": 2,
   "id": "cefc0be2",
   "metadata": {},
   "outputs": [
    {
     "name": "stdout",
     "output_type": "stream",
     "text": [
      "mu 348.45252731445095\n",
      "QCD 2689.5053333309675\n",
      "up 361.5752814461024\n",
      "nominal 348.45252731445095\n",
      "down 328.17359646673685\n",
      "jes_06 16.70084248968277\n",
      "up 355.0448159528871\n",
      "nominal 348.45252731445095\n",
      "down 331.4043246150459\n",
      "taue 11.82024566892062\n",
      "up 352.97329592678045\n",
      "nominal 348.45252731445095\n",
      "down 343.7486601906056\n",
      "btag 4.612317868087416\n"
     ]
    }
   ],
   "source": [
    "#features = ['ht', 'aplanarity', 'sphericity', 'chargeEta', 'MET_met', 'deltaPhiTauMet', 'mt', 'mTauJet']\n",
    "features = ['aplanarity', 'chargeEta', 'MET_met', 'deltaPhiTauMet']\n",
    "shape_syst = [\"06_jes\"] #, \"taue\"]\n",
    "weight_syst = [\"btag_weight1\"]\n",
    "norm_syst = [\"jes_06\", \"taue\", \"btag_weight1\"]\n",
    "use_weights = False\n",
    "mu, qcd, sig_norm = run_cmsopen.get_norm(norm_syst)"
   ]
  },
  {
   "cell_type": "code",
   "execution_count": 10,
   "id": "3245fdf0",
   "metadata": {},
   "outputs": [],
   "source": [
    "# Parameters for INFERNO training\n",
    "inferno_args = {}\n",
    "# Signal and bkg\n",
    "inferno_args[\"b_true\"] = qcd\n",
    "inferno_args[\"mu_true\"] = mu\n",
    "# Number of shape nuisances\n",
    "inferno_args[\"n_shape_alphas\"] = len(shape_syst) + len(weight_syst)\n",
    "# Constraints on the nuisance parameters - typically should be N(0,1) if +-1sigma templates are provided\n",
    "#inferno_args[\"shape_aux\"] = [Normal(0,1) for i in range(len(shape_syst) + len(weight_syst))]\n",
    "# Uncertainties on signal norm - should be Normal(0,s) with s in absolute event numbers\n",
    "inferno_args[\"s_norm_aux\"] = sig_norm #[Normal(0,10), Normal(0,10), Normal(0,10)]\n",
    "# Boolean whether to let the background float\n",
    "inferno_args[\"nonaux_b_norm\"] = False\n",
    "\n",
    "train_args = {}\n",
    "train_args[\"lr\"] = 1e-3\n",
    "train_args[\"n_feats\"] = len(features)\n",
    "train_args[\"neurons\"] = 100\n",
    "train_args[\"bins\"] = 10\n",
    "train_args[\"temperature\"] = 0.1\n",
    "train_args[\"weights\"] = False\n",
    "\n",
    "OUTPATH = \"/home/centos/data/inferno_cmsopen13\"\n",
    "\n",
    "bs = 1000\n",
    "n_sig = 20000\n",
    "epochs = 200\n",
    "\n",
    "store = False"
   ]
  },
  {
   "cell_type": "code",
   "execution_count": 11,
   "id": "efa62d8d",
   "metadata": {},
   "outputs": [
    {
     "name": "stdout",
     "output_type": "stream",
     "text": [
      "*********************\n",
      "Summary training data\n",
      "Features ['aplanarity', 'chargeEta', 'MET_met', 'deltaPhiTauMet']\n",
      "Shape systematics ['06_jes']\n",
      "Weight systematics ['btag_weight1']\n",
      "Use weights False\n",
      "Number of signal training / test events: 20000 23570\n",
      "Number of bkg training / test events: 5000 6176\n",
      "*********************\n"
     ]
    },
    {
     "name": "stderr",
     "output_type": "stream",
     "text": [
      "/home/centos/dev/pytorch_inferno/experiments/run_cmsopen.py:170: FutureWarning: The default value of regex will change from True to False in a future version.\n",
      "  samples[\"TTJets_signal_\" + syst + ud].columns = samples[\"TTJets_signal_\" + syst + ud].columns.str.replace(\n"
     ]
    }
   ],
   "source": [
    "opendata, test_dl, samples, scaler = run_cmsopen.train(OUTPATH, features = features, \n",
    "                                                        shape_syst = shape_syst,\n",
    "                                                        weight_syst = weight_syst,\n",
    "                                                        norm_syst = norm_syst, \n",
    "                                                        epochs=epochs, bs=bs, n_sig=n_sig, \n",
    "                                                        inferno_args = inferno_args, \n",
    "                                                        train_args = train_args,\n",
    "                                                        use_weights = use_weights,\n",
    "                                                        store=store)"
   ]
  },
  {
   "cell_type": "markdown",
   "id": "03a25880",
   "metadata": {},
   "source": [
    "## 2. Run HEP-like INFERNO model"
   ]
  },
  {
   "cell_type": "code",
   "execution_count": 5,
   "id": "cb7797df",
   "metadata": {},
   "outputs": [],
   "source": [
    "import hep_model\n",
    "from pytorch_inferno.inferno import *\n",
    "from pytorch_inferno.callback import *\n",
    "from pytorch_inferno.model_wrapper import *\n",
    "from fastcore.all import partialler\n",
    "from torch import optim, autograd, nn, Tensor"
   ]
  },
  {
   "cell_type": "code",
   "execution_count": 6,
   "id": "a7891ff0",
   "metadata": {},
   "outputs": [],
   "source": [
    "import importlib"
   ]
  },
  {
   "cell_type": "code",
   "execution_count": 15,
   "id": "39ba442f",
   "metadata": {},
   "outputs": [
    {
     "data": {
      "text/plain": [
       "<module 'hep_model' from '/home/centos/dev/pytorch_inferno/experiments/hep_model.py'>"
      ]
     },
     "execution_count": 15,
     "metadata": {},
     "output_type": "execute_result"
    }
   ],
   "source": [
    "importlib.reload(hep_model)"
   ]
  },
  {
   "cell_type": "code",
   "execution_count": 8,
   "id": "4f73ceaf",
   "metadata": {},
   "outputs": [
    {
     "name": "stdout",
     "output_type": "stream",
     "text": [
      "*********************\n",
      "Summary INFERNO setup\n",
      "b_true 2689.5053333309675\n",
      "mu_true 348.45252731445095\n",
      "nshape_alphas 2\n",
      "shape idx [1, 2]\n",
      "shape_norm_sigma [0.05, 0.02]\n",
      "s_norm_sigma []\n",
      "s_norm_idxs []\n",
      "b_norm_sigma None\n",
      "b_norm_idxs []\n",
      "b_rate_param False\n",
      "n_alpha 3\n",
      "interp_algo default\n",
      "use_hist False\n",
      "ignore_loss False\n",
      "*********************\n"
     ]
    },
    {
     "data": {
      "text/html": [],
      "text/plain": [
       "<IPython.core.display.HTML object>"
      ]
     },
     "metadata": {},
     "output_type": "display_data"
    },
    {
     "name": "stdout",
     "output_type": "stream",
     "text": [
      "1: Train=1203.3524462890625 Valid=894.1984692382813\n",
      "2: Train=885.0862231445312 Valid=844.9078686523437\n",
      "3: Train=844.4275341796875 Valid=821.8239111328126\n",
      "4: Train=826.2816259765625 Valid=812.1788598632812\n",
      "5: Train=808.9450073242188 Valid=800.50330078125\n",
      "6: Train=803.6834106445312 Valid=794.1235424804687\n",
      "7: Train=793.9062573242187 Valid=785.7852856445312\n",
      "8: Train=787.7702392578125 Valid=788.384931640625\n",
      "9: Train=780.2013989257813 Valid=776.9954223632812\n",
      "10: Train=769.626376953125 Valid=771.6746826171875\n",
      "11: Train=766.3981372070313 Valid=766.2499682617188\n",
      "12: Train=759.8469482421875 Valid=768.960595703125\n",
      "13: Train=757.5313305664063 Valid=758.9579150390625\n",
      "14: Train=751.3687377929688 Valid=763.6223291015625\n",
      "15: Train=748.5194653320312 Valid=762.5568798828125\n",
      "16: Train=744.0734399414063 Valid=757.6024389648437\n",
      "17: Train=744.1088061523437 Valid=762.734580078125\n",
      "18: Train=741.9566015625 Valid=748.7569409179688\n",
      "19: Train=737.9628515625 Valid=755.215908203125\n",
      "20: Train=736.6620190429687 Valid=748.5217602539062\n",
      "21: Train=736.2371606445313 Valid=748.421875\n",
      "22: Train=727.766064453125 Valid=748.3787353515625\n",
      "23: Train=732.4205249023438 Valid=747.7655297851562\n",
      "24: Train=725.741923828125 Valid=748.7016796875\n",
      "25: Train=722.22171875 Valid=739.946640625\n",
      "26: Train=719.3531689453125 Valid=740.6516821289063\n",
      "27: Train=723.4324169921875 Valid=740.5756396484375\n",
      "28: Train=714.4816064453125 Valid=736.4749389648438\n",
      "29: Train=718.8758837890625 Valid=739.0652124023437\n",
      "30: Train=718.3168774414063 Valid=740.3990405273438\n",
      "31: Train=713.5693896484376 Valid=734.3552197265625\n",
      "32: Train=716.6179125976563 Valid=736.1636083984375\n",
      "33: Train=715.1243579101563 Valid=737.50474609375\n",
      "34: Train=713.8101098632812 Valid=744.1578857421875\n",
      "35: Train=708.9684106445312 Valid=729.3834716796875\n",
      "36: Train=710.9890502929687 Valid=734.3368603515624\n",
      "37: Train=708.9988696289063 Valid=739.582001953125\n",
      "38: Train=713.1567578125 Valid=737.2380737304687\n",
      "39: Train=708.4428442382813 Valid=735.9951049804688\n",
      "40: Train=701.2545361328125 Valid=737.8158447265625\n",
      "41: Train=703.1051904296875 Valid=734.8983642578125\n",
      "42: Train=711.3329541015624 Valid=752.0102587890625\n",
      "43: Train=711.1113549804687 Valid=734.5243774414063\n",
      "44: Train=700.6955712890625 Valid=733.3938354492187\n",
      "45: Train=701.8782641601563 Valid=729.2896459960938\n",
      "46: Train=703.7808447265625 Valid=736.6939404296875\n",
      "47: Train=703.9626147460938 Valid=730.2401123046875\n",
      "48: Train=709.3436352539062 Valid=728.65546875\n",
      "49: Train=710.3012231445313 Valid=732.768798828125\n",
      "50: Train=699.1083642578125 Valid=738.6483203125\n",
      "51: Train=700.2979565429688 Valid=729.8040234375\n",
      "52: Train=699.9108715820313 Valid=734.8783178710937\n",
      "53: Train=702.9853198242188 Valid=728.4829833984375\n",
      "54: Train=698.7125830078126 Valid=731.0578369140625\n",
      "55: Train=702.2142578125 Valid=733.9078735351562\n",
      "56: Train=693.0119799804687 Valid=736.97064453125\n",
      "57: Train=693.105888671875 Valid=731.2797387695313\n",
      "58: Train=700.083984375 Valid=735.6290600585937\n",
      "59: Train=686.0082641601563 Valid=736.1070361328125\n",
      "60: Train=692.0767919921875 Valid=730.3603271484375\n",
      "61: Train=701.0962133789062 Valid=741.6014013671875\n",
      "62: Train=695.6851000976562 Valid=732.2775268554688\n",
      "63: Train=696.4326391601562 Valid=728.9129663085937\n",
      "64: Train=687.3762744140626 Valid=734.641884765625\n",
      "65: Train=688.666962890625 Valid=729.89703125\n",
      "66: Train=681.4187768554688 Valid=741.8410546875\n",
      "67: Train=688.2175537109375 Valid=733.94384765625\n",
      "68: Train=693.3067822265625 Valid=728.6171459960938\n",
      "69: Train=700.6668505859375 Valid=731.672890625\n",
      "70: Train=694.43501953125 Valid=727.305498046875\n",
      "71: Train=691.6402075195313 Valid=735.29189453125\n",
      "72: Train=693.3295141601562 Valid=729.7795776367187\n",
      "73: Train=686.1148510742188 Valid=729.3744946289063\n",
      "74: Train=684.909619140625 Valid=728.08796875\n",
      "75: Train=683.0917919921875 Valid=736.269833984375\n",
      "76: Train=687.2465698242188 Valid=727.0832983398437\n",
      "77: Train=685.786396484375 Valid=719.5760864257812\n",
      "78: Train=688.3040673828125 Valid=732.1709057617187\n",
      "79: Train=683.499814453125 Valid=729.7887255859375\n",
      "80: Train=685.4583935546875 Valid=738.6069311523438\n",
      "81: Train=691.124599609375 Valid=731.0601904296875\n",
      "82: Train=687.699619140625 Valid=742.1890478515625\n",
      "83: Train=692.410830078125 Valid=726.510986328125\n",
      "84: Train=690.764990234375 Valid=734.0174682617187\n",
      "85: Train=677.6553784179688 Valid=730.63126953125\n",
      "86: Train=675.2164965820313 Valid=731.8227001953124\n",
      "87: Train=684.21744140625 Valid=730.4511010742187\n",
      "88: Train=681.1516357421875 Valid=726.8484716796875\n",
      "89: Train=671.19783203125 Valid=724.038427734375\n",
      "90: Train=685.234140625 Valid=728.3677172851562\n",
      "91: Train=682.0888623046875 Valid=727.0046923828126\n",
      "92: Train=676.8642041015624 Valid=727.7768432617188\n",
      "93: Train=679.6110766601563 Valid=728.6926953125\n",
      "94: Train=681.3873950195313 Valid=728.673017578125\n",
      "95: Train=680.4302880859375 Valid=735.6908178710937\n",
      "96: Train=674.9216235351563 Valid=735.6362548828125\n",
      "97: Train=680.2264575195312 Valid=737.2813403320313\n",
      "98: Train=684.6905493164063 Valid=730.150126953125\n",
      "99: Train=679.4444653320312 Valid=729.8895239257813\n",
      "100: Train=680.1527026367188 Valid=732.7690161132813\n"
     ]
    }
   ],
   "source": [
    "# Set up network\n",
    "net_inferno = nn.Sequential(nn.Linear(4,100),  nn.ReLU(),\n",
    "                nn.Linear(100,100), nn.ReLU(),\n",
    "                nn.Linear(100,10), VariableSoftmax(0.1))\n",
    "\n",
    "\"\"\"\n",
    "net_inferno = nn.Sequential(nn.Linear(4,100),  nn.ReLU(),\n",
    "                        nn.Linear(100,100), nn.ReLU(),\n",
    "                        nn.Linear(100,1),  nn.Sigmoid())\n",
    "\n",
    "\"\"\"\n",
    "lt = LossTracker()\n",
    "shape_norm_sigma = [0.05, 0.02]\n",
    "s_norm_sigma = []#[0.05, 0.1]\n",
    "hep_inf = hep_model.HEPInferno(b_true=qcd, mu_true=mu, n_shape_alphas=2, shape_norm_sigma=shape_norm_sigma,\n",
    "                                 s_norm_sigma=s_norm_sigma, interp_algo=\"default\")\n",
    "#init_net(net_inferno)\n",
    "model_inferno = ModelWrapper(net_inferno)\n",
    "\n",
    "model_inferno.fit(100, data=opendata, opt=partialler(optim.Adam,lr=1e-3), loss=None,\n",
    "                  cbs=[hep_inf,  lt])\n",
    "\n",
    "inferno_trn_covs = hep_inf.covs[\"trn\"]\n",
    "inferno_val_covs = hep_inf.covs[\"val\"]"
   ]
  },
  {
   "cell_type": "code",
   "execution_count": 52,
   "id": "d6d4f616",
   "metadata": {},
   "outputs": [
    {
     "data": {
      "text/html": [
       "\n",
       "    <div>\n",
       "        <style>\n",
       "            /* Turns off some styling */\n",
       "            progress {\n",
       "                /* gets rid of default border in Firefox and Opera. */\n",
       "                border: none;\n",
       "                /* Needs to be in here for Safari polyfill so background images work as expected. */\n",
       "                background-size: auto;\n",
       "            }\n",
       "            .progress-bar-interrupted, .progress-bar-interrupted::-webkit-progress-bar {\n",
       "                background: #F44336;\n",
       "            }\n",
       "        </style>\n",
       "      <progress value='25' class='' max='25' style='width:300px; height:20px; vertical-align: middle;'></progress>\n",
       "      100.00% [25/25 00:00<00:00]\n",
       "    </div>\n",
       "    "
      ],
      "text/plain": [
       "<IPython.core.display.HTML object>"
      ]
     },
     "metadata": {},
     "output_type": "display_data"
    }
   ],
   "source": [
    "importlib.reload(hep_model)\n",
    "df_inf, order_d = hep_model.pred_test(model_inferno, test_dl, name=\"inferno\")"
   ]
  },
  {
   "cell_type": "code",
   "execution_count": 53,
   "id": "08a02ebd",
   "metadata": {},
   "outputs": [
    {
     "data": {
      "text/plain": [
       "<module 'plot' from '/home/centos/dev/pytorch_inferno/experiments/plot.py'>"
      ]
     },
     "execution_count": 53,
     "metadata": {},
     "output_type": "execute_result"
    }
   ],
   "source": [
    "importlib.reload(plot)"
   ]
  },
  {
   "cell_type": "code",
   "execution_count": 54,
   "id": "9fc201d0",
   "metadata": {},
   "outputs": [
    {
     "data": {
      "image/png": "[encoded data removed]",
      "text/plain": [
       "<Figure size 432x288 with 1 Axes>"
      ]
     },
     "metadata": {
      "needs_background": "light"
     },
     "output_type": "display_data"
    }
   ],
   "source": [
    "plot.plot_predictions(df_inf, plot_sorted=False, name=\"inferno\")"
   ]
  },
  {
   "cell_type": "code",
   "execution_count": 55,
   "id": "a2166f29",
   "metadata": {},
   "outputs": [
    {
     "data": {
      "image/png": "[encoded data removed]",
      "text/plain": [
       "<Figure size 432x288 with 1 Axes>"
      ]
     },
     "metadata": {
      "needs_background": "light"
     },
     "output_type": "display_data"
    }
   ],
   "source": [
    "plot.plot_predictions(df_inf, plot_sorted=True, name=\"inferno\")"
   ]
  },
  {
   "cell_type": "markdown",
   "id": "47069f5e",
   "metadata": {},
   "source": [
    "## 3. Run BCE model"
   ]
  },
  {
   "cell_type": "code",
   "execution_count": 56,
   "id": "56e21d9c",
   "metadata": {},
   "outputs": [
    {
     "data": {
      "text/plain": [
       "<module 'hep_model' from '/home/centos/dev/pytorch_inferno/experiments/hep_model.py'>"
      ]
     },
     "execution_count": 56,
     "metadata": {},
     "output_type": "execute_result"
    }
   ],
   "source": [
    "importlib.reload(hep_model)"
   ]
  },
  {
   "cell_type": "code",
   "execution_count": 57,
   "id": "3f324ff9",
   "metadata": {
    "scrolled": true
   },
   "outputs": [
    {
     "name": "stdout",
     "output_type": "stream",
     "text": [
      "*********************\n",
      "Summary INFERNO setup\n",
      "b_true 2689.5053333309675\n",
      "mu_true 348.45252731445095\n",
      "nshape_alphas 2\n",
      "shape idx [1, 2]\n",
      "shape_norm_sigma [0.05, 0.02]\n",
      "s_norm_sigma []\n",
      "s_norm_idxs []\n",
      "b_norm_sigma None\n",
      "b_norm_idxs []\n",
      "b_rate_param False\n",
      "n_alpha 3\n",
      "interp_algo default\n",
      "use_hist True\n",
      "ignore_loss True\n",
      "*********************\n"
     ]
    },
    {
     "data": {
      "text/html": [],
      "text/plain": [
       "<IPython.core.display.HTML object>"
      ]
     },
     "metadata": {},
     "output_type": "display_data"
    },
    {
     "name": "stdout",
     "output_type": "stream",
     "text": [
      "1: Train=0.7857491207122803 Valid=0.7588868522644043\n",
      "2: Train=0.7578328371047973 Valid=0.7306310248374939\n",
      "3: Train=0.7191536045074463 Valid=0.6882984161376953\n",
      "4: Train=0.6644084978103638 Valid=0.635298421382904\n",
      "5: Train=0.602267656326294 Valid=0.580184543132782\n",
      "6: Train=0.5411978578567505 Valid=0.5304959774017334\n",
      "7: Train=0.4886709129810333 Valid=0.4900115025043488\n",
      "8: Train=0.4479559659957886 Valid=0.45982710003852845\n",
      "9: Train=0.4184409463405609 Valid=0.4375260210037231\n",
      "10: Train=0.39684521555900576 Valid=0.4201645076274872\n",
      "11: Train=0.38063455939292906 Valid=0.4072401928901672\n",
      "12: Train=0.36753557562828065 Valid=0.3962411069869995\n",
      "13: Train=0.3565133786201477 Valid=0.38701961278915403\n",
      "14: Train=0.347015084028244 Valid=0.3785527491569519\n",
      "15: Train=0.33877712845802305 Valid=0.36987805247306826\n",
      "16: Train=0.33194414258003235 Valid=0.3651492810249329\n",
      "17: Train=0.325534371137619 Valid=0.36585104107856753\n",
      "18: Train=0.3204807209968567 Valid=0.3613353514671326\n",
      "19: Train=0.31627702474594116 Valid=0.3588392412662506\n",
      "20: Train=0.31298152565956117 Valid=0.35434781551361083\n",
      "21: Train=0.3101108241081238 Valid=0.35164635181427\n",
      "22: Train=0.3075494849681854 Valid=0.3490219247341156\n",
      "23: Train=0.30549359679222104 Valid=0.3500575602054596\n",
      "24: Train=0.30366454005241394 Valid=0.3447236919403076\n",
      "25: Train=0.3022337794303894 Valid=0.3435213589668274\n",
      "26: Train=0.3009119117259979 Valid=0.34182207226753236\n",
      "27: Train=0.29981119751930235 Valid=0.34186753392219543\n",
      "28: Train=0.2986819887161255 Valid=0.33788617730140685\n",
      "29: Train=0.29790969371795656 Valid=0.3375251340866089\n",
      "30: Train=0.2966749167442322 Valid=0.33510560035705567\n",
      "31: Train=0.2960578453540802 Valid=0.33030750036239626\n",
      "32: Train=0.2952973461151123 Valid=0.3317674565315247\n",
      "33: Train=0.2948785400390625 Valid=0.32864017128944395\n",
      "34: Train=0.2939768314361572 Valid=0.3318743014335632\n",
      "35: Train=0.29366701245307925 Valid=0.3298665702342987\n",
      "36: Train=0.29316394925117495 Valid=0.32858185172080995\n",
      "37: Train=0.292732195854187 Valid=0.33005050420761106\n",
      "38: Train=0.2924181938171387 Valid=0.32838117957115176\n",
      "39: Train=0.29202487230300905 Valid=0.3275847887992859\n",
      "40: Train=0.2918323373794556 Valid=0.32781381130218507\n",
      "41: Train=0.2915238606929779 Valid=0.3282305574417114\n",
      "42: Train=0.29144001722335816 Valid=0.3266581737995148\n",
      "43: Train=0.2910057437419891 Valid=0.32725024342536924\n",
      "44: Train=0.29089361548423764 Valid=0.32677151083946226\n",
      "45: Train=0.29086807250976565 Valid=0.3255045127868652\n",
      "46: Train=0.2906338465213776 Valid=0.32859968066215517\n",
      "47: Train=0.2904179847240448 Valid=0.32532127141952516\n",
      "48: Train=0.29041836738586424 Valid=0.32391422629356387\n",
      "49: Train=0.29002676367759705 Valid=0.32559757351875307\n",
      "50: Train=0.29043638944625855 Valid=0.326085330247879\n",
      "51: Train=0.2898411726951599 Valid=0.3266822683811188\n",
      "52: Train=0.28957494139671325 Valid=0.32500356674194336\n",
      "53: Train=0.2894494450092316 Valid=0.3249555957317352\n",
      "54: Train=0.2893989038467407 Valid=0.3267378294467926\n",
      "55: Train=0.28918211936950683 Valid=0.3247560918331146\n",
      "56: Train=0.289093314409256 Valid=0.3256376349925995\n",
      "57: Train=0.2889647543430328 Valid=0.32564096212387084\n",
      "58: Train=0.2888034212589264 Valid=0.3227642571926117\n",
      "59: Train=0.2886801898479462 Valid=0.32272859930992126\n",
      "60: Train=0.2887640404701233 Valid=0.3228290784358978\n",
      "61: Train=0.28872130036354066 Valid=0.322779004573822\n",
      "62: Train=0.2883660441637039 Valid=0.32365615248680113\n",
      "63: Train=0.28830160200595856 Valid=0.32327868819236755\n",
      "64: Train=0.28819634675979616 Valid=0.32279526948928833\n",
      "65: Train=0.288037097454071 Valid=0.3230237245559692\n",
      "66: Train=0.2880913776159286 Valid=0.32568172812461854\n",
      "67: Train=0.28790065526962283 Valid=0.32255761861801147\n",
      "68: Train=0.2878971016407013 Valid=0.3206720983982086\n",
      "69: Train=0.28778753757476805 Valid=0.32177812457084654\n",
      "70: Train=0.2876341485977173 Valid=0.32328819394111635\n",
      "71: Train=0.28765072643756867 Valid=0.32520033955574035\n",
      "72: Train=0.2876059937477112 Valid=0.32148785471916197\n",
      "73: Train=0.2873849189281464 Valid=0.3229253613948822\n",
      "74: Train=0.28722945928573607 Valid=0.321763311624527\n",
      "75: Train=0.28722893953323364 Valid=0.32122269392013547\n",
      "76: Train=0.28716351628303527 Valid=0.3226769995689392\n",
      "77: Train=0.2871216309070587 Valid=0.32138823986053466\n",
      "78: Train=0.2869627434015274 Valid=0.3230277359485626\n",
      "79: Train=0.28698633670806883 Valid=0.32141943454742433\n",
      "80: Train=0.28687981247901917 Valid=0.3225168216228485\n",
      "81: Train=0.28673632264137267 Valid=0.3201340913772583\n",
      "82: Train=0.2866809391975403 Valid=0.3213713085651398\n",
      "83: Train=0.2865374833345413 Valid=0.3234630346298218\n",
      "84: Train=0.2866016674041748 Valid=0.3202034020423889\n",
      "85: Train=0.28647361278533934 Valid=0.3195475721359253\n",
      "86: Train=0.2863349759578705 Valid=0.32257837772369385\n",
      "87: Train=0.2865744310617447 Valid=0.32483922123909\n",
      "88: Train=0.286470468044281 Valid=0.3236088490486145\n",
      "89: Train=0.28629534125328066 Valid=0.31969882726669313\n",
      "90: Train=0.28628632843494417 Valid=0.32132760882377626\n",
      "91: Train=0.2862392258644104 Valid=0.32121665120124815\n",
      "92: Train=0.28600959956645966 Valid=0.32051759481430053\n",
      "93: Train=0.2858162599802017 Valid=0.3220134770870209\n",
      "94: Train=0.28589511692523956 Valid=0.3184265887737274\n",
      "95: Train=0.28579059839248655 Valid=0.3212293267250061\n",
      "96: Train=0.28571015000343325 Valid=0.32135182023048403\n",
      "97: Train=0.2856264579296112 Valid=0.3198141133785248\n",
      "98: Train=0.28556457996368406 Valid=0.3228761374950409\n",
      "99: Train=0.2855452650785446 Valid=0.3189754378795624\n",
      "100: Train=0.2856440794467926 Valid=0.31838893055915835\n"
     ]
    }
   ],
   "source": [
    "net_bce = nn.Sequential(nn.Linear(4,12),  nn.ReLU(),\n",
    "                        nn.Linear(12,8), nn.ReLU(),\n",
    "                        nn.Linear(8,1),  nn.Sigmoid())\n",
    "#init_net(net)    \n",
    "ct = hep_model.HEPInferno(b_true=qcd, mu_true=mu, n_shape_alphas=2, shape_norm_sigma=shape_norm_sigma,\n",
    "                                 s_norm_sigma=s_norm_sigma, interp_algo=\"default\", ignore_loss=True,\n",
    "                                 use_hist=True)\n",
    "lt = LossTracker()\n",
    "model_bce = ModelWrapper(net_bce)\n",
    "model_bce.fit(100, data=opendata, opt=partialler(optim.Adam), loss=nn.BCELoss(),\n",
    "              cbs=[lt, ct])\n",
    "bce_trn_covs = ct.covs[\"trn\"]\n",
    "bce_val_covs = ct.covs[\"val\"]"
   ]
  },
  {
   "cell_type": "code",
   "execution_count": 58,
   "id": "9b7e4f96",
   "metadata": {},
   "outputs": [
    {
     "data": {
      "text/html": [
       "\n",
       "    <div>\n",
       "        <style>\n",
       "            /* Turns off some styling */\n",
       "            progress {\n",
       "                /* gets rid of default border in Firefox and Opera. */\n",
       "                border: none;\n",
       "                /* Needs to be in here for Safari polyfill so background images work as expected. */\n",
       "                background-size: auto;\n",
       "            }\n",
       "            .progress-bar-interrupted, .progress-bar-interrupted::-webkit-progress-bar {\n",
       "                background: #F44336;\n",
       "            }\n",
       "        </style>\n",
       "      <progress value='25' class='' max='25' style='width:300px; height:20px; vertical-align: middle;'></progress>\n",
       "      100.00% [25/25 00:00<00:00]\n",
       "    </div>\n",
       "    "
      ],
      "text/plain": [
       "<IPython.core.display.HTML object>"
      ]
     },
     "metadata": {},
     "output_type": "display_data"
    }
   ],
   "source": [
    "df_bce, _ = hep_model.pred_test(model_bce, test_dl, name=\"bce\")"
   ]
  },
  {
   "cell_type": "code",
   "execution_count": 59,
   "id": "2e806d99",
   "metadata": {},
   "outputs": [
    {
     "data": {
      "image/png": "[encoded data removed]",
      "text/plain": [
       "<Figure size 432x288 with 1 Axes>"
      ]
     },
     "metadata": {
      "needs_background": "light"
     },
     "output_type": "display_data"
    }
   ],
   "source": [
    "plot.plot_predictions(df_bce, plot_sorted=False, name=\"bce\")"
   ]
  },
  {
   "cell_type": "markdown",
   "id": "505e6749",
   "metadata": {},
   "source": [
    "## 4. Plot results"
   ]
  },
  {
   "cell_type": "code",
   "execution_count": 20,
   "id": "e4091f98",
   "metadata": {},
   "outputs": [],
   "source": [
    "import plot"
   ]
  },
  {
   "cell_type": "code",
   "execution_count": 76,
   "id": "12b3932d",
   "metadata": {},
   "outputs": [
    {
     "data": {
      "text/plain": [
       "<module 'plot' from '/home/centos/dev/pytorch_inferno/experiments/plot.py'>"
      ]
     },
     "execution_count": 76,
     "metadata": {},
     "output_type": "execute_result"
    }
   ],
   "source": [
    "importlib.reload(plot)"
   ]
  },
  {
   "cell_type": "code",
   "execution_count": 77,
   "id": "f908eb30",
   "metadata": {},
   "outputs": [
    {
     "data": {
      "image/png": "[encoded data removed]",
      "text/plain": [
       "<Figure size 720x720 with 9 Axes>"
      ]
     },
     "metadata": {
      "needs_background": "light"
     },
     "output_type": "display_data"
    }
   ],
   "source": [
    "names = [\"mu\",\"JES\",'b-tag']\n",
    "plot.plot_cov_trnval(inferno_trn_covs, inferno_val_covs, names, stddev=False)"
   ]
  },
  {
   "cell_type": "code",
   "execution_count": 74,
   "id": "03aabc3e",
   "metadata": {},
   "outputs": [
    {
     "data": {
      "image/png": "[encoded data removed]",
      "text/plain": [
       "<Figure size 720x720 with 9 Axes>"
      ]
     },
     "metadata": {
      "needs_background": "light"
     },
     "output_type": "display_data"
    }
   ],
   "source": [
    "plot.plot_cov_infbce(bce_val_covs, inferno_val_covs, names)"
   ]
  },
  {
   "cell_type": "markdown",
   "id": "9e07fc2d",
   "metadata": {},
   "source": [
    "## 5. Predict"
   ]
  },
  {
   "cell_type": "code",
   "execution_count": 89,
   "id": "e05338c3",
   "metadata": {},
   "outputs": [
    {
     "data": {
      "text/plain": [
       "<module 'hep_model' from '/home/centos/dev/pytorch_inferno/experiments/hep_model.py'>"
      ]
     },
     "execution_count": 89,
     "metadata": {},
     "output_type": "execute_result"
    }
   ],
   "source": [
    "importlib.reload(hep_model)"
   ]
  },
  {
   "cell_type": "code",
   "execution_count": 90,
   "id": "3215269c",
   "metadata": {},
   "outputs": [
    {
     "data": {
      "text/html": [
       "\n",
       "    <div>\n",
       "        <style>\n",
       "            /* Turns off some styling */\n",
       "            progress {\n",
       "                /* gets rid of default border in Firefox and Opera. */\n",
       "                border: none;\n",
       "                /* Needs to be in here for Safari polyfill so background images work as expected. */\n",
       "                background-size: auto;\n",
       "            }\n",
       "            .progress-bar-interrupted, .progress-bar-interrupted::-webkit-progress-bar {\n",
       "                background: #F44336;\n",
       "            }\n",
       "        </style>\n",
       "      <progress value='67' class='' max='67' style='width:300px; height:20px; vertical-align: middle;'></progress>\n",
       "      100.00% [67/67 00:00<00:00]\n",
       "    </div>\n",
       "    "
      ],
      "text/plain": [
       "<IPython.core.display.HTML object>"
      ]
     },
     "metadata": {},
     "output_type": "display_data"
    },
    {
     "data": {
      "text/html": [
       "\n",
       "    <div>\n",
       "        <style>\n",
       "            /* Turns off some styling */\n",
       "            progress {\n",
       "                /* gets rid of default border in Firefox and Opera. */\n",
       "                border: none;\n",
       "                /* Needs to be in here for Safari polyfill so background images work as expected. */\n",
       "                background-size: auto;\n",
       "            }\n",
       "            .progress-bar-interrupted, .progress-bar-interrupted::-webkit-progress-bar {\n",
       "                background: #F44336;\n",
       "            }\n",
       "        </style>\n",
       "      <progress value='1' class='' max='1' style='width:300px; height:20px; vertical-align: middle;'></progress>\n",
       "      100.00% [1/1 00:00<00:00]\n",
       "    </div>\n",
       "    "
      ],
      "text/plain": [
       "<IPython.core.display.HTML object>"
      ]
     },
     "metadata": {},
     "output_type": "display_data"
    },
    {
     "data": {
      "text/html": [
       "\n",
       "    <div>\n",
       "        <style>\n",
       "            /* Turns off some styling */\n",
       "            progress {\n",
       "                /* gets rid of default border in Firefox and Opera. */\n",
       "                border: none;\n",
       "                /* Needs to be in here for Safari polyfill so background images work as expected. */\n",
       "                background-size: auto;\n",
       "            }\n",
       "            .progress-bar-interrupted, .progress-bar-interrupted::-webkit-progress-bar {\n",
       "                background: #F44336;\n",
       "            }\n",
       "        </style>\n",
       "      <progress value='5' class='' max='5' style='width:300px; height:20px; vertical-align: middle;'></progress>\n",
       "      100.00% [5/5 00:00<00:00]\n",
       "    </div>\n",
       "    "
      ],
      "text/plain": [
       "<IPython.core.display.HTML object>"
      ]
     },
     "metadata": {},
     "output_type": "display_data"
    },
    {
     "data": {
      "text/html": [
       "\n",
       "    <div>\n",
       "        <style>\n",
       "            /* Turns off some styling */\n",
       "            progress {\n",
       "                /* gets rid of default border in Firefox and Opera. */\n",
       "                border: none;\n",
       "                /* Needs to be in here for Safari polyfill so background images work as expected. */\n",
       "                background-size: auto;\n",
       "            }\n",
       "            .progress-bar-interrupted, .progress-bar-interrupted::-webkit-progress-bar {\n",
       "                background: #F44336;\n",
       "            }\n",
       "        </style>\n",
       "      <progress value='44' class='' max='44' style='width:300px; height:20px; vertical-align: middle;'></progress>\n",
       "      100.00% [44/44 00:00<00:00]\n",
       "    </div>\n",
       "    "
      ],
      "text/plain": [
       "<IPython.core.display.HTML object>"
      ]
     },
     "metadata": {},
     "output_type": "display_data"
    },
    {
     "data": {
      "text/html": [
       "\n",
       "    <div>\n",
       "        <style>\n",
       "            /* Turns off some styling */\n",
       "            progress {\n",
       "                /* gets rid of default border in Firefox and Opera. */\n",
       "                border: none;\n",
       "                /* Needs to be in here for Safari polyfill so background images work as expected. */\n",
       "                background-size: auto;\n",
       "            }\n",
       "            .progress-bar-interrupted, .progress-bar-interrupted::-webkit-progress-bar {\n",
       "                background: #F44336;\n",
       "            }\n",
       "        </style>\n",
       "      <progress value='171' class='' max='171' style='width:300px; height:20px; vertical-align: middle;'></progress>\n",
       "      100.00% [171/171 00:00<00:00]\n",
       "    </div>\n",
       "    "
      ],
      "text/plain": [
       "<IPython.core.display.HTML object>"
      ]
     },
     "metadata": {},
     "output_type": "display_data"
    },
    {
     "data": {
      "text/html": [
       "\n",
       "    <div>\n",
       "        <style>\n",
       "            /* Turns off some styling */\n",
       "            progress {\n",
       "                /* gets rid of default border in Firefox and Opera. */\n",
       "                border: none;\n",
       "                /* Needs to be in here for Safari polyfill so background images work as expected. */\n",
       "                background-size: auto;\n",
       "            }\n",
       "            .progress-bar-interrupted, .progress-bar-interrupted::-webkit-progress-bar {\n",
       "                background: #F44336;\n",
       "            }\n",
       "        </style>\n",
       "      <progress value='181' class='' max='181' style='width:300px; height:20px; vertical-align: middle;'></progress>\n",
       "      100.00% [181/181 00:00<00:00]\n",
       "    </div>\n",
       "    "
      ],
      "text/plain": [
       "<IPython.core.display.HTML object>"
      ]
     },
     "metadata": {},
     "output_type": "display_data"
    },
    {
     "data": {
      "text/html": [
       "\n",
       "    <div>\n",
       "        <style>\n",
       "            /* Turns off some styling */\n",
       "            progress {\n",
       "                /* gets rid of default border in Firefox and Opera. */\n",
       "                border: none;\n",
       "                /* Needs to be in here for Safari polyfill so background images work as expected. */\n",
       "                background-size: auto;\n",
       "            }\n",
       "            .progress-bar-interrupted, .progress-bar-interrupted::-webkit-progress-bar {\n",
       "                background: #F44336;\n",
       "            }\n",
       "        </style>\n",
       "      <progress value='155' class='' max='155' style='width:300px; height:20px; vertical-align: middle;'></progress>\n",
       "      100.00% [155/155 00:00<00:00]\n",
       "    </div>\n",
       "    "
      ],
      "text/plain": [
       "<IPython.core.display.HTML object>"
      ]
     },
     "metadata": {},
     "output_type": "display_data"
    },
    {
     "data": {
      "text/html": [
       "\n",
       "    <div>\n",
       "        <style>\n",
       "            /* Turns off some styling */\n",
       "            progress {\n",
       "                /* gets rid of default border in Firefox and Opera. */\n",
       "                border: none;\n",
       "                /* Needs to be in here for Safari polyfill so background images work as expected. */\n",
       "                background-size: auto;\n",
       "            }\n",
       "            .progress-bar-interrupted, .progress-bar-interrupted::-webkit-progress-bar {\n",
       "                background: #F44336;\n",
       "            }\n",
       "        </style>\n",
       "      <progress value='13' class='' max='13' style='width:300px; height:20px; vertical-align: middle;'></progress>\n",
       "      100.00% [13/13 00:00<00:00]\n",
       "    </div>\n",
       "    "
      ],
      "text/plain": [
       "<IPython.core.display.HTML object>"
      ]
     },
     "metadata": {},
     "output_type": "display_data"
    },
    {
     "data": {
      "text/html": [
       "\n",
       "    <div>\n",
       "        <style>\n",
       "            /* Turns off some styling */\n",
       "            progress {\n",
       "                /* gets rid of default border in Firefox and Opera. */\n",
       "                border: none;\n",
       "                /* Needs to be in here for Safari polyfill so background images work as expected. */\n",
       "                background-size: auto;\n",
       "            }\n",
       "            .progress-bar-interrupted, .progress-bar-interrupted::-webkit-progress-bar {\n",
       "                background: #F44336;\n",
       "            }\n",
       "        </style>\n",
       "      <progress value='67' class='' max='67' style='width:300px; height:20px; vertical-align: middle;'></progress>\n",
       "      100.00% [67/67 00:00<00:00]\n",
       "    </div>\n",
       "    "
      ],
      "text/plain": [
       "<IPython.core.display.HTML object>"
      ]
     },
     "metadata": {},
     "output_type": "display_data"
    },
    {
     "data": {
      "text/html": [
       "\n",
       "    <div>\n",
       "        <style>\n",
       "            /* Turns off some styling */\n",
       "            progress {\n",
       "                /* gets rid of default border in Firefox and Opera. */\n",
       "                border: none;\n",
       "                /* Needs to be in here for Safari polyfill so background images work as expected. */\n",
       "                background-size: auto;\n",
       "            }\n",
       "            .progress-bar-interrupted, .progress-bar-interrupted::-webkit-progress-bar {\n",
       "                background: #F44336;\n",
       "            }\n",
       "        </style>\n",
       "      <progress value='1' class='' max='1' style='width:300px; height:20px; vertical-align: middle;'></progress>\n",
       "      100.00% [1/1 00:00<00:00]\n",
       "    </div>\n",
       "    "
      ],
      "text/plain": [
       "<IPython.core.display.HTML object>"
      ]
     },
     "metadata": {},
     "output_type": "display_data"
    },
    {
     "data": {
      "text/html": [
       "\n",
       "    <div>\n",
       "        <style>\n",
       "            /* Turns off some styling */\n",
       "            progress {\n",
       "                /* gets rid of default border in Firefox and Opera. */\n",
       "                border: none;\n",
       "                /* Needs to be in here for Safari polyfill so background images work as expected. */\n",
       "                background-size: auto;\n",
       "            }\n",
       "            .progress-bar-interrupted, .progress-bar-interrupted::-webkit-progress-bar {\n",
       "                background: #F44336;\n",
       "            }\n",
       "        </style>\n",
       "      <progress value='5' class='' max='5' style='width:300px; height:20px; vertical-align: middle;'></progress>\n",
       "      100.00% [5/5 00:00<00:00]\n",
       "    </div>\n",
       "    "
      ],
      "text/plain": [
       "<IPython.core.display.HTML object>"
      ]
     },
     "metadata": {},
     "output_type": "display_data"
    },
    {
     "data": {
      "text/html": [
       "\n",
       "    <div>\n",
       "        <style>\n",
       "            /* Turns off some styling */\n",
       "            progress {\n",
       "                /* gets rid of default border in Firefox and Opera. */\n",
       "                border: none;\n",
       "                /* Needs to be in here for Safari polyfill so background images work as expected. */\n",
       "                background-size: auto;\n",
       "            }\n",
       "            .progress-bar-interrupted, .progress-bar-interrupted::-webkit-progress-bar {\n",
       "                background: #F44336;\n",
       "            }\n",
       "        </style>\n",
       "      <progress value='44' class='' max='44' style='width:300px; height:20px; vertical-align: middle;'></progress>\n",
       "      100.00% [44/44 00:00<00:00]\n",
       "    </div>\n",
       "    "
      ],
      "text/plain": [
       "<IPython.core.display.HTML object>"
      ]
     },
     "metadata": {},
     "output_type": "display_data"
    },
    {
     "data": {
      "text/html": [
       "\n",
       "    <div>\n",
       "        <style>\n",
       "            /* Turns off some styling */\n",
       "            progress {\n",
       "                /* gets rid of default border in Firefox and Opera. */\n",
       "                border: none;\n",
       "                /* Needs to be in here for Safari polyfill so background images work as expected. */\n",
       "                background-size: auto;\n",
       "            }\n",
       "            .progress-bar-interrupted, .progress-bar-interrupted::-webkit-progress-bar {\n",
       "                background: #F44336;\n",
       "            }\n",
       "        </style>\n",
       "      <progress value='171' class='' max='171' style='width:300px; height:20px; vertical-align: middle;'></progress>\n",
       "      100.00% [171/171 00:00<00:00]\n",
       "    </div>\n",
       "    "
      ],
      "text/plain": [
       "<IPython.core.display.HTML object>"
      ]
     },
     "metadata": {},
     "output_type": "display_data"
    },
    {
     "data": {
      "text/html": [
       "\n",
       "    <div>\n",
       "        <style>\n",
       "            /* Turns off some styling */\n",
       "            progress {\n",
       "                /* gets rid of default border in Firefox and Opera. */\n",
       "                border: none;\n",
       "                /* Needs to be in here for Safari polyfill so background images work as expected. */\n",
       "                background-size: auto;\n",
       "            }\n",
       "            .progress-bar-interrupted, .progress-bar-interrupted::-webkit-progress-bar {\n",
       "                background: #F44336;\n",
       "            }\n",
       "        </style>\n",
       "      <progress value='181' class='' max='181' style='width:300px; height:20px; vertical-align: middle;'></progress>\n",
       "      100.00% [181/181 00:00<00:00]\n",
       "    </div>\n",
       "    "
      ],
      "text/plain": [
       "<IPython.core.display.HTML object>"
      ]
     },
     "metadata": {},
     "output_type": "display_data"
    },
    {
     "data": {
      "text/html": [
       "\n",
       "    <div>\n",
       "        <style>\n",
       "            /* Turns off some styling */\n",
       "            progress {\n",
       "                /* gets rid of default border in Firefox and Opera. */\n",
       "                border: none;\n",
       "                /* Needs to be in here for Safari polyfill so background images work as expected. */\n",
       "                background-size: auto;\n",
       "            }\n",
       "            .progress-bar-interrupted, .progress-bar-interrupted::-webkit-progress-bar {\n",
       "                background: #F44336;\n",
       "            }\n",
       "        </style>\n",
       "      <progress value='155' class='' max='155' style='width:300px; height:20px; vertical-align: middle;'></progress>\n",
       "      100.00% [155/155 00:00<00:00]\n",
       "    </div>\n",
       "    "
      ],
      "text/plain": [
       "<IPython.core.display.HTML object>"
      ]
     },
     "metadata": {},
     "output_type": "display_data"
    },
    {
     "data": {
      "text/html": [
       "\n",
       "    <div>\n",
       "        <style>\n",
       "            /* Turns off some styling */\n",
       "            progress {\n",
       "                /* gets rid of default border in Firefox and Opera. */\n",
       "                border: none;\n",
       "                /* Needs to be in here for Safari polyfill so background images work as expected. */\n",
       "                background-size: auto;\n",
       "            }\n",
       "            .progress-bar-interrupted, .progress-bar-interrupted::-webkit-progress-bar {\n",
       "                background: #F44336;\n",
       "            }\n",
       "        </style>\n",
       "      <progress value='13' class='' max='13' style='width:300px; height:20px; vertical-align: middle;'></progress>\n",
       "      100.00% [13/13 00:00<00:00]\n",
       "    </div>\n",
       "    "
      ],
      "text/plain": [
       "<IPython.core.display.HTML object>"
      ]
     },
     "metadata": {},
     "output_type": "display_data"
    }
   ],
   "source": [
    "# Predict INFERNO\n",
    "hep_model.pred_nominal(samples, features, model_inferno, scaler, name='inferno', order_d = order_d)\n",
    "# Predict BCE\n",
    "hep_model.pred_nominal(samples, features, model_bce, scaler, name=\"bce\")   "
   ]
  },
  {
   "cell_type": "markdown",
   "id": "bbd31079",
   "metadata": {},
   "source": [
    "## 6. Fit"
   ]
  },
  {
   "cell_type": "code",
   "execution_count": 188,
   "id": "9ff55420",
   "metadata": {},
   "outputs": [],
   "source": [
    "import uproot3\n",
    "import pyhf"
   ]
  },
  {
   "cell_type": "code",
   "execution_count": 195,
   "id": "f6ecc4df",
   "metadata": {},
   "outputs": [],
   "source": [
    "import fit"
   ]
  },
  {
   "cell_type": "code",
   "execution_count": 413,
   "id": "5504519e",
   "metadata": {},
   "outputs": [
    {
     "data": {
      "text/plain": [
       "<module 'fit' from '/home/centos/dev/pytorch_inferno/experiments/fit.py'>"
      ]
     },
     "execution_count": 413,
     "metadata": {},
     "output_type": "execute_result"
    }
   ],
   "source": [
    "importlib.reload(fit)"
   ]
  },
  {
   "cell_type": "code",
   "execution_count": 414,
   "id": "93dd0cd2",
   "metadata": {},
   "outputs": [],
   "source": [
    "path = \"/home/centos/data/inferno_cmsopen13\""
   ]
  },
  {
   "cell_type": "code",
   "execution_count": 415,
   "id": "91ac891b",
   "metadata": {},
   "outputs": [],
   "source": [
    "fit.to_root(samples, systs = [\"btag\"], path=path)"
   ]
  },
  {
   "cell_type": "markdown",
   "id": "577667b7",
   "metadata": {},
   "source": [
    "### BCE"
   ]
  },
  {
   "cell_type": "code",
   "execution_count": 416,
   "id": "19163417",
   "metadata": {},
   "outputs": [],
   "source": [
    "bins = np.linspace(0,1,10)\n",
    "fit_var = \"bce\"\n",
    "config = fit.create_config(path, fit_var, bins)"
   ]
  },
  {
   "cell_type": "code",
   "execution_count": 417,
   "id": "59b8fba3",
   "metadata": {},
   "outputs": [],
   "source": [
    "cabinetry.templates.build(config, method=\"uproot\")"
   ]
  },
  {
   "cell_type": "code",
   "execution_count": 418,
   "id": "f34bcde1",
   "metadata": {},
   "outputs": [],
   "source": [
    "cabinetry.templates.postprocess(config)"
   ]
  },
  {
   "cell_type": "code",
   "execution_count": 419,
   "id": "e3ac35be",
   "metadata": {},
   "outputs": [],
   "source": [
    "workspace_path = path + \"/workspace_bce.json\"\n",
    "ws = cabinetry.workspace.build(config)\n",
    "cabinetry.workspace.save(ws, workspace_path)"
   ]
  },
  {
   "cell_type": "code",
   "execution_count": 420,
   "id": "6bfe35d4",
   "metadata": {},
   "outputs": [],
   "source": [
    "spec = dict(pyhf.Workspace(ws).prune(modifier_types=[\"staterror\"]))"
   ]
  },
  {
   "cell_type": "code",
   "execution_count": 421,
   "id": "aa267c36",
   "metadata": {},
   "outputs": [
    {
     "data": {
      "text/plain": [
       "{'channels': [{'name': 'Signal_region',\n",
       "   'samples': [{'name': 'Signal',\n",
       "     'data': [0.9145426801405847,\n",
       "      3.1277056862600148,\n",
       "      4.442304796772078,\n",
       "      7.042232731357217,\n",
       "      10.123860788764432,\n",
       "      13.272914531175047,\n",
       "      20.245463417377323,\n",
       "      37.06166619597934,\n",
       "      252.2218365520239],\n",
       "     'modifiers': [{'data': None, 'name': 'Signal_norm', 'type': 'normfactor'},\n",
       "      {'name': 'JES',\n",
       "       'type': 'normsys',\n",
       "       'data': {'hi': 1.0376600915623995, 'lo': 0.9418028877873506}},\n",
       "      {'name': 'JES',\n",
       "       'type': 'histosys',\n",
       "       'data': {'hi_data': [0.9059984035761126,\n",
       "         3.3318009006688585,\n",
       "         5.12797449415751,\n",
       "         8.140153155352372,\n",
       "         10.431602130968196,\n",
       "         14.831692909343184,\n",
       "         21.793652171863403,\n",
       "         39.287283467433646,\n",
       "         244.60236974648663],\n",
       "        'lo_data': [0.8847016693948107,\n",
       "         2.881477397450006,\n",
       "         4.272265548460062,\n",
       "         6.291732035734955,\n",
       "         9.13381920732796,\n",
       "         12.214070754835705,\n",
       "         18.3381294561019,\n",
       "         35.45689439572122,\n",
       "         258.97943691482334]}},\n",
       "      {'name': 'btag',\n",
       "       'type': 'normsys',\n",
       "       'data': {'hi': 1.0129738434813962, 'lo': 0.9865006943665823}},\n",
       "      {'name': 'btag',\n",
       "       'type': 'histosys',\n",
       "       'data': {'hi_data': [0.912891377587358,\n",
       "         3.1270742359087773,\n",
       "         4.450553330432892,\n",
       "         7.040089874174422,\n",
       "         10.143955927491364,\n",
       "         13.251697308819153,\n",
       "         20.262409632806495,\n",
       "         37.07471511812702,\n",
       "         252.18914057450246],\n",
       "        'lo_data': [0.9161577126585156,\n",
       "         3.1281151116040062,\n",
       "         4.433828427294965,\n",
       "         7.044319165822264,\n",
       "         10.104080340153665,\n",
       "         13.293587738567748,\n",
       "         20.229347330315186,\n",
       "         37.05027927572042,\n",
       "         252.25281227771316]}}]},\n",
       "    {'name': 'QCD',\n",
       "     'data': [341.59933269023895,\n",
       "      430.02643141150475,\n",
       "      367.2971940487623,\n",
       "      311.16132777929306,\n",
       "      268.9576698690653,\n",
       "      257.83686707913876,\n",
       "      246.76741534471512,\n",
       "      233.52875676751137,\n",
       "      233.54779091477394],\n",
       "     'modifiers': [{'data': None, 'name': 'QCD_norm', 'type': 'normfactor'}]},\n",
       "    {'name': 'TTJets_bkg',\n",
       "     'data': [3.187062182696536,\n",
       "      6.6103690341115,\n",
       "      7.764130426105112,\n",
       "      8.987803447525948,\n",
       "      11.0669749698136,\n",
       "      12.74275501142256,\n",
       "      15.235392303904518,\n",
       "      22.652197583345696,\n",
       "      45.85671800468117],\n",
       "     'modifiers': []},\n",
       "    {'name': 'WZJets',\n",
       "     'data': [0.23659790307283401,\n",
       "      1.6560865938663483,\n",
       "      0.8663859367370605,\n",
       "      1.9359938204288483,\n",
       "      1.1335840374231339,\n",
       "      1.996912568807602,\n",
       "      4.050979122519493,\n",
       "      5.712063133716583,\n",
       "      46.09865340590477],\n",
       "     'modifiers': []},\n",
       "    {'name': 'STJets',\n",
       "     'data': [0.3669762359932065,\n",
       "      1.2911158613860607,\n",
       "      1.1544609935954213,\n",
       "      0.9989380016922951,\n",
       "      1.4724548682570457,\n",
       "      1.3841691566631198,\n",
       "      2.075226465240121,\n",
       "      3.0441360222175717,\n",
       "      18.421120499260724],\n",
       "     'modifiers': []}]}],\n",
       " 'measurements': [{'name': 'CMSOpenData',\n",
       "   'config': {'parameters': [{'name': 'Signal_norm',\n",
       "      'inits': [1],\n",
       "      'bounds': [[-5, 10]]},\n",
       "     {'name': 'QCD_norm', 'inits': [1], 'bounds': [[0.5, 1.5]]}],\n",
       "    'poi': 'Signal_norm'}}],\n",
       " 'observations': [{'name': 'Signal_region',\n",
       "   'data': [357.0, 454.0, 377.0, 335.0, 322.0, 296.0, 259.0, 339.0, 584.0]}],\n",
       " 'version': '1.0.0'}"
      ]
     },
     "execution_count": 421,
     "metadata": {},
     "output_type": "execute_result"
    }
   ],
   "source": [
    "spec"
   ]
  },
  {
   "cell_type": "code",
   "execution_count": 423,
   "id": "942f98bf",
   "metadata": {},
   "outputs": [],
   "source": [
    "#model, data = cabinetry.model_utils.model_and_data(spec, asimov=True)\n",
    "model, data = cabinetry.model_utils.model_and_data(spec)"
   ]
  },
  {
   "cell_type": "code",
   "execution_count": 424,
   "id": "2fae2203",
   "metadata": {},
   "outputs": [
    {
     "data": {
      "image/png": "[encoded data removed]",
      "text/plain": [
       "<Figure size 432x432 with 2 Axes>"
      ]
     },
     "metadata": {
      "needs_background": "light"
     },
     "output_type": "display_data"
    }
   ],
   "source": [
    "model_pred = cabinetry.model_utils.prediction(model)\n",
    "figures = cabinetry.visualize.data_mc(model_pred, data, config=config, log_scale=True)"
   ]
  },
  {
   "cell_type": "code",
   "execution_count": 425,
   "id": "4bf2358f",
   "metadata": {},
   "outputs": [],
   "source": [
    "fit_results = cabinetry.fit.fit(model, data)"
   ]
  },
  {
   "cell_type": "code",
   "execution_count": 426,
   "id": "ead74d2a",
   "metadata": {},
   "outputs": [
    {
     "data": {
      "text/plain": [
       "FitResults(bestfit=array([ 0.9449739 ,  0.09139672, -0.00163096,  1.02715487]), uncertainty=array([0.10143766, 1.02005488, 0.99344938, 0.02254115]), labels=['Signal_norm', 'JES', 'btag', 'QCD_norm'], corr_mat=array([[ 1.00000000e+00, -1.37706631e-01, -1.22158564e-01,\n",
       "        -3.19930948e-01],\n",
       "       [-1.37706631e-01,  1.00000000e+00, -9.16291265e-05,\n",
       "        -1.64790713e-01],\n",
       "       [-1.22158564e-01, -9.16291265e-05,  1.00000000e+00,\n",
       "        -6.65192597e-04],\n",
       "       [-3.19930948e-01, -1.64790713e-01, -6.65192597e-04,\n",
       "         1.00000000e+00]]), best_twice_nll=83.14684216486275, goodness_of_fit=-1)"
      ]
     },
     "execution_count": 426,
     "metadata": {},
     "output_type": "execute_result"
    }
   ],
   "source": [
    "fit_results"
   ]
  },
  {
   "cell_type": "markdown",
   "id": "a4a65a41",
   "metadata": {},
   "source": [
    "### INFERNO"
   ]
  },
  {
   "cell_type": "code",
   "execution_count": null,
   "id": "7a94bcba",
   "metadata": {},
   "outputs": [],
   "source": [
    "bins = np.linspace(0,9,9)\n"
   ]
  },
  {
   "cell_type": "code",
   "execution_count": null,
   "id": "559e0105",
   "metadata": {},
   "outputs": [],
   "source": []
  }
 ],
 "metadata": {
  "kernelspec": {
   "display_name": "Python 3 (ipykernel)",
   "language": "python",
   "name": "python3"
  },
  "language_info": {
   "codemirror_mode": {
    "name": "ipython",
    "version": 3
   },
   "file_extension": ".py",
   "mimetype": "text/x-python",
   "name": "python",
   "nbconvert_exporter": "python",
   "pygments_lexer": "ipython3",
   "version": "3.8.12"
  }
 },
 "nbformat": 4,
 "nbformat_minor": 5
}
