{
 "cells": [
  {
   "cell_type": "markdown",
   "id": "be88becb",
   "metadata": {},
   "source": [
    "# HEP-like INFERNO"
   ]
  },
  {
   "cell_type": "code",
   "execution_count": 7,
   "id": "d2112569",
   "metadata": {},
   "outputs": [],
   "source": [
    "import numpy as np\n",
    "import matplotlib.pyplot as plt\n",
    "import pandas as pd\n",
    "import torch"
   ]
  },
  {
   "cell_type": "markdown",
   "id": "bccab4c6",
   "metadata": {},
   "source": [
    "## 1. Interpolation algorithm"
   ]
  },
  {
   "cell_type": "code",
   "execution_count": 2,
   "id": "59901631",
   "metadata": {},
   "outputs": [],
   "source": [
    "from pytorch_inferno.inference import *"
   ]
  },
  {
   "cell_type": "code",
   "execution_count": 40,
   "id": "408e1cb9",
   "metadata": {},
   "outputs": [],
   "source": [
    "def smooth_function(x, smoothRegion = 1):\n",
    "    \n",
    "    mask_smooth_region = torch.abs(x) > smoothRegion\n",
    "    xnorm = x / smoothRegion\n",
    "    xnorm2 = xnorm*xnorm\n",
    "    \n",
    "    in_smooth = 0.125 * xnorm * (xnorm2 * (3.*xnorm2 - 10.) + 15)\n",
    "    out_smooth = torch.where(x>0, torch.ones(x.shape), -1*torch.ones(x.shape))\n",
    "    \n",
    "    return torch.where(mask_smooth_region, out_smooth, in_smooth)"
   ]
  },
  {
   "cell_type": "code",
   "execution_count": 85,
   "id": "c5a0888e",
   "metadata": {},
   "outputs": [
    {
     "data": {
      "text/plain": [
       "[<matplotlib.lines.Line2D at 0x7f62a10e5f60>]"
      ]
     },
     "execution_count": 85,
     "metadata": {},
     "output_type": "execute_result"
    },
    {
     "data": {
      "image/png": "[encoded data removed]",
      "text/plain": [
       "<Figure size 432x288 with 1 Axes>"
      ]
     },
     "metadata": {
      "needs_background": "light"
     },
     "output_type": "display_data"
    }
   ],
   "source": [
    "# Test \n",
    "x = torch.linspace(-2, 2, 1000)\n",
    "y = smooth_function(x)\n",
    "plt.plot(x, y)"
   ]
  },
  {
   "cell_type": "code",
   "execution_count": 112,
   "id": "94f3c96e",
   "metadata": {},
   "outputs": [],
   "source": [
    "def morph(x, nominal, lo, hi):\n",
    "        \n",
    "    dhi = hi - nominal\n",
    "    dlo = lo - nominal\n",
    "    #print(dhi)\n",
    "    #print(dlo)\n",
    "    diff_h = dhi - dlo\n",
    "    sum_h = dhi + dlo\n",
    "    alpha = x * 0.5 * ((diff_h) + (sum_h)*smooth_function(x))\n",
    "    return alpha"
   ]
  },
  {
   "cell_type": "code",
   "execution_count": 8,
   "id": "7f09a91c",
   "metadata": {},
   "outputs": [
    {
     "data": {
      "image/png": "[encoded data removed]",
      "text/plain": [
       "<Figure size 432x288 with 1 Axes>"
      ]
     },
     "metadata": {
      "needs_background": "light"
     },
     "output_type": "display_data"
    }
   ],
   "source": [
    "# Test\n",
    "hi, y,_ = plt.hist(np.random.normal(loc=4, scale=2.0, size=10000), range=(0,10), density=True)\n",
    "nominal, y,_ = plt.hist(np.random.normal(loc=5, scale=2.0, size=10000), range=(0,10), density=True)\n",
    "lo, y,_ = plt.hist(np.random.normal(loc=6, scale=2.0, size=10000), range=(0,10), density=True)"
   ]
  },
  {
   "cell_type": "code",
   "execution_count": 115,
   "id": "ca540cfd",
   "metadata": {},
   "outputs": [],
   "source": [
    "hi_t = torch.Tensor(hi)\n",
    "nominal_t = torch.Tensor(nominal)\n",
    "lo_t = torch.Tensor(lo)"
   ]
  },
  {
   "cell_type": "code",
   "execution_count": 61,
   "id": "27987f2b",
   "metadata": {},
   "outputs": [],
   "source": [
    "hi_stacked = torch.stack([hi_t, hi_t, hi_t])\n",
    "lo_stacked = torch.stack([lo_t, lo_t, lo_t])"
   ]
  },
  {
   "cell_type": "code",
   "execution_count": 72,
   "id": "3729520a",
   "metadata": {},
   "outputs": [],
   "source": [
    "nominal_stacked = nominal_t.unsqueeze(0).repeat(3, 1)"
   ]
  },
  {
   "cell_type": "code",
   "execution_count": 116,
   "id": "d321d5d1",
   "metadata": {},
   "outputs": [
    {
     "data": {
      "text/plain": [
       "torch.Size([1000, 10])"
      ]
     },
     "execution_count": 116,
     "metadata": {},
     "output_type": "execute_result"
    }
   ],
   "source": [
    "nominal_stacked.shape"
   ]
  },
  {
   "cell_type": "code",
   "execution_count": 110,
   "id": "6f60d0de",
   "metadata": {},
   "outputs": [],
   "source": [
    "alpha = torch.Tensor(np.array([-1, 0., 1.])).unsqueeze(1)"
   ]
  },
  {
   "cell_type": "code",
   "execution_count": null,
   "id": "8171de47",
   "metadata": {},
   "outputs": [],
   "source": [
    "nominal_stacked = nominal_t.unsqueeze(0).repeat(x.shape[0], 1)"
   ]
  },
  {
   "cell_type": "code",
   "execution_count": 118,
   "id": "97f226a5",
   "metadata": {},
   "outputs": [],
   "source": [
    "nominal_stacked = nominal_t.unsqueeze(0).repeat(alpha.shape[0], 1)\n",
    "morphed = morph(alpha, nominal_stacked, lo_stacked, hi_stacked)"
   ]
  },
  {
   "cell_type": "code",
   "execution_count": 107,
   "id": "b16f1ba8",
   "metadata": {},
   "outputs": [],
   "source": [
    "nominal_t += morphed.sum(0)"
   ]
  },
  {
   "cell_type": "code",
   "execution_count": 108,
   "id": "84ec814a",
   "metadata": {},
   "outputs": [
    {
     "data": {
      "text/plain": [
       "tensor([0.0320, 0.0664, 0.1034, 0.1475, 0.1586, 0.1463, 0.1483, 0.1005, 0.0592,\n",
       "        0.0378])"
      ]
     },
     "execution_count": 108,
     "metadata": {},
     "output_type": "execute_result"
    }
   ],
   "source": [
    "nominal_t"
   ]
  },
  {
   "cell_type": "markdown",
   "id": "554bc95a",
   "metadata": {},
   "source": [
    "## 2. constraints"
   ]
  },
  {
   "cell_type": "code",
   "execution_count": 123,
   "id": "87df4a57",
   "metadata": {},
   "outputs": [],
   "source": [
    "def normal(theta, std):\n",
    "    return 1 + theta*std"
   ]
  },
  {
   "cell_type": "code",
   "execution_count": 119,
   "id": "ba930663",
   "metadata": {},
   "outputs": [],
   "source": [
    "def log_normal(theta, kappa):\n",
    "    return torch.exp(theta * torch.log(kappa))"
   ]
  },
  {
   "cell_type": "code",
   "execution_count": 184,
   "id": "8b9b8453",
   "metadata": {},
   "outputs": [],
   "source": [
    "def logKappaForX(x, logkappa_lo, logkappa_hi):\n",
    "    \n",
    "    logKhi =  logkappa_hi\n",
    "    logKlo = -logkappa_lo\n",
    "\n",
    "    kappa = torch.where(x >= 0, logkappa_hi, -logkappa_lo)\n",
    "    \n",
    "    avg = 0.5*(logKhi + logKlo) \n",
    "    halfdiff = 0.5*(logKhi - logKlo)\n",
    "    twox = x+x \n",
    "    twox2 = twox*twox\n",
    "    alpha = 0.125 * twox * (twox2 * (3*twox2 - 10.) + 15.)\n",
    "    ret = avg + alpha*halfdiff\n",
    "    return torch.where(torch.abs(x) >= 0.5, kappa, ret)"
   ]
  },
  {
   "cell_type": "code",
   "execution_count": 187,
   "id": "9e44bb52",
   "metadata": {},
   "outputs": [
    {
     "data": {
      "text/plain": [
       "[<matplotlib.lines.Line2D at 0x7f6293b87ba8>]"
      ]
     },
     "execution_count": 187,
     "metadata": {},
     "output_type": "execute_result"
    },
    {
     "data": {
      "image/png": "[encoded data removed]",
      "text/plain": [
       "<Figure size 432x288 with 1 Axes>"
      ]
     },
     "metadata": {
      "needs_background": "light"
     },
     "output_type": "display_data"
    }
   ],
   "source": [
    "# Test \n",
    "x = torch.linspace(-2, 2, 1000)\n",
    "y_logKappaForX = logKappaForX(x, kappa_lo, kappa_hi)\n",
    "plt.plot(x, y_logKappaForX)"
   ]
  },
  {
   "cell_type": "code",
   "execution_count": 176,
   "id": "f88458cc",
   "metadata": {},
   "outputs": [],
   "source": [
    "def asym_log_normal(theta, kappaLo, kappaHi):\n",
    "    return torch.exp(theta * logKappaForX(theta, torch.log(kappaLo), torch.log(kappaHi)))"
   ]
  },
  {
   "cell_type": "code",
   "execution_count": 197,
   "id": "74b92b1b",
   "metadata": {},
   "outputs": [],
   "source": [
    "theta = torch.Tensor([1.0])\n",
    "kappa = torch.Tensor([1.1])\n",
    "std = torch.Tensor([0.1])\n",
    "kappa_lo = torch.Tensor([0.9])\n",
    "kappa_hi = torch.Tensor([1.2])\n",
    "kappa_std_avg = (abs(kappa_hi-1)+abs(1-kappa_lo))/2"
   ]
  },
  {
   "cell_type": "code",
   "execution_count": 198,
   "id": "2258c5d8",
   "metadata": {},
   "outputs": [
    {
     "data": {
      "text/plain": [
       "tensor([0.1500])"
      ]
     },
     "execution_count": 198,
     "metadata": {},
     "output_type": "execute_result"
    }
   ],
   "source": [
    "kappa_std_avg"
   ]
  },
  {
   "cell_type": "code",
   "execution_count": 195,
   "id": "4373dcd4",
   "metadata": {},
   "outputs": [
    {
     "data": {
      "text/plain": [
       "<matplotlib.legend.Legend at 0x7f62943c9208>"
      ]
     },
     "execution_count": 195,
     "metadata": {},
     "output_type": "execute_result"
    },
    {
     "data": {
      "image/png": "[encoded data removed]",
      "text/plain": [
       "<Figure size 432x288 with 1 Axes>"
      ]
     },
     "metadata": {
      "needs_background": "light"
     },
     "output_type": "display_data"
    }
   ],
   "source": [
    "# Test \n",
    "x = torch.linspace(-2, 2, 1000)\n",
    "y_norm = normal(x, (kappa_lo + (1+1-kappa_hi)/2 - 1))\n",
    "y_ln = log_normal(x, (kappa_lo + (1+1-kappa_hi)/2))\n",
    "y_lnasym = asym_log_normal(x, kappa_lo, kappa_hi)\n",
    "plt.plot(x, y_norm, label=\"Normal\")\n",
    "plt.plot(x, y_ln, label=\"Log-Normal\")\n",
    "plt.plot(x, y_lnasym, label=\"Asymm. Log-Normal\")\n",
    "plt.legend()"
   ]
  },
  {
   "cell_type": "code",
   "execution_count": 196,
   "id": "1a0bd9c5",
   "metadata": {},
   "outputs": [
    {
     "data": {
      "text/plain": [
       "tensor([0.3000])"
      ]
     },
     "execution_count": 196,
     "metadata": {},
     "output_type": "execute_result"
    }
   ],
   "source": []
  },
  {
   "cell_type": "code",
   "execution_count": null,
   "id": "5897066e",
   "metadata": {},
   "outputs": [],
   "source": []
  },
  {
   "cell_type": "markdown",
   "id": "69f96b00",
   "metadata": {},
   "source": [
    "## 3. NLL"
   ]
  },
  {
   "cell_type": "code",
   "execution_count": 158,
   "id": "3a3b8eec",
   "metadata": {},
   "outputs": [],
   "source": [
    "from typing import *\n",
    "from torch import Tensor\n",
    "from torch.distributions import Distribution"
   ]
  },
  {
   "cell_type": "code",
   "execution_count": 159,
   "id": "f4f55564",
   "metadata": {},
   "outputs": [],
   "source": [
    "def nll(s_true:float, b_true:float, mu:Tensor, f_s_nom:Tensor, f_b_nom:Tensor,\n",
    "             shape_alpha:Optional[Tensor]=None, s_norm_alpha:Optional[Tensor]=None, b_norm_alpha:Optional[Tensor]=None,\n",
    "             f_s_up:Optional[Tensor]=None, f_s_dw:Optional[Tensor]=None,\n",
    "             f_b_up:Optional[Tensor]=None, f_b_dw:Optional[Tensor]=None,\n",
    "             s_norm_aux:Optional[Distribution]=None, b_norm_aux:Optional[Distribution]=None, shape_aux:Optional[List[Distribution]]=None,\n",
    "             interp_algo:str=\"fast_vertical\") -> Tensor:\n",
    "    r'''Compute negative log-likelihood for specified parameters.'''\n",
    "    \n",
    "    #  Interpolate shapes\n",
    "    if interp_algo == \"fast_vertical\":\n",
    "        f_s = fast_vertical(shape_alpha, f_s_nom, f_s_up, f_s_dw) if shape_alpha is not None and f_s_up is not None else f_s_nom\n",
    "        f_b = fast_vertical(shape_alpha, f_b_nom, f_b_up, f_b_dw) if shape_alpha is not None and f_b_up is not None  else f_b_nom        \n",
    "    else:\n",
    "        f_s = interp_shape(shape_alpha, f_s_nom, f_s_up, f_s_dw) if shape_alpha is not None and f_s_up is not None else f_s_nom\n",
    "        f_b = interp_shape(shape_alpha, f_b_nom, f_b_up, f_b_dw) if shape_alpha is not None and f_b_up is not None  else f_b_nom\n",
    "    \n",
    "    # Normalizations !!! careful if signal and background shapes mix!!\n",
    "    s_exp, b_exp = mu, b_true\n",
    "    if shape_alpha is not None:\n",
    "        mu *= normal(shape_alpha, shape_norm_sigma).prod()\n",
    "    if s_norm_aux is not None:\n",
    "        mu *= normal(s_norm_alpha, s_norm_sigma).prod()\n",
    "    if b_norm_alpha is not None:\n",
    "        b_exp *= normal(b_norm_alpha, b_norm_sigma).prod()\n",
    "    #  Compute NLL\n",
    "    t_exp = (s_exp*f_s)+(b_exp*f_b)\n",
    "    asimov = (s_true*f_s_nom)+(b_true*f_b_nom)\n",
    "    nll = -torch.distributions.Poisson(t_exp, False).log_prob(asimov).sum()\n",
    "    # Constrain nuisances\n",
    "    if shape_aux is not None:\n",
    "        if len(shape_aux) != len(shape_alpha): raise ValueError(\"Number of auxillary measurements must match the number of nuisance parameters.\\\n",
    "                                                           Pass `None`s for unconstrained nuisances.\")\n",
    "        for a,x in zip(shape_alpha, shape_aux):\n",
    "            if x is not None: nll = nll-x.log_prob(a)\n",
    "    if b_norm_alpha is not None:\n",
    "        for a,x in zip(b_norm_alpha, b_norm_aux): nll = nll-x.log_prob(a)\n",
    "    if s_norm_alpha is not None:\n",
    "        for a,x in zip(s_norm_alpha, s_norm_aux): nll = nll-x.log_prob(a)\n",
    "    return nll"
   ]
  },
  {
   "cell_type": "markdown",
   "id": "e52e0a4a",
   "metadata": {},
   "source": [
    "## 4. Setup INFERNO"
   ]
  },
  {
   "cell_type": "code",
   "execution_count": 165,
   "id": "2af9a1ab",
   "metadata": {},
   "outputs": [],
   "source": [
    "from pytorch_inferno.inferno import AbsInferno\n",
    "from fastcore.all import store_attr, delegates, is_close"
   ]
  },
  {
   "cell_type": "code",
   "execution_count": 166,
   "id": "797a5e26",
   "metadata": {},
   "outputs": [],
   "source": [
    "class HEPInferno(AbsInferno):\n",
    "    r'''Implementation of INFERNO with HEP like systematics'''\n",
    "    @delegates(AbsInferno)\n",
    "    def __init__(self, interp_algo:str=\"default\", alpha_sigmas:Optional[List[float]]=None, **kwargs):\n",
    "        super().__init__(**kwargs)\n",
    "        self.interp_algo = interp_algo\n",
    "        self.alpha_sigmas = alpha_sigmas\n",
    "        self.\n",
    "\n",
    "    def _aug_data(self): pass  # Override abs method\n",
    "    def on_batch_begin(self) -> None: pass\n",
    "    def on_batch_end(self) -> None: pass\n",
    "\n",
    "    def on_train_begin(self) -> None:\n",
    "        self.wrapper.loss_func = None  # Ensure loss function is skipped, callback computes loss value in `on_forwards_end`\n",
    "        for c in self.wrapper.cbs:\n",
    "            if hasattr(c, 'loss_is_meaned'): c.loss_is_meaned = False  # Ensure that average losses are correct        \n",
    "        alpha = torch.zeros((self.n_alpha), requires_grad=True, device=self.wrapper.device)\n",
    "        with torch.no_grad(): alpha[self.poi_idx] += self.mu_true\n",
    "    \n",
    "    def _get_up_down(self, x_s:Tensor, x_b:Tensor, w_s:Optional[Tensor]=None, w_b:Optional[Tensor]=None) -> Tuple[Tuple[Optional[Tensor],Optional[Tensor]],Tuple[Optional[Tensor],Optional[Tensor]]]:\n",
    "\n",
    "        u,d = [],[]\n",
    "        # modified template variations\n",
    "        for i in range(self.n_shape_alphas):\n",
    "            idx_up = 1 + 2*i\n",
    "            idx_down = 2 + 2*i\n",
    "            up_batch = self.to_shape(self.wrapper.model(x_s[:,:,idx_up]))\n",
    "            down_batch = self.to_shape(self.wrapper.model(x_s[:,:,idx_down]))\n",
    "            u.append(up_batch)\n",
    "            d.append(down_batch)    \n",
    "        return (torch.stack(u),torch.stack(d)), (None,None)\n",
    "\n",
    "    def get_ikk(self, f_s_nom:Tensor, f_b_nom:Tensor, f_s_up:Optional[Tensor], f_s_dw:Optional[Tensor], f_b_up:Optional[Tensor], f_b_dw:Optional[Tensor]) -> Tensor:\n",
    "        r'''Compute full hessian at true param values, or at random starting values with Newton updates'''\n",
    "        get_nll = partialler(nll, s_true=self.mu_true, b_true=self.b_true,\n",
    "                             f_s_nom=f_s_nom, f_b_nom=f_b_nom, f_s_up=f_s_up, f_s_dw=f_s_dw,\n",
    "                             f_b_up=f_b_up, f_b_dw=f_b_dw, shape_aux=self.shape_aux, s_norm_aux=self.s_norm_aux, b_norm_aux=self.b_norm_aux)\n",
    "        nll = get_nll(mu=alpha[self.poi_idx], s_norm_alpha=alpha[self.s_norm_idxs], b_norm_alpha=alpha[self.b_norm_idxs], shape_alpha=alpha[self.shape_idxs],\n",
    "                     interp_algo = self.interp_algo)\n",
    "        _,h = calc_grad_hesse(nll, alpha, create_graph=True)\n",
    "        return torch.inverse(h)[self.poi_idx,self.poi_idx]\n",
    "\n",
    "    def on_forwards_end(self) -> None:\n",
    "        r'''Compute loss and replace wrapper loss value'''\n",
    "        b = self.wrapper.y.squeeze() == 0\n",
    "        w_s = self.wrapper.w[~b] if self.wrapper.w is not None else None\n",
    "        w_b = self.wrapper.w[b] if self.wrapper.w is not None else None\n",
    "        f_s = self.to_shape(self.wrapper.y_pred[~b], w_s)\n",
    "        f_b = self.to_shape(self.wrapper.y_pred[b], w_b)\n",
    "        (f_s_up,f_s_dw),(f_b_up,f_b_dw)= self._get_up_down(self.wrapper.x[~b], self.wrapper.x[b], ws, wb)\n",
    "        self.wrapper.loss_val = self.get_ikk(f_s_nom=f_s, f_b_nom=f_b, f_s_up=f_s_up, f_s_dw=f_s_dw, f_b_up=f_b_up, f_b_dw=f_b_dw)\n"
   ]
  },
  {
   "cell_type": "markdown",
   "id": "7adff3ea",
   "metadata": {},
   "source": [
    "## 5. Test with CMS Open Data"
   ]
  },
  {
   "cell_type": "code",
   "execution_count": 170,
   "id": "cdd6b649",
   "metadata": {},
   "outputs": [],
   "source": [
    "import run_cmsopen\n",
    "from torch.distributions import Normal"
   ]
  },
  {
   "cell_type": "code",
   "execution_count": 168,
   "id": "3968553f",
   "metadata": {},
   "outputs": [
    {
     "name": "stdout",
     "output_type": "stream",
     "text": [
      "mu 348.45252731445095\n",
      "QCD 2689.5053333309675\n",
      "jes_06 16.70084248968277\n",
      "taue 11.82024566892062\n",
      "btag 4.612317868087416\n"
     ]
    }
   ],
   "source": [
    "\n",
    "#features = ['ht', 'aplanarity', 'sphericity', 'chargeEta', 'MET_met', 'deltaPhiTauMet', 'mt', 'mTauJet']\n",
    "features = ['aplanarity', 'chargeEta', 'MET_met', 'deltaPhiTauMet']\n",
    "shape_syst = [\"06_jes\", \"taue\"]\n",
    "weight_syst = [\"btag_weight1\"]\n",
    "norm_syst = [\"jes_06\", \"taue\", \"btag_weight1\"]\n",
    "use_weights = False\n",
    "\n",
    "mu, qcd, sig_norm = run_cmsopen.get_norm(norm_syst)"
   ]
  },
  {
   "cell_type": "code",
   "execution_count": 171,
   "id": "10d600d9",
   "metadata": {},
   "outputs": [],
   "source": [
    "# Parameters for INFERNO training\n",
    "inferno_args = {}\n",
    "# Signal and bkg\n",
    "inferno_args[\"b_true\"] = qcd\n",
    "inferno_args[\"mu_true\"] = mu\n",
    "# Number of shape nuisances\n",
    "inferno_args[\"n_shape_alphas\"] = len(shape_syst) + len(weight_syst)\n",
    "# Constraints on the nuisance parameters - typically should be N(0,1) if +-1sigma templates are provided\n",
    "inferno_args[\"shape_aux\"] = [Normal(0,1) for i in range(len(shape_syst) + len(weight_syst))]\n",
    "# Uncertainties on signal norm - should be Normal(0,s) with s in absolute event numbers\n",
    "inferno_args[\"s_norm_aux\"] = sig_norm #[Normal(0,10), Normal(0,10), Normal(0,10)]\n",
    "# Boolean whether to let the background float\n",
    "inferno_args[\"nonaux_b_norm\"] = False\n",
    "\n",
    "train_args = {}\n",
    "train_args[\"lr\"] = 1e-3\n",
    "train_args[\"n_feats\"] = len(features)\n",
    "train_args[\"neurons\"] = 100\n",
    "train_args[\"bins\"] = 10\n",
    "train_args[\"temperature\"] = 0.1\n",
    "train_args[\"weights\"] = False\n",
    "\n",
    "OUTPATH = \"/home/centos/data/inferno_cmsopen13\"\n",
    "\n",
    "bs = 1000\n",
    "n_sig = 20000\n",
    "epochs = 200\n",
    "\n",
    "store = False"
   ]
  },
  {
   "cell_type": "code",
   "execution_count": 172,
   "id": "540e5d85",
   "metadata": {},
   "outputs": [
    {
     "name": "stdout",
     "output_type": "stream",
     "text": [
      "*********************\n",
      "Summary training data\n",
      "Features ['aplanarity', 'chargeEta', 'MET_met', 'deltaPhiTauMet']\n",
      "Shape systematics ['06_jes', 'taue']\n",
      "Weight systematics ['btag_weight1']\n",
      "Use weights False\n",
      "Number of signal training / test events: 20000 23570\n",
      "Number of bkg training / test events: 5000 6176\n",
      "*********************\n"
     ]
    }
   ],
   "source": [
    "data = run_cmsopen.train(OUTPATH, features = features, \n",
    "                                        shape_syst = shape_syst,\n",
    "                                        weight_syst = weight_syst,\n",
    "                                        norm_syst = norm_syst, \n",
    "                                        epochs=epochs, bs=bs, n_sig=n_sig, \n",
    "                                        inferno_args = inferno_args, \n",
    "                                        train_args = train_args,\n",
    "                                        use_weights = use_weights,\n",
    "                                        store=store)"
   ]
  },
  {
   "cell_type": "code",
   "execution_count": null,
   "id": "1883c5cf",
   "metadata": {},
   "outputs": [],
   "source": []
  }
 ],
 "metadata": {
  "kernelspec": {
   "display_name": "Python 3",
   "language": "python",
   "name": "python3"
  },
  "language_info": {
   "codemirror_mode": {
    "name": "ipython",
    "version": 3
   },
   "file_extension": ".py",
   "mimetype": "text/x-python",
   "name": "python",
   "nbconvert_exporter": "python",
   "pygments_lexer": "ipython3",
   "version": "3.6.8"
  }
 },
 "nbformat": 4,
 "nbformat_minor": 5
}
