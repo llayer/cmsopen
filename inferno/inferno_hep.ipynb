{
 "cells": [
  {
   "cell_type": "markdown",
   "id": "be88becb",
   "metadata": {},
   "source": [
    "# HEP-like INFERNO"
   ]
  },
  {
   "cell_type": "code",
   "execution_count": 1,
   "id": "d2112569",
   "metadata": {},
   "outputs": [],
   "source": [
    "import numpy as np\n",
    "import matplotlib.pyplot as plt\n",
    "import pandas as pd\n",
    "import torch"
   ]
  },
  {
   "cell_type": "markdown",
   "id": "bccab4c6",
   "metadata": {},
   "source": [
    "## 1. Interpolation algorithm"
   ]
  },
  {
   "cell_type": "code",
   "execution_count": 2,
   "id": "59901631",
   "metadata": {},
   "outputs": [],
   "source": [
    "from pytorch_inferno.inference import *"
   ]
  },
  {
   "cell_type": "code",
   "execution_count": 97,
   "id": "408e1cb9",
   "metadata": {},
   "outputs": [],
   "source": [
    "def smooth_function(x, smoothRegion = 1):\n",
    "    \n",
    "    mask_smooth_region = torch.abs(x) > smoothRegion\n",
    "    xnorm = x / smoothRegion\n",
    "    xnorm2 = xnorm*xnorm\n",
    "    \n",
    "    in_smooth = 0.125 * xnorm * (xnorm2 * (3.*xnorm2 - 10.) + 15)\n",
    "    out_smooth = torch.where(x>0, torch.ones(x.shape).to(x.device), -1*torch.ones(x.shape).to(x.device))\n",
    "    \n",
    "    return torch.where(mask_smooth_region, out_smooth, in_smooth)"
   ]
  },
  {
   "cell_type": "code",
   "execution_count": 68,
   "id": "c5a0888e",
   "metadata": {},
   "outputs": [
    {
     "data": {
      "text/plain": [
       "[<matplotlib.lines.Line2D at 0x7f0d1956c400>]"
      ]
     },
     "execution_count": 68,
     "metadata": {},
     "output_type": "execute_result"
    },
    {
     "data": {
      "image/png": "[encoded data removed]",
      "text/plain": [
       "<Figure size 432x288 with 1 Axes>"
      ]
     },
     "metadata": {
      "needs_background": "light"
     },
     "output_type": "display_data"
    }
   ],
   "source": [
    "# Test \n",
    "x = torch.linspace(-2, 2, 1000)\n",
    "y = smooth_function(x)\n",
    "plt.plot(x, y)"
   ]
  },
  {
   "cell_type": "code",
   "execution_count": 98,
   "id": "94f3c96e",
   "metadata": {},
   "outputs": [],
   "source": [
    "def morph(x, nominal, lo, hi):\n",
    "        \n",
    "    dhi = hi - nominal\n",
    "    dlo = lo - nominal\n",
    "    #print(dhi)\n",
    "    #print(dlo)\n",
    "    diff_h = dhi - dlo\n",
    "    sum_h = dhi + dlo\n",
    "    alpha = x * 0.5 * ((diff_h) + (sum_h)*smooth_function(x))\n",
    "    return alpha"
   ]
  },
  {
   "cell_type": "code",
   "execution_count": 6,
   "id": "7f09a91c",
   "metadata": {},
   "outputs": [
    {
     "data": {
      "image/png": "[encoded data removed]",
      "text/plain": [
       "<Figure size 432x288 with 1 Axes>"
      ]
     },
     "metadata": {
      "needs_background": "light"
     },
     "output_type": "display_data"
    }
   ],
   "source": [
    "# Test\n",
    "hi, y,_ = plt.hist(np.random.normal(loc=4, scale=2.0, size=10000), range=(0,10), alpha=0.5, density=True)\n",
    "nominal, y,_ = plt.hist(np.random.normal(loc=5, scale=2.0, size=10000), range=(0,10), alpha=0.5, density=True)\n",
    "lo, y,_ = plt.hist(np.random.normal(loc=6, scale=2.0, size=10000), range=(0,10), alpha=0.5, density=True)"
   ]
  },
  {
   "cell_type": "code",
   "execution_count": 7,
   "id": "ca540cfd",
   "metadata": {},
   "outputs": [],
   "source": [
    "hi_t = torch.Tensor(hi)\n",
    "nominal_t = torch.Tensor(nominal)\n",
    "lo_t = torch.Tensor(lo)"
   ]
  },
  {
   "cell_type": "code",
   "execution_count": 8,
   "id": "27987f2b",
   "metadata": {},
   "outputs": [],
   "source": [
    "hi_stacked = torch.stack([hi_t, hi_t, hi_t])\n",
    "lo_stacked = torch.stack([lo_t, lo_t, lo_t])"
   ]
  },
  {
   "cell_type": "code",
   "execution_count": 9,
   "id": "3729520a",
   "metadata": {},
   "outputs": [],
   "source": [
    "nominal_stacked = nominal_t.unsqueeze(0).repeat(3, 1)"
   ]
  },
  {
   "cell_type": "code",
   "execution_count": 10,
   "id": "d321d5d1",
   "metadata": {},
   "outputs": [
    {
     "data": {
      "text/plain": [
       "torch.Size([3, 10])"
      ]
     },
     "execution_count": 10,
     "metadata": {},
     "output_type": "execute_result"
    }
   ],
   "source": [
    "nominal_stacked.shape"
   ]
  },
  {
   "cell_type": "code",
   "execution_count": 11,
   "id": "6f60d0de",
   "metadata": {},
   "outputs": [],
   "source": [
    "alpha = torch.Tensor(np.array([-1, 0., 1.])).unsqueeze(1)"
   ]
  },
  {
   "cell_type": "code",
   "execution_count": 12,
   "id": "8171de47",
   "metadata": {},
   "outputs": [],
   "source": [
    "nominal_stacked = nominal_t.unsqueeze(0).repeat(x.shape[0], 1)"
   ]
  },
  {
   "cell_type": "code",
   "execution_count": 13,
   "id": "97f226a5",
   "metadata": {},
   "outputs": [],
   "source": [
    "nominal_stacked = nominal_t.unsqueeze(0).repeat(alpha.shape[0], 1)\n",
    "morphed = morph(alpha, nominal_stacked, lo_stacked, hi_stacked)"
   ]
  },
  {
   "cell_type": "code",
   "execution_count": 14,
   "id": "b16f1ba8",
   "metadata": {},
   "outputs": [],
   "source": [
    "nominal_t += morphed.sum(0)"
   ]
  },
  {
   "cell_type": "code",
   "execution_count": 15,
   "id": "84ec814a",
   "metadata": {},
   "outputs": [
    {
     "data": {
      "text/plain": [
       "tensor([0.0331, 0.0648, 0.1144, 0.1318, 0.1471, 0.1667, 0.1375, 0.1000, 0.0695,\n",
       "        0.0350])"
      ]
     },
     "execution_count": 15,
     "metadata": {},
     "output_type": "execute_result"
    }
   ],
   "source": [
    "nominal_t"
   ]
  },
  {
   "cell_type": "code",
   "execution_count": 99,
   "id": "ae27f16d",
   "metadata": {},
   "outputs": [],
   "source": [
    "def fast_vertical(alpha:Tensor, f_nom:Tensor, f_up:Tensor, f_dw:Tensor):\n",
    "    \n",
    "    f_nom_rep = f_nom.unsqueeze(0).repeat(alpha.shape[0], 1)\n",
    "    return f_nom + morph(alpha.unsqueeze(1), f_nom_rep, f_dw, f_up).sum(0)"
   ]
  },
  {
   "cell_type": "code",
   "execution_count": null,
   "id": "7bc0b8f9",
   "metadata": {},
   "outputs": [],
   "source": []
  },
  {
   "cell_type": "code",
   "execution_count": null,
   "id": "f179408c",
   "metadata": {},
   "outputs": [],
   "source": []
  },
  {
   "cell_type": "markdown",
   "id": "554bc95a",
   "metadata": {},
   "source": [
    "## 2. constraints"
   ]
  },
  {
   "cell_type": "code",
   "execution_count": 161,
   "id": "87df4a57",
   "metadata": {},
   "outputs": [],
   "source": [
    "def normal(theta, std):\n",
    "    return 1. + theta*std"
   ]
  },
  {
   "cell_type": "code",
   "execution_count": 17,
   "id": "ba930663",
   "metadata": {},
   "outputs": [],
   "source": [
    "def log_normal(theta, kappa):\n",
    "    return torch.exp(theta * torch.log(kappa))"
   ]
  },
  {
   "cell_type": "code",
   "execution_count": 18,
   "id": "8b9b8453",
   "metadata": {},
   "outputs": [],
   "source": [
    "def logKappaForX(x, logkappa_lo, logkappa_hi):\n",
    "    \n",
    "    logKhi =  logkappa_hi\n",
    "    logKlo = -logkappa_lo\n",
    "\n",
    "    kappa = torch.where(x >= 0, logkappa_hi, -logkappa_lo)\n",
    "    \n",
    "    avg = 0.5*(logKhi + logKlo) \n",
    "    halfdiff = 0.5*(logKhi - logKlo)\n",
    "    twox = x+x \n",
    "    twox2 = twox*twox\n",
    "    alpha = 0.125 * twox * (twox2 * (3*twox2 - 10.) + 15.)\n",
    "    ret = avg + alpha*halfdiff\n",
    "    return torch.where(torch.abs(x) >= 0.5, kappa, ret)"
   ]
  },
  {
   "cell_type": "code",
   "execution_count": 19,
   "id": "4133e800",
   "metadata": {},
   "outputs": [],
   "source": [
    "theta = torch.Tensor([1.0])\n",
    "kappa = torch.Tensor([1.1])\n",
    "std = torch.Tensor([0.1])\n",
    "kappa_lo = torch.Tensor([0.9])\n",
    "kappa_hi = torch.Tensor([1.2])\n",
    "kappa_std_avg = (abs(kappa_hi-1)+abs(1-kappa_lo))/2"
   ]
  },
  {
   "cell_type": "code",
   "execution_count": 20,
   "id": "9e44bb52",
   "metadata": {},
   "outputs": [
    {
     "data": {
      "text/plain": [
       "[<matplotlib.lines.Line2D at 0x7f0db483cfd0>]"
      ]
     },
     "execution_count": 20,
     "metadata": {},
     "output_type": "execute_result"
    },
    {
     "data": {
      "image/png": "[encoded data removed]",
      "text/plain": [
       "<Figure size 432x288 with 1 Axes>"
      ]
     },
     "metadata": {
      "needs_background": "light"
     },
     "output_type": "display_data"
    }
   ],
   "source": [
    "# Test \n",
    "x = torch.linspace(-2, 2, 1000)\n",
    "y_logKappaForX = logKappaForX(x, kappa_lo, kappa_hi)\n",
    "plt.plot(x, y_logKappaForX)"
   ]
  },
  {
   "cell_type": "code",
   "execution_count": 21,
   "id": "f88458cc",
   "metadata": {},
   "outputs": [],
   "source": [
    "def asym_log_normal(theta, kappaLo, kappaHi):\n",
    "    return torch.exp(theta * logKappaForX(theta, torch.log(kappaLo), torch.log(kappaHi)))"
   ]
  },
  {
   "cell_type": "code",
   "execution_count": 22,
   "id": "46583526",
   "metadata": {},
   "outputs": [
    {
     "data": {
      "text/plain": [
       "tensor([0.1500])"
      ]
     },
     "execution_count": 22,
     "metadata": {},
     "output_type": "execute_result"
    }
   ],
   "source": [
    "kappa_std_avg"
   ]
  },
  {
   "cell_type": "code",
   "execution_count": 23,
   "id": "4373dcd4",
   "metadata": {},
   "outputs": [
    {
     "data": {
      "text/plain": [
       "<matplotlib.legend.Legend at 0x7f0d25b954e0>"
      ]
     },
     "execution_count": 23,
     "metadata": {},
     "output_type": "execute_result"
    },
    {
     "data": {
      "image/png": "[encoded data removed]",
      "text/plain": [
       "<Figure size 432x288 with 1 Axes>"
      ]
     },
     "metadata": {
      "needs_background": "light"
     },
     "output_type": "display_data"
    }
   ],
   "source": [
    "# Test \n",
    "x = torch.linspace(-2, 2, 1000)\n",
    "y_norm = normal(x, kappa_std_avg)\n",
    "y_ln = log_normal(x, (1+kappa_std_avg))\n",
    "y_lnasym = asym_log_normal(x, kappa_lo, kappa_hi)\n",
    "plt.plot(x, y_norm, label=\"Normal\")\n",
    "plt.plot(x, y_ln, label=\"Log-Normal\")\n",
    "plt.plot(x, y_lnasym, label=\"Asymm. Log-Normal\")\n",
    "plt.legend()"
   ]
  },
  {
   "cell_type": "markdown",
   "id": "69f96b00",
   "metadata": {},
   "source": [
    "## 3. NLL"
   ]
  },
  {
   "cell_type": "code",
   "execution_count": 24,
   "id": "bfa70570",
   "metadata": {},
   "outputs": [],
   "source": [
    "from typing import *\n",
    "from torch import Tensor\n",
    "from torch.distributions import Distribution\n",
    "from torch.distributions import Normal"
   ]
  },
  {
   "cell_type": "code",
   "execution_count": 162,
   "id": "f4f55564",
   "metadata": {},
   "outputs": [],
   "source": [
    "def hep_nll(s_true:float, b_true:float, mu:Tensor, f_s_nom:Tensor, f_b_nom:Tensor,\n",
    "             shape_alpha:Optional[Tensor]=None, s_norm_alpha:Optional[Tensor]=None, \n",
    "             b_norm_alpha:Optional[Tensor]=None, b_rate_param_alpha:Optional[Tensor]=None,\n",
    "             f_s_up:Optional[Tensor]=None, f_s_dw:Optional[Tensor]=None,\n",
    "             f_b_up:Optional[Tensor]=None, f_b_dw:Optional[Tensor]=None,\n",
    "             shape_norm_sigma:Optional[Tensor]=None, s_norm_sigma:Optional[Tensor]=None, \n",
    "             b_norm_sigma:Optional[Tensor]=None, \n",
    "             interp_algo:str=\"fast_vertical\") -> Tensor:\n",
    "    r'''Compute negative log-likelihood for specified parameters.'''\n",
    "    \n",
    "    #  Interpolate shapes\n",
    "    if interp_algo == \"fast_vertical\":\n",
    "        f_s = fast_vertical(shape_alpha, f_s_nom, f_s_up, f_s_dw) if shape_alpha is not None and f_s_up is not None else f_s_nom\n",
    "        f_b = fast_vertical(shape_alpha, f_b_nom, f_b_up, f_b_dw) if shape_alpha is not None and f_b_up is not None else f_b_nom        \n",
    "    else:\n",
    "        #print(shape_alpha)\n",
    "        #print(f_s_nom, f_s_up, f_s_dw)\n",
    "        f_s = interp_shape(shape_alpha, f_s_nom, f_s_up, f_s_dw) if shape_alpha is not None and f_s_up is not None else f_s_nom\n",
    "        f_b = interp_shape(shape_alpha, f_b_nom, f_b_up, f_b_dw) if shape_alpha is not None and f_b_up is not None else f_b_nom\n",
    "    \n",
    "    # Normalizations !!! careful if signal and background shapes mix!!\n",
    "    #print(\"shape_norm_sigma\", shape_norm_sigma)\n",
    "    s_exp, b_exp = mu, b_true\n",
    "    if len(shape_alpha) > 0:\n",
    "        #print(\"Norms shape\", normal(shape_alpha, shape_norm_sigma))\n",
    "        mu *= normal(shape_alpha, shape_norm_sigma).prod()  \n",
    "    if len(s_norm_alpha) > 0:\n",
    "        mu *= normal(s_norm_alpha, s_norm_sigma).prod()\n",
    "    if len(b_norm_alpha) > 0:\n",
    "        b_exp *= normal(b_norm_alpha, b_norm_sigma).prod()\n",
    "    if (b_rate_param_alpha  is not None) and (len(b_rate_param_alpha) > 0):\n",
    "        b_exp *= b_rate_param_alpha\n",
    "    #  Compute NLL\n",
    "    t_exp = (s_exp*f_s)+(b_exp*f_b)\n",
    "    asimov = (s_true*f_s_nom)+(b_true*f_b_nom)\n",
    "    nll = -torch.distributions.Poisson(t_exp, False).log_prob(asimov).sum()\n",
    "    # Constrain shape +norm nuisances\n",
    "    for a in shape_alpha: nll = nll - Normal(0,1).log_prob(a)\n",
    "    for a in b_norm_alpha: nll = nll - Normal(0,1).log_prob(a)\n",
    "    for a in s_norm_alpha: nll = nll - Normal(0,1).log_prob(a)\n",
    "    return nll"
   ]
  },
  {
   "cell_type": "markdown",
   "id": "10d2d543",
   "metadata": {},
   "source": [
    "## 4. Callback"
   ]
  },
  {
   "cell_type": "code",
   "execution_count": null,
   "id": "b7f4ff29",
   "metadata": {},
   "outputs": [],
   "source": []
  },
  {
   "cell_type": "code",
   "execution_count": null,
   "id": "9e4c60ac",
   "metadata": {},
   "outputs": [],
   "source": []
  },
  {
   "cell_type": "markdown",
   "id": "79e43288",
   "metadata": {},
   "source": [
    "## 5. Setup INFERNO"
   ]
  },
  {
   "cell_type": "code",
   "execution_count": 163,
   "id": "f3feb241",
   "metadata": {},
   "outputs": [],
   "source": [
    "from pytorch_inferno.inferno import *\n",
    "from fastcore.all import store_attr, delegates, is_close"
   ]
  },
  {
   "cell_type": "code",
   "execution_count": 212,
   "id": "03c3bd5c",
   "metadata": {},
   "outputs": [],
   "source": [
    "class HEPInferno(AbsInferno):\n",
    "    r'''Implementation of INFERNO with HEP like systematics'''\n",
    "    @delegates(AbsInferno)\n",
    "    def __init__(self, interp_algo:str=\"default\", shape_norm_sigma:Optional[List[float]]=None,\n",
    "                 s_norm_sigma:Optional[List[float]]=None, b_norm_sigma:Optional[List[float]]=None, \n",
    "                 b_rate_param:bool=False, **kwargs):\n",
    "        super().__init__(**kwargs)\n",
    "        self.interp_algo = interp_algo\n",
    "        self.shape_norm_sigma = shape_norm_sigma #torch.Tensor(shape_norm_sigma)\n",
    "        self.s_norm_sigma = s_norm_sigma\n",
    "        self.b_norm_sigma = b_norm_sigma\n",
    "        self.b_rate_param = b_rate_param\n",
    "        # Compute nuisance indeces\n",
    "        self.poi_idx = [0]\n",
    "        # Shape + norm\n",
    "        if self.shape_norm_sigma is not None and len(self.shape_norm_sigma) != self.n_shape_alphas: raise ValueError(\"Number of norm uncertainties on shape nuisances must match the number of shape nuisance parameters\")\n",
    "        if self.n_shape_alphas > 0:\n",
    "            self.shape_idxs = list(range(1,self.n_shape_alphas+1))\n",
    "            self.n_alpha = 1+self.n_shape_alphas\n",
    "        else:\n",
    "            self.shape_idxs = []\n",
    "        # Signal norms\n",
    "        if self.s_norm_sigma is not None and len(self.s_norm_sigma) > 0:\n",
    "            self.s_norm_idxs = list(range(self.n_alpha, self.n_alpha+len(self.s_norm_sigma)))\n",
    "            self.n_alpha += len(self.s_norm_sigma)\n",
    "        else:\n",
    "            self.s_norm_idxs = []\n",
    "        # Background norms + possible rate param\n",
    "        if self.b_norm_sigma is not None and len(self.b_norm_sigma) > 0:\n",
    "            self.b_norm_idxs = list(range(self.n_alpha, self.n_alpha+len(self.b_norm_sigma)))\n",
    "            self.n_alpha += len(self.b_norm_sigma)\n",
    "        else:\n",
    "            b_norm_idxs = []\n",
    "        if self.b_rate_param:\n",
    "            self.b_rate_param_idx = list(self.n_alpha, self.n_alpha+1)\n",
    "            self.n_alpha += 1\n",
    "        else:\n",
    "            self.b_rate_param_idx = []\n",
    "        \n",
    "        # Store covariance matrix\n",
    "        self.covs = 0\n",
    "        self.cnt = 0\n",
    "        \n",
    "        print(\"*********************\")\n",
    "        print(\"Summary INFERNO setup\")\n",
    "        print(\"b_true\", self.b_true)\n",
    "        print(\"mu_true\", self.mu_true)\n",
    "        print(\"nshape_alphas\", self.n_shape_alphas)\n",
    "        print(\"shape idx\", self.shape_idxs)\n",
    "        print(\"shape_norm_sigma\", self.shape_norm_sigma)\n",
    "        print(\"s_norm_sigma\", self.s_norm_sigma)\n",
    "        print(\"s_norm_idxs\", self.s_norm_idxs)\n",
    "        print(\"b_norm_sigma\", self.b_norm_sigma)\n",
    "        print(\"b_norm_idxs\", self.b_norm_idxs)\n",
    "        print(\"b_rate_param\", self.b_rate_param)\n",
    "        print(\"n_alpha\", self.n_alpha)\n",
    "        print(\"interp_algo\", self.interp_algo)\n",
    "        print(\"*********************\")\n",
    "\n",
    "    def _aug_data(self): pass  # Override abs method\n",
    "    def on_batch_begin(self) -> None: pass\n",
    "    def on_batch_end(self) -> None: pass\n",
    "    def on_epoch_begin(self) -> None: self.covs=0\n",
    "    def on_epoch_end(self) -> None:\n",
    "        if self.wrapper.state == 'train':\n",
    "            print(\"Covmat train\", self.covs/self.cnt)\n",
    "        else:\n",
    "            print(\"Covmat val\", self.covs/self.cnt)\n",
    "\n",
    "    def on_train_begin(self) -> None:\n",
    "        self.wrapper.loss_func = None  # Ensure loss function is skipped, callback computes loss value in `on_forwards_end`\n",
    "        for c in self.wrapper.cbs:\n",
    "            if hasattr(c, 'loss_is_meaned'): c.loss_is_meaned = False  # Ensure that average losses are correct        \n",
    "        if self.shape_norm_sigma is not None: self.shape_norm_sigma = torch.Tensor(self.shape_norm_sigma).to(self.wrapper.device)\n",
    "        if self.s_norm_sigma is not None: self.s_norm_sigma = torch.Tensor(self.s_norm_sigma).to(self.wrapper.device)\n",
    "        if self.b_norm_sigma is not None: self.b_norm_sigma = torch.Tensor(self.b_norm_sigma).to(self.wrapper.device)\n",
    "\n",
    "    def _get_up_down(self, x_s:Tensor, x_b:Tensor, w_s:Optional[Tensor]=None, w_b:Optional[Tensor]=None) -> Tuple[Tuple[Optional[Tensor],Optional[Tensor]],Tuple[Optional[Tensor],Optional[Tensor]]]:\n",
    "\n",
    "        if self.n_shape_alphas != ((x_s.shape[-1]-1)/2): \n",
    "            raise ValueError(\"Number of specified shape nuisances n_shape_alphas\", self.n_shape_alphas,\n",
    "                             \"must match the number of systematic variations:\", (x_s.shape[-1]-1)/2 )\n",
    "        \n",
    "        u,d = [],[]\n",
    "        # modified template variations\n",
    "        for i in range(self.n_shape_alphas):\n",
    "            idx_up = 1 + 2*i\n",
    "            idx_down = 2 + 2*i\n",
    "            up_batch = self.to_shape(self.wrapper.model(x_s[:,:,idx_up]))\n",
    "            down_batch = self.to_shape(self.wrapper.model(x_s[:,:,idx_down]))\n",
    "            u.append(up_batch)\n",
    "            d.append(down_batch)    \n",
    "        return (torch.stack(u),torch.stack(d)), (None,None)\n",
    "\n",
    "    def get_ikk(self, f_s_nom:Tensor, f_b_nom:Tensor, f_s_up:Optional[Tensor], f_s_dw:Optional[Tensor], f_b_up:Optional[Tensor], f_b_dw:Optional[Tensor]) -> Tensor:\n",
    "        r'''Compute full hessian at true param values, or at random starting values with Newton updates'''\n",
    "        alpha = torch.zeros((self.n_alpha), requires_grad=True, device=self.wrapper.device)\n",
    "        with torch.no_grad(): alpha[self.poi_idx] += self.mu_true\n",
    "        #print(\"alpha\", alpha)\n",
    "        get_nll = partialler(hep_nll, s_true=self.mu_true, b_true=self.b_true, # Expectation values\n",
    "                             f_s_nom=f_s_nom, f_b_nom=f_b_nom, # Nominal shapes\n",
    "                             f_s_up=f_s_up, f_s_dw=f_s_dw, # Signal shapes\n",
    "                             f_b_up=f_b_up, f_b_dw=f_b_dw, #Background shapes\n",
    "                             shape_norm_sigma = self.shape_norm_sigma, # Norm unct on shapes\n",
    "                             s_norm_sigma = self.s_norm_sigma, b_norm_sigma = self.b_norm_sigma # Norm unct on sig and bkg\n",
    "                             ) \n",
    "        nll = get_nll(mu=alpha[self.poi_idx], s_norm_alpha=alpha[self.s_norm_idxs], \n",
    "                      b_norm_alpha=alpha[self.b_norm_idxs], shape_alpha=alpha[self.shape_idxs],\n",
    "                      b_rate_param_alpha = alpha[self.b_rate_param_idx],\n",
    "                      interp_algo = self.interp_algo)\n",
    "        _,h = calc_grad_hesse(nll, alpha, create_graph=True)\n",
    "        cov = torch.inverse(h)        \n",
    "        with torch.no_grad(): self.covs += cov.detach().cpu().numpy()\n",
    "        self.cnt += 1\n",
    "        return cov[self.poi_idx,self.poi_idx]\n",
    "\n",
    "    def on_forwards_end(self) -> None:\n",
    "        r'''Compute loss and replace wrapper loss value'''\n",
    "        b = self.wrapper.y.squeeze() == 0\n",
    "        w_s = self.wrapper.w[~b] if self.wrapper.w is not None else None\n",
    "        w_b = self.wrapper.w[b] if self.wrapper.w is not None else None\n",
    "        f_s = self.to_shape(self.wrapper.y_pred[~b], w_s)\n",
    "        f_b = self.to_shape(self.wrapper.y_pred[b], w_b)\n",
    "        (f_s_up,f_s_dw),(f_b_up,f_b_dw)= self._get_up_down(self.wrapper.x[~b], self.wrapper.x[b], w_s, w_b)\n",
    "        self.wrapper.loss_val = self.get_ikk(f_s_nom=f_s, f_b_nom=f_b, f_s_up=f_s_up, f_s_dw=f_s_dw, f_b_up=f_b_up, f_b_dw=f_b_dw)\n"
   ]
  },
  {
   "cell_type": "code",
   "execution_count": 214,
   "id": "6d2a324c",
   "metadata": {},
   "outputs": [
    {
     "name": "stdout",
     "output_type": "stream",
     "text": [
      "*********************\n",
      "Summary INFERNO setup\n",
      "b_true 2689.5053333309675\n",
      "mu_true 348.45252731445095\n",
      "nshape_alphas 2\n",
      "shape idx [1, 2]\n",
      "shape_norm_sigma [0.05, 0.02]\n",
      "s_norm_sigma []\n",
      "s_norm_idxs []\n",
      "b_norm_sigma None\n",
      "b_norm_idxs []\n",
      "b_rate_param False\n",
      "n_alpha 3\n",
      "interp_algo fast_vertical\n",
      "*********************\n"
     ]
    },
    {
     "data": {
      "text/html": [],
      "text/plain": [
       "<IPython.core.display.HTML object>"
      ]
     },
     "metadata": {},
     "output_type": "display_data"
    },
    {
     "name": "stdout",
     "output_type": "stream",
     "text": [
      "Covmat train [[ 1.3725480e+03 -2.8876681e+00 -7.1133785e+00]\n",
      " [-2.8876688e+00  7.7742404e-01  2.7452957e-02]\n",
      " [-7.1133790e+00  2.7452968e-02  9.8783582e-01]]\n",
      "Covmat val [[ 4.80117737e+02 -2.45789185e-01 -3.25708199e+00]\n",
      " [-2.45789409e-01  3.70896876e-01  1.50339212e-02]\n",
      " [-3.25708079e+00  1.50339175e-02  4.91104543e-01]]\n",
      "1: Train=1372.5478637695312 Valid=960.2354345703125\n",
      "Covmat train [[ 2.9866589e+02 -3.6912161e-01 -1.9764986e+00]\n",
      " [-3.6912170e-01  2.3839994e-01  1.1093711e-02]\n",
      " [-1.9764980e+00  1.1093711e-02  3.2657507e-01]]\n",
      "Covmat val [[ 2.1843526e+02 -9.1195457e-02 -1.3663713e+00]\n",
      " [-9.1195546e-02  1.6882065e-01  8.1346855e-03]\n",
      " [-1.3663712e+00  8.1346873e-03  2.4478008e-01]]\n",
      "2: Train=895.9977661132813 Valid=873.7409033203126\n"
     ]
    }
   ],
   "source": [
    "# Set up network\n",
    "net_inferno = nn.Sequential(nn.Linear(4,100),  nn.ReLU(),\n",
    "                nn.Linear(100,100), nn.ReLU(),\n",
    "                nn.Linear(100,10), VariableSoftmax(0.1))\n",
    "lt = LossTracker()\n",
    "hep_inf = HEPInferno(b_true=qcd, mu_true=mu, n_shape_alphas=2, shape_norm_sigma=shape_norm_sigma,\n",
    "                                 s_norm_sigma=s_norm_sigma, interp_algo=\"fast_vertical\")\n",
    "#init_net(net_inferno)\n",
    "model_inferno = ModelWrapper(net_inferno)\n",
    "\n",
    "shape_norm_sigma = [0.05, 0.02]\n",
    "s_norm_sigma = []#[0.05, 0.1]\n",
    "\n",
    "model_inferno.fit(2, data=data, opt=partialler(optim.Adam,lr=1e-3), loss=None,\n",
    "                  cbs=[hep_inf, lt])"
   ]
  },
  {
   "cell_type": "markdown",
   "id": "1d6a54c1",
   "metadata": {},
   "source": [
    "## 6. Test with CMS Open Data"
   ]
  },
  {
   "cell_type": "code",
   "execution_count": 28,
   "id": "4f426b06",
   "metadata": {},
   "outputs": [],
   "source": [
    "import run_cmsopen\n",
    "from torch.distributions import Normal"
   ]
  },
  {
   "cell_type": "code",
   "execution_count": 173,
   "id": "27fb98fb",
   "metadata": {},
   "outputs": [
    {
     "name": "stdout",
     "output_type": "stream",
     "text": [
      "mu 348.45252731445095\n",
      "QCD 2689.5053333309675\n",
      "jes_06 16.70084248968277\n",
      "taue 11.82024566892062\n",
      "btag 4.612317868087416\n"
     ]
    }
   ],
   "source": [
    "\n",
    "#features = ['ht', 'aplanarity', 'sphericity', 'chargeEta', 'MET_met', 'deltaPhiTauMet', 'mt', 'mTauJet']\n",
    "features = ['aplanarity', 'chargeEta', 'MET_met', 'deltaPhiTauMet']\n",
    "shape_syst = [\"06_jes\"] #, \"taue\"]\n",
    "weight_syst = [\"btag_weight1\"]\n",
    "norm_syst = [\"jes_06\", \"taue\", \"btag_weight1\"]\n",
    "use_weights = False\n",
    "\n",
    "mu, qcd, sig_norm = run_cmsopen.get_norm(norm_syst)"
   ]
  },
  {
   "cell_type": "code",
   "execution_count": 174,
   "id": "af37ba70",
   "metadata": {},
   "outputs": [],
   "source": [
    "# Parameters for INFERNO training\n",
    "inferno_args = {}\n",
    "# Signal and bkg\n",
    "inferno_args[\"b_true\"] = qcd\n",
    "inferno_args[\"mu_true\"] = mu\n",
    "# Number of shape nuisances\n",
    "inferno_args[\"n_shape_alphas\"] = len(shape_syst) + len(weight_syst)\n",
    "# Constraints on the nuisance parameters - typically should be N(0,1) if +-1sigma templates are provided\n",
    "inferno_args[\"shape_aux\"] = [Normal(0,1) for i in range(len(shape_syst) + len(weight_syst))]\n",
    "# Uncertainties on signal norm - should be Normal(0,s) with s in absolute event numbers\n",
    "inferno_args[\"s_norm_aux\"] = sig_norm #[Normal(0,10), Normal(0,10), Normal(0,10)]\n",
    "# Boolean whether to let the background float\n",
    "inferno_args[\"nonaux_b_norm\"] = False\n",
    "\n",
    "train_args = {}\n",
    "train_args[\"lr\"] = 1e-3\n",
    "train_args[\"n_feats\"] = len(features)\n",
    "train_args[\"neurons\"] = 100\n",
    "train_args[\"bins\"] = 10\n",
    "train_args[\"temperature\"] = 0.1\n",
    "train_args[\"weights\"] = False\n",
    "\n",
    "OUTPATH = \"/home/centos/data/inferno_cmsopen13\"\n",
    "\n",
    "bs = 1000\n",
    "n_sig = 20000\n",
    "epochs = 200\n",
    "\n",
    "store = False"
   ]
  },
  {
   "cell_type": "code",
   "execution_count": 175,
   "id": "5170c946",
   "metadata": {},
   "outputs": [
    {
     "name": "stdout",
     "output_type": "stream",
     "text": [
      "*********************\n",
      "Summary training data\n",
      "Features ['aplanarity', 'chargeEta', 'MET_met', 'deltaPhiTauMet']\n",
      "Shape systematics ['06_jes']\n",
      "Weight systematics ['btag_weight1']\n",
      "Use weights False\n",
      "Number of signal training / test events: 20000 23570\n",
      "Number of bkg training / test events: 5000 6176\n",
      "*********************\n"
     ]
    }
   ],
   "source": [
    "data = run_cmsopen.train(OUTPATH, features = features, \n",
    "                                        shape_syst = shape_syst,\n",
    "                                        weight_syst = weight_syst,\n",
    "                                        norm_syst = norm_syst, \n",
    "                                        epochs=epochs, bs=bs, n_sig=n_sig, \n",
    "                                        inferno_args = inferno_args, \n",
    "                                        train_args = train_args,\n",
    "                                        use_weights = use_weights,\n",
    "                                        store=store)"
   ]
  },
  {
   "cell_type": "code",
   "execution_count": 176,
   "id": "dea63f26",
   "metadata": {},
   "outputs": [],
   "source": [
    "from torch import optim, autograd, nn, Tensor\n",
    "from pytorch_inferno.callback import *\n",
    "from pytorch_inferno.utils import *\n",
    "from pytorch_inferno.model_wrapper import ModelWrapper\n",
    "from fastcore.all import partialler"
   ]
  },
  {
   "cell_type": "code",
   "execution_count": 177,
   "id": "2c51aad3",
   "metadata": {},
   "outputs": [],
   "source": [
    "# Set up network\n",
    "net_inferno = nn.Sequential(nn.Linear(4,100),  nn.ReLU(),\n",
    "                nn.Linear(100,100), nn.ReLU(),\n",
    "                nn.Linear(100,10), VariableSoftmax(0.1))\n",
    "lt = LossTracker()\n",
    "#init_net(net_inferno)\n",
    "model_inferno = ModelWrapper(net_inferno)"
   ]
  },
  {
   "cell_type": "code",
   "execution_count": 178,
   "id": "ac4784c5",
   "metadata": {},
   "outputs": [],
   "source": [
    "shape_norm_sigma = [0.05, 0.02]"
   ]
  },
  {
   "cell_type": "code",
   "execution_count": 93,
   "id": "02b8535e",
   "metadata": {},
   "outputs": [
    {
     "name": "stdout",
     "output_type": "stream",
     "text": [
      "*********************\n",
      "Summary INFERNO setup\n",
      "b_true 2689.5053333309675\n",
      "mu_true 348.45252731445095\n",
      "nshape_alphas 2\n",
      "shape idx [1, 2]\n",
      "shape_aux None\n",
      "s_norm_aux []\n",
      "shape_norm_sigma [0.05, 0.02]\n",
      "n_alpha 3\n",
      "*********************\n"
     ]
    },
    {
     "ename": "RuntimeError",
     "evalue": "legacy constructor expects device type: cpubut device type: cuda was passed",
     "output_type": "error",
     "traceback": [
      "\u001b[0;31m---------------------------------------------------------------------------\u001b[0m",
      "\u001b[0;31mRuntimeError\u001b[0m                              Traceback (most recent call last)",
      "\u001b[0;32m<ipython-input-93-e2738708bcf5>\u001b[0m in \u001b[0;36m<module>\u001b[0;34m\u001b[0m\n\u001b[1;32m      1\u001b[0m model_inferno.fit(2, data=data, opt=partialler(optim.Adam,lr=1e-3), loss=None,\n\u001b[0;32m----> 2\u001b[0;31m                   cbs=[HEPInferno(b_true=qcd, mu_true=mu, n_shape_alphas=2, shape_norm_sigma=shape_norm_sigma), lt])  \n\u001b[0m",
      "\u001b[0;32m~/dev/pytorch_inferno/pytorch_inferno/model_wrapper.py\u001b[0m in \u001b[0;36mfit\u001b[0;34m(self, n_epochs, data, opt, loss, cbs)\u001b[0m\n\u001b[1;32m     65\u001b[0m         \u001b[0mself\u001b[0m\u001b[0;34m.\u001b[0m\u001b[0mdata\u001b[0m\u001b[0;34m,\u001b[0m\u001b[0mself\u001b[0m\u001b[0;34m.\u001b[0m\u001b[0mloss_func\u001b[0m\u001b[0;34m,\u001b[0m\u001b[0mself\u001b[0m\u001b[0;34m.\u001b[0m\u001b[0mopt\u001b[0m \u001b[0;34m=\u001b[0m \u001b[0mdata\u001b[0m\u001b[0;34m,\u001b[0m\u001b[0mloss\u001b[0m\u001b[0;34m,\u001b[0m\u001b[0mopt\u001b[0m\u001b[0;34m(\u001b[0m\u001b[0mself\u001b[0m\u001b[0;34m.\u001b[0m\u001b[0mmodel\u001b[0m\u001b[0;34m.\u001b[0m\u001b[0mparameters\u001b[0m\u001b[0;34m(\u001b[0m\u001b[0;34m)\u001b[0m\u001b[0;34m)\u001b[0m\u001b[0;34m\u001b[0m\u001b[0;34m\u001b[0m\u001b[0m\n\u001b[1;32m     66\u001b[0m         \u001b[0;32mfor\u001b[0m \u001b[0mc\u001b[0m \u001b[0;32min\u001b[0m \u001b[0mself\u001b[0m\u001b[0;34m.\u001b[0m\u001b[0mcbs\u001b[0m\u001b[0;34m:\u001b[0m \u001b[0mc\u001b[0m\u001b[0;34m.\u001b[0m\u001b[0mset_wrapper\u001b[0m\u001b[0;34m(\u001b[0m\u001b[0mself\u001b[0m\u001b[0;34m)\u001b[0m\u001b[0;34m\u001b[0m\u001b[0;34m\u001b[0m\u001b[0m\n\u001b[0;32m---> 67\u001b[0;31m         \u001b[0;32mfor\u001b[0m \u001b[0mc\u001b[0m \u001b[0;32min\u001b[0m \u001b[0mself\u001b[0m\u001b[0;34m.\u001b[0m\u001b[0mcbs\u001b[0m\u001b[0;34m:\u001b[0m \u001b[0mc\u001b[0m\u001b[0;34m.\u001b[0m\u001b[0mon_train_begin\u001b[0m\u001b[0;34m(\u001b[0m\u001b[0;34m)\u001b[0m\u001b[0;34m\u001b[0m\u001b[0;34m\u001b[0m\u001b[0m\n\u001b[0m\u001b[1;32m     68\u001b[0m         \u001b[0mself\u001b[0m\u001b[0;34m.\u001b[0m\u001b[0mmb\u001b[0m \u001b[0;34m=\u001b[0m \u001b[0mmaster_bar\u001b[0m\u001b[0;34m(\u001b[0m\u001b[0mrange\u001b[0m\u001b[0;34m(\u001b[0m\u001b[0mself\u001b[0m\u001b[0;34m.\u001b[0m\u001b[0mn_epochs\u001b[0m\u001b[0;34m)\u001b[0m\u001b[0;34m)\u001b[0m\u001b[0;34m\u001b[0m\u001b[0;34m\u001b[0m\u001b[0m\n\u001b[1;32m     69\u001b[0m         \u001b[0;32mfor\u001b[0m \u001b[0me\u001b[0m \u001b[0;32min\u001b[0m \u001b[0mself\u001b[0m\u001b[0;34m.\u001b[0m\u001b[0mmb\u001b[0m\u001b[0;34m:\u001b[0m\u001b[0;34m\u001b[0m\u001b[0;34m\u001b[0m\u001b[0m\n",
      "\u001b[0;32m<ipython-input-92-1a41af01d59c>\u001b[0m in \u001b[0;36mon_train_begin\u001b[0;34m(self)\u001b[0m\n\u001b[1;32m     38\u001b[0m         \u001b[0;32mfor\u001b[0m \u001b[0mc\u001b[0m \u001b[0;32min\u001b[0m \u001b[0mself\u001b[0m\u001b[0;34m.\u001b[0m\u001b[0mwrapper\u001b[0m\u001b[0;34m.\u001b[0m\u001b[0mcbs\u001b[0m\u001b[0;34m:\u001b[0m\u001b[0;34m\u001b[0m\u001b[0;34m\u001b[0m\u001b[0m\n\u001b[1;32m     39\u001b[0m             \u001b[0;32mif\u001b[0m \u001b[0mhasattr\u001b[0m\u001b[0;34m(\u001b[0m\u001b[0mc\u001b[0m\u001b[0;34m,\u001b[0m \u001b[0;34m'loss_is_meaned'\u001b[0m\u001b[0;34m)\u001b[0m\u001b[0;34m:\u001b[0m \u001b[0mc\u001b[0m\u001b[0;34m.\u001b[0m\u001b[0mloss_is_meaned\u001b[0m \u001b[0;34m=\u001b[0m \u001b[0;32mFalse\u001b[0m  \u001b[0;31m# Ensure that average losses are correct\u001b[0m\u001b[0;34m\u001b[0m\u001b[0;34m\u001b[0m\u001b[0m\n\u001b[0;32m---> 40\u001b[0;31m         \u001b[0mself\u001b[0m\u001b[0;34m.\u001b[0m\u001b[0mshape_norm_sigma\u001b[0m \u001b[0;34m=\u001b[0m \u001b[0mtorch\u001b[0m\u001b[0;34m.\u001b[0m\u001b[0mTensor\u001b[0m\u001b[0;34m(\u001b[0m\u001b[0mself\u001b[0m\u001b[0;34m.\u001b[0m\u001b[0mshape_norm_sigma\u001b[0m\u001b[0;34m,\u001b[0m \u001b[0mdevice\u001b[0m \u001b[0;34m=\u001b[0m \u001b[0mself\u001b[0m\u001b[0;34m.\u001b[0m\u001b[0mwrapper\u001b[0m\u001b[0;34m.\u001b[0m\u001b[0mdevice\u001b[0m\u001b[0;34m)\u001b[0m\u001b[0;34m\u001b[0m\u001b[0;34m\u001b[0m\u001b[0m\n\u001b[0m\u001b[1;32m     41\u001b[0m \u001b[0;34m\u001b[0m\u001b[0m\n\u001b[1;32m     42\u001b[0m     \u001b[0;32mdef\u001b[0m \u001b[0m_get_up_down\u001b[0m\u001b[0;34m(\u001b[0m\u001b[0mself\u001b[0m\u001b[0;34m,\u001b[0m \u001b[0mx_s\u001b[0m\u001b[0;34m:\u001b[0m\u001b[0mTensor\u001b[0m\u001b[0;34m,\u001b[0m \u001b[0mx_b\u001b[0m\u001b[0;34m:\u001b[0m\u001b[0mTensor\u001b[0m\u001b[0;34m,\u001b[0m \u001b[0mw_s\u001b[0m\u001b[0;34m:\u001b[0m\u001b[0mOptional\u001b[0m\u001b[0;34m[\u001b[0m\u001b[0mTensor\u001b[0m\u001b[0;34m]\u001b[0m\u001b[0;34m=\u001b[0m\u001b[0;32mNone\u001b[0m\u001b[0;34m,\u001b[0m \u001b[0mw_b\u001b[0m\u001b[0;34m:\u001b[0m\u001b[0mOptional\u001b[0m\u001b[0;34m[\u001b[0m\u001b[0mTensor\u001b[0m\u001b[0;34m]\u001b[0m\u001b[0;34m=\u001b[0m\u001b[0;32mNone\u001b[0m\u001b[0;34m)\u001b[0m \u001b[0;34m->\u001b[0m \u001b[0mTuple\u001b[0m\u001b[0;34m[\u001b[0m\u001b[0mTuple\u001b[0m\u001b[0;34m[\u001b[0m\u001b[0mOptional\u001b[0m\u001b[0;34m[\u001b[0m\u001b[0mTensor\u001b[0m\u001b[0;34m]\u001b[0m\u001b[0;34m,\u001b[0m\u001b[0mOptional\u001b[0m\u001b[0;34m[\u001b[0m\u001b[0mTensor\u001b[0m\u001b[0;34m]\u001b[0m\u001b[0;34m]\u001b[0m\u001b[0;34m,\u001b[0m\u001b[0mTuple\u001b[0m\u001b[0;34m[\u001b[0m\u001b[0mOptional\u001b[0m\u001b[0;34m[\u001b[0m\u001b[0mTensor\u001b[0m\u001b[0;34m]\u001b[0m\u001b[0;34m,\u001b[0m\u001b[0mOptional\u001b[0m\u001b[0;34m[\u001b[0m\u001b[0mTensor\u001b[0m\u001b[0;34m]\u001b[0m\u001b[0;34m]\u001b[0m\u001b[0;34m]\u001b[0m\u001b[0;34m:\u001b[0m\u001b[0;34m\u001b[0m\u001b[0;34m\u001b[0m\u001b[0m\n",
      "\u001b[0;31mRuntimeError\u001b[0m: legacy constructor expects device type: cpubut device type: cuda was passed"
     ]
    }
   ],
   "source": [
    "model_inferno.fit(2, data=data, opt=partialler(optim.Adam,lr=1e-3), loss=None,\n",
    "                  cbs=[HEPInferno(b_true=qcd, mu_true=mu, n_shape_alphas=2, shape_norm_sigma=shape_norm_sigma), lt])  "
   ]
  },
  {
   "cell_type": "code",
   "execution_count": null,
   "id": "958567f8",
   "metadata": {},
   "outputs": [],
   "source": []
  },
  {
   "cell_type": "code",
   "execution_count": null,
   "id": "65e3a6d0",
   "metadata": {},
   "outputs": [],
   "source": []
  }
 ],
 "metadata": {
  "kernelspec": {
   "display_name": "Python 3",
   "language": "python",
   "name": "python3"
  },
  "language_info": {
   "codemirror_mode": {
    "name": "ipython",
    "version": 3
   },
   "file_extension": ".py",
   "mimetype": "text/x-python",
   "name": "python",
   "nbconvert_exporter": "python",
   "pygments_lexer": "ipython3",
   "version": "3.6.8"
  }
 },
 "nbformat": 4,
 "nbformat_minor": 5
}
